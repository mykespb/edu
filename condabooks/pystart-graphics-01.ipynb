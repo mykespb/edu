{
 "cells": [
  {
   "cell_type": "markdown",
   "metadata": {},
   "source": [
    "# Примеры и упражнения по Python3 - уровень с графикой"
   ]
  },
  {
   "cell_type": "markdown",
   "metadata": {},
   "source": [
    "Автор-составитель - Михаил Колодин"
   ]
  },
  {
   "cell_type": "markdown",
   "metadata": {},
   "source": [
    "Версия 2021-04-17 от 2021-05-14 - 2.1"
   ]
  },
  {
   "cell_type": "markdown",
   "metadata": {},
   "source": [
    "Разделы:\n",
    "* [Параметры системы](#params)\n",
    "* [Черепашья графика](#turtle)\n",
    "* [Динамические графики функций](#dynamo)\n",
    "* [Научная графика matplotlib](#matplotlib)\n",
    "* [Рисование на холсте canvas в Tkinter](#canvas)\n"
   ]
  },
  {
   "cell_type": "markdown",
   "metadata": {},
   "source": [
    "**Параметры системы** <a name=params></a>"
   ]
  },
  {
   "cell_type": "code",
   "execution_count": 1,
   "metadata": {},
   "outputs": [
    {
     "name": "stdout",
     "output_type": "stream",
     "text": [
      "Python version: 3.12.4 | packaged by Anaconda, Inc. | (main, Jun 18 2024, 15:12:24) [GCC 11.2.0]\n",
      "3.12.4\n"
     ]
    }
   ],
   "source": [
    "import sys\n",
    "print(\"Python version:\", sys.version)\n",
    "\n",
    "from platform import python_version\n",
    "print(python_version())"
   ]
  },
  {
   "cell_type": "markdown",
   "metadata": {},
   "source": [
    "**Черепашья графика** <a name=turtle></a>"
   ]
  },
  {
   "cell_type": "code",
   "execution_count": 3,
   "metadata": {},
   "outputs": [],
   "source": [
    "%matplotlib inline\n",
    "%config InlineBackend.figure_format = 'svg'\n",
    "\n",
    "import turtle as t\n",
    "\n",
    "t.shape('turtle')\n",
    "t.color('green', 'yellow')"
   ]
  },
  {
   "cell_type": "code",
   "execution_count": 4,
   "metadata": {},
   "outputs": [],
   "source": [
    "t.begin_fill()\n",
    "\n",
    "while True:\n",
    "    t.forward(200)\n",
    "    t.left(170)\n",
    "    if abs(t.pos()) < 1:\n",
    "        break\n",
    "\n",
    "t.end_fill()\n",
    "\n",
    "t.done()"
   ]
  },
  {
   "cell_type": "markdown",
   "metadata": {},
   "source": [
    "**Динамические графики функций** <a name=dynamo></a>"
   ]
  },
  {
   "cell_type": "markdown",
   "metadata": {},
   "source": [
    "Простая колебательная функция"
   ]
  },
  {
   "cell_type": "code",
   "execution_count": 7,
   "metadata": {},
   "outputs": [
    {
     "data": {
      "application/vnd.jupyter.widget-view+json": {
       "model_id": "e505b2c6ba434523bc0ddb87bd6fca0c",
       "version_major": 2,
       "version_minor": 0
      },
      "text/plain": [
       "interactive(children=(FloatSlider(value=1.0, description='p', max=2.0, step=0.01), FloatSlider(value=0.481343,…"
      ]
     },
     "metadata": {},
     "output_type": "display_data"
    },
    {
     "data": {
      "text/plain": [
       "<function __main__.plotPP(p, p_LP, Tperiods)>"
      ]
     },
     "execution_count": 7,
     "metadata": {},
     "output_type": "execute_result"
    }
   ],
   "source": [
    "import matplotlib.pylab as plt\n",
    "import numpy as np\n",
    "from ipywidgets import interact,FloatSlider,IntSlider\n",
    "%matplotlib inline\n",
    "def plotPP(p,p_LP,Tperiods):\n",
    "    t=np.linspace(0,Tperiods*(np.pi*2),1000)\n",
    "    f = plt.figure(figsize=(1.618*6,6))\n",
    "    p_t = p*(1.0+np.cos(t))\n",
    "    plt.plot(t,p_t,'b',lw=2.0)\n",
    "    plt.axhline(p_LP,color='r',lw=2.0)\n",
    "    plt.xlim([t[0],t[-1]])\n",
    "    plt.ylim([min(p_LP,np.amin(p_t))-0.1,np.amax(p_t)+0.1])\n",
    "    plt.ylabel(r'$p$')\n",
    "    plt.xlabel(r'$t$')\n",
    "    plt.grid(True)\n",
    "\n",
    "p_s       = FloatSlider(min=0, max=2, step=0.01, value=1.0)\n",
    "p_LP_s    = FloatSlider(min=0, max=2., step=0.01, value=0.481343)\n",
    "Tperiods_s= IntSlider(min=1,max=10,value=1)\n",
    "interact(plotPP,p=p_s,p_LP=p_LP_s,Tperiods=Tperiods_s)"
   ]
  },
  {
   "cell_type": "markdown",
   "metadata": {},
   "source": [
    "***График квадратичной функции***\n",
    "\n",
    "полезен для наглядного решений квадратных уравнений"
   ]
  },
  {
   "cell_type": "code",
   "execution_count": 9,
   "metadata": {},
   "outputs": [
    {
     "data": {
      "application/vnd.jupyter.widget-view+json": {
       "model_id": "73d921d3fa80491b91ff24ee8609ffab",
       "version_major": 2,
       "version_minor": 0
      },
      "text/plain": [
       "interactive(children=(FloatSlider(value=0.0, description='a', max=5.0, min=-5.0), FloatSlider(value=0.0, descr…"
      ]
     },
     "metadata": {},
     "output_type": "display_data"
    },
    {
     "data": {
      "text/plain": [
       "<function __main__.plotPP(a, b, c)>"
      ]
     },
     "execution_count": 9,
     "metadata": {},
     "output_type": "execute_result"
    }
   ],
   "source": [
    "import matplotlib.pylab as plt\n",
    "import numpy as np\n",
    "from ipywidgets import interact,FloatSlider,IntSlider\n",
    "%matplotlib inline\n",
    "LIM = 5\n",
    "def plotPP(a, b, c):\n",
    "    t=np.linspace(-LIM, LIM, 100)\n",
    "    f = plt.figure(figsize=(10, 10))\n",
    "    y = a*t*t + b*t + c\n",
    "    plt.plot(t, y, 'g')\n",
    "    plt.xlim([-LIM, LIM])\n",
    "    plt.ylim([-LIM, LIM])\n",
    "    plt.ylabel(r'$y$')\n",
    "    plt.xlabel(r'$x$')\n",
    "    #plt.tight_layout()\n",
    "    plt.grid(True)\n",
    "\n",
    "a = FloatSlider(min=-LIM, max=LIM, step=0.1, value=0.0)\n",
    "b = FloatSlider(min=-LIM, max=LIM, step=0.1, value=0.0)\n",
    "c = FloatSlider(min=-LIM, max=LIM, step=0.1, value=0.0)\n",
    "interact(plotPP, a=a, b=b, c=c)"
   ]
  },
  {
   "cell_type": "markdown",
   "metadata": {},
   "source": [
    "***Creating dashboard layouts***\n",
    "\n",
    "https://jupyter-dashboards-layout.readthedocs.io/en/latest/using.html\n"
   ]
  },
  {
   "cell_type": "code",
   "execution_count": 11,
   "metadata": {},
   "outputs": [],
   "source": [
    "%matplotlib inline\n",
    "\n",
    "import seaborn as sns\n",
    "from ipywidgets import interact"
   ]
  },
  {
   "cell_type": "code",
   "execution_count": 12,
   "metadata": {},
   "outputs": [],
   "source": [
    "tips = sns.load_dataset('tips')"
   ]
  },
  {
   "cell_type": "code",
   "execution_count": 13,
   "metadata": {},
   "outputs": [
    {
     "data": {
      "text/html": [
       "<div>\n",
       "<style scoped>\n",
       "    .dataframe tbody tr th:only-of-type {\n",
       "        vertical-align: middle;\n",
       "    }\n",
       "\n",
       "    .dataframe tbody tr th {\n",
       "        vertical-align: top;\n",
       "    }\n",
       "\n",
       "    .dataframe thead th {\n",
       "        text-align: right;\n",
       "    }\n",
       "</style>\n",
       "<table border=\"1\" class=\"dataframe\">\n",
       "  <thead>\n",
       "    <tr style=\"text-align: right;\">\n",
       "      <th></th>\n",
       "      <th>total_bill</th>\n",
       "      <th>tip</th>\n",
       "      <th>sex</th>\n",
       "      <th>smoker</th>\n",
       "      <th>day</th>\n",
       "      <th>time</th>\n",
       "      <th>size</th>\n",
       "    </tr>\n",
       "  </thead>\n",
       "  <tbody>\n",
       "    <tr>\n",
       "      <th>0</th>\n",
       "      <td>16.99</td>\n",
       "      <td>1.01</td>\n",
       "      <td>Female</td>\n",
       "      <td>No</td>\n",
       "      <td>Sun</td>\n",
       "      <td>Dinner</td>\n",
       "      <td>2</td>\n",
       "    </tr>\n",
       "    <tr>\n",
       "      <th>1</th>\n",
       "      <td>10.34</td>\n",
       "      <td>1.66</td>\n",
       "      <td>Male</td>\n",
       "      <td>No</td>\n",
       "      <td>Sun</td>\n",
       "      <td>Dinner</td>\n",
       "      <td>3</td>\n",
       "    </tr>\n",
       "    <tr>\n",
       "      <th>2</th>\n",
       "      <td>21.01</td>\n",
       "      <td>3.50</td>\n",
       "      <td>Male</td>\n",
       "      <td>No</td>\n",
       "      <td>Sun</td>\n",
       "      <td>Dinner</td>\n",
       "      <td>3</td>\n",
       "    </tr>\n",
       "    <tr>\n",
       "      <th>3</th>\n",
       "      <td>23.68</td>\n",
       "      <td>3.31</td>\n",
       "      <td>Male</td>\n",
       "      <td>No</td>\n",
       "      <td>Sun</td>\n",
       "      <td>Dinner</td>\n",
       "      <td>2</td>\n",
       "    </tr>\n",
       "    <tr>\n",
       "      <th>4</th>\n",
       "      <td>24.59</td>\n",
       "      <td>3.61</td>\n",
       "      <td>Female</td>\n",
       "      <td>No</td>\n",
       "      <td>Sun</td>\n",
       "      <td>Dinner</td>\n",
       "      <td>4</td>\n",
       "    </tr>\n",
       "  </tbody>\n",
       "</table>\n",
       "</div>"
      ],
      "text/plain": [
       "   total_bill   tip     sex smoker  day    time  size\n",
       "0       16.99  1.01  Female     No  Sun  Dinner     2\n",
       "1       10.34  1.66    Male     No  Sun  Dinner     3\n",
       "2       21.01  3.50    Male     No  Sun  Dinner     3\n",
       "3       23.68  3.31    Male     No  Sun  Dinner     2\n",
       "4       24.59  3.61  Female     No  Sun  Dinner     4"
      ]
     },
     "execution_count": 13,
     "metadata": {},
     "output_type": "execute_result"
    }
   ],
   "source": [
    "tips.head()"
   ]
  },
  {
   "cell_type": "code",
   "execution_count": 14,
   "metadata": {},
   "outputs": [
    {
     "data": {
      "application/vnd.jupyter.widget-view+json": {
       "model_id": "42a01bd38a2a403d81f56aa63382f256",
       "version_major": 2,
       "version_minor": 0
      },
      "text/plain": [
       "interactive(children=(Dropdown(description='hue', options=('smoker', 'sex', 'time', 'day'), value='smoker'), O…"
      ]
     },
     "metadata": {},
     "output_type": "display_data"
    }
   ],
   "source": [
    "@interact(hue=['smoker', 'sex', 'time', 'day'])\n",
    "def plot(hue):\n",
    "    _ = sns.pairplot(tips, hue=hue)"
   ]
  },
  {
   "cell_type": "markdown",
   "metadata": {},
   "source": [
    "***ipycanvas***\n",
    "\n",
    "https://blog.jupyter.org/ipycanvas-a-python-canvas-for-jupyter-bbb51e4777f7\n",
    "\n",
    "https://github.com/martinRenou/ipycanvas/\n",
    "\n",
    "https://ipycanvas.readthedocs.io/en/latest/drawing_shapes.html"
   ]
  },
  {
   "cell_type": "code",
   "execution_count": 16,
   "metadata": {},
   "outputs": [
    {
     "ename": "ModuleNotFoundError",
     "evalue": "No module named 'ipycanvas'",
     "output_type": "error",
     "traceback": [
      "\u001b[0;31m---------------------------------------------------------------------------\u001b[0m",
      "\u001b[0;31mModuleNotFoundError\u001b[0m                       Traceback (most recent call last)",
      "Cell \u001b[0;32mIn[16], line 3\u001b[0m\n\u001b[1;32m      1\u001b[0m \u001b[38;5;28;01mimport\u001b[39;00m \u001b[38;5;21;01mnumpy\u001b[39;00m \u001b[38;5;28;01mas\u001b[39;00m \u001b[38;5;21;01mnp\u001b[39;00m\n\u001b[0;32m----> 3\u001b[0m \u001b[38;5;28;01mfrom\u001b[39;00m \u001b[38;5;21;01mipycanvas\u001b[39;00m \u001b[38;5;28;01mimport\u001b[39;00m Canvas\n\u001b[1;32m      5\u001b[0m n_particles \u001b[38;5;241m=\u001b[39m \u001b[38;5;241m100_000\u001b[39m\n\u001b[1;32m      7\u001b[0m x \u001b[38;5;241m=\u001b[39m np\u001b[38;5;241m.\u001b[39marray(np\u001b[38;5;241m.\u001b[39mrandom\u001b[38;5;241m.\u001b[39mrayleigh(\u001b[38;5;241m250\u001b[39m, n_particles), dtype\u001b[38;5;241m=\u001b[39mnp\u001b[38;5;241m.\u001b[39mint32)\n",
      "\u001b[0;31mModuleNotFoundError\u001b[0m: No module named 'ipycanvas'"
     ]
    }
   ],
   "source": [
    "import numpy as np\n",
    "\n",
    "from ipycanvas import Canvas\n",
    "\n",
    "n_particles = 100_000\n",
    "\n",
    "x = np.array(np.random.rayleigh(250, n_particles), dtype=np.int32)\n",
    "y = np.array(np.random.rayleigh(250, n_particles), dtype=np.int32)\n",
    "size = np.random.randint(1, 3, n_particles)\n",
    "\n",
    "canvas = Canvas(width=800, height=500)\n",
    "\n",
    "canvas.fill_style = 'green'\n",
    "canvas.fill_rects(x, y, size)\n",
    "\n",
    "canvas"
   ]
  },
  {
   "cell_type": "markdown",
   "metadata": {},
   "source": [
    "***Динамическая картинка***\n",
    "\n",
    "https://overcoder.net/q/209754/%D0%BF%D0%BE%D1%81%D1%82%D1%80%D0%BE%D0%B8%D1%82%D1%8C-%D0%B4%D0%B8%D0%BD%D0%B0%D0%BC%D0%B8%D1%87%D0%B5%D1%81%D0%BA%D0%B8-%D0%B8%D0%B7%D0%BC%D0%B5%D0%BD%D1%8F%D1%8E%D1%89%D0%B8%D0%B9%D1%81%D1%8F-%D0%B3%D1%80%D0%B0%D1%84-%D1%81-%D0%BF%D0%BE%D0%BC%D0%BE%D1%89%D1%8C%D1%8E-matplotlib-%D0%B2-jupyter-notebook\n"
   ]
  },
  {
   "cell_type": "code",
   "execution_count": null,
   "metadata": {},
   "outputs": [],
   "source": [
    "%matplotlib notebook\n",
    "import numpy as np\n",
    "import matplotlib.pyplot as plt\n",
    "\n",
    "m = 100\n",
    "n = 100\n",
    "matrix = np.random.normal(0,1,m*n).reshape(m,n)\n",
    "\n",
    "fig = plt.figure()\n",
    "ax = fig.add_subplot(111)\n",
    "plt.ion()\n",
    "\n",
    "fig.show()\n",
    "fig.canvas.draw()\n",
    "\n",
    "for i in range(0,100):\n",
    "    ax.clear()\n",
    "    ax.plot(matrix[i,:])\n",
    "    fig.canvas.draw()"
   ]
  },
  {
   "cell_type": "markdown",
   "metadata": {},
   "source": [
    "**Научная графика matplotlib** <a name=matplotlib></a>"
   ]
  },
  {
   "cell_type": "code",
   "execution_count": null,
   "metadata": {},
   "outputs": [],
   "source": [
    "import numpy as np\n",
    "import matplotlib.pyplot as plt\n",
    "import scipy.stats as stats\n",
    "mu = 0\n",
    "std = 1\n",
    "x = np.linspace(start=-4, stop=4, num=100)\n",
    "y = stats.norm.pdf(x, mu, std) \n",
    "plt.grid(True)\n",
    "plt.plot(x, y)\n",
    "plt.show()"
   ]
  },
  {
   "cell_type": "code",
   "execution_count": null,
   "metadata": {},
   "outputs": [],
   "source": [
    "#import numpy as np\n",
    "#import matplotlib.pyplot as plt\n",
    "x = np.linspace(0, 7, 100)\n",
    "line1, = plt.plot(x, np.sin(x), label='sin')\n",
    "line2, = plt.plot(x, np.cos(x), label='cos')\n",
    "plt.legend(handles=[line1, line2], loc='lower right')\n",
    "#major grid lines\n",
    "plt.grid(b=True, which='major', color='gray', alpha=0.6, linestyle='dashdot', lw=1.5)\n",
    "#minor grid lines\n",
    "plt.minorticks_on()\n",
    "plt.grid(b=True, which='minor', color='beige', alpha=0.8, ls='-', lw=1)\n",
    "plt.show()"
   ]
  },
  {
   "cell_type": "code",
   "execution_count": null,
   "metadata": {},
   "outputs": [],
   "source": [
    "%matplotlib inline\n",
    "%config InlineBackend.figure_format = 'svg'\n",
    "#import numpy as np\n",
    "#import matplotlib.pyplot as plt\n",
    "\n",
    "pi = np.pi\n",
    "x = np.linspace(-4*pi, 4*pi, 100)\n",
    "plt.rcParams['figure.figsize'] = (11, 4)\n",
    "plt.rcParams.update({'font.size': 17})\n",
    "plt.xticks([-4*pi, -2*pi, 0, 2*pi, 4*pi],\n",
    "          ['$-4*\\pi$', '$-2*\\pi$', '$0$', '$2*\\pi$', '$4*\\pi$'])\n",
    "plt.plot(x, np.sin(x)/x, label = r'$f(x)=\\frac{\\sin(x)}{x}$')\n",
    "plt.ylim(-0.5, 1.5)\n",
    "plt.legend(loc='best', fontsize=20)\n",
    "plt.grid(True)\n",
    "plt.show()"
   ]
  },
  {
   "cell_type": "code",
   "execution_count": null,
   "metadata": {},
   "outputs": [],
   "source": [
    "import pandas\n",
    "import matplotlib\n",
    "%matplotlib inline\n",
    "baby_name = ['Alice','Charles','Diane','Edward']\n",
    "number_births = [96, 155, 66, 272]\n",
    "dataset = list(zip(baby_name,number_births))\n",
    "df = pandas.DataFrame(data = dataset, columns=['Name', 'Number'])\n",
    "df['Number'].plot()"
   ]
  },
  {
   "cell_type": "code",
   "execution_count": null,
   "metadata": {},
   "outputs": [],
   "source": [
    "import matplotlib\n",
    "import matplotlib.pyplot as plt\n",
    "%matplotlib inline\n",
    "import numpy as np\n",
    "print(matplotlib.__version__)\n",
    "\n",
    "x = np.linspace(0, 10, 50)\n",
    "y1 = x # Линейная зависимость\n",
    "y2 = [i**2 for i in x] # Квадратичная зависимость\n",
    "# Построение графиков\n",
    "plt.figure(figsize=(9, 9))\n",
    "plt.subplot(2, 1, 1)\n",
    "plt.plot(x, y1)\n",
    "# построение графика\n",
    "plt.title('Зависимости: y1 = x, y2 = x^2') # заголовок\n",
    "plt.ylabel('y1', fontsize=14) # ось ординат\n",
    "plt.grid(True) # включение отображение сетки\n",
    "plt.subplot(2, 1, 2)\n",
    "plt.plot(x, y2) # построение графика\n",
    "plt.xlabel('x', fontsize=14) # ось абсцисс\n",
    "plt.ylabel('y2', fontsize=14) # ось ординат\n",
    "plt.grid(True) # включение отображение сетки"
   ]
  },
  {
   "cell_type": "code",
   "execution_count": null,
   "metadata": {},
   "outputs": [],
   "source": [
    "fruits = ['apple', 'peach', 'orange', 'bannana', 'melon']\n",
    "counts = [34, 25, 43, 31, 17]\n",
    "plt.bar(fruits, counts)\n",
    "plt.title('Fruits!')\n",
    "plt.xlabel('Fruit')\n",
    "plt.ylabel('Count')"
   ]
  },
  {
   "cell_type": "code",
   "execution_count": null,
   "metadata": {},
   "outputs": [],
   "source": [
    "locs = ['best', 'upper right', 'upper left', 'lower left',\n",
    "'lower right', 'right', 'center left', 'center right',\n",
    "'lower center', 'upper center', 'center']\n",
    "plt.figure(figsize=(12, 12))\n",
    "for i in range(3):\n",
    "    for j in range(4):\n",
    "        if i*4+j < 11:\n",
    "            plt.subplot(3, 4, i*4+j+1)\n",
    "            plt.title(locs[i*4+j])\n",
    "            plt.plot(x, y1, 'o-r', label='line 1')\n",
    "            plt.plot(x, y2, 'o-.g', label='line 2')\n",
    "            plt.legend(loc=locs[i*4+j])\n",
    "        else:\n",
    "            break"
   ]
  },
  {
   "cell_type": "code",
   "execution_count": null,
   "metadata": {},
   "outputs": [],
   "source": [
    "np.random.seed(123)\n",
    "vals = np.random.randint(10, size=(7, 7))\n",
    "plt.pcolor(vals, cmap=plt.get_cmap('viridis', 11) )\n",
    "plt.colorbar()"
   ]
  },
  {
   "cell_type": "code",
   "execution_count": null,
   "metadata": {},
   "outputs": [],
   "source": [
    "vals = [24, 17, 53, 21, 35]\n",
    "labels = ['Ford', 'Toyota', 'BMW', 'AUDI', 'Jaguar']\n",
    "fig, ax = plt.subplots()\n",
    "ax.pie(vals, labels=labels)\n",
    "ax.axis('equal')"
   ]
  },
  {
   "cell_type": "code",
   "execution_count": null,
   "metadata": {},
   "outputs": [],
   "source": [
    "x = np.linspace(-np.pi, np.pi, 50)\n",
    "y = x\n",
    "z = np.cos(x)\n",
    "fig = plt.figure()\n",
    "ax = fig.add_subplot(111, projection='3d')\n",
    "ax.plot(x, y, z, label='parametric curve')"
   ]
  },
  {
   "cell_type": "code",
   "execution_count": null,
   "metadata": {},
   "outputs": [],
   "source": [
    "u, v = np.mgrid[0:2*np.pi:20j, 0:np.pi:10j]\n",
    "x = np.cos(u)*np.sin(v)\n",
    "y = np.sin(u)*np.sin(v)\n",
    "z = np.cos(v)\n",
    "fig = plt.figure()\n",
    "ax = fig.add_subplot(111, projection='3d')\n",
    "ax.plot_wireframe(x, y, z)\n",
    "ax.legend()"
   ]
  },
  {
   "cell_type": "code",
   "execution_count": null,
   "metadata": {},
   "outputs": [],
   "source": [
    "import seaborn as sns\n",
    "mpg = sns.load_dataset(\"mpg\")\n",
    "sns.relplot(x=\"horsepower\", y=\"acceleration\", size=\"cylinders\", data=mpg)"
   ]
  },
  {
   "cell_type": "code",
   "execution_count": null,
   "metadata": {},
   "outputs": [],
   "source": [
    "sns.set(style=\"ticks\")\n",
    "mpg = sns.load_dataset(\"mpg\")\n",
    "mpg_mod = mpg[[\"mpg\", \"horsepower\", \"displacement\", \"origin\"]]\n",
    "sns.pairplot(mpg_mod)"
   ]
  },
  {
   "cell_type": "code",
   "execution_count": null,
   "metadata": {},
   "outputs": [],
   "source": [
    "sns.pairplot(mpg_mod, hue=\"origin\", markers=\"^\", height=2, aspect=1.1)"
   ]
  },
  {
   "cell_type": "code",
   "execution_count": null,
   "metadata": {},
   "outputs": [],
   "source": [
    "iris = sns.load_dataset(\"iris\")\n",
    "sns.jointplot(x='sepal_length', y='sepal_width', data=iris)"
   ]
  },
  {
   "cell_type": "code",
   "execution_count": null,
   "metadata": {},
   "outputs": [],
   "source": [
    "sns.jointplot(x='sepal_length', y='sepal_width', data=iris, kind=\"hex\")"
   ]
  },
  {
   "cell_type": "markdown",
   "metadata": {},
   "source": [
    "**Рисование на холсте canvas (Tkinter)** <a name=canvas></a>"
   ]
  },
  {
   "cell_type": "markdown",
   "metadata": {},
   "source": [
    "Tkinter canvas"
   ]
  },
  {
   "cell_type": "code",
   "execution_count": null,
   "metadata": {},
   "outputs": [],
   "source": [
    "from tkinter import *\n",
    "master = Tk()\n",
    "\n",
    "w = Canvas(master, width=200, height=100)\n",
    "w.pack()\n",
    "\n",
    "w.create_rectangle(50, 20, 150, 80, fill=\"#476042\")\n",
    "w.create_rectangle(65, 35, 135, 65, fill=\"yellow\")\n",
    "w.create_line(0, 0, 50, 20, fill=\"#476042\", width=3)\n",
    "w.create_line(0, 100, 50, 80, fill=\"#476042\", width=3)\n",
    "w.create_line(150,20, 200, 0, fill=\"#476042\", width=3)\n",
    "w.create_line(150, 80, 200, 100, fill=\"#476042\", width=3)\n",
    "\n",
    "mainloop()"
   ]
  },
  {
   "cell_type": "code",
   "execution_count": null,
   "metadata": {},
   "outputs": [],
   "source": [
    "from tkinter import *\n",
    "\n",
    "canvas_width = 400\n",
    "canvas_height =400\n",
    "python_green = \"#476042\"\n",
    "\n",
    "def polygon_star(canvas, x,y,p,t, outline=python_green, fill='yellow', width = 1):\n",
    "   points = []\n",
    "   for i in (1,-1):\n",
    "      points.extend((x,\t      y + i*p))\n",
    "      points.extend((x + i*t, y + i*t))\n",
    "      points.extend((x + i*p, y))\n",
    "      points.extend((x + i*t, y - i * t))\n",
    "\n",
    "   print(points)\n",
    "\n",
    "   canvas.create_polygon(points, outline=outline, \n",
    "                         fill=fill, width=width)\n",
    "\n",
    "master = Tk()\n",
    "\n",
    "w = Canvas(master, \n",
    "           width=canvas_width, \n",
    "           height=canvas_height)\n",
    "w.pack()\n",
    "\n",
    "p = 50\n",
    "t = 15\n",
    "\n",
    "nsteps = 10\n",
    "step_x = int(canvas_width / nsteps)\n",
    "step_y = int(canvas_height / nsteps)\n",
    "\n",
    "for i in range(1, nsteps):\n",
    "   polygon_star(w,i*step_x,i*step_y,p,t,outline='red',fill='gold', width=3)\n",
    "   polygon_star(w,i*step_x,canvas_height - i*step_y,p,t,outline='red',fill='gold', width=3)\n",
    "\n",
    "mainloop()"
   ]
  },
  {
   "cell_type": "code",
   "execution_count": null,
   "metadata": {},
   "outputs": [],
   "source": [
    "from PIL import Image\n",
    "pic = 'pic18.png'\n",
    "img = Image.open(pic)\n",
    "img"
   ]
  },
  {
   "cell_type": "markdown",
   "metadata": {},
   "source": [
    "**TkInter Canvas**"
   ]
  },
  {
   "cell_type": "code",
   "execution_count": null,
   "metadata": {},
   "outputs": [],
   "source": [
    "from tkinter import Tk, Canvas, Frame, BOTH\n",
    " \n",
    "class Example(Frame):\n",
    " \n",
    "    def __init__(self):\n",
    "        super().__init__()\n",
    "        self.initUI()\n",
    " \n",
    "    def initUI(self):\n",
    "        self.master.title(\"Рисуем линии\")\n",
    "        self.pack(fill=BOTH, expand=1)\n",
    " \n",
    "        canvas = Canvas(self)\n",
    "        canvas.create_line(15, 25, 200, 25)\n",
    "        canvas.create_line(300, 35, 300, 200, dash=(4, 2))\n",
    "        canvas.create_line(55, 85, 155, 85, 105, 180, 55, 85)\n",
    " \n",
    "        canvas.pack(fill=BOTH, expand=1)\n",
    " \n",
    "def main1():\n",
    "    root = Tk()\n",
    "    ex = Example()\n",
    "    root.geometry(\"400x250+300+300\")\n",
    "    root.mainloop()\n",
    "    \n",
    "main1()"
   ]
  },
  {
   "cell_type": "code",
   "execution_count": null,
   "metadata": {},
   "outputs": [],
   "source": [
    "from PIL import Image\n",
    "pic = 'pic17.png'data:image/png;base64,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\n",
    "img = Image.open(pic)\n",
    "img"
   ]
  }
 ],
 "metadata": {
  "kernelspec": {
   "display_name": "Python 3 (ipykernel)",
   "language": "python",
   "name": "python3"
  },
  "language_info": {
   "codemirror_mode": {
    "name": "ipython",
    "version": 3
   },
   "file_extension": ".py",
   "mimetype": "text/x-python",
   "name": "python",
   "nbconvert_exporter": "python",
   "pygments_lexer": "ipython3",
   "version": "3.12.4"
  }
 },
 "nbformat": 4,
 "nbformat_minor": 4
}
