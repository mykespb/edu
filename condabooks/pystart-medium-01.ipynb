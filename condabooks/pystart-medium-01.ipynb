{
 "cells": [
  {
   "cell_type": "markdown",
   "metadata": {},
   "source": [
    "# Примеры и упражнения по Python3  - средний уровень"
   ]
  },
  {
   "cell_type": "markdown",
   "metadata": {},
   "source": [
    "Автор-составитель - Михаил Колодин"
   ]
  },
  {
   "cell_type": "markdown",
   "metadata": {},
   "source": [
    "Версия от 2021-04-16 1.0"
   ]
  },
  {
   "cell_type": "markdown",
   "metadata": {},
   "source": [
    "Разделы:\n",
    "* Параметры системы\n",
    "* Циклы\n",
    "* Строки\n",
    "* Кортежи и списки\n",
    "* Словари и множества\n",
    "* Прочие сложные структуры данных\n",
    "* Функции\n",
    "* Математика"
   ]
  },
  {
   "cell_type": "markdown",
   "metadata": {},
   "source": [
    "**Параметры системы**"
   ]
  },
  {
   "cell_type": "code",
   "execution_count": 105,
   "metadata": {},
   "outputs": [
    {
     "name": "stdout",
     "output_type": "stream",
     "text": [
      "Python version: 3.8.3 (default, Jul  2 2020, 16:21:59) \n",
      "[GCC 7.3.0]\n",
      "3.8.3\n"
     ]
    }
   ],
   "source": [
    "import sys\n",
    "print(\"Python version:\", sys.version)\n",
    "\n",
    "from platform import python_version\n",
    "print(python_version())"
   ]
  },
  {
   "cell_type": "markdown",
   "metadata": {},
   "source": [
    "**Циклы**"
   ]
  },
  {
   "cell_type": "markdown",
   "metadata": {},
   "source": [
    "***Факториал $n! = 1 \\cdot 2 \\cdot 3 \\cdot \\dots \\cdot n$***"
   ]
  },
  {
   "cell_type": "code",
   "execution_count": 2,
   "metadata": {},
   "outputs": [],
   "source": [
    "UP = 30\n",
    "f = 1"
   ]
  },
  {
   "cell_type": "code",
   "execution_count": 3,
   "metadata": {},
   "outputs": [
    {
     "name": "stdout",
     "output_type": "stream",
     "text": [
      "         1!  =                                        1\n",
      "         2!  =                                        2\n",
      "         3!  =                                        6\n",
      "         4!  =                                       24\n",
      "         5!  =                                      120\n",
      "         6!  =                                      720\n",
      "         7!  =                                     5040\n",
      "         8!  =                                    40320\n",
      "         9!  =                                   362880\n",
      "        10!  =                                  3628800\n",
      "        11!  =                                 39916800\n",
      "        12!  =                                479001600\n",
      "        13!  =                               6227020800\n",
      "        14!  =                              87178291200\n",
      "        15!  =                            1307674368000\n",
      "        16!  =                           20922789888000\n",
      "        17!  =                          355687428096000\n",
      "        18!  =                         6402373705728000\n",
      "        19!  =                       121645100408832000\n",
      "        20!  =                      2432902008176640000\n",
      "        21!  =                     51090942171709440000\n",
      "        22!  =                   1124000727777607680000\n",
      "        23!  =                  25852016738884976640000\n",
      "        24!  =                 620448401733239439360000\n",
      "        25!  =               15511210043330985984000000\n",
      "        26!  =              403291461126605635584000000\n",
      "        27!  =            10888869450418352160768000000\n",
      "        28!  =           304888344611713860501504000000\n",
      "        29!  =          8841761993739701954543616000000\n"
     ]
    }
   ],
   "source": [
    "for i in range(1, UP):\n",
    "    f *= i             #  то же, что f = f * i\n",
    "    print(\"%10i!  =\" % i, \"%40i\" % f)"
   ]
  },
  {
   "cell_type": "markdown",
   "metadata": {},
   "source": [
    "***Константа е - аппроксимация***"
   ]
  },
  {
   "cell_type": "markdown",
   "metadata": {},
   "source": [
    "См. https://ru.wikipedia.org/wiki/E_(%D1%87%D0%B8%D1%81%D0%BB%D0%BE) "
   ]
  },
  {
   "cell_type": "markdown",
   "metadata": {},
   "source": [
    "$e = \\sum\\limits_{n=0}^\\infty \\frac1{n!} = \\frac1{1!} + \\frac1{2!} + \\frac1{3!} + \\frac1{4!} + \\frac1{5!} + ... = \\frac11 + \\frac12 + \\frac16 + \\frac1{24} + \\frac1{120} + ...$"
   ]
  },
  {
   "cell_type": "code",
   "execution_count": 34,
   "metadata": {},
   "outputs": [],
   "source": [
    "UP = 30\n",
    "add = 1\n",
    "sum = 1"
   ]
  },
  {
   "cell_type": "code",
   "execution_count": 35,
   "metadata": {},
   "outputs": [
    {
     "name": "stdout",
     "output_type": "stream",
     "text": [
      "                             1 ->                              2\n",
      "                           0.5 ->                            2.5\n",
      "   0.1666666666666666574148081 ->      2.66666666666666651863693\n",
      "  0.04166666666666666435370203 ->      2.70833333333333303727386\n",
      " 0.008333333333333333217685102 ->     2.716666666666666341001246\n",
      " 0.001388888888888888941894328 ->     2.718055555555555447000415\n",
      "0.0001984126984126984125263171 ->     2.718253968253968366752815\n",
      "2.480158730158730156578964e-05 ->     2.718278769841270037233016\n",
      "2.755731922398589251095059e-06 ->     2.718281525573192247691168\n",
      "2.755731922398589356974178e-07 ->     2.718281801146384513145904\n",
      "2.505210838544172022386618e-08 ->     2.718281826198492900914516\n",
      "2.087675698786810018655515e-09 ->     2.718281828286168710917536\n",
      "1.605904383682161592580233e-10 ->     2.718281828446759362805096\n",
      " 1.14707455977297261228837e-11 ->     2.718281828458230187095523\n",
      "7.647163731819817415255803e-13 ->     2.718281828458994908714885\n",
      "4.779477332387385884534877e-14 ->     2.718281828459042870349549\n",
      "2.811457254345520992540971e-15 ->     2.718281828459045534884808\n",
      "1.561920696858622773633873e-16 ->     2.718281828459045534884808\n",
      "8.220635246624331036280996e-18 ->     2.718281828459045534884808\n",
      "4.110317623312165325547503e-19 ->     2.718281828459045534884808\n",
      "1.957294106339126259519796e-20 ->     2.718281828459045534884808\n",
      "8.896791392450574077889159e-22 ->     2.718281828459045534884808\n",
      "3.868170170630684126148688e-23 ->     2.718281828459045534884808\n",
      "1.611737571096118385895287e-24 ->     2.718281828459045534884808\n",
      "6.446950284384473589498896e-26 ->     2.718281828459045534884808\n",
      "2.479596263224797589612253e-27 ->     2.718281828459045534884808\n",
      "9.183689863795547126432984e-29 ->     2.718281828459045534884808\n",
      "3.279889237069838459625846e-30 ->     2.718281828459045534884808\n",
      "1.130996288644771807128607e-31 ->     2.718281828459045534884808\n"
     ]
    }
   ],
   "source": [
    "for i in range(1, UP):\n",
    "    add /= i\n",
    "    sum += add\n",
    "    print(\"%30.25g -> %30.25g\" % (add, sum))"
   ]
  },
  {
   "cell_type": "markdown",
   "metadata": {},
   "source": [
    "**Строки**"
   ]
  },
  {
   "cell_type": "markdown",
   "metadata": {},
   "source": [
    "***Шифр Цезаря***"
   ]
  },
  {
   "cell_type": "code",
   "execution_count": 65,
   "metadata": {},
   "outputs": [
    {
     "name": "stdout",
     "output_type": "stream",
     "text": [
      "62 0123456789abcdefghijklmnopqrstuvwxyzABCDEFGHIJKLMNOPQRSTUVWXYZ\n"
     ]
    }
   ],
   "source": [
    "# setup shift\n",
    "shift = 1\n",
    "# setup method\n",
    "import string\n",
    "alfa = string.digits + string.ascii_letters\n",
    "alfa_len = len(alfa)\n",
    "print(alfa_len, alfa)"
   ]
  },
  {
   "cell_type": "code",
   "execution_count": 66,
   "metadata": {},
   "outputs": [
    {
     "name": "stdout",
     "output_type": "stream",
     "text": [
      "Hello commander! Start at noon! Ceasar\n"
     ]
    }
   ],
   "source": [
    "sopen = \"Hello commander! Start at noon! Ceasar\"\n",
    "\n",
    "#sopen = \"Здравствуй, Цезарь! Идущие на смерть тебя приветствуют!\"\n",
    "#sopen = \"Ave, Caesar, morituri te salutant\"\n",
    "#sopen = \"Николай неохотно поплёлся к директору: «Ave, Caesar, morituri te salutant!» — воскликнул он в дверях.\"\n",
    "\n",
    "shift = 1\n",
    "print(sopen)"
   ]
  },
  {
   "cell_type": "code",
   "execution_count": 67,
   "metadata": {},
   "outputs": [
    {
     "name": "stdout",
     "output_type": "stream",
     "text": [
      "Ifmmp dpnnboefs! Tubsu bu oppo! Dfbtbs\n"
     ]
    }
   ],
   "source": [
    "scoded = \"\".join(alfa[alfa.index(c) + shift] if c in alfa else c for c in sopen)\n",
    "print(scoded)"
   ]
  },
  {
   "cell_type": "code",
   "execution_count": 68,
   "metadata": {},
   "outputs": [
    {
     "name": "stdout",
     "output_type": "stream",
     "text": [
      "Hello commander! Start at noon! Ceasar\n"
     ]
    }
   ],
   "source": [
    "sback = \"\".join(alfa[alfa.index(c) - shift] if c in alfa else c for c in scoded)\n",
    "print(sback)"
   ]
  },
  {
   "cell_type": "markdown",
   "metadata": {},
   "source": [
    "***Подсчёт символов***\n",
    "\n",
    "(найти 5 самых частых букв)"
   ]
  },
  {
   "cell_type": "code",
   "execution_count": 136,
   "metadata": {},
   "outputs": [
    {
     "name": "stdout",
     "output_type": "stream",
     "text": [
      "A Counter is a container that keeps track of how many times equivalent values are added. It can be used to implement the same algorithms for which bag or multiset data structures are commonly used in other languages.Counter supports three forms of initialization. Its constructor can be called with a sequence of items, a dictionary containing keys and counts, or using keyword arguments mapping string names to counts.This example counts the letters appearing in all of the words in the system dictionary to produce a frequency distribution, then prints the three most common letters. Leaving out the argument to most_common() produces a list of all the items, in order of frequency.\n"
     ]
    }
   ],
   "source": [
    "#stroka = \"twas brillig and the slighty towes\"\n",
    "stroka = \"A Counter is a container that keeps track of how many times equivalent values are added. It can be used to implement the same algorithms for which bag or multiset data structures are commonly used in other languages.\"\\\n",
    "    \"Counter supports three forms of initialization. Its constructor can be called with a sequence of items, a dictionary containing keys and counts, or using keyword arguments mapping string names to counts.\"\\\n",
    "    \"This example counts the letters appearing in all of the words in the system dictionary to produce a frequency distribution, then prints the three most common letters. Leaving out the argument to most_common() produces a list of all the items, in order of frequency.\"\n",
    "\n",
    "print(stroka)"
   ]
  },
  {
   "cell_type": "code",
   "execution_count": 143,
   "metadata": {},
   "outputs": [
    {
     "name": "stdout",
     "output_type": "stream",
     "text": [
      "unsorted: [('A', 1), (' ', 110), ('C', 2), ('o', 45), ('u', 25), ('n', 43), ('t', 61), ('e', 62), ('r', 37), ('i', 37), ('s', 40), ('a', 40), ('c', 23), ('h', 18), ('k', 4), ('p', 12), ('f', 10), ('w', 5), ('m', 24), ('y', 9), ('q', 4), ('v', 3), ('l', 18), ('d', 16), ('.', 6), ('I', 2), ('b', 4), ('g', 12), ('z', 1), (',', 4), ('T', 1), ('x', 1), ('L', 1), ('_', 1), ('(', 1), (')', 1)]\n",
      "sorted: [(' ', 110), ('e', 62), ('t', 61), ('o', 45), ('n', 43), ('s', 40), ('a', 40), ('r', 37), ('i', 37), ('u', 25), ('m', 24), ('c', 23), ('h', 18), ('l', 18), ('d', 16), ('p', 12), ('g', 12), ('f', 10), ('y', 9), ('.', 6), ('w', 5), ('k', 4), ('q', 4), ('b', 4), (',', 4), ('v', 3), ('C', 2), ('I', 2), ('A', 1), ('z', 1), ('T', 1), ('x', 1), ('L', 1), ('_', 1), ('(', 1), (')', 1)]\n",
      "\n",
      "* most often characters are: [' ', 'e', 't', 'o', 'n']\n"
     ]
    }
   ],
   "source": [
    "# не по-питоновски (ну, частично)\n",
    "cnt = {}\n",
    "\n",
    "# counting all characters\n",
    "for c in stroka:\n",
    "    if c not in cnt:\n",
    "        cnt[c] = 0\n",
    "    cnt[c] += 1\n",
    "        \n",
    "# finding max by sorting\n",
    "arr = [(k, v) for k, v in cnt.items()]\n",
    "print(\"unsorted:\", arr)\n",
    "\n",
    "arr.sort(key = lambda x: x[1], reverse = True)\n",
    "print(\"sorted:\", arr)\n",
    "\n",
    "loc = [x[0] for x in arr[:5]]\n",
    "\n",
    "print(\"\\n* most often characters are:\", loc)"
   ]
  },
  {
   "cell_type": "code",
   "execution_count": 134,
   "metadata": {},
   "outputs": [
    {
     "name": "stdout",
     "output_type": "stream",
     "text": [
      "* most often characters are: [' ', 't', 's', 'i', 'l']\n"
     ]
    }
   ],
   "source": [
    "# по-питоновски\n",
    "import collections as coll\n",
    "\n",
    "cnt = coll.Counter(stroka)\n",
    "print(\"* most often characters are:\", [x[0] for x in cnt.most_common(5)])"
   ]
  },
  {
   "cell_type": "markdown",
   "metadata": {},
   "source": [
    "**Кортежи и списки**"
   ]
  },
  {
   "cell_type": "markdown",
   "metadata": {},
   "source": [
    "**Словари и множества**"
   ]
  },
  {
   "cell_type": "code",
   "execution_count": 140,
   "metadata": {},
   "outputs": [],
   "source": [
    "# TODO\n",
    "pass"
   ]
  },
  {
   "cell_type": "markdown",
   "metadata": {},
   "source": [
    "**Прочие сложные структуры данных**"
   ]
  },
  {
   "cell_type": "code",
   "execution_count": 141,
   "metadata": {},
   "outputs": [],
   "source": [
    "# TODO\n",
    "pass"
   ]
  },
  {
   "cell_type": "markdown",
   "metadata": {},
   "source": [
    "**Функции**"
   ]
  },
  {
   "cell_type": "code",
   "execution_count": 142,
   "metadata": {},
   "outputs": [],
   "source": [
    "# TODO\n",
    "pass"
   ]
  },
  {
   "cell_type": "markdown",
   "metadata": {},
   "source": [
    "***Генератор речей***"
   ]
  },
  {
   "cell_type": "code",
   "execution_count": 50,
   "metadata": {},
   "outputs": [
    {
     "name": "stdout",
     "output_type": "stream",
     "text": [
      "Пункт 1.\n",
      " Дамы и господа!  Задача организации, в особенности же  новая модель организационной деятельности  требуют определения и уточнения  , что представляет собой интересный эксперимент  соответствующих условий активизации   .\n",
      "Пункт 2.\n",
      "  Товарищи!  Принимая во внимание, что  начало повседневной работы по формированию позиции требуют определения и уточнения  , что позволяет оценить значение  системы обучения кадров, соответствующей  насущным потребностям  .\n",
      "Пункт 3.\n",
      "   Таким образом  сложившаяся структура организации  требуют от нас анализа  , что в значительной степени обуславливает создание  позиций, занимаемых участниками в отношении поставленных задач   .\n",
      "Пункт 4.\n",
      " Задача организации, в особенности же  постоянный количественный рост и сфера нашей активности  требуют от нас анализа  , что влечёт за собой интересный процесс внедрения и модернизации форм воздействия   .\n"
     ]
    }
   ],
   "source": [
    "# mk-genspeech.py 2014-05-25 1.1\n",
    "# Генератор речей\n",
    "# Mikhail (myke) Kolodin, mykespb@gmail.com \n",
    "\n",
    "import random\n",
    "\n",
    "text = \"\"\"\n",
    "  Товарищи! / Господа! / Коллеги! / Дорогие товарищи! / Уважаемые коллеги! / Дамы и господа! /  Уважаемые участники! / Друзья! / Граждане соучастники! / Граждане и гражданки! / / / / / / /\n",
    "  С другой стороны / Равным образом / Не следует, однако, забывать о том, что /  Таким образом / Повседневная практика показывает. что / Значимость этих проблем настолько очевидна, что / Из выступление товарища начальника ясно следует, что / В решениях съезда нашей партии указано, что/ Разнообразный и богатый опыт / Задача организации, в особенности же / Идейные соображения  высшего порядка, а также / Принимая во внимание, что / Вы, конечно, знаете, что / Вам, должно быть, известен тот факт, что\n",
    "  реализация намеченных плановых заданий / рамки и место обучения кадров / постоянный количественный рост и сфера нашей активности / сложившаяся структура организации / новая модель организационной деятельности / дальнейшее развитие различных форм деятельности / постоянное информационно-пропагандистское обеспечение нашей деятельности / управление и развитие структуры / консультация с широким активом / начало повседневной работы по формированию позиции\n",
    "  играет важную роль в формировании / требуют от нас анализа / требуют определения и уточнения /  способствуют подготовке и реализации / обеспечивают широкому кругу специалистов участие в формировании\n",
    "  , что позволяет выполнить важные задания по разработке / , что в значительной степени обуславливает создание / , что позволяет оценить значение / , что представляет собой интересный эксперимент / , что влечёт за собой интересный процесс внедрения и модернизации\n",
    "  существенных финансовых и административных условий / дальнейших направлений развития /  системы массового участия / позиций, занимаемых участниками в отношении поставленных задач /  новых предложений / направлений прогрессивного развития / форм воздействия /  модели развития / соответствующих условий активизации / системы обучения кадров, соответствующей  насущным потребностям\n",
    "  \"\"\"\n",
    "\n",
    "def make_speech (rows=1):\n",
    "    parts = [part.split('/') for part in text.split('\\n')]\n",
    "    for num in range(1, rows+1):\n",
    "        print (\"Пункт %d.\\n\" % num + \"\".join([random.choice(part) for part in parts]) + '.')\n",
    "\n",
    "make_speech(4)"
   ]
  },
  {
   "cell_type": "markdown",
   "metadata": {},
   "source": [
    "**Математика**"
   ]
  },
  {
   "cell_type": "markdown",
   "metadata": {},
   "source": [
    "***Простые числа***"
   ]
  },
  {
   "cell_type": "code",
   "execution_count": 12,
   "metadata": {},
   "outputs": [
    {
     "name": "stdout",
     "output_type": "stream",
     "text": [
      "2 3 5 7 11 13 17 19 23 29 31 37 41 43 47 53 59 61 67 71 73 79 83 89 97 101 103 107 109 113 127 131 137 139 149 151 157 163 167 173 179 181 191 193 197 199 211 223 227 229 233 239 241 251 257 263 269 271 277 281 283 293 307 311 313 317 331 337 347 349 353 359 367 373 379 383 389 397 401 409 419 421 431 433 439 443 449 457 461 463 467 479 487 491 499 503 509 521 523 541 547 557 563 569 571 577 587 593 599 601 607 613 617 619 631 641 643 647 653 659 661 673 677 683 691 701 709 719 727 733 739 743 751 757 761 769 773 787 797 809 811 821 823 827 829 839 853 857 859 863 877 881 883 887 907 911 919 929 937 941 947 953 967 971 977 983 991 997 "
     ]
    }
   ],
   "source": [
    "# простые числа (primes)\n",
    "def primes (lim=100):\n",
    "    \"\"\" show primes up to lim \"\"\"\n",
    "    found = []\n",
    "    for tested in range (2, lim+1):\n",
    "        for tester in found:\n",
    "            if tested % tester == 0:\n",
    "                break\n",
    "        else:\n",
    "            found.append (tested)\n",
    "            print (tested, end=\" \")\n",
    "\n",
    "primes(1000)"
   ]
  },
  {
   "cell_type": "markdown",
   "metadata": {},
   "source": [
    "***Линейное уравнение***"
   ]
  },
  {
   "cell_type": "code",
   "execution_count": 16,
   "metadata": {},
   "outputs": [
    {
     "name": "stdout",
     "output_type": "stream",
     "text": [
      "линейное уравнение -3x+6 = 0\n"
     ]
    }
   ],
   "source": [
    "# дано: ax + b = 0\n",
    "a = -3\n",
    "b = 6\n",
    "print(f\"линейное уравнение {a}x{b:+n} = 0\")"
   ]
  },
  {
   "cell_type": "code",
   "execution_count": 17,
   "metadata": {},
   "outputs": [
    {
     "name": "stdout",
     "output_type": "stream",
     "text": [
      "решение: x = 2.0\n"
     ]
    }
   ],
   "source": [
    "# решение: x = -b / a\n",
    "# если a!= 0\n",
    "if a:\n",
    "    x = -b / a\n",
    "    print(f\"решение: x = {x}\")\n",
    "else:\n",
    "    print(\"а=0, это не линейное уравнение!\")"
   ]
  },
  {
   "cell_type": "markdown",
   "metadata": {},
   "source": [
    "***Квадратное уравнение***"
   ]
  },
  {
   "cell_type": "markdown",
   "metadata": {},
   "source": [
    "Дано: $ax^2 + bx + c = 0$, найти $x$"
   ]
  },
  {
   "cell_type": "markdown",
   "metadata": {},
   "source": [
    "Решение: $x_{1, 2} = \\frac{-b \\pm \\sqrt{b^2 - 4ac}}{2a}$, либо $x = \\frac{-b}{2a}$"
   ]
  },
  {
   "cell_type": "code",
   "execution_count": 37,
   "metadata": {},
   "outputs": [],
   "source": [
    "import math"
   ]
  },
  {
   "cell_type": "code",
   "execution_count": 69,
   "metadata": {},
   "outputs": [
    {
     "name": "stdout",
     "output_type": "stream",
     "text": [
      "Решаем квадратное уравнение с коэффициентами a=1, b=6, c=-8\n"
     ]
    }
   ],
   "source": [
    "# дано: a, b, c\n",
    "a = 1\n",
    "b = 6\n",
    "c = -8\n",
    "print(f\"Решаем квадратное уравнение с коэффициентами {a=}, {b=}, {c=}\")"
   ]
  },
  {
   "cell_type": "code",
   "execution_count": 70,
   "metadata": {},
   "outputs": [
    {
     "name": "stdout",
     "output_type": "stream",
     "text": [
      "дискриминант равен 68, положительный (2 решения)\n",
      "2 решения:\n",
      "x1 = 1.1231056256176606\n",
      "x2 = -7.123105625617661\n"
     ]
    }
   ],
   "source": [
    "if a:\n",
    "    \n",
    "    d = b**2 - 4*a*c      # это дискриминант\n",
    "    print(f\"дискриминант равен {d},\", \n",
    "     \"положительный (2 решения)\" if d>0 else\n",
    "     \"отрицательный (нет решений)\" if d<0 else\n",
    "     \"нулевой (1 решение)\" )\n",
    "\n",
    "    if d > 0:\n",
    "        x1 = (-b + math.sqrt(d)) / (2*a)\n",
    "        x2 = (-b - math.sqrt(d)) / (2*a)\n",
    "        print(f\"2 решения:\\nx1 = {x1}\\nx2 = {x2}\")\n",
    "    elif d == 0:\n",
    "        x = -b / (2*a)\n",
    "        print(f\"1 решение:\\nx = {x}\")\n",
    "    else:\n",
    "        print(\"решений в R нет\")\n",
    "\n",
    "else:\n",
    "    print(\"a=0, это не квадратное уравнение\")"
   ]
  }
 ],
 "metadata": {
  "kernelspec": {
   "display_name": "Python 3",
   "language": "python",
   "name": "python3"
  },
  "language_info": {
   "codemirror_mode": {
    "name": "ipython",
    "version": 3
   },
   "file_extension": ".py",
   "mimetype": "text/x-python",
   "name": "python",
   "nbconvert_exporter": "python",
   "pygments_lexer": "ipython3",
   "version": "3.8.3"
  }
 },
 "nbformat": 4,
 "nbformat_minor": 4
}
