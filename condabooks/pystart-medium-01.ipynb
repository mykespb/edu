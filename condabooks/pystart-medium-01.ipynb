{
 "cells": [
  {
   "cell_type": "markdown",
   "metadata": {},
   "source": [
    "# Примеры и упражнения по Python3  - средний уровень - часть 1"
   ]
  },
  {
   "cell_type": "markdown",
   "metadata": {},
   "source": [
    "Автор-составитель - Михаил Колодин"
   ]
  },
  {
   "cell_type": "markdown",
   "metadata": {},
   "source": [
    "Версия 2021-04-16 от 2021-07-21 1.5"
   ]
  },
  {
   "cell_type": "markdown",
   "metadata": {},
   "source": [
    "Разделы:\n",
    "* [Циклы](#loops)\n",
    "* [Строки](#strings)\n",
    "* [Кортежи и списки, словари и множества](#structs1)\n",
    "    * [Красивые матрицы](#structs2)\n",
    "* [Функции](#functions)\n",
    "* [Исключения](#except)\n",
    "* [Математика](#math)"
   ]
  },
  {
   "cell_type": "markdown",
   "metadata": {},
   "source": [
    "---\n",
    "**Циклы** <a name=loops></a>"
   ]
  },
  {
   "cell_type": "markdown",
   "metadata": {},
   "source": [
    "---\n",
    "***Факториал $n! = 1 \\cdot 2 \\cdot 3 \\cdot \\dots \\cdot n$***"
   ]
  },
  {
   "cell_type": "code",
   "execution_count": 1,
   "metadata": {},
   "outputs": [],
   "source": [
    "UP = 30\n",
    "f = 1"
   ]
  },
  {
   "cell_type": "code",
   "execution_count": 2,
   "metadata": {},
   "outputs": [
    {
     "name": "stdout",
     "output_type": "stream",
     "text": [
      "         1!  =                                        1\n",
      "         2!  =                                        2\n",
      "         3!  =                                        6\n",
      "         4!  =                                       24\n",
      "         5!  =                                      120\n",
      "         6!  =                                      720\n",
      "         7!  =                                     5040\n",
      "         8!  =                                    40320\n",
      "         9!  =                                   362880\n",
      "        10!  =                                  3628800\n",
      "        11!  =                                 39916800\n",
      "        12!  =                                479001600\n",
      "        13!  =                               6227020800\n",
      "        14!  =                              87178291200\n",
      "        15!  =                            1307674368000\n",
      "        16!  =                           20922789888000\n",
      "        17!  =                          355687428096000\n",
      "        18!  =                         6402373705728000\n",
      "        19!  =                       121645100408832000\n",
      "        20!  =                      2432902008176640000\n",
      "        21!  =                     51090942171709440000\n",
      "        22!  =                   1124000727777607680000\n",
      "        23!  =                  25852016738884976640000\n",
      "        24!  =                 620448401733239439360000\n",
      "        25!  =               15511210043330985984000000\n",
      "        26!  =              403291461126605635584000000\n",
      "        27!  =            10888869450418352160768000000\n",
      "        28!  =           304888344611713860501504000000\n",
      "        29!  =          8841761993739701954543616000000\n",
      "        30!  =        265252859812191058636308480000000\n"
     ]
    }
   ],
   "source": [
    "for i in range(1, UP+1):\n",
    "    f *= i             #  то же, что f = f * i\n",
    "    print(\"%10i!  =\" % i, \"%40i\" % f)"
   ]
  },
  {
   "cell_type": "markdown",
   "metadata": {},
   "source": [
    "---\n",
    "***Сколько нулей?***"
   ]
  },
  {
   "cell_type": "markdown",
   "metadata": {},
   "source": [
    "__Вопрос.__ Как видно, n! быстро растёт, и на конце этого большого числа появляется много нулей. \n",
    "А сколько именно?\n",
    "Само число n! вычислять не надо.\n",
    "\n",
    "__Решение.__ Разложим n! на простые множители. \n",
    "Нуль в конце появляется тогда и только тогда, когда перемножаются 2 и 5. \n",
    "Посчитаем пары двоек и пятёрок. \n",
    "Пятёрок меньше, так что посчитаем их. \n",
    "Сумма и даст число нулей на конце n!."
   ]
  },
  {
   "cell_type": "code",
   "execution_count": 14,
   "metadata": {},
   "outputs": [
    {
     "name": "stdout",
     "output_type": "stream",
     "text": [
      "на конце числа 100! будет нулей: 24.\n"
     ]
    }
   ],
   "source": [
    "N = 100    # это исходное число, N!\n",
    "\n",
    "nuls = 0\n",
    "for x in range(2, N+1):\n",
    "    n = x\n",
    "    while n % 5 == 0:\n",
    "        n //= 5\n",
    "        nuls += 1\n",
    "        \n",
    "print(f\"на конце числа {N}! будет нулей: {nuls}.\")"
   ]
  },
  {
   "cell_type": "markdown",
   "metadata": {},
   "source": [
    "---\n",
    "***Константа е - аппроксимация***"
   ]
  },
  {
   "cell_type": "markdown",
   "metadata": {},
   "source": [
    "См. [статью в википедии](https://ru.wikipedia.org/wiki/E_(%D1%87%D0%B8%D1%81%D0%BB%D0%BE))"
   ]
  },
  {
   "cell_type": "markdown",
   "metadata": {},
   "source": [
    "$$e = \\sum\\limits_{n=0}^\\infty \\frac1{n!} = \\frac1{1!} + \\frac1{2!} + \\frac1{3!} + \\frac1{4!} + \\frac1{5!} + ... = \\frac11 + \\frac12 + \\frac16 + \\frac1{24} + \\frac1{120} + ... \\approx 2,7182818284590452353602874713527…$$"
   ]
  },
  {
   "cell_type": "code",
   "execution_count": 34,
   "metadata": {},
   "outputs": [],
   "source": [
    "UP = 30\n",
    "add = 1\n",
    "sum = 1"
   ]
  },
  {
   "cell_type": "code",
   "execution_count": 35,
   "metadata": {},
   "outputs": [
    {
     "name": "stdout",
     "output_type": "stream",
     "text": [
      "                             1 ->                              2\n",
      "                           0.5 ->                            2.5\n",
      "   0.1666666666666666574148081 ->      2.66666666666666651863693\n",
      "  0.04166666666666666435370203 ->      2.70833333333333303727386\n",
      " 0.008333333333333333217685102 ->     2.716666666666666341001246\n",
      " 0.001388888888888888941894328 ->     2.718055555555555447000415\n",
      "0.0001984126984126984125263171 ->     2.718253968253968366752815\n",
      "2.480158730158730156578964e-05 ->     2.718278769841270037233016\n",
      "2.755731922398589251095059e-06 ->     2.718281525573192247691168\n",
      "2.755731922398589356974178e-07 ->     2.718281801146384513145904\n",
      "2.505210838544172022386618e-08 ->     2.718281826198492900914516\n",
      "2.087675698786810018655515e-09 ->     2.718281828286168710917536\n",
      "1.605904383682161592580233e-10 ->     2.718281828446759362805096\n",
      " 1.14707455977297261228837e-11 ->     2.718281828458230187095523\n",
      "7.647163731819817415255803e-13 ->     2.718281828458994908714885\n",
      "4.779477332387385884534877e-14 ->     2.718281828459042870349549\n",
      "2.811457254345520992540971e-15 ->     2.718281828459045534884808\n",
      "1.561920696858622773633873e-16 ->     2.718281828459045534884808\n",
      "8.220635246624331036280996e-18 ->     2.718281828459045534884808\n",
      "4.110317623312165325547503e-19 ->     2.718281828459045534884808\n",
      "1.957294106339126259519796e-20 ->     2.718281828459045534884808\n",
      "8.896791392450574077889159e-22 ->     2.718281828459045534884808\n",
      "3.868170170630684126148688e-23 ->     2.718281828459045534884808\n",
      "1.611737571096118385895287e-24 ->     2.718281828459045534884808\n",
      "6.446950284384473589498896e-26 ->     2.718281828459045534884808\n",
      "2.479596263224797589612253e-27 ->     2.718281828459045534884808\n",
      "9.183689863795547126432984e-29 ->     2.718281828459045534884808\n",
      "3.279889237069838459625846e-30 ->     2.718281828459045534884808\n",
      "1.130996288644771807128607e-31 ->     2.718281828459045534884808\n"
     ]
    }
   ],
   "source": [
    "for i in range(1, UP):\n",
    "    add /= i\n",
    "    sum += add\n",
    "    print(\"%30.25g -> %30.25g\" % (add, sum))"
   ]
  },
  {
   "cell_type": "markdown",
   "metadata": {},
   "source": [
    "---\n",
    "**Строки** <a name=strings></a>"
   ]
  },
  {
   "cell_type": "markdown",
   "metadata": {},
   "source": [
    "---\n",
    "***Шифр Цезаря***"
   ]
  },
  {
   "cell_type": "code",
   "execution_count": 1,
   "metadata": {},
   "outputs": [
    {
     "name": "stdout",
     "output_type": "stream",
     "text": [
      "62 0123456789abcdefghijklmnopqrstuvwxyzABCDEFGHIJKLMNOPQRSTUVWXYZ\n"
     ]
    }
   ],
   "source": [
    "# setup shift\n",
    "shift = 1\n",
    "# setup method\n",
    "import string\n",
    "alfa = string.digits + string.ascii_letters\n",
    "alfa_len = len(alfa)\n",
    "print(alfa_len, alfa)"
   ]
  },
  {
   "cell_type": "code",
   "execution_count": 18,
   "metadata": {},
   "outputs": [
    {
     "name": "stdout",
     "output_type": "stream",
     "text": [
      "Hello commander! Start at noon! Ceasar\n"
     ]
    }
   ],
   "source": [
    "sopen = \"Hello commander! Start at noon! Ceasar\"\n",
    "#sopen = \"Hello commander! Start at noon! Ceasar zZ\"\n",
    "\n",
    "#sopen = \"Здравствуй, Цезарь! Идущие на смерть тебя приветствуют!\"\n",
    "#sopen = \"Ave, Caesar, morituri te salutant\"\n",
    "#sopen = \"Николай неохотно поплёлся к директору: «Ave, Caesar, morituri te salutant!» — воскликнул он в дверях.\"\n",
    "\n",
    "shift = 3\n",
    "print(sopen)"
   ]
  },
  {
   "cell_type": "code",
   "execution_count": 19,
   "metadata": {},
   "outputs": [
    {
     "name": "stdout",
     "output_type": "stream",
     "text": [
      "Khoor frppdqghu! Vwduw dw qrrq! Fhdvdu\n"
     ]
    }
   ],
   "source": [
    "scoded = \"\".join(alfa[(alfa.index(c) + shift) % alfa_len] if c in alfa else c for c in sopen)\n",
    "print(scoded)"
   ]
  },
  {
   "cell_type": "code",
   "execution_count": 20,
   "metadata": {},
   "outputs": [
    {
     "name": "stdout",
     "output_type": "stream",
     "text": [
      "Hello commander! Start at noon! Ceasar\n"
     ]
    }
   ],
   "source": [
    "sback = \"\".join(alfa[(alfa.index(c) - shift) % alfa_len] if c in alfa else c for c in scoded)\n",
    "print(sback)"
   ]
  },
  {
   "cell_type": "markdown",
   "metadata": {},
   "source": [
    "___расширение на несколько языков___"
   ]
  },
  {
   "cell_type": "code",
   "execution_count": 6,
   "metadata": {},
   "outputs": [
    {
     "name": "stdout",
     "output_type": "stream",
     "text": [
      "('0123456789', 'abcdefghijklmnopqrstuvwxyz', 'ABCDEFGHIJKLMNOPQRSTUVWXYZ', 'абвгдеёжзийклмнопрстуфхцчшщъыьэюя', 'АБВГДЕЁЖЗИЙКЛМНОПРСТУФХЦЧШЩЪЫЬЭЮЯ')\n"
     ]
    }
   ],
   "source": [
    "# setup shift\n",
    "shift = 1\n",
    "# setup method\n",
    "import string\n",
    "alfa_dig = string.digits\n",
    "alfa_enlo = string.ascii_lowercase\n",
    "alfa_enup = string.ascii_uppercase\n",
    "alfa_rulo = \"абвгдеёжзийклмнопрстуфхцчшщъыьэюя\"\n",
    "alfa_ruup = \"АБВГДЕЁЖЗИЙКЛМНОПРСТУФХЦЧШЩЪЫЬЭЮЯ\"\n",
    "alfas = alfa_dig, alfa_enlo, alfa_enup, alfa_rulo, alfa_ruup\n",
    "print(alfas)"
   ]
  },
  {
   "cell_type": "code",
   "execution_count": 21,
   "metadata": {},
   "outputs": [],
   "source": [
    "def tuda(sin, shift):\n",
    "    \"\"\" шифрование текста \"\"\"\n",
    "    if not sin or shift==0:\n",
    "        return sin\n",
    "    return \"\".join([bukva(c, shift) for c in sin])\n",
    "    \n",
    "def bukva(cin, shift):\n",
    "    \"\"\" обрабатываем 1 букву \"\"\"\n",
    "    for alfa in alfas:\n",
    "        if cin in alfa:\n",
    "            return alfa[(alfa.index(cin) + shift) % len(alfa)]\n",
    "    return cin\n",
    "\n",
    "def obratno(sin, shift):\n",
    "    \"\"\" обратное шифрование\"\"\"\n",
    "    return tuda(sin, -shift)"
   ]
  },
  {
   "cell_type": "code",
   "execution_count": 22,
   "metadata": {},
   "outputs": [
    {
     "name": "stdout",
     "output_type": "stream",
     "text": [
      "123. Николай неохотно поплёлся к директору: «Ave, Caesar, morituri te salutant!» — воскликнул он в дверях.\n",
      "456. Рлнсогм рзсшсхрс тстоиофв н жлузнхсуц: «Dyh, Fdhvdu, prulwxul wh vdoxwdqw!» — есфнолнрцо ср е жезувш.\n",
      "123. Николай неохотно поплёлся к директору: «Ave, Caesar, morituri te salutant!» — воскликнул он в дверях.\n"
     ]
    }
   ],
   "source": [
    "#sopen = \"Hello commander! Start at noon! Ceasar\"\n",
    "#sopen = \"Hello commander! Start at noon! Ceasar zZ\"\n",
    "#sopen = \"Здравствуй, Цезарь! Идущие на смерть тебя приветствуют!\"\n",
    "#sopen = \"Ave, Caesar, morituri te salutant\"\n",
    "sopen = \"123. Николай неохотно поплёлся к директору: «Ave, Caesar, morituri te salutant!» — воскликнул он в дверях.\"\n",
    "\n",
    "shift = 3\n",
    "print(sopen)\n",
    "scoded = tuda(sopen, shift)\n",
    "print(scoded)\n",
    "sback = obratno(scoded, shift)\n",
    "print(sback)"
   ]
  },
  {
   "cell_type": "markdown",
   "metadata": {},
   "source": [
    "---\n",
    "***Подсчёт символов***\n",
    "\n",
    "(найти 10 самых частых букв)"
   ]
  },
  {
   "cell_type": "code",
   "execution_count": 22,
   "metadata": {},
   "outputs": [
    {
     "name": "stdout",
     "output_type": "stream",
     "text": [
      "Съешь ещё этих мягких французских булок да выпей же чаю\n"
     ]
    }
   ],
   "source": [
    "stroka1 = \"Twas brillig, and the slithy toves Did gyre and gimble in the wabe: All mimsy were the borogoves, And the mome raths outgrabe.\"\n",
    "\n",
    "stroka2 = \"Варкалось. Хливкие шорьки Пырялись по наве, И хрюкотали зелюки, Как мюмзики в мове.\"\n",
    "\n",
    "# \"Гло́кая ку́здра ште́ко будлану́ла бо́кра и курдя́чит бокрёнка\"\n",
    "stroka3 = \"Глокая куздра штеко будланула бокра и курдячит бокрёнка\"\n",
    "\n",
    "# панграмма\n",
    "stroka4 = \"Съешь ещё этих мягких французских булок да выпей же чаю\"\n",
    "\n",
    "stroka5 = \"A Counter is a container that keeps track of how many times equivalent values are added. It can be used to implement the same algorithms for which bag or multiset data structures are commonly used in other languages.\"\\\n",
    "    \"Counter supports three forms of initialization. Its constructor can be called with a sequence of items, a dictionary containing keys and counts, or using keyword arguments mapping string names to counts.\"\\\n",
    "    \"This example counts the letters appearing in all of the words in the system dictionary to produce a frequency distribution, then prints the three most common letters. Leaving out the argument to most_common() produces a list of all the items, in order of frequency.\"\n",
    "\n",
    "stroka6 = \"Lorem ipsum dolor sit amet, consectetur adipiscing elit, sed do eiusmod tempor incididunt ut labore et dolore magna aliqua. Ut enim ad minim veniam, quis nostrud exercitation ullamco laboris nisi ut aliquip ex ea commodo consequat. Duis aute irure dolor in reprehenderit in voluptate velit esse cillum dolore eu fugiat nulla pariatur. Excepteur sint occaecat cupidatat non proident, sunt in culpa qui officia deserunt mollit anim id est laborum.\"\n",
    "\n",
    "# Гомер. Одиссея\n",
    "stroka7 = \"\"\"\n",
    "Муза, скажи мне о том многоопытном муже, который,\n",
    "Странствуя долго со дня, как святой Илион им разрушен,\n",
    "Многих людей города посетил и обычаи видел,\n",
    "Много и сердцем скорбел на морях, о спасенье заботясь\n",
    "Жизни своей и возврате в отчизну сопутников; тщетны\n",
    "Были, однако, заботы, не спас он сопутников: сами\n",
    "Гибель они на себя навлекли святотатством, безумцы,\n",
    "Съевши быков Гелиоса, над нами ходящего бога, —\n",
    "День возврата у них он похитил. Скажи же об этом\n",
    "Что-нибудь нам, о Зевесова дочь, благосклонная Муза.\n",
    "Все уж другие, погибели верной избегшие, были\n",
    "Дома, избегнув и брани и моря; его лишь, разлукой\n",
    "С милой женой и отчизной крушимого, в гроте глубоком\n",
    "Светлая нимфа Калипсо, богиня богинь, произвольной\n",
    "Силой держала, напрасно желая, чтоб был ей супругом.\n",
    "Но когда, наконец, обращеньем времен приведен был\n",
    "Год, в который ему возвратиться назначили боги\n",
    "В дом свой, в Итаку (но где и в объятиях верных друзей он\n",
    "Всё не избег от тревог), преисполнились жалостью боги\n",
    "Все; Посейдон лишь единый упорствовал гнать Одиссея,\n",
    "Богоподобного мужа, пока не достиг он отчизны.\"\"\"\n",
    "\n",
    "stroka = stroka4\n",
    "\n",
    "print(stroka)"
   ]
  },
  {
   "cell_type": "code",
   "execution_count": 23,
   "metadata": {},
   "outputs": [
    {
     "name": "stdout",
     "output_type": "stream",
     "text": [
      "unsorted: [('с', 2), ('ъ', 1), ('е', 4), ('ш', 1), ('ь', 1), (' ', 9), ('щ', 1), ('ё', 1), ('э', 1), ('т', 1), ('и', 3), ('х', 3), ('м', 1), ('я', 1), ('г', 1), ('к', 3), ('ф', 1), ('р', 1), ('а', 3), ('н', 1), ('ц', 1), ('у', 2), ('з', 1), ('б', 1), ('л', 1), ('о', 1), ('д', 1), ('в', 1), ('ы', 1), ('п', 1), ('й', 1), ('ж', 1), ('ч', 1), ('ю', 1)]\n",
      "sorted: [(' ', 9), ('е', 4), ('и', 3), ('х', 3), ('к', 3), ('а', 3), ('с', 2), ('у', 2), ('ъ', 1), ('ш', 1), ('ь', 1), ('щ', 1), ('ё', 1), ('э', 1), ('т', 1), ('м', 1), ('я', 1), ('г', 1), ('ф', 1), ('р', 1), ('н', 1), ('ц', 1), ('з', 1), ('б', 1), ('л', 1), ('о', 1), ('д', 1), ('в', 1), ('ы', 1), ('п', 1), ('й', 1), ('ж', 1), ('ч', 1), ('ю', 1)]\n",
      "\n",
      "* most often characters are: [' ', 'е', 'и', 'х', 'к', 'а', 'с', 'у', 'ъ', 'ш']\n"
     ]
    }
   ],
   "source": [
    "# не по-питоновски (ну, частично)\n",
    "HOWMANY = 10    # сколько букв искать?\n",
    "cnt = {}\n",
    "\n",
    "# counting all characters\n",
    "for c in stroka:\n",
    "    cc = c.lower()\n",
    "    if cc not in cnt:\n",
    "        cnt[cc] = 0\n",
    "    cnt[cc] += 1\n",
    "        \n",
    "# finding max by sorting\n",
    "arr = [(k, v) for k, v in cnt.items()]\n",
    "print(\"unsorted:\", arr)\n",
    "\n",
    "arr.sort(key = lambda x: x[1], reverse = True)\n",
    "print(\"sorted:\", arr)\n",
    "\n",
    "loc = [x[0] for x in arr[:HOWMANY]]\n",
    "\n",
    "print(\"\\n* most often characters are:\", loc)"
   ]
  },
  {
   "cell_type": "code",
   "execution_count": 24,
   "metadata": {},
   "outputs": [
    {
     "name": "stdout",
     "output_type": "stream",
     "text": [
      "* most often characters are: [' ', 'е', 'и', 'х', 'к', 'а', 'с', 'у', 'ъ', 'ш']\n"
     ]
    }
   ],
   "source": [
    "# по-питоновски\n",
    "import collections as coll\n",
    "\n",
    "cnt = coll.Counter(stroka.lower())\n",
    "print(\"* most often characters are:\", [x[0] for x in cnt.most_common(HOWMANY)])"
   ]
  },
  {
   "cell_type": "markdown",
   "metadata": {},
   "source": [
    "---\n",
    "***Анаграммы***\n",
    "\n",
    "Анаграммы - слова (или предложения), состоящите из одних и  тех же букв, но в разном порядке.\n",
    "\n",
    "Дан набор строк. Определить, какие из них явлеются анаграммами каких."
   ]
  },
  {
   "cell_type": "code",
   "execution_count": 25,
   "metadata": {},
   "outputs": [
    {
     "name": "stdout",
     "output_type": "stream",
     "text": [
      "['алкаш', 'астероид', 'банка', 'диаретса', 'директор', 'кабан', 'камыш', 'каприз', 'коршун', 'кукла', 'кулак', 'лунь', 'марс', 'мор', 'мышка', 'нуль', 'осока', 'остр', 'поза', 'приказ', 'ром', 'рост', 'сорт', 'срам', 'трос', 'шкала', 'шнурок']\n"
     ]
    }
   ],
   "source": [
    "# список слов\n",
    "words = \"астероид кукла трос кулак каприз алкаш сорт приказ шнурок мышка осока кабан камыш поза директор коршун диаретса лунь банка ром срам шкала нуль мор марс рост остр \".split()\n",
    "print(sorted(words))"
   ]
  },
  {
   "cell_type": "code",
   "execution_count": 26,
   "metadata": {},
   "outputs": [
    {
     "name": "stdout",
     "output_type": "stream",
     "text": [
      "[['кукла', 'кулак'],\n",
      " ['трос', 'сорт', 'рост', 'остр'],\n",
      " ['каприз', 'приказ'],\n",
      " ['алкаш', 'шкала'],\n",
      " ['шнурок', 'коршун'],\n",
      " ['мышка', 'камыш'],\n",
      " ['кабан', 'банка'],\n",
      " ['лунь', 'нуль'],\n",
      " ['ром', 'мор'],\n",
      " ['срам', 'марс']]\n"
     ]
    }
   ],
   "source": [
    "# ищем анаграммы\n",
    "from pprint import pprint as pp\n",
    "\n",
    "dow = {}\n",
    "for w in words:\n",
    "    ws = \"\".join(sorted(w))\n",
    "    if ws not in dow:\n",
    "        dow[ws] = [w]\n",
    "    else:\n",
    "        dow[ws] += [w]\n",
    "#pp(dow)\n",
    "res = [v for v in dow.values() if len(v) > 1]\n",
    "pp(res)"
   ]
  },
  {
   "cell_type": "markdown",
   "metadata": {},
   "source": [
    "---\n",
    "**Кортежи и списки, словари и множества** <a name=structs1></a>"
   ]
  },
  {
   "cell_type": "markdown",
   "metadata": {},
   "source": [
    "---\n",
    "***Работа с изменяемыми значениями (mutables)***"
   ]
  },
  {
   "cell_type": "code",
   "execution_count": 20,
   "metadata": {},
   "outputs": [
    {
     "name": "stdout",
     "output_type": "stream",
     "text": [
      "[1, 2, 3]\n",
      "[1, 2, 3]\n"
     ]
    }
   ],
   "source": [
    "m1 = [1, 2, 3]\n",
    "m2 = m1\n",
    "print(m1)\n",
    "print(m2)"
   ]
  },
  {
   "cell_type": "code",
   "execution_count": 21,
   "metadata": {},
   "outputs": [
    {
     "name": "stdout",
     "output_type": "stream",
     "text": [
      "[1, 55, 3]\n",
      "[1, 55, 3]\n"
     ]
    }
   ],
   "source": [
    "m1[1] = 55\n",
    "print(m1)\n",
    "print(m2)"
   ]
  },
  {
   "cell_type": "markdown",
   "metadata": {},
   "source": [
    "Python отличается от многих других ЯП. \n",
    "\n",
    "В нём нет присваивания.\n",
    "\n",
    "При \"присваивании\" не происходит копирования информации.\n",
    "\n",
    "Знаком \"=\" обозначается операция установления (копирования) ссылки на объект в памяти.\n",
    "\n",
    "Причём переменные живут в своих пространствах, а значения - в своей глобальной памяти (куче)."
   ]
  },
  {
   "cell_type": "markdown",
   "metadata": {},
   "source": [
    "---\n",
    "***Поиск самой длинной положительной последовательности***\n",
    "\n",
    "Найти в последовательности целых чисел подпоследовательность максимальной длины, состоящую только из положительных чисел."
   ]
  },
  {
   "cell_type": "code",
   "execution_count": 1,
   "metadata": {},
   "outputs": [],
   "source": [
    "# программа\n",
    "from random import randint as ri\n",
    "\n",
    "def posseq1(seq):\n",
    "    \"\"\"поиск последовательности\"\"\"\n",
    "    longseq = 0\n",
    "    longstart = -1\n",
    "    for i in range(LEN):\n",
    "        if seq[i] <= 0:\n",
    "            continue\n",
    "        thisseq = 1\n",
    "        thisstart = i\n",
    "        for j in range(i+1, LEN):\n",
    "            if seq[j] <= 0:\n",
    "                break\n",
    "            else:\n",
    "                thisseq = j - i + 1\n",
    "        if thisseq > longseq:\n",
    "            longseq = thisseq\n",
    "            longstart = thisstart\n",
    "            #print(longseq, longstart, seq[longstart : longstart + longseq])\n",
    "    return longseq, longstart"
   ]
  },
  {
   "cell_type": "code",
   "execution_count": 15,
   "metadata": {},
   "outputs": [
    {
     "name": "stdout",
     "output_type": "stream",
     "text": [
      "[8, 9, 7, -1, 7, 1, -5, 6, -4, 0, 1, -4, -1, 4, 0, -4, -2, 2, -8, -3]\n"
     ]
    }
   ],
   "source": [
    "# данные\n",
    "LEN = 20\n",
    "MIN = -10\n",
    "MAX = +10\n",
    "\n",
    "# проверка\n",
    "seq = [ri(MIN, MAX) for _ in range(LEN)]\n",
    "print(seq)"
   ]
  },
  {
   "cell_type": "code",
   "execution_count": 16,
   "metadata": {},
   "outputs": [
    {
     "name": "stdout",
     "output_type": "stream",
     "text": [
      "[8, 9, 7, -1, 7, 1, -5, 6, -4, 0, 1, -4, -1, 4, 0, -4, -2, 2, -8, -3]\n",
      "sequence of length 3, starting from 0, is [8, 9, 7]\n"
     ]
    }
   ],
   "source": [
    "print(seq)\n",
    "plen, pstart = posseq1(seq)\n",
    "print(f\"sequence of length {plen}, starting from {pstart}, is {seq[pstart : pstart+plen]}\")"
   ]
  },
  {
   "cell_type": "markdown",
   "metadata": {},
   "source": [
    "Замечание: решение не оптимально, можно его заметно ускорить.\n",
    "Найти место и ускорить... :)\n",
    "\n",
    "Подсказка: алгоритм многократно проходит по длинным последовательностям. Это не влияет на результат, но замедляет работу."
   ]
  },
  {
   "cell_type": "code",
   "execution_count": 5,
   "metadata": {},
   "outputs": [],
   "source": [
    "# программа - попытка исправления неэффективности\n",
    "from random import randint as ri\n",
    "\n",
    "def posseq2(seq):\n",
    "    \"\"\"поиск последовательности\"\"\"\n",
    "    longseq = 0\n",
    "    longstart = -1\n",
    "    skipto = -1\n",
    "    for i in range(LEN):\n",
    "        if seq[i] <= 0:\n",
    "            continue\n",
    "        if i < skipto:\n",
    "            continue\n",
    "        skipto = -1\n",
    "        thisseq = 1\n",
    "        thisstart = i\n",
    "        for j in range(i+1, LEN):\n",
    "            if seq[j] <= 0:\n",
    "                break\n",
    "            else:\n",
    "                thisseq = j - i + 1\n",
    "                skipto = j\n",
    "        if thisseq > longseq:\n",
    "            longseq = thisseq\n",
    "            longstart = thisstart\n",
    "            #print(longseq, longstart, seq[longstart : longstart + longseq])\n",
    "    return longseq, longstart"
   ]
  },
  {
   "cell_type": "code",
   "execution_count": 9,
   "metadata": {},
   "outputs": [
    {
     "name": "stdout",
     "output_type": "stream",
     "text": [
      "[3, 6, 5, -7, 4, 8, 9, -1, 4, -10, 9, 6, -10, -5, 7, 8, -7, -1, 8, 8]\n"
     ]
    }
   ],
   "source": [
    "# данные\n",
    "LEN = 20\n",
    "MIN = -10\n",
    "MAX = +10\n",
    "\n",
    "# проверка\n",
    "seq = [ri(MIN, MAX) for _ in range(LEN)]\n",
    "print(seq)"
   ]
  },
  {
   "cell_type": "code",
   "execution_count": 17,
   "metadata": {},
   "outputs": [
    {
     "name": "stdout",
     "output_type": "stream",
     "text": [
      "[8, 9, 7, -1, 7, 1, -5, 6, -4, 0, 1, -4, -1, 4, 0, -4, -2, 2, -8, -3]\n",
      "sequence of length 3, starting from 0, is [8, 9, 7]\n"
     ]
    }
   ],
   "source": [
    "print(seq)\n",
    "plen, pstart = posseq2(seq)\n",
    "print(f\"sequence of length {plen}, starting from {pstart}, is {seq[pstart : pstart+plen]}\")"
   ]
  },
  {
   "cell_type": "markdown",
   "metadata": {},
   "source": [
    "----\n",
    "__Красивые матрицы__ <a name=structs2></a>"
   ]
  },
  {
   "cell_type": "code",
   "execution_count": 3,
   "metadata": {},
   "outputs": [],
   "source": [
    "# подключаем нужное\n",
    "\n",
    "from random import randint as ri\n",
    "from pprint import pp"
   ]
  },
  {
   "cell_type": "code",
   "execution_count": 34,
   "metadata": {},
   "outputs": [],
   "source": [
    "# красиво показываем\n",
    "def show(a, width=5):\n",
    "    \"\"\"показать матрицу\"\"\"\n",
    "    lena = len(a)\n",
    "    print(f\"matrix of size {lena}\")\n",
    "    for i in range(lena):\n",
    "        for j in range(lena):\n",
    "            print(f\"{a[i][j] : {width}}\", end=\"\")\n",
    "        print()\n",
    "    print()"
   ]
  },
  {
   "cell_type": "code",
   "execution_count": 82,
   "metadata": {},
   "outputs": [],
   "source": [
    "# красота №1 \"просто нули\"\n",
    "\n",
    "def mat_1(size):\n",
    "    \"\"\"просто нули\"\"\"\n",
    "    return [[0 for x in range(size)] for y in range(size)]"
   ]
  },
  {
   "cell_type": "code",
   "execution_count": 83,
   "metadata": {},
   "outputs": [
    {
     "name": "stdout",
     "output_type": "stream",
     "text": [
      "matrix of size 3\n",
      "    0    0    0\n",
      "    0    0    0\n",
      "    0    0    0\n",
      "\n",
      "matrix of size 5\n",
      "    0    0    0    0    0\n",
      "    0    0    0    0    0\n",
      "    0    0    0    0    0\n",
      "    0    0    0    0    0\n",
      "    0    0    0    0    0\n",
      "\n",
      "matrix of size 7\n",
      "    0    0    0    0    0    0    0\n",
      "    0    0    0    0    0    0    0\n",
      "    0    0    0    0    0    0    0\n",
      "    0    0    0    0    0    0    0\n",
      "    0    0    0    0    0    0    0\n",
      "    0    0    0    0    0    0    0\n",
      "    0    0    0    0    0    0    0\n",
      "\n"
     ]
    }
   ],
   "source": [
    "# показ красоты №1\n",
    "show(mat_1(3))\n",
    "show(mat_1(5))\n",
    "show(mat_1(7))"
   ]
  },
  {
   "cell_type": "code",
   "execution_count": 84,
   "metadata": {},
   "outputs": [],
   "source": [
    "# красота №2 \"две диагонали\"\n",
    "\n",
    "def mat_2(size):\n",
    "    \"\"\"просто нули\"\"\"\n",
    "    a = [[0 for x in range(size)] for y in range(size)]\n",
    "    for i in range(size):\n",
    "        a[i][i] = 1\n",
    "        a[i][size-i-1] = 1\n",
    "        a[size-i-1][i] = 1\n",
    "        a[size-i-1][size-i-1] = 1\n",
    "    return a"
   ]
  },
  {
   "cell_type": "code",
   "execution_count": 85,
   "metadata": {},
   "outputs": [
    {
     "name": "stdout",
     "output_type": "stream",
     "text": [
      "matrix of size 3\n",
      "    1    0    1\n",
      "    0    1    0\n",
      "    1    0    1\n",
      "\n",
      "matrix of size 5\n",
      "    1    0    0    0    1\n",
      "    0    1    0    1    0\n",
      "    0    0    1    0    0\n",
      "    0    1    0    1    0\n",
      "    1    0    0    0    1\n",
      "\n",
      "matrix of size 7\n",
      "    1    0    0    0    0    0    1\n",
      "    0    1    0    0    0    1    0\n",
      "    0    0    1    0    1    0    0\n",
      "    0    0    0    1    0    0    0\n",
      "    0    0    1    0    1    0    0\n",
      "    0    1    0    0    0    1    0\n",
      "    1    0    0    0    0    0    1\n",
      "\n"
     ]
    }
   ],
   "source": [
    "# показ красоты №2\n",
    "show(mat_2(3))\n",
    "show(mat_2(5))\n",
    "show(mat_2(7))"
   ]
  },
  {
   "cell_type": "code",
   "execution_count": 86,
   "metadata": {},
   "outputs": [],
   "source": [
    "# красота №3 \"от диагонали\"\n",
    "\n",
    "def mat_3(size):\n",
    "    \"\"\"просто нули\"\"\"\n",
    "    a = [[0 for x in range(size)] for y in range(size)]\n",
    "    for i in range(size):\n",
    "        for j in range(size):\n",
    "            a[i][j] = abs(i-j)\n",
    "    return a"
   ]
  },
  {
   "cell_type": "code",
   "execution_count": 87,
   "metadata": {},
   "outputs": [
    {
     "name": "stdout",
     "output_type": "stream",
     "text": [
      "matrix of size 3\n",
      "    0    1    2\n",
      "    1    0    1\n",
      "    2    1    0\n",
      "\n",
      "matrix of size 5\n",
      "    0    1    2    3    4\n",
      "    1    0    1    2    3\n",
      "    2    1    0    1    2\n",
      "    3    2    1    0    1\n",
      "    4    3    2    1    0\n",
      "\n",
      "matrix of size 7\n",
      "    0    1    2    3    4    5    6\n",
      "    1    0    1    2    3    4    5\n",
      "    2    1    0    1    2    3    4\n",
      "    3    2    1    0    1    2    3\n",
      "    4    3    2    1    0    1    2\n",
      "    5    4    3    2    1    0    1\n",
      "    6    5    4    3    2    1    0\n",
      "\n"
     ]
    }
   ],
   "source": [
    "# показ красоты №3\n",
    "show(mat_3(3))\n",
    "show(mat_3(5))\n",
    "show(mat_3(7))"
   ]
  },
  {
   "cell_type": "code",
   "execution_count": 88,
   "metadata": {},
   "outputs": [],
   "source": [
    "# красота №4 \"ямка\"\n",
    "\n",
    "def mat_4(size):\n",
    "    \"\"\"просто нули\"\"\"\n",
    "    a = [[0 for x in range(size)] for y in range(size)]\n",
    "    cen = size//2\n",
    "    for r in range((size-1)//2):\n",
    "        for i in range(size):\n",
    "            for j in range(size):\n",
    "                a[i][j] = max( abs(cen-i), abs(cen-j) )\n",
    "    return a"
   ]
  },
  {
   "cell_type": "code",
   "execution_count": 89,
   "metadata": {},
   "outputs": [
    {
     "name": "stdout",
     "output_type": "stream",
     "text": [
      "matrix of size 3\n",
      "    1    1    1\n",
      "    1    0    1\n",
      "    1    1    1\n",
      "\n",
      "matrix of size 5\n",
      "    2    2    2    2    2\n",
      "    2    1    1    1    2\n",
      "    2    1    0    1    2\n",
      "    2    1    1    1    2\n",
      "    2    2    2    2    2\n",
      "\n",
      "matrix of size 7\n",
      "    3    3    3    3    3    3    3\n",
      "    3    2    2    2    2    2    3\n",
      "    3    2    1    1    1    2    3\n",
      "    3    2    1    0    1    2    3\n",
      "    3    2    1    1    1    2    3\n",
      "    3    2    2    2    2    2    3\n",
      "    3    3    3    3    3    3    3\n",
      "\n"
     ]
    }
   ],
   "source": [
    "# показ красоты №4\n",
    "show(mat_4(3))\n",
    "show(mat_4(5))\n",
    "show(mat_4(7))"
   ]
  },
  {
   "cell_type": "code",
   "execution_count": 90,
   "metadata": {},
   "outputs": [],
   "source": [
    "# красота №5 \"горка\"\n",
    "\n",
    "def mat_5(size):\n",
    "    \"\"\"просто нули\"\"\"\n",
    "    a = [[0 for x in range(size)] for y in range(size)]\n",
    "    cen = size//2\n",
    "    for r in range((size-1)//2):\n",
    "        for i in range(size):\n",
    "            for j in range(size):\n",
    "                a[i][j] = cen - max( abs(cen-i), abs(cen-j) )\n",
    "    return a"
   ]
  },
  {
   "cell_type": "code",
   "execution_count": 91,
   "metadata": {},
   "outputs": [
    {
     "name": "stdout",
     "output_type": "stream",
     "text": [
      "matrix of size 3\n",
      "    0    0    0\n",
      "    0    1    0\n",
      "    0    0    0\n",
      "\n",
      "matrix of size 5\n",
      "    0    0    0    0    0\n",
      "    0    1    1    1    0\n",
      "    0    1    2    1    0\n",
      "    0    1    1    1    0\n",
      "    0    0    0    0    0\n",
      "\n",
      "matrix of size 7\n",
      "    0    0    0    0    0    0    0\n",
      "    0    1    1    1    1    1    0\n",
      "    0    1    2    2    2    1    0\n",
      "    0    1    2    3    2    1    0\n",
      "    0    1    2    2    2    1    0\n",
      "    0    1    1    1    1    1    0\n",
      "    0    0    0    0    0    0    0\n",
      "\n"
     ]
    }
   ],
   "source": [
    "# показ красоты №5\n",
    "show(mat_5(3))\n",
    "show(mat_5(5))\n",
    "show(mat_5(7))"
   ]
  },
  {
   "cell_type": "markdown",
   "metadata": {},
   "source": [
    "---\n",
    "***Любовь и шарики***\n",
    "\n",
    "У каждого мальчика и у каждой девочки может быть по шарику. У кого одинакового цвета -- те, наверное, влюблены. Найти все пары."
   ]
  },
  {
   "cell_type": "code",
   "execution_count": 11,
   "metadata": {},
   "outputs": [
    {
     "name": "stdout",
     "output_type": "stream",
     "text": [
      "{'Ванечка': 'Синий',\n",
      " 'Вася': '',\n",
      " 'Зоя': 'Синий',\n",
      " 'Катя': 'Зелёный',\n",
      " 'Коля': 'Голубой',\n",
      " 'Малика': 'Фиолетовый',\n",
      " 'Маша': 'Белый',\n",
      " 'Миша': 'Зелёный'}\n"
     ]
    }
   ],
   "source": [
    "# Что мы знаем:\n",
    "chibo = {\n",
    "    \"Маша\": \"Белый\", \n",
    "    \"Миша\": \"Зелёный\",\n",
    "    \"Вася\": \"\",\n",
    "    \"Катя\": \"Зелёный\",\n",
    "    \"Ванечка\": \"Синий\",\n",
    "    \"Коля\": \"Голубой\",\n",
    "    \"Малика\": \"Фиолетовый\",\n",
    "    \"Зоя\": \"Синий\"\n",
    "}\n",
    "from pprint import pprint as pp\n",
    "pp(chibo)"
   ]
  },
  {
   "cell_type": "code",
   "execution_count": 12,
   "metadata": {},
   "outputs": [
    {
     "name": "stdout",
     "output_type": "stream",
     "text": [
      "{('Катя', 'Миша'), ('Ванечка', 'Зоя')}\n"
     ]
    }
   ],
   "source": [
    "# Найдём же все пары:\n",
    "pairs = set()\n",
    "for k1, v1 in chibo.items():\n",
    "    for k2, v2 in chibo.items():\n",
    "        if not v1 or not v2:                  # кто без шариков -- не влюблены\n",
    "            continue\n",
    "        if k1 != k2 and v1 == v2:             # а кто с одинаковыми - те да\n",
    "            para = tuple(sorted([k1, k2]))\n",
    "            pairs |= {para}\n",
    "pp(pairs)"
   ]
  },
  {
   "cell_type": "markdown",
   "metadata": {},
   "source": [
    "---\n",
    "***Матрицы***\n",
    "\n",
    "Здесь это -- двумерные массивы. В питоне размерность может быть и больше 2."
   ]
  },
  {
   "cell_type": "code",
   "execution_count": 12,
   "metadata": {},
   "outputs": [
    {
     "name": "stdout",
     "output_type": "stream",
     "text": [
      "[[1, 2, 3], [4, 5, 6], [7, 8, 9]]\n",
      "[[1, 2, 3], [4, 5, 6], [7, 8, 9]]\n",
      "[[11, 12, 13, 14, 15], [21, 22, 23, 24, 25], [31, 32, 33, 34, 35], [41, 42, 43, 44, 45], [51, 52, 53, 54, 55]]\n",
      "[[11, 12, 13, 14, 15],\n",
      " [21, 22, 23, 24, 25],\n",
      " [31, 32, 33, 34, 35],\n",
      " [41, 42, 43, 44, 45],\n",
      " [51, 52, 53, 54, 55]]\n"
     ]
    }
   ],
   "source": [
    "m = [[1, 2, 3], [4, 5, 6], [7, 8, 9]]\n",
    "print(m)\n",
    "from pprint import pprint as pp\n",
    "pp(m)\n",
    "\n",
    "q = [[11, 12, 13, 14, 15], \n",
    "     [21, 22, 23, 24, 25], \n",
    "     [31, 32, 33, 34, 35], \n",
    "     [41, 42, 43, 44, 45], \n",
    "     [51, 52, 53, 54, 55]]\n",
    "print(q)\n",
    "pp(q)"
   ]
  },
  {
   "cell_type": "markdown",
   "metadata": {},
   "source": [
    "---\n",
    "***Транспонирование матрицы***\n",
    "\n",
    "Это красивое название для симметричного отражения её относительно главной диагонали."
   ]
  },
  {
   "cell_type": "code",
   "execution_count": 13,
   "metadata": {},
   "outputs": [],
   "source": [
    "from copy import deepcopy as dc\n",
    "tm = dc(m)\n",
    "tq = dc(q)"
   ]
  },
  {
   "cell_type": "code",
   "execution_count": 14,
   "metadata": {},
   "outputs": [
    {
     "name": "stdout",
     "output_type": "stream",
     "text": [
      "[[1, 4, 7], [2, 5, 8], [3, 6, 9]]\n",
      "[[11, 21, 31, 41, 51],\n",
      " [12, 22, 32, 42, 52],\n",
      " [13, 23, 33, 43, 53],\n",
      " [14, 24, 34, 44, 54],\n",
      " [15, 25, 35, 45, 55]]\n"
     ]
    }
   ],
   "source": [
    "# непосредственно\n",
    "for i in range(len(tm)):\n",
    "    for j in range(i):\n",
    "        tm[i][j], tm[j][i] = tm[j][i], tm[i][j]\n",
    "\n",
    "pp(tm)\n",
    "\n",
    "for i in range(len(tq)):\n",
    "    for j in range(i):\n",
    "        tq[i][j], tq[j][i] = tq[j][i], tq[i][j]\n",
    "\n",
    "pp(tq)"
   ]
  },
  {
   "cell_type": "code",
   "execution_count": 15,
   "metadata": {},
   "outputs": [
    {
     "name": "stdout",
     "output_type": "stream",
     "text": [
      "matrix([[1, 2, 3],\n",
      "        [4, 5, 6],\n",
      "        [7, 8, 9]])\n",
      "matrix([[1, 4, 7],\n",
      "        [2, 5, 8],\n",
      "        [3, 6, 9]])\n",
      "matrix([[11, 12, 13, 14, 15],\n",
      "        [21, 22, 23, 24, 25],\n",
      "        [31, 32, 33, 34, 35],\n",
      "        [41, 42, 43, 44, 45],\n",
      "        [51, 52, 53, 54, 55]])\n",
      "matrix([[11, 21, 31, 41, 51],\n",
      "        [12, 22, 32, 42, 52],\n",
      "        [13, 23, 33, 43, 53],\n",
      "        [14, 24, 34, 44, 54],\n",
      "        [15, 25, 35, 45, 55]])\n"
     ]
    }
   ],
   "source": [
    "# по-взрослому, спецпакетом\n",
    "import numpy as np\n",
    "\n",
    "nm = np.asmatrix(m)\n",
    "pp(nm)\n",
    "\n",
    "tnm = nm.transpose()\n",
    "pp(tnm)\n",
    "\n",
    "nq = np.asmatrix(q)\n",
    "pp(nq)\n",
    "\n",
    "tnq = nq.transpose()\n",
    "pp(tnq)"
   ]
  },
  {
   "cell_type": "markdown",
   "metadata": {},
   "source": [
    "---\n",
    "***Генератор речей***"
   ]
  },
  {
   "cell_type": "code",
   "execution_count": 50,
   "metadata": {},
   "outputs": [
    {
     "name": "stdout",
     "output_type": "stream",
     "text": [
      "Пункт 1.\n",
      " Дамы и господа!  Задача организации, в особенности же  новая модель организационной деятельности  требуют определения и уточнения  , что представляет собой интересный эксперимент  соответствующих условий активизации   .\n",
      "Пункт 2.\n",
      "  Товарищи!  Принимая во внимание, что  начало повседневной работы по формированию позиции требуют определения и уточнения  , что позволяет оценить значение  системы обучения кадров, соответствующей  насущным потребностям  .\n",
      "Пункт 3.\n",
      "   Таким образом  сложившаяся структура организации  требуют от нас анализа  , что в значительной степени обуславливает создание  позиций, занимаемых участниками в отношении поставленных задач   .\n",
      "Пункт 4.\n",
      " Задача организации, в особенности же  постоянный количественный рост и сфера нашей активности  требуют от нас анализа  , что влечёт за собой интересный процесс внедрения и модернизации форм воздействия   .\n"
     ]
    }
   ],
   "source": [
    "# mk-genspeech.py 2014-05-25 1.1\n",
    "# Генератор речей\n",
    "# Mikhail (myke) Kolodin, mykespb@gmail.com \n",
    "\n",
    "import random\n",
    "\n",
    "text = \"\"\"\n",
    "  Товарищи! / Господа! / Коллеги! / Дорогие товарищи! / Уважаемые коллеги! / Дамы и господа! /  Уважаемые участники! / Друзья! / Граждане соучастники! / Граждане и гражданки! / / / / / / /\n",
    "  С другой стороны / Равным образом / Не следует, однако, забывать о том, что /  Таким образом / Повседневная практика показывает. что / Значимость этих проблем настолько очевидна, что / Из выступление товарища начальника ясно следует, что / В решениях съезда нашей партии указано, что/ Разнообразный и богатый опыт / Задача организации, в особенности же / Идейные соображения  высшего порядка, а также / Принимая во внимание, что / Вы, конечно, знаете, что / Вам, должно быть, известен тот факт, что\n",
    "  реализация намеченных плановых заданий / рамки и место обучения кадров / постоянный количественный рост и сфера нашей активности / сложившаяся структура организации / новая модель организационной деятельности / дальнейшее развитие различных форм деятельности / постоянное информационно-пропагандистское обеспечение нашей деятельности / управление и развитие структуры / консультация с широким активом / начало повседневной работы по формированию позиции\n",
    "  играет важную роль в формировании / требуют от нас анализа / требуют определения и уточнения /  способствуют подготовке и реализации / обеспечивают широкому кругу специалистов участие в формировании\n",
    "  , что позволяет выполнить важные задания по разработке / , что в значительной степени обуславливает создание / , что позволяет оценить значение / , что представляет собой интересный эксперимент / , что влечёт за собой интересный процесс внедрения и модернизации\n",
    "  существенных финансовых и административных условий / дальнейших направлений развития /  системы массового участия / позиций, занимаемых участниками в отношении поставленных задач /  новых предложений / направлений прогрессивного развития / форм воздействия /  модели развития / соответствующих условий активизации / системы обучения кадров, соответствующей  насущным потребностям\n",
    "  \"\"\"\n",
    "\n",
    "def make_speech (rows=1):\n",
    "    parts = [part.split('/') for part in text.split('\\n')]\n",
    "    for num in range(1, rows+1):\n",
    "        print (\"Пункт %d.\\n\" % num + \"\".join([random.choice(part) for part in parts]) + '.')\n",
    "\n",
    "make_speech(4)"
   ]
  },
  {
   "cell_type": "markdown",
   "metadata": {},
   "source": [
    "---\n",
    "**Исключения** <a name=except></a>"
   ]
  },
  {
   "cell_type": "markdown",
   "metadata": {},
   "source": [
    "---\n",
    "***Деление на нуль***"
   ]
  },
  {
   "cell_type": "code",
   "execution_count": 49,
   "metadata": {},
   "outputs": [
    {
     "ename": "ZeroDivisionError",
     "evalue": "division by zero",
     "output_type": "error",
     "traceback": [
      "\u001b[0;31m---------------------------------------------------------------------------\u001b[0m",
      "\u001b[0;31mZeroDivisionError\u001b[0m                         Traceback (most recent call last)",
      "\u001b[0;32m<ipython-input-49-95da1a688230>\u001b[0m in \u001b[0;36m<module>\u001b[0;34m\u001b[0m\n\u001b[0;32m----> 1\u001b[0;31m \u001b[0mq\u001b[0m \u001b[0;34m=\u001b[0m \u001b[0;36m5\u001b[0m \u001b[0;34m/\u001b[0m \u001b[0;36m0\u001b[0m\u001b[0;34m\u001b[0m\u001b[0;34m\u001b[0m\u001b[0m\n\u001b[0m\u001b[1;32m      2\u001b[0m \u001b[0mprint\u001b[0m\u001b[0;34m(\u001b[0m\u001b[0mq\u001b[0m\u001b[0;34m)\u001b[0m\u001b[0;34m\u001b[0m\u001b[0;34m\u001b[0m\u001b[0m\n",
      "\u001b[0;31mZeroDivisionError\u001b[0m: division by zero"
     ]
    }
   ],
   "source": [
    "q = 5 / 0\n",
    "print(q)"
   ]
  },
  {
   "cell_type": "code",
   "execution_count": 48,
   "metadata": {},
   "outputs": [
    {
     "name": "stdout",
     "output_type": "stream",
     "text": [
      "тут поделили на нуль!\n",
      "0\n"
     ]
    }
   ],
   "source": [
    "try:\n",
    "    q = 5 / 0\n",
    "except:\n",
    "    print(\"тут поделили на нуль!\")\n",
    "    q = 0\n",
    "print(q)"
   ]
  },
  {
   "cell_type": "code",
   "execution_count": 52,
   "metadata": {},
   "outputs": [
    {
     "name": "stdout",
     "output_type": "stream",
     "text": [
      "тут поделили на нуль!\n",
      "0\n"
     ]
    }
   ],
   "source": [
    "a = 5\n",
    "b = 0\n",
    "# ... многобукв...\n",
    "\n",
    "try:\n",
    "    q = a / b\n",
    "except:\n",
    "    print(\"тут поделили на нуль!\")\n",
    "    q = 0\n",
    "print(q)"
   ]
  },
  {
   "cell_type": "code",
   "execution_count": 49,
   "metadata": {},
   "outputs": [],
   "source": [
    "# практический пример полутривиальный\n",
    "# пусть есть данные -- несколько списков\n",
    "# надо найти для каждого некую величину, равную частному от произведения всех чисел на из сумму\n",
    "\n",
    "data = [\n",
    "    (1, 2, 3, 4, 5),\n",
    "    (1, 3, 0, -2),\n",
    "    (1, -1, 5, -4, -1, 0)\n",
    "]"
   ]
  },
  {
   "cell_type": "code",
   "execution_count": 50,
   "metadata": {},
   "outputs": [
    {
     "name": "stdout",
     "output_type": "stream",
     "text": [
      "начинаем расчеты\n",
      "(1, 2, 3, 4, 5) -> 8.0\n",
      "(1, 3, 0, -2) -> 0.0\n",
      "(1, -1, 5, -4, -1, 0) -> "
     ]
    },
    {
     "ename": "ZeroDivisionError",
     "evalue": "division by zero",
     "output_type": "error",
     "traceback": [
      "\u001b[0;31m---------------------------------------------------------------------------\u001b[0m",
      "\u001b[0;31mZeroDivisionError\u001b[0m                         Traceback (most recent call last)",
      "\u001b[0;32m<ipython-input-50-09722c48e44d>\u001b[0m in \u001b[0;36m<module>\u001b[0;34m\u001b[0m\n\u001b[1;32m      9\u001b[0m     \u001b[0;32mfor\u001b[0m \u001b[0mel\u001b[0m \u001b[0;32min\u001b[0m \u001b[0mgruppa\u001b[0m\u001b[0;34m:\u001b[0m\u001b[0;34m\u001b[0m\u001b[0;34m\u001b[0m\u001b[0m\n\u001b[1;32m     10\u001b[0m         \u001b[0msumma\u001b[0m \u001b[0;34m+=\u001b[0m \u001b[0mel\u001b[0m\u001b[0;34m\u001b[0m\u001b[0;34m\u001b[0m\u001b[0m\n\u001b[0;32m---> 11\u001b[0;31m     \u001b[0mquot\u001b[0m \u001b[0;34m=\u001b[0m \u001b[0mprod\u001b[0m \u001b[0;34m/\u001b[0m \u001b[0msumma\u001b[0m\u001b[0;34m\u001b[0m\u001b[0;34m\u001b[0m\u001b[0m\n\u001b[0m\u001b[1;32m     12\u001b[0m     \u001b[0mprint\u001b[0m\u001b[0;34m(\u001b[0m\u001b[0mquot\u001b[0m\u001b[0;34m)\u001b[0m\u001b[0;34m\u001b[0m\u001b[0;34m\u001b[0m\u001b[0m\n\u001b[1;32m     13\u001b[0m \u001b[0mprint\u001b[0m\u001b[0;34m(\u001b[0m\u001b[0;34m\"продолжаем расчеты\"\u001b[0m\u001b[0;34m)\u001b[0m\u001b[0;34m\u001b[0m\u001b[0;34m\u001b[0m\u001b[0m\n",
      "\u001b[0;31mZeroDivisionError\u001b[0m: division by zero"
     ]
    }
   ],
   "source": [
    "# неправильно\n",
    "print(\"начинаем расчеты\")\n",
    "for gruppa in data:\n",
    "    print(gruppa, end=\" -> \")\n",
    "    prod = 1\n",
    "    for el in gruppa:\n",
    "        prod *= el\n",
    "    summa = 0\n",
    "    for el in gruppa:\n",
    "        summa += el\n",
    "    quot = prod / summa\n",
    "    print(quot)\n",
    "print(\"продолжаем расчеты\")"
   ]
  },
  {
   "cell_type": "code",
   "execution_count": 51,
   "metadata": {},
   "outputs": [
    {
     "name": "stdout",
     "output_type": "stream",
     "text": [
      "начинаем расчеты\n",
      "(1, 2, 3, 4, 5) --> 8.0\n",
      "(1, 3, 0, -2) --> 0.0\n",
      "(1, -1, 5, -4, -1, 0) --> division by zero\n",
      "продолжаем расчеты\n"
     ]
    }
   ],
   "source": [
    "# правильно\n",
    "print(\"начинаем расчеты\")\n",
    "for gruppa in data:\n",
    "    try:\n",
    "        print(gruppa, end=\" --> \")\n",
    "        prod = 1\n",
    "        for el in gruppa:\n",
    "            prod *= el\n",
    "        summa = 0\n",
    "        for el in gruppa:\n",
    "            summa += el\n",
    "        quot = prod / summa\n",
    "        print(quot)\n",
    "    except ZeroDivisionError as error:\n",
    "        print(error)\n",
    "        quot = 0\n",
    "    except e:\n",
    "        print(e)\n",
    "        print(\"something happened!\")\n",
    "print(\"продолжаем расчеты\")"
   ]
  },
  {
   "cell_type": "markdown",
   "metadata": {},
   "source": [
    "---\n",
    "**Математика** <a name=math></a>"
   ]
  },
  {
   "cell_type": "markdown",
   "metadata": {},
   "source": [
    "---\n",
    "***Линейное уравнение***\n",
    "\n",
    "Дано: $ax + b = 0$, \n",
    "причём $a \\ne 0$ и $a, b, x \\in \\mathbb R$. \n",
    "Требуется найти $x$ для конкретных $a, b$.\n",
    "\n",
    "Решение: $x = \\frac{-b}a$."
   ]
  },
  {
   "cell_type": "code",
   "execution_count": 16,
   "metadata": {},
   "outputs": [
    {
     "name": "stdout",
     "output_type": "stream",
     "text": [
      "линейное уравнение -3x+6 = 0\n"
     ]
    }
   ],
   "source": [
    "# дано: ax + b = 0\n",
    "a = -3\n",
    "b = 6\n",
    "print(f\"линейное уравнение {a}x{b:+n} = 0\")"
   ]
  },
  {
   "cell_type": "code",
   "execution_count": 17,
   "metadata": {},
   "outputs": [
    {
     "name": "stdout",
     "output_type": "stream",
     "text": [
      "решение: x = 2.0\n"
     ]
    }
   ],
   "source": [
    "# решение: x = -b / a\n",
    "# если a!= 0\n",
    "if a:\n",
    "    x = -b / a\n",
    "    print(f\"решение: x = {x}\")\n",
    "else:\n",
    "    print(\"а=0, это не линейное уравнение!\")"
   ]
  },
  {
   "cell_type": "markdown",
   "metadata": {},
   "source": [
    "---\n",
    "***Квадратное уравнение***"
   ]
  },
  {
   "cell_type": "markdown",
   "metadata": {},
   "source": [
    "Дано: $ax^2 + bx + c = 0$,\n",
    "причём $a \\ne 0$, и $a, b, c, x \\in \\mathbb R$.\n",
    "Требуется найти $x$ для конкретных $a, b, c$."
   ]
  },
  {
   "cell_type": "markdown",
   "metadata": {},
   "source": [
    "Решение: $x_{1, 2} = \\frac{-b \\pm \\sqrt{b^2 - 4ac}}{2a}$, \n",
    "если дискриминант $D=b^2-4ac > 0$, \n",
    "либо $x = \\frac{-b}{2a}$, \n",
    "если $D=0$,\n",
    "иначе (при $d<0$) в $\\mathbb R$ решений нет."
   ]
  },
  {
   "cell_type": "markdown",
   "metadata": {},
   "source": [
    "Обозначение \"$\\pm$\" это \"плюс-минус\", т.е.\n",
    "$a \\pm b$ обозначает сразу 2 варианта формулы: \n",
    "$a + b$ и $a - b$.\n",
    "\n",
    "То же с индексами переменной $x$:\n",
    "$x_{1, 2}$ соответствует $x_1$ и $x_2$.\n",
    "\n",
    "Таким образом, формула выше означает:\n",
    "$$\n",
    " x_1 = \\frac{-b + \\sqrt{b^2 - 4ac}}{2a},\\,\\,\\,\n",
    " x_2 = \\frac{-b - \\sqrt{b^2 - 4ac}}{2a}.\n",
    "$$"
   ]
  },
  {
   "cell_type": "code",
   "execution_count": 1,
   "metadata": {},
   "outputs": [],
   "source": [
    "import math"
   ]
  },
  {
   "cell_type": "code",
   "execution_count": 2,
   "metadata": {},
   "outputs": [
    {
     "name": "stdout",
     "output_type": "stream",
     "text": [
      "Решаем квадратное уравнение с коэффициентами a=1, b=6, c=-8\n"
     ]
    }
   ],
   "source": [
    "# дано: a, b, c\n",
    "a = 1\n",
    "b = 6\n",
    "c = -8\n",
    "print(f\"Решаем квадратное уравнение с коэффициентами {a=}, {b=}, {c=}\")"
   ]
  },
  {
   "cell_type": "code",
   "execution_count": 4,
   "metadata": {},
   "outputs": [
    {
     "name": "stdout",
     "output_type": "stream",
     "text": [
      "дискриминант равен d=68, положительный (2 решения)\n",
      "вот 2 решения:\n",
      "x1=1.1231056256176606\n",
      "x2=-7.123105625617661\n"
     ]
    }
   ],
   "source": [
    "if a:\n",
    "    \n",
    "    d = b**2 - 4*a*c      # это дискриминант\n",
    "    print(f\"дискриминант равен {d=},\", \n",
    "     \"положительный (2 решения)\" if d>0 else\n",
    "     \"отрицательный (нет решений)\" if d<0 else\n",
    "     \"нулевой (1 решение)\" )\n",
    "\n",
    "    if d > 0:\n",
    "        x1 = (-b + math.sqrt(d)) / (2*a)\n",
    "        x2 = (-b - math.sqrt(d)) / (2*a)\n",
    "        print(f\"вот 2 решения:\\n{x1=}\\n{x2=}\")\n",
    "    elif d == 0:\n",
    "        x = -b / (2*a)\n",
    "        print(f\"вот 1 решение:\\n{x=}\")\n",
    "    else:\n",
    "        print(\"решений в R нет\")\n",
    "\n",
    "else:\n",
    "    print(\"a=0, это не квадратное уравнение\")"
   ]
  },
  {
   "cell_type": "markdown",
   "metadata": {},
   "source": [
    "---\n",
    "***Счастливые билеты***\n",
    "\n",
    "Рассчитать количество счастливых билетов для номера произвольной чётной длины.\n",
    "\n",
    "_(**Счастливым** называется билет, у которого сумма цифр левой половины равна сумме цифр правой половины,\n",
    "напр., билет 123321 -- счастливый, а 123456 -- нет.)_"
   ]
  },
  {
   "cell_type": "code",
   "execution_count": 4,
   "metadata": {},
   "outputs": [
    {
     "name": "stdout",
     "output_type": "stream",
     "text": [
      "Счастливые билеты для номеров из 2 цифр. Их 10\n",
      "Счастливые билеты для номеров из 4 цифр. Их 670\n",
      "Счастливые билеты для номеров из 6 цифр. Их 55252\n",
      "Счастливые билеты для номеров из 8 цифр. Их 4816030\n",
      "Счастливые билеты для номеров из 10 цифр. Их 432457640\n"
     ]
    }
   ],
   "source": [
    "def sumdig(n):\n",
    "    \"\"\"сумма цифр числа\n",
    "    \"\"\"\n",
    "\n",
    "    s = 0\n",
    "    while n:\n",
    "        s += n % 10\n",
    "        n //= 10\n",
    "\n",
    "    return s\n",
    "\n",
    "\n",
    "def happy(digs = 6):\n",
    "    \"\"\" считаем количество счастливых билетов\n",
    "    для номера длиной digs цифр\n",
    "    \"\"\"\n",
    "\n",
    "    if digs % 2:\n",
    "        print(\"нет! Билеты с нечётной длиной номера не считаются:\", digs)\n",
    "        return 0\n",
    "\n",
    "    half = digs // 2\n",
    "    kol = [0 for i in range(9*half+1)]\n",
    "\n",
    "    for n in range(10**half):\n",
    "        kol[sumdig(n)] += 1\n",
    "\n",
    "    mul = sum([n*n for n in kol])\n",
    "    return mul\n",
    "\n",
    "\n",
    "def org(n):\n",
    "    \"\"\"органайзер\n",
    "    \"\"\"\n",
    "    print(\"Счастливые билеты для номеров из\", n, \"цифр. Их\", happy(n))\n",
    "\n",
    "\n",
    "def calcnums():\n",
    "    \"\"\"считаем всё\"\"\"\n",
    "\n",
    "    for n in range(2, 11, 2):\n",
    "        org(n)\n",
    "\n",
    "calcnums()"
   ]
  },
  {
   "cell_type": "code",
   "execution_count": null,
   "metadata": {},
   "outputs": [],
   "source": []
  }
 ],
 "metadata": {
  "kernelspec": {
   "display_name": "Python 3 (ipykernel)",
   "language": "python",
   "name": "python3"
  },
  "language_info": {
   "codemirror_mode": {
    "name": "ipython",
    "version": 3
   },
   "file_extension": ".py",
   "mimetype": "text/x-python",
   "name": "python",
   "nbconvert_exporter": "python",
   "pygments_lexer": "ipython3",
   "version": "3.9.7"
  }
 },
 "nbformat": 4,
 "nbformat_minor": 4
}
