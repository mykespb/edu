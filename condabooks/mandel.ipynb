{
 "cells": [
  {
   "cell_type": "markdown",
   "id": "e99d1e36",
   "metadata": {},
   "source": [
    "# Draw the Mandelbrot Set in Python\n",
    "\n",
    "by Bartosz Zaczyński  Jan 31, 2022 \n",
    "https://realpython.com/mandelbrot-set-python/\n",
    "\n",
    "with additions and tests from myke, 2022-01-31"
   ]
  },
  {
   "cell_type": "code",
   "execution_count": 1,
   "id": "6069803d",
   "metadata": {},
   "outputs": [],
   "source": [
    "# all imports \n",
    "import numpy as np\n",
    "import matplotlib.pyplot as plt\n",
    "from PIL import Image, ImageEnhance\n",
    "from PIL.ImageColor import getrgb\n",
    "from dataclasses import dataclass\n",
    "from math import log\n",
    "import matplotlib.cm\n",
    "from scipy.interpolate import interp1d"
   ]
  },
  {
   "cell_type": "markdown",
   "id": "b230a6d4",
   "metadata": {},
   "source": [
    "**Understanding the Mandelbrot Set**"
   ]
  },
  {
   "cell_type": "code",
   "execution_count": 2,
   "id": "0da483d6",
   "metadata": {},
   "outputs": [],
   "source": [
    "# testing\n",
    "def z(n, c):\n",
    "    if n == 0:\n",
    "        return 0\n",
    "    else:\n",
    "        return z(n - 1, c) ** 2 + c"
   ]
  },
  {
   "cell_type": "code",
   "execution_count": 3,
   "id": "81833e0d",
   "metadata": {},
   "outputs": [
    {
     "name": "stdout",
     "output_type": "stream",
     "text": [
      "z(0) = 0\n",
      "z(1) = 1\n",
      "z(2) = 2\n",
      "z(3) = 5\n",
      "z(4) = 26\n",
      "z(5) = 677\n",
      "z(6) = 458330\n",
      "z(7) = 210066388901\n",
      "z(8) = 44127887745906175987802\n",
      "z(9) = 1947270476915296449559703445493848930452791205\n"
     ]
    }
   ],
   "source": [
    "for n in range(10):\n",
    "    print(f\"z({n}) = {z(n, c=1)}\")"
   ]
  },
  {
   "cell_type": "code",
   "execution_count": 4,
   "id": "b650a4dc",
   "metadata": {},
   "outputs": [],
   "source": [
    "def sequence(c):\n",
    "    z = 0\n",
    "    while True:\n",
    "        yield z\n",
    "        z = z ** 2 + c"
   ]
  },
  {
   "cell_type": "code",
   "execution_count": 5,
   "id": "35386c97",
   "metadata": {},
   "outputs": [
    {
     "name": "stdout",
     "output_type": "stream",
     "text": [
      "z(0) = 0\n",
      "z(1) = 1\n",
      "z(2) = 2\n",
      "z(3) = 5\n",
      "z(4) = 26\n",
      "z(5) = 677\n",
      "z(6) = 458330\n",
      "z(7) = 210066388901\n",
      "z(8) = 44127887745906175987802\n",
      "z(9) = 1947270476915296449559703445493848930452791205\n"
     ]
    }
   ],
   "source": [
    "for n, z in enumerate(sequence(c=1)):\n",
    "    print(f\"z({n}) = {z}\")\n",
    "    if n >= 9:\n",
    "        break"
   ]
  },
  {
   "cell_type": "code",
   "execution_count": 6,
   "id": "3c37a34f",
   "metadata": {},
   "outputs": [],
   "source": [
    "def sequence(c, z=0):\n",
    "    while True:\n",
    "        yield z\n",
    "        z = z ** 2 + c"
   ]
  },
  {
   "cell_type": "code",
   "execution_count": 7,
   "id": "fb94726c",
   "metadata": {},
   "outputs": [],
   "source": [
    "# wrappers\n",
    "def mandelbrot(candidate):\n",
    "    return sequence(z=0, c=candidate)\n",
    "\n",
    "def julia(candidate, parameter):\n",
    "    return sequence(z=candidate, c=parameter)"
   ]
  },
  {
   "cell_type": "markdown",
   "id": "3006ad5f",
   "metadata": {},
   "source": [
    "**Plotting the Mandelbrot Set Using Python’s Matplotlib**"
   ]
  },
  {
   "cell_type": "code",
   "execution_count": 8,
   "id": "a8cb7983",
   "metadata": {},
   "outputs": [],
   "source": [
    "def complex_matrix(xmin, xmax, ymin, ymax, pixel_density):\n",
    "    re = np.linspace(xmin, xmax, int((xmax - xmin) * pixel_density))\n",
    "    im = np.linspace(ymin, ymax, int((ymax - ymin) * pixel_density))\n",
    "    return re[np.newaxis, :] + im[:, np.newaxis] * 1j"
   ]
  },
  {
   "cell_type": "code",
   "execution_count": 9,
   "id": "85b09175",
   "metadata": {},
   "outputs": [],
   "source": [
    "def is_stable(c, num_iterations):\n",
    "    z = 0\n",
    "    for _ in range(num_iterations):\n",
    "        z = z ** 2 + c\n",
    "    return abs(z) <= 2"
   ]
  },
  {
   "cell_type": "code",
   "execution_count": 10,
   "id": "40c5d2a8",
   "metadata": {},
   "outputs": [],
   "source": [
    "# tuning\n",
    "np.warnings.filterwarnings(\"ignore\")"
   ]
  },
  {
   "cell_type": "markdown",
   "id": "131a2268",
   "metadata": {},
   "source": [
    "*Low-Resolution Scatter Plot*"
   ]
  },
  {
   "cell_type": "code",
   "execution_count": 11,
   "id": "a6613eba",
   "metadata": {},
   "outputs": [],
   "source": [
    "def get_members(c, num_iterations):\n",
    "    mask = is_stable(c, num_iterations)\n",
    "    return c[mask]"
   ]
  },
  {
   "cell_type": "code",
   "execution_count": 12,
   "id": "fc140fd5",
   "metadata": {},
   "outputs": [
    {
     "data": {
      "image/png": "[encoded data removed]",
      "text/plain": [
       "<Figure size 432x288 with 1 Axes>"
      ]
     },
     "metadata": {
      "needs_background": "light"
     },
     "output_type": "display_data"
    }
   ],
   "source": [
    "c = complex_matrix(-2, 0.5, -1.5, 1.5, pixel_density=21)\n",
    "members = get_members(c, num_iterations=20)\n",
    "\n",
    "plt.scatter(members.real, members.imag, color=\"black\", marker=\",\", s=1)\n",
    "plt.gca().set_aspect(\"equal\")\n",
    "plt.axis(\"off\")\n",
    "plt.tight_layout()\n",
    "plt.show()"
   ]
  },
  {
   "cell_type": "markdown",
   "id": "c930089b",
   "metadata": {},
   "source": [
    "*High-Resolution Black-and-White Visualization*"
   ]
  },
  {
   "cell_type": "code",
   "execution_count": 13,
   "id": "b609a1f9",
   "metadata": {},
   "outputs": [
    {
     "data": {
      "image/png": "[encoded data removed]",
      "text/plain": [
       "<Figure size 432x288 with 1 Axes>"
      ]
     },
     "metadata": {
      "needs_background": "light"
     },
     "output_type": "display_data"
    }
   ],
   "source": [
    "c = complex_matrix(-2, 0.5, -1.5, 1.5, pixel_density=512)\n",
    "plt.imshow(is_stable(c, num_iterations=20), cmap=\"binary\")\n",
    "plt.gca().set_aspect(\"equal\")\n",
    "plt.axis(\"off\")\n",
    "plt.tight_layout()\n",
    "plt.show()"
   ]
  },
  {
   "cell_type": "markdown",
   "id": "43e679f3",
   "metadata": {},
   "source": [
    "**Drawing the Mandelbrot Set With Pillow**"
   ]
  },
  {
   "cell_type": "code",
   "execution_count": 14,
   "id": "d6b76b71",
   "metadata": {},
   "outputs": [],
   "source": [
    "c = complex_matrix(-2, 0.5, -1.5, 1.5, pixel_density=512)\n",
    "image = Image.fromarray(~is_stable(c, num_iterations=20))\n",
    "image.show()"
   ]
  },
  {
   "cell_type": "code",
   "execution_count": 15,
   "id": "92440298",
   "metadata": {},
   "outputs": [],
   "source": [
    "# builtin\n",
    "Image.effect_mandelbrot((512, 512), (-3, -2.5, 2, 2.5), 100).show()"
   ]
  },
  {
   "cell_type": "markdown",
   "id": "8bacd2fa",
   "metadata": {},
   "source": [
    "*Finding Convergent Elements of the Set*"
   ]
  },
  {
   "cell_type": "code",
   "execution_count": 16,
   "id": "8ea7ca7a",
   "metadata": {},
   "outputs": [],
   "source": [
    "def is_stable(c, max_iterations):\n",
    "    z = 0\n",
    "    for _ in range(max_iterations):\n",
    "        z = z ** 2 + c\n",
    "        if abs(z) > 2:\n",
    "            return False\n",
    "    return True"
   ]
  },
  {
   "cell_type": "code",
   "execution_count": 18,
   "id": "b6e1de2d",
   "metadata": {},
   "outputs": [
    {
     "name": "stdout",
     "output_type": "stream",
     "text": [
      "True\n",
      "False\n"
     ]
    }
   ],
   "source": [
    "# test it\n",
    "print(is_stable(0.26, max_iterations=20))\n",
    "print(is_stable(0.26, max_iterations=30))"
   ]
  },
  {
   "cell_type": "code",
   "execution_count": 19,
   "id": "dd3b815a",
   "metadata": {},
   "outputs": [],
   "source": [
    "# mandelbrot.py\n",
    "\n",
    "@dataclass\n",
    "class MandelbrotSet:\n",
    "    max_iterations: int\n",
    "\n",
    "    def __contains__(self, c: complex) -> bool:\n",
    "        z = 0\n",
    "        for _ in range(self.max_iterations):\n",
    "            z = z ** 2 + c\n",
    "            if abs(z) > 2:\n",
    "                return False\n",
    "        return True"
   ]
  },
  {
   "cell_type": "code",
   "execution_count": 21,
   "id": "9d6a532f",
   "metadata": {},
   "outputs": [
    {
     "name": "stdout",
     "output_type": "stream",
     "text": [
      "False\n",
      "True\n"
     ]
    }
   ],
   "source": [
    "# test \n",
    "mandelbrot_set = MandelbrotSet(max_iterations=30)\n",
    "print(0.26 in mandelbrot_set)\n",
    "print(0.26 not in mandelbrot_set)"
   ]
  },
  {
   "cell_type": "code",
   "execution_count": 22,
   "id": "9bdcce01",
   "metadata": {},
   "outputs": [],
   "source": [
    "mandelbrot_set = MandelbrotSet(max_iterations=20)\n",
    "\n",
    "width, height = 512, 512\n",
    "scale = 0.0075\n",
    "BLACK_AND_WHITE = \"1\"\n",
    "\n",
    "from PIL import Image\n",
    "image = Image.new(mode=BLACK_AND_WHITE, size=(width, height))\n",
    "for y in range(height):\n",
    "    for x in range(width):\n",
    "        c = scale * complex(x - width / 2, height / 2 - y)\n",
    "        image.putpixel((x, y), c not in mandelbrot_set)\n",
    "\n",
    "image.show()"
   ]
  },
  {
   "cell_type": "markdown",
   "id": "3a0c181b",
   "metadata": {},
   "source": [
    "*Measuring Divergence With the Escape Count*"
   ]
  },
  {
   "cell_type": "code",
   "execution_count": 23,
   "id": "4a66110d",
   "metadata": {},
   "outputs": [],
   "source": [
    "@dataclass\n",
    "class MandelbrotSet:\n",
    "    max_iterations: int\n",
    "\n",
    "    def escape_count(self, c: complex) -> int:\n",
    "        z = 0\n",
    "        for iteration in range(self.max_iterations):\n",
    "            z = z ** 2 + c\n",
    "            if abs(z) > 2:\n",
    "                return iteration\n",
    "        return self.max_iterations"
   ]
  },
  {
   "cell_type": "code",
   "execution_count": 24,
   "id": "65a63df6",
   "metadata": {},
   "outputs": [],
   "source": [
    "@dataclass\n",
    "class MandelbrotSet:\n",
    "    max_iterations: int\n",
    "\n",
    "    def stability(self, c: complex) -> float:\n",
    "        return self.escape_count(c) / self.max_iterations\n",
    "\n",
    "    def escape_count(self, c: complex) -> int:\n",
    "        z = 0\n",
    "        for iteration in range(self.max_iterations):\n",
    "            z = z ** 2 + c\n",
    "            if abs(z) > 2:\n",
    "                return iteration\n",
    "        return self.max_iterations"
   ]
  },
  {
   "cell_type": "code",
   "execution_count": 25,
   "id": "4b714900",
   "metadata": {},
   "outputs": [],
   "source": [
    "@dataclass\n",
    "class MandelbrotSet:\n",
    "    max_iterations: int\n",
    "\n",
    "    def __contains__(self, c: complex) -> bool:\n",
    "        return self.stability(c) == 1\n",
    "\n",
    "    def stability(self, c: complex) -> float:\n",
    "        return self.escape_count(c) / self.max_iterations\n",
    "\n",
    "    def escape_count(self, c: complex) -> int:\n",
    "        z = 0\n",
    "        for iteration in range(self.max_iterations):\n",
    "            z = z ** 2 + c\n",
    "            if abs(z) > 2:\n",
    "                return iteration\n",
    "        return self.max_iterations"
   ]
  },
  {
   "cell_type": "code",
   "execution_count": 26,
   "id": "4eb1c89f",
   "metadata": {},
   "outputs": [
    {
     "name": "stdout",
     "output_type": "stream",
     "text": [
      "30\n",
      "1.0\n",
      "True\n",
      "29\n",
      "0.9666666666666667\n",
      "False\n"
     ]
    }
   ],
   "source": [
    "# tests\n",
    "mandelbrot_set = MandelbrotSet(max_iterations=30)\n",
    "\n",
    "print(mandelbrot_set.escape_count(0.25))\n",
    "\n",
    "print(mandelbrot_set.stability(0.25))\n",
    "\n",
    "print(0.25 in mandelbrot_set)\n",
    "\n",
    "print(mandelbrot_set.escape_count(0.26))\n",
    "\n",
    "print(mandelbrot_set.stability(0.26))\n",
    "\n",
    "print(0.26 in mandelbrot_set)"
   ]
  },
  {
   "cell_type": "code",
   "execution_count": 27,
   "id": "1864cc90",
   "metadata": {},
   "outputs": [],
   "source": [
    "# more\n",
    "mandelbrot_set = MandelbrotSet(max_iterations=20)\n",
    "\n",
    "width, height = 512, 512\n",
    "scale = 0.0075\n",
    "GRAYSCALE = \"L\"\n",
    "\n",
    "from PIL import Image\n",
    "image = Image.new(mode=GRAYSCALE, size=(width, height))\n",
    "for y in range(height):\n",
    "    for x in range(width):\n",
    "        c = scale * complex(x - width / 2, height / 2 - y)\n",
    "        instability = 1 - mandelbrot_set.stability(c)\n",
    "        image.putpixel((x, y), int(instability * 255))\n",
    "\n",
    "image.show()"
   ]
  },
  {
   "cell_type": "markdown",
   "id": "f75e9f4e",
   "metadata": {},
   "source": [
    "*Smoothing Out the Banding Artifacts*"
   ]
  },
  {
   "cell_type": "code",
   "execution_count": 35,
   "id": "391f3484",
   "metadata": {},
   "outputs": [],
   "source": [
    "@dataclass\n",
    "class MandelbrotSet:\n",
    "    max_iterations: int\n",
    "    escape_radius: float = 2.0\n",
    "\n",
    "    def __contains__(self, c: complex) -> bool:\n",
    "        return self.stability(c) == 1\n",
    "\n",
    "    def stability(self, c: complex, smooth=False) -> float:\n",
    "        return self.escape_count(c, smooth) / self.max_iterations\n",
    "\n",
    "    def escape_count(self, c: complex, smooth=False) :\n",
    "        z = 0\n",
    "        for iteration in range(self.max_iterations):\n",
    "            z = z ** 2 + c\n",
    "            if abs(z) > self.escape_radius:\n",
    "                if smooth:\n",
    "                    return iteration + 1 - log(log(abs(z))) / log(2)\n",
    "                return iteration\n",
    "        return self.max_iterations"
   ]
  },
  {
   "cell_type": "code",
   "execution_count": 36,
   "id": "0f19cc23",
   "metadata": {},
   "outputs": [
    {
     "name": "stdout",
     "output_type": "stream",
     "text": [
      "1.014794475165942\n",
      "-0.030071301713066417\n"
     ]
    }
   ],
   "source": [
    "# tests\n",
    "mandelbrot_set = MandelbrotSet(max_iterations=30)\n",
    "\n",
    "print(mandelbrot_set.stability(-1.2039 - 0.1996j, smooth=True))\n",
    "print(mandelbrot_set.stability(42, smooth=True))"
   ]
  },
  {
   "cell_type": "code",
   "execution_count": 37,
   "id": "1f8be898",
   "metadata": {},
   "outputs": [],
   "source": [
    "@dataclass\n",
    "class MandelbrotSet:\n",
    "    max_iterations: int\n",
    "    escape_radius: float = 2.0\n",
    "\n",
    "    def __contains__(self, c: complex) -> bool:\n",
    "        return self.stability(c) == 1\n",
    "\n",
    "    def stability(self, c: complex, smooth=False, clamp=True) -> float:\n",
    "        value = self.escape_count(c, smooth) / self.max_iterations\n",
    "        return max(0.0, min(value, 1.0)) if clamp else value\n",
    "\n",
    "    def escape_count(self, c: complex, smooth=False) :\n",
    "        z = 0\n",
    "        for iteration in range(self.max_iterations):\n",
    "            z = z ** 2 + c\n",
    "            if abs(z) > self.escape_radius:\n",
    "                if smooth:\n",
    "                    return iteration + 1 - log(log(abs(z))) / log(2)\n",
    "                return iteration\n",
    "        return self.max_iterations"
   ]
  },
  {
   "cell_type": "code",
   "execution_count": 38,
   "id": "7d9164fb",
   "metadata": {},
   "outputs": [],
   "source": [
    "# test\n",
    "mandelbrot_set = MandelbrotSet(max_iterations=20, escape_radius=1000)\n",
    "\n",
    "width, height = 512, 512\n",
    "scale = 0.0075\n",
    "GRAYSCALE = \"L\"\n",
    "\n",
    "from PIL import Image\n",
    "image = Image.new(mode=GRAYSCALE, size=(width, height))\n",
    "for y in range(height):\n",
    "    for x in range(width):\n",
    "        c = scale * complex(x - width / 2, height / 2 - y)\n",
    "        instability = 1 - mandelbrot_set.stability(c, smooth=True)\n",
    "        image.putpixel((x, y), int(instability * 255))\n",
    "\n",
    "image.show()"
   ]
  },
  {
   "cell_type": "markdown",
   "id": "c3a4aaa5",
   "metadata": {},
   "source": [
    "*Translating Between Set Elements and Pixels*"
   ]
  },
  {
   "cell_type": "code",
   "execution_count": 40,
   "id": "c12f7164",
   "metadata": {},
   "outputs": [],
   "source": [
    "@dataclass\n",
    "class Viewport:\n",
    "    image: Image.Image\n",
    "    center: complex\n",
    "    width: float\n",
    "\n",
    "    @property\n",
    "    def height(self):\n",
    "        return self.scale * self.image.height\n",
    "\n",
    "    @property\n",
    "    def offset(self):\n",
    "        return self.center + complex(-self.width, self.height) / 2\n",
    "\n",
    "    @property\n",
    "    def scale(self):\n",
    "        return self.width / self.image.width\n",
    "\n",
    "    def __iter__(self):\n",
    "        for y in range(self.image.height):\n",
    "            for x in range(self.image.width):\n",
    "                yield Pixel(self, x, y)"
   ]
  },
  {
   "cell_type": "code",
   "execution_count": 42,
   "id": "b5d98a89",
   "metadata": {},
   "outputs": [],
   "source": [
    "@dataclass\n",
    "class Pixel:\n",
    "    viewport: Viewport\n",
    "    x: int\n",
    "    y: int\n",
    "\n",
    "    @property\n",
    "    def color(self):\n",
    "        return self.viewport.image.getpixel((self.x, self.y))\n",
    "\n",
    "    @color.setter\n",
    "    def color(self, value):\n",
    "        self.viewport.image.putpixel((self.x, self.y), value)\n",
    "\n",
    "    def __complex__(self):\n",
    "        return (\n",
    "                complex(self.x, -self.y)\n",
    "                * self.viewport.scale\n",
    "                + self.viewport.offset\n",
    "        )"
   ]
  },
  {
   "cell_type": "code",
   "execution_count": 43,
   "id": "455744b2",
   "metadata": {},
   "outputs": [],
   "source": [
    "mandelbrot_set = MandelbrotSet(max_iterations=20)\n",
    "\n",
    "image = Image.new(mode=\"1\", size=(512, 512), color=1)\n",
    "for pixel in Viewport(image, center=-0.75, width=3.5):\n",
    "    if complex(pixel) in mandelbrot_set:\n",
    "        pixel.color = 0\n",
    "\n",
    "image.show()"
   ]
  },
  {
   "cell_type": "code",
   "execution_count": 44,
   "id": "1da3681a",
   "metadata": {},
   "outputs": [],
   "source": [
    "mandelbrot_set = MandelbrotSet(max_iterations=256, escape_radius=1000)\n",
    "\n",
    "image = Image.new(mode=\"L\", size=(512, 512))\n",
    "for pixel in Viewport(image, center=-0.7435 + 0.1314j, width=0.002):\n",
    "    c = complex(pixel)\n",
    "    instability = 1 - mandelbrot_set.stability(c, smooth=True)\n",
    "    pixel.color = int(instability * 255)\n",
    "\n",
    "image.show()"
   ]
  },
  {
   "cell_type": "code",
   "execution_count": 45,
   "id": "ddb87249",
   "metadata": {},
   "outputs": [],
   "source": [
    "enhancer = ImageEnhance.Brightness(image)\n",
    "enhancer.enhance(1.25).show()"
   ]
  },
  {
   "cell_type": "markdown",
   "id": "0d4c3c37",
   "metadata": {},
   "source": [
    "**Making an Artistic Representation of the Mandelbrot Set**"
   ]
  },
  {
   "cell_type": "code",
   "execution_count": 46,
   "id": "7e1db494",
   "metadata": {},
   "outputs": [],
   "source": [
    "image = Image.new(mode=\"RGB\", size=(width, height))"
   ]
  },
  {
   "cell_type": "code",
   "execution_count": 47,
   "id": "ceb78ab1",
   "metadata": {},
   "outputs": [],
   "source": [
    "def paint(mandelbrot_set, viewport, palette, smooth):\n",
    "    for pixel in viewport:\n",
    "        stability = mandelbrot_set.stability(complex(pixel), smooth)\n",
    "        index = int(min(stability * len(palette), len(palette) - 1))\n",
    "        pixel.color = palette[index % len(palette)]"
   ]
  },
  {
   "cell_type": "code",
   "execution_count": 48,
   "id": "cd46c56d",
   "metadata": {},
   "outputs": [],
   "source": [
    "def denormalize(palette):\n",
    "    return [\n",
    "        tuple(int(channel * 255) for channel in color)\n",
    "        for color in palette\n",
    "    ]"
   ]
  },
  {
   "cell_type": "code",
   "execution_count": 49,
   "id": "85bde718",
   "metadata": {},
   "outputs": [
    {
     "name": "stdout",
     "output_type": "stream",
     "text": [
      "510\n",
      "[0.8857501584075443, 0.8500092494306783, 0.8879736506427196]\n",
      "(225, 216, 226)\n"
     ]
    }
   ],
   "source": [
    "colormap = matplotlib.cm.get_cmap(\"twilight\").colors\n",
    "palette = denormalize(colormap)\n",
    "\n",
    "print(len(colormap))\n",
    "\n",
    "print(colormap[0])\n",
    "\n",
    "print(palette[0])"
   ]
  },
  {
   "cell_type": "code",
   "execution_count": 50,
   "id": "eabf576d",
   "metadata": {},
   "outputs": [],
   "source": [
    "mandelbrot_set = MandelbrotSet(max_iterations=512, escape_radius=1000)\n",
    "image = Image.new(mode=\"RGB\", size=(512, 512))\n",
    "viewport = Viewport(image, center=-0.7435 + 0.1314j, width=0.002)\n",
    "paint(mandelbrot_set, viewport, palette, smooth=True)\n",
    "image.show()"
   ]
  },
  {
   "cell_type": "code",
   "execution_count": 51,
   "id": "2b41d773",
   "metadata": {},
   "outputs": [],
   "source": [
    "exterior = [(1, 1, 1)] * 50\n",
    "interior = [(1, 1, 1)] * 5\n",
    "gray_area = [(1 - i / 44,) * 3 for i in range(45)]\n",
    "palette = denormalize(exterior + gray_area + interior)"
   ]
  },
  {
   "cell_type": "code",
   "execution_count": 52,
   "id": "6593ef71",
   "metadata": {},
   "outputs": [],
   "source": [
    "mandelbrot_set = MandelbrotSet(max_iterations=20, escape_radius=1000)\n",
    "viewport = Viewport(image, center=-0.75, width=3.5)\n",
    "paint(mandelbrot_set, viewport, palette, smooth=True)\n",
    "image.show()"
   ]
  },
  {
   "cell_type": "markdown",
   "id": "d77c9046",
   "metadata": {},
   "source": [
    "*Color Gradient*"
   ]
  },
  {
   "cell_type": "code",
   "execution_count": 53,
   "id": "1b8c67b4",
   "metadata": {},
   "outputs": [],
   "source": [
    "def make_gradient(colors, interpolation=\"linear\"):\n",
    "    X = [i / (len(colors) - 1) for i in range(len(colors))]\n",
    "    Y = [[color[i] for color in colors] for i in range(3)]\n",
    "    channels = [interp1d(X, y, kind=interpolation) for y in Y]\n",
    "    return lambda x: [np.clip(channel(x), 0, 1) for channel in channels]"
   ]
  },
  {
   "cell_type": "code",
   "execution_count": 54,
   "id": "21104e26",
   "metadata": {},
   "outputs": [
    {
     "data": {
      "text/plain": [
       "[0.026749999999999954, 0.0, 0.9435000000000001]"
      ]
     },
     "execution_count": 54,
     "metadata": {},
     "output_type": "execute_result"
    }
   ],
   "source": [
    "black = (0, 0, 0)\n",
    "blue = (0, 0, 1)\n",
    "maroon = (0.5, 0, 0)\n",
    "navy = (0, 0, 0.5)\n",
    "red = (1, 0, 0)\n",
    "\n",
    "colors = [black, navy, blue, maroon, red, black]\n",
    "gradient = make_gradient(colors, interpolation=\"cubic\")\n",
    "\n",
    "gradient(0.42)"
   ]
  },
  {
   "cell_type": "code",
   "execution_count": 55,
   "id": "63c95c55",
   "metadata": {},
   "outputs": [
    {
     "data": {
      "text/plain": [
       "(256, (46, 0, 143))"
      ]
     },
     "execution_count": 55,
     "metadata": {},
     "output_type": "execute_result"
    }
   ],
   "source": [
    "num_colors = 256\n",
    "palette = denormalize([\n",
    "    gradient(i / num_colors) for i in range(num_colors)\n",
    "])\n",
    "\n",
    "len(palette), palette[127]"
   ]
  },
  {
   "cell_type": "code",
   "execution_count": 56,
   "id": "762ea094",
   "metadata": {},
   "outputs": [],
   "source": [
    "mandelbrot_set = MandelbrotSet(max_iterations=20, escape_radius=1000)\n",
    "paint(mandelbrot_set, viewport, palette, smooth=True)\n",
    "image.show()"
   ]
  },
  {
   "cell_type": "markdown",
   "id": "c8de930b",
   "metadata": {},
   "source": [
    "*Color Model*"
   ]
  },
  {
   "cell_type": "code",
   "execution_count": 57,
   "id": "393608f5",
   "metadata": {},
   "outputs": [
    {
     "data": {
      "text/plain": [
       "(255, 64, 64)"
      ]
     },
     "execution_count": 57,
     "metadata": {},
     "output_type": "execute_result"
    }
   ],
   "source": [
    "def hsb(hue_degrees: int, saturation: float, brightness: float):\n",
    "    return getrgb(\n",
    "        f\"hsv({hue_degrees % 360},\"\n",
    "        f\"{saturation * 100}%,\"\n",
    "        f\"{brightness * 100}%)\"\n",
    "    )\n",
    "\n",
    "hsb(360, 0.75, 1)"
   ]
  },
  {
   "cell_type": "code",
   "execution_count": 58,
   "id": "717ec795",
   "metadata": {},
   "outputs": [],
   "source": [
    "mandelbrot_set = MandelbrotSet(max_iterations=20, escape_radius=1000)\n",
    "for pixel in Viewport(image, center=-0.75, width=3.5):\n",
    "    stability = mandelbrot_set.stability(complex(pixel), smooth=True)\n",
    "    pixel.color = (0, 0, 0) if stability == 1 else hsb(\n",
    "        hue_degrees=int(stability * 360),\n",
    "        saturation=stability,\n",
    "        brightness=1,\n",
    "    )\n",
    "\n",
    "image.show()"
   ]
  },
  {
   "cell_type": "code",
   "execution_count": null,
   "id": "d2e04ab7",
   "metadata": {},
   "outputs": [],
   "source": []
  }
 ],
 "metadata": {
  "kernelspec": {
   "display_name": "Python 3 (ipykernel)",
   "language": "python",
   "name": "python3"
  },
  "language_info": {
   "codemirror_mode": {
    "name": "ipython",
    "version": 3
   },
   "file_extension": ".py",
   "mimetype": "text/x-python",
   "name": "python",
   "nbconvert_exporter": "python",
   "pygments_lexer": "ipython3",
   "version": "3.9.7"
  }
 },
 "nbformat": 4,
 "nbformat_minor": 5
}
