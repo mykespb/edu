{
 "cells": [
  {
   "cell_type": "markdown",
   "metadata": {},
   "source": [
    "# Примеры и упражнения по Python3 - простой уровень"
   ]
  },
  {
   "cell_type": "markdown",
   "metadata": {},
   "source": [
    "Автор-составитель - Михаил Колодин"
   ]
  },
  {
   "cell_type": "markdown",
   "metadata": {},
   "source": [
    "Разделы:\n",
    "* Параметры системы\n",
    "* Калькулятор\n",
    "* Условия\n",
    "* Циклы\n",
    "* Строки\n",
    "* Кортежи и списки\n",
    "* Словари и множества\n",
    "* Прочие сложные структуры данных\n",
    "* Функции\n",
    "* Математика"
   ]
  },
  {
   "cell_type": "markdown",
   "metadata": {},
   "source": [
    "***Параметры системы***"
   ]
  },
  {
   "cell_type": "code",
   "execution_count": 105,
   "metadata": {},
   "outputs": [
    {
     "name": "stdout",
     "output_type": "stream",
     "text": [
      "Python version: 3.8.3 (default, Jul  2 2020, 16:21:59) \n",
      "[GCC 7.3.0]\n",
      "3.8.3\n"
     ]
    }
   ],
   "source": [
    "import sys\n",
    "print(\"Python version:\", sys.version)\n",
    "\n",
    "from platform import python_version\n",
    "print(python_version())"
   ]
  },
  {
   "cell_type": "markdown",
   "metadata": {},
   "source": [
    "**Калькулятор**"
   ]
  },
  {
   "cell_type": "markdown",
   "metadata": {},
   "source": [
    "***Площади и население стран***"
   ]
  },
  {
   "cell_type": "code",
   "execution_count": 15,
   "metadata": {},
   "outputs": [],
   "source": [
    "ru_ter = 17125191\n",
    "ba_ter = 144000\n",
    "ru_nas = 146238185\n",
    "ba_nas = 172287439"
   ]
  },
  {
   "cell_type": "code",
   "execution_count": 16,
   "metadata": {},
   "outputs": [],
   "source": [
    "# плотность населения\n",
    "ru_plo = ru_nas / ru_ter\n",
    "ba_plo = ba_nas / ba_ter\n",
    "otn_plo = ba_plo / ru_plo"
   ]
  },
  {
   "cell_type": "code",
   "execution_count": 28,
   "metadata": {},
   "outputs": [
    {
     "name": "stdout",
     "output_type": "stream",
     "text": [
      "плотность населения России 8.539360816472062 чел. / кв.км,\n",
      "плотность населения Бангладеша 1196.4405486111111 чел. / кв.км,\n",
      "отношение плотностей населения Бангладеша к России 140.1089114659763 ,\n",
      "то есть в Бангладеше живёт примерно в 140 раз больше людей, чем в России.\n"
     ]
    }
   ],
   "source": [
    "print(\"плотность населения России\", ru_plo, \"чел. / кв.км,\")\n",
    "print(\"плотность населения Бангладеша\", ba_plo, \"чел. / кв.км,\")\n",
    "print(\"отношение плотностей населения Бангладеша к России\", otn_plo, \n",
    "      \",\\nто есть в Бангладеше живёт примерно в\", round(otn_plo), \"раз больше людей, чем в России.\")"
   ]
  },
  {
   "cell_type": "markdown",
   "metadata": {},
   "source": [
    "***Золотое сечение*** $\\phi$"
   ]
  },
  {
   "cell_type": "markdown",
   "metadata": {},
   "source": [
    "См. [https://ru.wikipedia.org/wiki/%D0%97%D0%BE%D0%BB%D0%BE%D1%82%D0%BE%D0%B5_%D1%81%D0%B5%D1%87%D0%B5%D0%BD%D0%B8%D0%B5](википедию)."
   ]
  },
  {
   "cell_type": "code",
   "execution_count": 23,
   "metadata": {},
   "outputs": [],
   "source": [
    "fi_major = 1.6180339887498948482045868343656381177203\n",
    "fi_minor = 1 / fi_major"
   ]
  },
  {
   "cell_type": "code",
   "execution_count": 24,
   "metadata": {},
   "outputs": [
    {
     "name": "stdout",
     "output_type": "stream",
     "text": [
      "0.6180339887498948\n",
      "1.618033988749895\n"
     ]
    }
   ],
   "source": [
    "print(fi_minor)\n",
    "print(fi_major)"
   ]
  },
  {
   "cell_type": "markdown",
   "metadata": {},
   "source": [
    "**Условия**"
   ]
  },
  {
   "cell_type": "markdown",
   "metadata": {},
   "source": [
    "***Максимум из 2 чисел***"
   ]
  },
  {
   "cell_type": "code",
   "execution_count": 109,
   "metadata": {},
   "outputs": [],
   "source": [
    "a = 2; b = 3"
   ]
  },
  {
   "cell_type": "code",
   "execution_count": 144,
   "metadata": {},
   "outputs": [
    {
     "name": "stdout",
     "output_type": "stream",
     "text": [
      "a < b\n",
      "a < b\n"
     ]
    }
   ],
   "source": [
    "# простое сравнение на равенство (не вся задача решена)\n",
    "if a == b:\n",
    "    print(\"a == b\")\n",
    "\n",
    "# вложенные условные операторы\n",
    "if a == b:\n",
    "    print(\"a == b\")\n",
    "else:\n",
    "    if a < b:\n",
    "        print(\"a < b\")\n",
    "    else:\n",
    "        print(\"a > b\")\n",
    "    \n",
    "# составной условный оператор\n",
    "if a == b:\n",
    "    print(\"a == b\")\n",
    "elif a < b:\n",
    "    print(\"a < b\")\n",
    "else:\n",
    "    print(\"a > b\")"
   ]
  },
  {
   "cell_type": "code",
   "execution_count": 145,
   "metadata": {},
   "outputs": [
    {
     "name": "stdout",
     "output_type": "stream",
     "text": [
      "a < b\n"
     ]
    }
   ],
   "source": [
    "# составное условное выражение\n",
    "print(\"a == b\" if a == b else \"a < b\" if a < b else \"a > b\")"
   ]
  },
  {
   "cell_type": "markdown",
   "metadata": {},
   "source": [
    "**Циклы**"
   ]
  },
  {
   "cell_type": "markdown",
   "metadata": {},
   "source": [
    "***Сумма чисел***"
   ]
  },
  {
   "cell_type": "code",
   "execution_count": 153,
   "metadata": {},
   "outputs": [],
   "source": [
    "# не очень красиво\n",
    "sum = 0                 # сумма изначально нулевая и постепенно накапливается\n",
    "for i in range(1, 11):  # i будет от 1 до 10\n",
    "    sum += i            # на каждом шаге итерации (повтора цикла) добавляется новое слагаемое"
   ]
  },
  {
   "cell_type": "code",
   "execution_count": 147,
   "metadata": {},
   "outputs": [
    {
     "name": "stdout",
     "output_type": "stream",
     "text": [
      "55\n"
     ]
    }
   ],
   "source": [
    "print(sum)"
   ]
  },
  {
   "cell_type": "code",
   "execution_count": 155,
   "metadata": {},
   "outputs": [
    {
     "name": "stdout",
     "output_type": "stream",
     "text": [
      "сумма равна 55\n"
     ]
    }
   ],
   "source": [
    "# более красивое решение\n",
    "\n",
    "N = 10                   # предел вычислений (удобно вынести на самый верх ьпрограммы, до вычислений)\n",
    "\n",
    "sum = 0                  # сумма изначально нулевая и постепенно накапливается\n",
    "\n",
    "for i in range(1, N+1):  # i будет от 1 до N\n",
    "    sum += i             # на каждом шаге итерации (повтора цикла) добавляется новое слагаемое\n",
    "\n",
    "print(\"сумма равна\", sum)"
   ]
  },
  {
   "cell_type": "markdown",
   "metadata": {},
   "source": [
    "***Фибоначчи не по-питоновски***"
   ]
  },
  {
   "cell_type": "code",
   "execution_count": 102,
   "metadata": {},
   "outputs": [
    {
     "name": "stdout",
     "output_type": "stream",
     "text": [
      "1 1\n"
     ]
    }
   ],
   "source": [
    "UP = 20    # вычисляем и печатаем 20 первых чисел Фибоначчи\n",
    "f1 = 1\n",
    "f2 = 1\n",
    "print(f1, f2)"
   ]
  },
  {
   "cell_type": "code",
   "execution_count": 103,
   "metadata": {},
   "outputs": [
    {
     "name": "stdout",
     "output_type": "stream",
     "text": [
      "2 3 5 8 13 21 34 55 89 144 233 377 610 987 1597 2584 4181 6765 "
     ]
    }
   ],
   "source": [
    "for n in range(2, UP):\n",
    "    f3 = f1 + f2\n",
    "    f1 = f2\n",
    "    f2 = f3\n",
    "    print(f3, end=\" \")"
   ]
  },
  {
   "cell_type": "markdown",
   "metadata": {},
   "source": [
    "***Фибоначчи по-питоновски***"
   ]
  },
  {
   "cell_type": "code",
   "execution_count": 101,
   "metadata": {},
   "outputs": [
    {
     "name": "stdout",
     "output_type": "stream",
     "text": [
      "1 1\n"
     ]
    }
   ],
   "source": [
    "UP = 20        # вычисляем и печатаем 20 первых чисел Фибоначчи\n",
    "f1 = f2 = 1\n",
    "print(f1, f2)"
   ]
  },
  {
   "cell_type": "code",
   "execution_count": 33,
   "metadata": {},
   "outputs": [
    {
     "name": "stdout",
     "output_type": "stream",
     "text": [
      "2 3 5 8 13 21 34 55 89 144 233 377 610 987 1597 2584 4181 6765 "
     ]
    }
   ],
   "source": [
    "for _ in range(2, UP):\n",
    "    f1, f2 = f2, f1+f2\n",
    "    print(f2, end=\" \")"
   ]
  },
  {
   "cell_type": "markdown",
   "metadata": {},
   "source": [
    "***Факториал $n! = 1 \\cdot 2 \\cdot 3 \\cdot \\dots \\cdot n$***"
   ]
  },
  {
   "cell_type": "code",
   "execution_count": 110,
   "metadata": {},
   "outputs": [],
   "source": [
    "UP = 30\n",
    "f = 1"
   ]
  },
  {
   "cell_type": "code",
   "execution_count": 111,
   "metadata": {},
   "outputs": [
    {
     "name": "stdout",
     "output_type": "stream",
     "text": [
      "         1!  =                                        1\n",
      "         2!  =                                        2\n",
      "         3!  =                                        6\n",
      "         4!  =                                       24\n",
      "         5!  =                                      120\n",
      "         6!  =                                      720\n",
      "         7!  =                                     5040\n",
      "         8!  =                                    40320\n",
      "         9!  =                                   362880\n",
      "        10!  =                                  3628800\n",
      "        11!  =                                 39916800\n",
      "        12!  =                                479001600\n",
      "        13!  =                               6227020800\n",
      "        14!  =                              87178291200\n",
      "        15!  =                            1307674368000\n",
      "        16!  =                           20922789888000\n",
      "        17!  =                          355687428096000\n",
      "        18!  =                         6402373705728000\n",
      "        19!  =                       121645100408832000\n",
      "        20!  =                      2432902008176640000\n",
      "        21!  =                     51090942171709440000\n",
      "        22!  =                   1124000727777607680000\n",
      "        23!  =                  25852016738884976640000\n",
      "        24!  =                 620448401733239439360000\n",
      "        25!  =               15511210043330985984000000\n",
      "        26!  =              403291461126605635584000000\n",
      "        27!  =            10888869450418352160768000000\n",
      "        28!  =           304888344611713860501504000000\n",
      "        29!  =          8841761993739701954543616000000\n"
     ]
    }
   ],
   "source": [
    "for i in range(1, UP):\n",
    "    f *= i             #  то же, что f = f * i\n",
    "    print(\"%10i!  =\" % i, \"%40i\" % f)"
   ]
  },
  {
   "cell_type": "markdown",
   "metadata": {},
   "source": [
    "**Строки**"
   ]
  },
  {
   "cell_type": "markdown",
   "metadata": {},
   "source": [
    "***Разбор 3-значного числа на разряды***\n",
    "123 = 100 + 20 + 3"
   ]
  },
  {
   "cell_type": "code",
   "execution_count": 38,
   "metadata": {},
   "outputs": [],
   "source": [
    "n = 123"
   ]
  },
  {
   "cell_type": "code",
   "execution_count": 39,
   "metadata": {},
   "outputs": [],
   "source": [
    "s = str(n//100) + '00 + ' + str(n%100//10) + '0 + ' + str(n%10)"
   ]
  },
  {
   "cell_type": "code",
   "execution_count": 40,
   "metadata": {},
   "outputs": [
    {
     "name": "stdout",
     "output_type": "stream",
     "text": [
      "100 + 20 + 3\n"
     ]
    }
   ],
   "source": [
    "print(s)"
   ]
  },
  {
   "cell_type": "code",
   "execution_count": 41,
   "metadata": {},
   "outputs": [
    {
     "data": {
      "text/plain": [
       "'100 + 20 + 3'"
      ]
     },
     "execution_count": 41,
     "metadata": {},
     "output_type": "execute_result"
    }
   ],
   "source": [
    "s"
   ]
  },
  {
   "cell_type": "markdown",
   "metadata": {},
   "source": [
    "**Кортежи и списки**"
   ]
  },
  {
   "cell_type": "markdown",
   "metadata": {},
   "source": [
    "***Перестановка слов***"
   ]
  },
  {
   "cell_type": "code",
   "execution_count": 58,
   "metadata": {},
   "outputs": [
    {
     "name": "stdout",
     "output_type": "stream",
     "text": [
      "привет всем питонистам\n"
     ]
    }
   ],
   "source": [
    "stroka = \"привет всем питонистам\"\n",
    "print(stroka)"
   ]
  },
  {
   "cell_type": "code",
   "execution_count": 59,
   "metadata": {},
   "outputs": [
    {
     "name": "stdout",
     "output_type": "stream",
     "text": [
      "питонистам всем привет\n"
     ]
    }
   ],
   "source": [
    "revstroka1 = \" \".join(reversed(stroka.split()))\n",
    "print(revstroka1)"
   ]
  },
  {
   "cell_type": "code",
   "execution_count": 60,
   "metadata": {},
   "outputs": [
    {
     "name": "stdout",
     "output_type": "stream",
     "text": [
      "питонистам всем привет\n"
     ]
    }
   ],
   "source": [
    "revstroka2 = \" \".join((stroka.split())[::-1])\n",
    "print(revstroka2)"
   ]
  },
  {
   "cell_type": "markdown",
   "metadata": {},
   "source": [
    "**Словари и множества**"
   ]
  },
  {
   "cell_type": "code",
   "execution_count": 140,
   "metadata": {},
   "outputs": [],
   "source": [
    "# TODO\n",
    "pass"
   ]
  },
  {
   "cell_type": "markdown",
   "metadata": {},
   "source": [
    "**Прочие сложные структуры данных**"
   ]
  },
  {
   "cell_type": "code",
   "execution_count": 141,
   "metadata": {},
   "outputs": [],
   "source": [
    "# TODO\n",
    "pass"
   ]
  },
  {
   "cell_type": "markdown",
   "metadata": {},
   "source": [
    "**Функции**"
   ]
  },
  {
   "cell_type": "code",
   "execution_count": 142,
   "metadata": {},
   "outputs": [],
   "source": [
    "# TODO\n",
    "pass"
   ]
  },
  {
   "cell_type": "markdown",
   "metadata": {},
   "source": [
    "***Минимум и максимум***"
   ]
  },
  {
   "cell_type": "markdown",
   "metadata": {},
   "source": [
    "Найти минимальное и максимальное значение элементов целочисленного списка.\n",
    "\n",
    "Список создаётся случайным образом (в программе мы не можем использовать знания о том, какие элементы входят в этот список и даже какой он длины (короткий или длинный); мы только знаем, что это целые числа).\n",
    "\n",
    "В программе задаются константы LEN, MIN, MAX, характеризующие этот список.\n",
    "\n",
    "Нужно найти оба значения не более, чем за 1 проход по списку."
   ]
  },
  {
   "cell_type": "code",
   "execution_count": 92,
   "metadata": {},
   "outputs": [],
   "source": [
    "import random"
   ]
  },
  {
   "cell_type": "code",
   "execution_count": 97,
   "metadata": {},
   "outputs": [
    {
     "name": "stdout",
     "output_type": "stream",
     "text": [
      "случайный список: [-79, -76, 8, 32, -21, -4, 6, -42, 6, 83]\n"
     ]
    }
   ],
   "source": [
    "# создаём список случайных целых чисел\n",
    "LEN = 10      # длина списка\n",
    "MIN = -100    # минимальное возможное число\n",
    "MAX = 100     # максимальное возможное число\n",
    "rl = [random.randint(MIN, MAX) for _ in range(LEN)]\n",
    "print(\"случайный список:\", rl)"
   ]
  },
  {
   "cell_type": "code",
   "execution_count": 101,
   "metadata": {},
   "outputs": [
    {
     "name": "stdout",
     "output_type": "stream",
     "text": [
      "минимум равен -79, максимум равен 83\n"
     ]
    }
   ],
   "source": [
    "# не по-питоновски:\n",
    "amin = rl[0]\n",
    "amax = rl[0]\n",
    "\n",
    "for i in range(1, LEN):\n",
    "    if rl[i] < amin:\n",
    "        amin = rl[i]\n",
    "    if rl[i] > amax:\n",
    "        amax = rl[i]\n",
    "\n",
    "print(f\"минимум равен {amin}, максимум равен {amax}\")"
   ]
  },
  {
   "cell_type": "code",
   "execution_count": 102,
   "metadata": {},
   "outputs": [
    {
     "name": "stdout",
     "output_type": "stream",
     "text": [
      "минимум равен -79, максимум равен 83\n"
     ]
    }
   ],
   "source": [
    "# полу-по-питоновски\n",
    "amin = rl[0]\n",
    "amax = rl[0]\n",
    "\n",
    "for e in rl[1:]:\n",
    "    if e < amin:\n",
    "        amin = e\n",
    "    if e > amax:\n",
    "        amax = e\n",
    "        \n",
    "print(f\"минимум равен {amin}, максимум равен {amax}\")    "
   ]
  },
  {
   "cell_type": "code",
   "execution_count": 100,
   "metadata": {},
   "outputs": [
    {
     "name": "stdout",
     "output_type": "stream",
     "text": [
      "минимум равен -79, максимум равен 83\n"
     ]
    }
   ],
   "source": [
    "# по-питоновски\n",
    "\n",
    "print(f\"минимум равен {min(rl)}, максимум равен {max(rl)}\")"
   ]
  }
 ],
 "metadata": {
  "kernelspec": {
   "display_name": "Python 3",
   "language": "python",
   "name": "python3"
  },
  "language_info": {
   "codemirror_mode": {
    "name": "ipython",
    "version": 3
   },
   "file_extension": ".py",
   "mimetype": "text/x-python",
   "name": "python",
   "nbconvert_exporter": "python",
   "pygments_lexer": "ipython3",
   "version": "3.8.3"
  }
 },
 "nbformat": 4,
 "nbformat_minor": 4
}
