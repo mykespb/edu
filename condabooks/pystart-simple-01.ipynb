{
 "cells": [
  {
   "cell_type": "markdown",
   "metadata": {},
   "source": [
    "# Примеры и упражнения по Python3 - простой уровень - часть 1"
   ]
  },
  {
   "cell_type": "markdown",
   "metadata": {},
   "source": [
    "Автор-составитель - Михаил Колодин"
   ]
  },
  {
   "cell_type": "markdown",
   "metadata": {},
   "source": [
    "Версия 2021-04-17 от 2024-11-26 - 1.10"
   ]
  },
  {
   "cell_type": "markdown",
   "metadata": {},
   "source": [
    "Разделы:\n",
    "* [Параметры системы](#params)\n",
    "* [Калькулятор](#calc)\n",
    "* [Условия](#conditions)\n",
    "* [Циклы](#loops)\n",
    "* [Строки](#strings)\n",
    "* [Дата и время](#datetime)\n",
    "* [Спецфункции и значения](#specfunc)\n",
    "* [Отладка](#debug)"
   ]
  },
  {
   "cell_type": "markdown",
   "metadata": {},
   "source": [
    "**Параметры системы** <a name=params></a>\n",
    "\n",
    "Далее весь код будет исполняемым\n",
    "```python\n",
    "import sys\n",
    "print(\"Python version:\", sys.version)\n",
    "```"
   ]
  },
  {
   "cell_type": "code",
   "execution_count": 117,
   "metadata": {},
   "outputs": [
    {
     "name": "stdout",
     "output_type": "stream",
     "text": [
      "Python version: 3.12.4 | packaged by Anaconda, Inc. | (main, Jun 18 2024, 15:12:24) [GCC 11.2.0]\n",
      "3.12.4\n"
     ]
    }
   ],
   "source": [
    "import sys\n",
    "print(\"Python version:\", sys.version)\n",
    "\n",
    "from platform import python_version\n",
    "print(python_version())"
   ]
  },
  {
   "cell_type": "markdown",
   "metadata": {},
   "source": [
    "---\n",
    "**Калькулятор** <a name=calc></a>"
   ]
  },
  {
   "cell_type": "markdown",
   "metadata": {},
   "source": [
    "---\n",
    "***Площади и население стран***"
   ]
  },
  {
   "cell_type": "code",
   "execution_count": 13,
   "metadata": {},
   "outputs": [],
   "source": [
    "ru_ter = 17125191\n",
    "ba_ter = 144000\n",
    "ru_nas = 146238185\n",
    "ba_nas = 172287439"
   ]
  },
  {
   "cell_type": "code",
   "execution_count": 14,
   "metadata": {},
   "outputs": [],
   "source": [
    "# плотность населения\n",
    "ru_plo = ru_nas / ru_ter\n",
    "ba_plo = ba_nas / ba_ter\n",
    "otn_plo = ba_plo / ru_plo"
   ]
  },
  {
   "cell_type": "code",
   "execution_count": 15,
   "metadata": {},
   "outputs": [
    {
     "name": "stdout",
     "output_type": "stream",
     "text": [
      "плотность населения России 8.539360816472062 чел. / кв.км,\n",
      "плотность населения Бангладеша 1196.4405486111111 чел. / кв.км,\n",
      "отношение плотностей населения Бангладеша к России 140.1089114659763 ,\n",
      "то есть в Бангладеше живут примерно в 140 раз плотнее, чем в России.\n"
     ]
    }
   ],
   "source": [
    "print(\"плотность населения России\", ru_plo, \"чел. / кв.км,\")\n",
    "print(\"плотность населения Бангладеша\", ba_plo, \"чел. / кв.км,\")\n",
    "print(\"отношение плотностей населения Бангладеша к России\", otn_plo, \n",
    "      \",\\nто есть в Бангладеше живут примерно в\", round(otn_plo), \"раз плотнее, чем в России.\")"
   ]
  },
  {
   "cell_type": "markdown",
   "metadata": {},
   "source": [
    "---\n",
    "***Золотое сечение*** $\\Phi$"
   ]
  },
  {
   "cell_type": "markdown",
   "metadata": {},
   "source": [
    "$$\\Phi = \\frac{\\sqrt5 + 1}2 \\approx 1.61803, \\phi = \\frac1\\Phi = \\frac{\\sqrt5 - 1}2 \\approx 0.61803$$"
   ]
  },
  {
   "cell_type": "markdown",
   "metadata": {},
   "source": [
    "| обозначение | формула | значение |\n",
    "|:-------------:|:-------:|:--------- |\n",
    "| $\\Phi$ | $\\frac{\\sqrt5 + 1}2$ | $\\approx 1.61803$ |\n",
    "| $\\phi$ | $\\frac{\\sqrt5 - 1}2$ | $\\approx 0.61803$ |\n"
   ]
  },
  {
   "cell_type": "markdown",
   "metadata": {},
   "source": [
    "См. [Wikipedia](https://ru.wikipedia.org/w/index.php?title=%D0%97%D0%BE%D0%BB%D0%BE%D1%82%D0%BE%D0%B5_%D1%81%D0%B5%D1%87%D0%B5%D0%BD%D0%B8%D0%B5&oldid=113372180)"
   ]
  },
  {
   "cell_type": "code",
   "execution_count": 20,
   "metadata": {},
   "outputs": [],
   "source": [
    "import math\n",
    "fi_major = (math.sqrt(5) + 1) / 2\n",
    "fi_minor = (math.sqrt(5) - 1) / 2"
   ]
  },
  {
   "cell_type": "code",
   "execution_count": 21,
   "metadata": {},
   "outputs": [
    {
     "name": "stdout",
     "output_type": "stream",
     "text": [
      "0.6180339887498949\n",
      "1.618033988749895\n"
     ]
    }
   ],
   "source": [
    "print(fi_minor)\n",
    "print(fi_major)"
   ]
  },
  {
   "cell_type": "markdown",
   "metadata": {},
   "source": [
    "---\n",
    "**Условия** <a name=conditions></a>"
   ]
  },
  {
   "cell_type": "markdown",
   "metadata": {},
   "source": [
    "---\n",
    "***Максимум из 2 чисел***"
   ]
  },
  {
   "cell_type": "code",
   "execution_count": 24,
   "metadata": {},
   "outputs": [],
   "source": [
    "a = 2; b = 3"
   ]
  },
  {
   "cell_type": "code",
   "execution_count": 25,
   "metadata": {},
   "outputs": [
    {
     "name": "stdout",
     "output_type": "stream",
     "text": [
      "a < b\n",
      "a < b\n"
     ]
    }
   ],
   "source": [
    "# простое сравнение на равенство (не вся задача решена)\n",
    "if a == b:\n",
    "    print(\"a == b\")\n",
    "\n",
    "# вложенные условные операторы\n",
    "if a == b:\n",
    "    print(\"a == b\")\n",
    "else:\n",
    "    if a < b:\n",
    "        print(\"a < b\")\n",
    "    else:\n",
    "        print(\"a > b\")\n",
    "    \n",
    "# составной условный оператор\n",
    "if a == b:\n",
    "    print(\"a == b\")\n",
    "elif a < b:\n",
    "    print(\"a < b\")\n",
    "else:\n",
    "    print(\"a > b\")"
   ]
  },
  {
   "cell_type": "code",
   "execution_count": 26,
   "metadata": {},
   "outputs": [
    {
     "name": "stdout",
     "output_type": "stream",
     "text": [
      "a < b\n"
     ]
    }
   ],
   "source": [
    "# составное условное выражение\n",
    "print(\"a == b\" if a == b else \"a < b\" if a < b else \"a > b\")"
   ]
  },
  {
   "cell_type": "markdown",
   "metadata": {},
   "source": [
    "---\n",
    "***Минимум из 3 чисел***"
   ]
  },
  {
   "cell_type": "code",
   "execution_count": 28,
   "metadata": {},
   "outputs": [
    {
     "data": {
      "text/plain": [
       "(3, 4, 5)"
      ]
     },
     "execution_count": 28,
     "metadata": {},
     "output_type": "execute_result"
    }
   ],
   "source": [
    "# выбираем нужный набор данных этот...\n",
    "a, b, c = 3, 4, 5\n",
    "a, b, c"
   ]
  },
  {
   "cell_type": "code",
   "execution_count": 29,
   "metadata": {},
   "outputs": [],
   "source": [
    "#...или этот\n",
    "a, b, c = 33, 22, 11"
   ]
  },
  {
   "cell_type": "code",
   "execution_count": 30,
   "metadata": {},
   "outputs": [
    {
     "name": "stdout",
     "output_type": "stream",
     "text": [
      "11\n"
     ]
    }
   ],
   "source": [
    "# а теперь посчитаем... наивный подход:\n",
    "if a < b and a < c:      # сравниваем со всеми остальными\n",
    "    print(a)\n",
    "elif b < c and b < a:    # сравниваем со всеми остальными\n",
    "    print(b)\n",
    "elif c < a and c < b:    # сравниваем со всеми остальными\n",
    "    print(c)"
   ]
  },
  {
   "cell_type": "code",
   "execution_count": 31,
   "metadata": {},
   "outputs": [
    {
     "name": "stdout",
     "output_type": "stream",
     "text": [
      "11\n"
     ]
    }
   ],
   "source": [
    "# а теперь посчитаем правильно:\n",
    "if a < b and a < c:      # сравниваем со всеми остальными\n",
    "    print(a)\n",
    "elif b < c:              # сравнивать с а уже не нужно, оно не самое маленькое, пропускаем\n",
    "    print(b)\n",
    "else:                    # осталось ваше с...\n",
    "    print(c)"
   ]
  },
  {
   "cell_type": "markdown",
   "metadata": {},
   "source": [
    "---\n",
    "**Циклы** <a name=loops></a>"
   ]
  },
  {
   "cell_type": "markdown",
   "metadata": {},
   "source": [
    "---\n",
    "***Сумма чисел***"
   ]
  },
  {
   "cell_type": "code",
   "execution_count": 34,
   "metadata": {},
   "outputs": [
    {
     "name": "stdout",
     "output_type": "stream",
     "text": [
      "1 1\n",
      "2 3\n",
      "3 6\n",
      "4 10\n",
      "5 15\n",
      "6 21\n",
      "7 28\n",
      "8 36\n",
      "9 45\n",
      "10 55\n"
     ]
    }
   ],
   "source": [
    "# не очень красиво\n",
    "sum = 0                 # сумма изначально нулевая и постепенно накапливается\n",
    "for i in range(1, 11):  # i будет от 1 до 10\n",
    "    sum += i            # на каждом шаге итерации (повтора цикла) добавляется новое слагаемое\n",
    "    print(i, sum)"
   ]
  },
  {
   "cell_type": "code",
   "execution_count": 35,
   "metadata": {},
   "outputs": [
    {
     "name": "stdout",
     "output_type": "stream",
     "text": [
      "55\n"
     ]
    }
   ],
   "source": [
    "print(sum)"
   ]
  },
  {
   "cell_type": "code",
   "execution_count": 36,
   "metadata": {},
   "outputs": [
    {
     "name": "stdout",
     "output_type": "stream",
     "text": [
      "сумма равна 55\n"
     ]
    }
   ],
   "source": [
    "# более красивое решение\n",
    "\n",
    "N = 10                   # предел вычислений (удобно вынести на самый верх программы, до вычислений)\n",
    "#N = 100                 # ...задача юного Гаусса\n",
    "#N = 1000\n",
    "\n",
    "summa = 0                  # сумма изначально нулевая и постепенно накапливается\n",
    "\n",
    "for i in range(1, N+1):  # i будет от 1 до N\n",
    "    summa += i             # на каждом шаге итерации (повтора цикла) добавляется новое слагаемое\n",
    "\n",
    "print(\"сумма равна\", summa)"
   ]
  },
  {
   "cell_type": "markdown",
   "metadata": {},
   "source": [
    "---\n",
    "**Foo Bar Baz**\n",
    "\n",
    "Вывести числа от 1 до 100, но с оговорками: \n",
    "- если число делится (нацело) на 3, вместо него напечатать foo,\n",
    "- если число делится на 5, вместо него напечатать bar,\n",
    "- если число делится и на 3, и на 5, вместо него напечатать baz."
   ]
  },
  {
   "cell_type": "code",
   "execution_count": 38,
   "metadata": {},
   "outputs": [
    {
     "name": "stdout",
     "output_type": "stream",
     "text": [
      "1 2 foo 4 bar foo 7 8 foo bar 11 foo 13 14 baz 16 17 foo 19 bar foo 22 23 foo bar 26 foo 28 29 baz 31 32 foo 34 bar foo 37 38 foo bar 41 foo 43 44 baz 46 47 foo 49 bar foo 52 53 foo bar 56 foo 58 59 baz 61 62 foo 64 bar foo 67 68 foo bar 71 foo 73 74 baz 76 77 foo 79 bar foo 82 83 foo bar 86 foo 88 89 baz 91 92 foo 94 bar foo 97 98 foo bar "
     ]
    }
   ],
   "source": [
    "for i in range(1, 101):\n",
    "    if i % 15 == 0:\n",
    "        print('baz', end=\" \")\n",
    "    elif i % 3 == 0:\n",
    "        print('foo', end=\" \")\n",
    "    elif i % 5 == 0:\n",
    "        print('bar', end=\" \")\n",
    "    else:\n",
    "        print(i, end=\" \")"
   ]
  },
  {
   "cell_type": "markdown",
   "metadata": {},
   "source": [
    "---\n",
    "***Фибоначчи не по-питоновски***"
   ]
  },
  {
   "cell_type": "code",
   "execution_count": 40,
   "metadata": {},
   "outputs": [
    {
     "name": "stdout",
     "output_type": "stream",
     "text": [
      "1 1\n"
     ]
    }
   ],
   "source": [
    "UP = 20    # вычисляем и печатаем 20 первых чисел Фибоначчи, рекуррентные последовательности\n",
    "f1 = 1\n",
    "f2 = 1\n",
    "print(f1, f2)"
   ]
  },
  {
   "cell_type": "code",
   "execution_count": 41,
   "metadata": {},
   "outputs": [
    {
     "name": "stdout",
     "output_type": "stream",
     "text": [
      "1 1 2\n",
      "1 2 2\n",
      "1 2 3\n",
      "2 3 3\n",
      "2 3 5\n",
      "3 5 5\n",
      "3 5 8\n",
      "5 8 8\n",
      "5 8 13\n",
      "8 13 13\n",
      "8 13 21\n",
      "13 21 21\n",
      "13 21 34\n",
      "21 34 34\n",
      "21 34 55\n",
      "34 55 55\n",
      "34 55 89\n",
      "55 89 89\n",
      "55 89 144\n",
      "89 144 144\n",
      "89 144 233\n",
      "144 233 233\n",
      "144 233 377\n",
      "233 377 377\n",
      "233 377 610\n",
      "377 610 610\n",
      "377 610 987\n",
      "610 987 987\n",
      "610 987 1597\n",
      "987 1597 1597\n",
      "987 1597 2584\n",
      "1597 2584 2584\n",
      "1597 2584 4181\n",
      "2584 4181 4181\n",
      "2584 4181 6765\n",
      "4181 6765 6765\n"
     ]
    }
   ],
   "source": [
    "for n in range(2, UP):\n",
    "    f3 = f1 + f2\n",
    "    print(f1, f2, f3)\n",
    "    f1 = f2\n",
    "    f2 = f3\n",
    "    print(f1, f2, f3)"
   ]
  },
  {
   "cell_type": "markdown",
   "metadata": {},
   "source": [
    "***Фибоначчи по-питоновски***"
   ]
  },
  {
   "cell_type": "code",
   "execution_count": 43,
   "metadata": {},
   "outputs": [
    {
     "name": "stdout",
     "output_type": "stream",
     "text": [
      "1 1\n"
     ]
    }
   ],
   "source": [
    "UP = 20        # вычисляем и печатаем 20 первых чисел Фибоначчи\n",
    "f1 = f2 = 1\n",
    "print(f1, f2)"
   ]
  },
  {
   "cell_type": "code",
   "execution_count": 44,
   "metadata": {},
   "outputs": [
    {
     "name": "stdout",
     "output_type": "stream",
     "text": [
      "2 3 5 8 13 21 34 55 89 144 233 377 610 987 1597 2584 4181 6765 "
     ]
    }
   ],
   "source": [
    "for _ in range(2, UP):\n",
    "    f1, f2 = f2, f1+f2\n",
    "    print(f2, end=\" \")"
   ]
  },
  {
   "cell_type": "markdown",
   "metadata": {},
   "source": [
    "---\n",
    "***Факториал $n! = 1 \\cdot 2 \\cdot 3 \\cdot \\ldots \\cdot n$***\n",
    "\n",
    "Напр., $5! = 1 \\cdot 2 \\cdot 3 \\cdot 4 \\cdot 5$.\n",
    "Кроме того, принято, что $0! = 1$.\n",
    "\n",
    "Вычислить и напечатать факториалы чисел от 1 до 30."
   ]
  },
  {
   "cell_type": "code",
   "execution_count": 46,
   "metadata": {},
   "outputs": [],
   "source": [
    "UP = 30\n",
    "f = 1"
   ]
  },
  {
   "cell_type": "code",
   "execution_count": 47,
   "metadata": {},
   "outputs": [
    {
     "name": "stdout",
     "output_type": "stream",
     "text": [
      "         1!  =                                        1\n",
      "         2!  =                                        2\n",
      "         3!  =                                        6\n",
      "         4!  =                                       24\n",
      "         5!  =                                      120\n",
      "         6!  =                                      720\n",
      "         7!  =                                     5040\n",
      "         8!  =                                    40320\n",
      "         9!  =                                   362880\n",
      "        10!  =                                  3628800\n",
      "        11!  =                                 39916800\n",
      "        12!  =                                479001600\n",
      "        13!  =                               6227020800\n",
      "        14!  =                              87178291200\n",
      "        15!  =                            1307674368000\n",
      "        16!  =                           20922789888000\n",
      "        17!  =                          355687428096000\n",
      "        18!  =                         6402373705728000\n",
      "        19!  =                       121645100408832000\n",
      "        20!  =                      2432902008176640000\n",
      "        21!  =                     51090942171709440000\n",
      "        22!  =                   1124000727777607680000\n",
      "        23!  =                  25852016738884976640000\n",
      "        24!  =                 620448401733239439360000\n",
      "        25!  =               15511210043330985984000000\n",
      "        26!  =              403291461126605635584000000\n",
      "        27!  =            10888869450418352160768000000\n",
      "        28!  =           304888344611713860501504000000\n",
      "        29!  =          8841761993739701954543616000000\n",
      "        30!  =        265252859812191058636308480000000\n"
     ]
    }
   ],
   "source": [
    "for i in range(1, UP+1):\n",
    "    f *= i             #  то же, что f = f * i\n",
    "    print(\"%10i!  =\" % i, \"%40i\" % f)"
   ]
  },
  {
   "cell_type": "markdown",
   "metadata": {},
   "source": [
    "---\n",
    "***Сочетания***"
   ]
  },
  {
   "cell_type": "markdown",
   "metadata": {},
   "source": [
    "В комбинаторике сочетанием из $n$ по $k$ называется набор из $k$ элементов, выбранных из $n$-элементного множества, в котором не учитывается порядок элементов.\n",
    "\n",
    "Соответственно, сочетания, отличающиеся только порядком следования элементов (но не составом), считаются одинаковыми.\n",
    "\n",
    "Число сочетаний из набора $n$ по $k$ элементов (\"це из эн по ка\") определяется как\n",
    "$$\n",
    "C_n^k = \\frac{n!}{k!\\,(n-k)!}\n",
    "$$"
   ]
  },
  {
   "cell_type": "markdown",
   "metadata": {},
   "source": [
    "Рассчитать $C_n^k$ при заданных $n$ и $k$, где $1 \\leq n \\leq 9, 1 \\leq k \\leq 9$."
   ]
  },
  {
   "cell_type": "code",
   "execution_count": 51,
   "metadata": {},
   "outputs": [],
   "source": [
    "def fact(n):\n",
    "    \"\"\"факториал\"\"\"\n",
    "    f = 1\n",
    "    for i in range(1, n+1):\n",
    "        f *= i\n",
    "    return f"
   ]
  },
  {
   "cell_type": "code",
   "execution_count": 52,
   "metadata": {},
   "outputs": [
    {
     "name": "stdout",
     "output_type": "stream",
     "text": [
      "0 1\n",
      "1 1\n",
      "2 2\n",
      "5 120\n",
      "10 3628800\n",
      "20 2432902008176640000\n"
     ]
    }
   ],
   "source": [
    "# проверяем факториал\n",
    "print(0, fact(0))\n",
    "print(1, fact(1))\n",
    "print(2, fact(2))\n",
    "print(5, fact(5))\n",
    "print(10, fact(10))\n",
    "print(20, fact(20))"
   ]
  },
  {
   "cell_type": "code",
   "execution_count": 53,
   "metadata": {},
   "outputs": [],
   "source": [
    "def cnk(n, k):\n",
    "    \"\"\"c из n по k\"\"\"\n",
    "    return fact(n) // (fact(k) * fact(n-k))"
   ]
  },
  {
   "cell_type": "code",
   "execution_count": 54,
   "metadata": {},
   "outputs": [
    {
     "name": "stdout",
     "output_type": "stream",
     "text": [
      "    1     2     3     4     5     6     7     8     9    10    11    12    13    14    15    16    17    18    19 \n",
      "    1     0     0     0     0     0     0     0     0     0     0     0     0     0     0     0     0     0     0 \n",
      "    2     1     0     0     0     0     0     0     0     0     0     0     0     0     0     0     0     0     0 \n",
      "    3     3     1     0     0     0     0     0     0     0     0     0     0     0     0     0     0     0     0 \n",
      "    4     6     4     1     0     0     0     0     0     0     0     0     0     0     0     0     0     0     0 \n",
      "    5    10    10     5     1     0     0     0     0     0     0     0     0     0     0     0     0     0     0 \n",
      "    6    15    20    15     6     1     0     0     0     0     0     0     0     0     0     0     0     0     0 \n",
      "    7    21    35    35    21     7     1     0     0     0     0     0     0     0     0     0     0     0     0 \n",
      "    8    28    56    70    56    28     8     1     0     0     0     0     0     0     0     0     0     0     0 \n",
      "    9    36    84   126   126    84    36     9     1     0     0     0     0     0     0     0     0     0     0 \n",
      "   10    45   120   210   252   210   120    45    10     1     0     0     0     0     0     0     0     0     0 \n",
      "   11    55   165   330   462   462   330   165    55    11     1     0     0     0     0     0     0     0     0 \n",
      "   12    66   220   495   792   924   792   495   220    66    12     1     0     0     0     0     0     0     0 \n",
      "   13    78   286   715  1287  1716  1716  1287   715   286    78    13     1     0     0     0     0     0     0 \n",
      "   14    91   364  1001  2002  3003  3432  3003  2002  1001   364    91    14     1     0     0     0     0     0 \n",
      "   15   105   455  1365  3003  5005  6435  6435  5005  3003  1365   455   105    15     1     0     0     0     0 \n",
      "   16   120   560  1820  4368  8008 11440 12870 11440  8008  4368  1820   560   120    16     1     0     0     0 \n",
      "   17   136   680  2380  6188 12376 19448 24310 24310 19448 12376  6188  2380   680   136    17     1     0     0 \n",
      "   18   153   816  3060  8568 18564 31824 43758 48620 43758 31824 18564  8568  3060   816   153    18     1     0 \n",
      "   19   171   969  3876 11628 27132 50388 75582 92378 92378 75582 50388 27132 11628  3876   969   171    19     1 \n"
     ]
    }
   ],
   "source": [
    "# проверяем сочетания\n",
    "MAX = 20\n",
    "for k in range(1, MAX):\n",
    "    print(\"%5d\" % k, end=\" \")\n",
    "print()\n",
    "for n in range(1, MAX):\n",
    "    for k in range(1, MAX):\n",
    "        print(\"%5d\" % cnk(n, k), end=\" \")\n",
    "    print()"
   ]
  },
  {
   "cell_type": "markdown",
   "metadata": {},
   "source": [
    "---\n",
    "**Строки** <a name=strings></a>"
   ]
  },
  {
   "cell_type": "markdown",
   "metadata": {},
   "source": [
    "---\n",
    "***Простые операции со строками***"
   ]
  },
  {
   "cell_type": "code",
   "execution_count": 57,
   "metadata": {},
   "outputs": [
    {
     "data": {
      "text/plain": [
       "'привет'"
      ]
     },
     "execution_count": 57,
     "metadata": {},
     "output_type": "execute_result"
    }
   ],
   "source": [
    "s = \"привет\"\n",
    "s"
   ]
  },
  {
   "cell_type": "code",
   "execution_count": 58,
   "metadata": {},
   "outputs": [
    {
     "data": {
      "text/plain": [
       "('п', 'р', 'т', 'е', 'р', 'пр', 'вет', 'прив', 'привет')"
      ]
     },
     "execution_count": 58,
     "metadata": {},
     "output_type": "execute_result"
    }
   ],
   "source": [
    "s[0], s[1], s[-1], s[-2], s[1:2], s[0:2], s[3:], s[:4], s[:]"
   ]
  },
  {
   "cell_type": "markdown",
   "metadata": {},
   "source": [
    "***Действия над строками***"
   ]
  },
  {
   "cell_type": "code",
   "execution_count": 60,
   "metadata": {},
   "outputs": [
    {
     "data": {
      "text/plain": [
       "('hello', 'world')"
      ]
     },
     "execution_count": 60,
     "metadata": {},
     "output_type": "execute_result"
    }
   ],
   "source": [
    "s1 = \"hello\"; s2 = \"world\"\n",
    "s1, s2"
   ]
  },
  {
   "cell_type": "code",
   "execution_count": 61,
   "metadata": {},
   "outputs": [
    {
     "name": "stdout",
     "output_type": "stream",
     "text": [
      "helloworld\n",
      "hello world\n",
      "hello, world\n"
     ]
    }
   ],
   "source": [
    "s3 = s1 + s2\n",
    "print(s3)\n",
    "s4 = s1 + \" \" + s2\n",
    "print(s4)\n",
    "s5 = s1 + \", \" + s2\n",
    "print(s5)"
   ]
  },
  {
   "cell_type": "markdown",
   "metadata": {},
   "source": [
    "***Строковые функции***"
   ]
  },
  {
   "cell_type": "code",
   "execution_count": 63,
   "metadata": {},
   "outputs": [
    {
     "name": "stdout",
     "output_type": "stream",
     "text": [
      "это питон\n",
      "9\n",
      "длина строки ' это питон ' равна 9\n",
      "длина строки 'это питон' равна 9\n",
      "длина строки 'это питон' равна 9\n",
      "длина строки 'это питон' равна 9\n"
     ]
    }
   ],
   "source": [
    "s = \"это питон\"\n",
    "print(s)\n",
    "\n",
    "print(len(s))\n",
    "print(\"длина строки '\", s, \"' равна\", len(s))\n",
    "\n",
    "print(\"длина строки '%s' равна %d\" % (s, len(s)))\n",
    "print(\"длина строки '{}' равна {}\".format(s, len(s)))\n",
    "print(\"длина строки '{0}' равна {1}\".format(s, len(s)))"
   ]
  },
  {
   "cell_type": "markdown",
   "metadata": {},
   "source": [
    "---\n",
    "***Разбор 3-значного числа на разряды***\n",
    "123 = 100 + 20 + 3"
   ]
  },
  {
   "cell_type": "code",
   "execution_count": 65,
   "metadata": {},
   "outputs": [],
   "source": [
    "n = 123"
   ]
  },
  {
   "cell_type": "code",
   "execution_count": 66,
   "metadata": {},
   "outputs": [],
   "source": [
    "s = str(n//100) + '00 + ' + str(n%100//10) + '0 + ' + str(n%10)"
   ]
  },
  {
   "cell_type": "code",
   "execution_count": 67,
   "metadata": {},
   "outputs": [
    {
     "name": "stdout",
     "output_type": "stream",
     "text": [
      "100 + 20 + 3\n"
     ]
    }
   ],
   "source": [
    "print(s)"
   ]
  },
  {
   "cell_type": "code",
   "execution_count": 68,
   "metadata": {},
   "outputs": [
    {
     "data": {
      "text/plain": [
       "'100 + 20 + 3'"
      ]
     },
     "execution_count": 68,
     "metadata": {},
     "output_type": "execute_result"
    }
   ],
   "source": [
    "s"
   ]
  },
  {
   "cell_type": "markdown",
   "metadata": {},
   "source": [
    "---\n",
    "***Перевод из строки в натуральное чсило***"
   ]
  },
  {
   "cell_type": "code",
   "execution_count": 70,
   "metadata": {},
   "outputs": [],
   "source": [
    "s = \"123\""
   ]
  },
  {
   "cell_type": "code",
   "execution_count": 71,
   "metadata": {},
   "outputs": [
    {
     "name": "stdout",
     "output_type": "stream",
     "text": [
      "строка: 123 , число: 123\n"
     ]
    }
   ],
   "source": [
    "# схема Горнера\n",
    "n = 0\n",
    "for d in s:\n",
    "    n = n*10 + ord(d) - ord('0')\n",
    "print(\"строка:\", s, \", число:\", n)"
   ]
  },
  {
   "cell_type": "code",
   "execution_count": 72,
   "metadata": {},
   "outputs": [
    {
     "name": "stdout",
     "output_type": "stream",
     "text": [
      "строка: 123 , число: 123\n"
     ]
    }
   ],
   "source": [
    "#  а можно и по-питоновски:\n",
    "n = int(s)\n",
    "print(\"строка:\", s, \", число:\", n)"
   ]
  },
  {
   "cell_type": "markdown",
   "metadata": {},
   "source": [
    "***Сумма цифр числа***\n",
    "\n",
    "Дано натуральное число (или 0). Найти сумму его цифр."
   ]
  },
  {
   "cell_type": "code",
   "execution_count": 74,
   "metadata": {},
   "outputs": [
    {
     "name": "stdout",
     "output_type": "stream",
     "text": [
      "число: 0 , сумма цифр: 0\n",
      "число: 5 , сумма цифр: 5\n",
      "число: 123 , сумма цифр: 6\n",
      "число: 123456789 , сумма цифр: 45\n"
     ]
    }
   ],
   "source": [
    "def sumdig(n):\n",
    "    \"\"\"сумма цифр числа\"\"\"\n",
    "    s = 0\n",
    "    while n:\n",
    "        s += n % 10\n",
    "        n //= 10\n",
    "    return s\n",
    "\n",
    "def orgme(n):\n",
    "    \"\"\"органайзер для печати чисел и сумм их цифр\"\"\"\n",
    "    print(\"число:\", n, \", сумма цифр:\", sumdig(n))\n",
    "\n",
    "orgme(0) \n",
    "orgme(5)\n",
    "orgme(123)\n",
    "orgme(123456789)"
   ]
  },
  {
   "cell_type": "markdown",
   "metadata": {},
   "source": [
    "----\n",
    "\n",
    "***Перевод между физическими единицами.***\n",
    "\n",
    "Используем функции."
   ]
  },
  {
   "cell_type": "code",
   "execution_count": 76,
   "metadata": {},
   "outputs": [],
   "source": [
    "def c2k(d):\n",
    "    \"\"\"celsius -> kelvin\"\"\"\n",
    "    return d+273.15\n",
    "\n",
    "def k2c(d):\n",
    "    \"\"\"kelvin -. celsius\"\"\"\n",
    "    return d-273.15\n",
    "\n",
    "def mmhg2hpa(p):\n",
    "    \"\"\"mm hg -> hPa\"\"\"\n",
    "    return 1.33322*p\n",
    "\n",
    "def hpa2mmhg(p):\n",
    "    \"\"\"hPa -> mm hg\"\"\"\n",
    "    return p/1.33322"
   ]
  },
  {
   "cell_type": "code",
   "execution_count": 77,
   "metadata": {},
   "outputs": [],
   "source": [
    "def test_temp1():\n",
    "    \"\"\"test temperatures\"\"\"\n",
    "    \n",
    "    print(\"celsius -> kelvin\")\n",
    "    for t in range(-100, 101, 10):\n",
    "        print(f\"{t} -> {c2k(t)}\")"
   ]
  },
  {
   "cell_type": "code",
   "execution_count": 78,
   "metadata": {},
   "outputs": [
    {
     "name": "stdout",
     "output_type": "stream",
     "text": [
      "celsius -> kelvin\n",
      "-100 -> 173.14999999999998\n",
      "-90 -> 183.14999999999998\n",
      "-80 -> 193.14999999999998\n",
      "-70 -> 203.14999999999998\n",
      "-60 -> 213.14999999999998\n",
      "-50 -> 223.14999999999998\n",
      "-40 -> 233.14999999999998\n",
      "-30 -> 243.14999999999998\n",
      "-20 -> 253.14999999999998\n",
      "-10 -> 263.15\n",
      "0 -> 273.15\n",
      "10 -> 283.15\n",
      "20 -> 293.15\n",
      "30 -> 303.15\n",
      "40 -> 313.15\n",
      "50 -> 323.15\n",
      "60 -> 333.15\n",
      "70 -> 343.15\n",
      "80 -> 353.15\n",
      "90 -> 363.15\n",
      "100 -> 373.15\n"
     ]
    }
   ],
   "source": [
    "test_temp1()"
   ]
  },
  {
   "cell_type": "code",
   "execution_count": 79,
   "metadata": {},
   "outputs": [],
   "source": [
    "def test_temp2():\n",
    "    \"\"\"test temperatures\"\"\"\n",
    "    \n",
    "    print(\"kelvin -> celsius\")\n",
    "    for t in range(0, 301, 10):\n",
    "        print(f\"{t} -> {k2c(t)}\")"
   ]
  },
  {
   "cell_type": "code",
   "execution_count": 80,
   "metadata": {},
   "outputs": [
    {
     "name": "stdout",
     "output_type": "stream",
     "text": [
      "kelvin -> celsius\n",
      "0 -> -273.15\n",
      "10 -> -263.15\n",
      "20 -> -253.14999999999998\n",
      "30 -> -243.14999999999998\n",
      "40 -> -233.14999999999998\n",
      "50 -> -223.14999999999998\n",
      "60 -> -213.14999999999998\n",
      "70 -> -203.14999999999998\n",
      "80 -> -193.14999999999998\n",
      "90 -> -183.14999999999998\n",
      "100 -> -173.14999999999998\n",
      "110 -> -163.14999999999998\n",
      "120 -> -153.14999999999998\n",
      "130 -> -143.14999999999998\n",
      "140 -> -133.14999999999998\n",
      "150 -> -123.14999999999998\n",
      "160 -> -113.14999999999998\n",
      "170 -> -103.14999999999998\n",
      "180 -> -93.14999999999998\n",
      "190 -> -83.14999999999998\n",
      "200 -> -73.14999999999998\n",
      "210 -> -63.14999999999998\n",
      "220 -> -53.14999999999998\n",
      "230 -> -43.14999999999998\n",
      "240 -> -33.14999999999998\n",
      "250 -> -23.149999999999977\n",
      "260 -> -13.149999999999977\n",
      "270 -> -3.1499999999999773\n",
      "280 -> 6.850000000000023\n",
      "290 -> 16.850000000000023\n",
      "300 -> 26.850000000000023\n"
     ]
    }
   ],
   "source": [
    "test_temp2()"
   ]
  },
  {
   "cell_type": "code",
   "execution_count": 81,
   "metadata": {},
   "outputs": [],
   "source": [
    "def test_pressure1():\n",
    "    \"\"\"test pressures\"\"\"\n",
    "    \n",
    "    print(\"mm hg -> hPa\")\n",
    "    for p in range(700, 801, 5):\n",
    "        print(f\"{p} -> {mmhg2hpa(p)}\")"
   ]
  },
  {
   "cell_type": "code",
   "execution_count": 82,
   "metadata": {},
   "outputs": [
    {
     "name": "stdout",
     "output_type": "stream",
     "text": [
      "mm hg -> hPa\n",
      "700 -> 933.254\n",
      "705 -> 939.9201\n",
      "710 -> 946.5862000000001\n",
      "715 -> 953.2523000000001\n",
      "720 -> 959.9184\n",
      "725 -> 966.5845\n",
      "730 -> 973.2506000000001\n",
      "735 -> 979.9167000000001\n",
      "740 -> 986.5828\n",
      "745 -> 993.2489\n",
      "750 -> 999.9150000000001\n",
      "755 -> 1006.5811000000001\n",
      "760 -> 1013.2472\n",
      "765 -> 1019.9133\n",
      "770 -> 1026.5794\n",
      "775 -> 1033.2455\n",
      "780 -> 1039.9116000000001\n",
      "785 -> 1046.5777\n",
      "790 -> 1053.2438\n",
      "795 -> 1059.9099\n",
      "800 -> 1066.576\n"
     ]
    }
   ],
   "source": [
    "test_pressure1()"
   ]
  },
  {
   "cell_type": "code",
   "execution_count": 83,
   "metadata": {},
   "outputs": [],
   "source": [
    "def test_pressure2():\n",
    "    \"\"\"test pressures\"\"\"\n",
    "    \n",
    "    print(\"hPa -> mm hg\")\n",
    "    for p in range(900, 1100, 10):\n",
    "        print(f\"{p} -> {hpa2mmhg(p)}\")"
   ]
  },
  {
   "cell_type": "code",
   "execution_count": 84,
   "metadata": {},
   "outputs": [
    {
     "name": "stdout",
     "output_type": "stream",
     "text": [
      "hPa -> mm hg\n",
      "900 -> 675.0573798772896\n",
      "910 -> 682.5580174314816\n",
      "920 -> 690.0586549856738\n",
      "930 -> 697.5592925398659\n",
      "940 -> 705.0599300940579\n",
      "950 -> 712.5605676482501\n",
      "960 -> 720.0612052024421\n",
      "970 -> 727.5618427566343\n",
      "980 -> 735.0624803108263\n",
      "990 -> 742.5631178650185\n",
      "1000 -> 750.0637554192106\n",
      "1010 -> 757.5643929734027\n",
      "1020 -> 765.0650305275948\n",
      "1030 -> 772.565668081787\n",
      "1040 -> 780.066305635979\n",
      "1050 -> 787.5669431901712\n",
      "1060 -> 795.0675807443632\n",
      "1070 -> 802.5682182985553\n",
      "1080 -> 810.0688558527474\n",
      "1090 -> 817.5694934069395\n"
     ]
    }
   ],
   "source": [
    "test_pressure2()"
   ]
  },
  {
   "cell_type": "markdown",
   "metadata": {},
   "source": [
    "---\n",
    "**Дата и время** <a name=datetime></a>"
   ]
  },
  {
   "cell_type": "markdown",
   "metadata": {},
   "source": [
    "---\n",
    "***Сегодня и текущее время***"
   ]
  },
  {
   "cell_type": "code",
   "execution_count": 87,
   "metadata": {},
   "outputs": [
    {
     "name": "stdout",
     "output_type": "stream",
     "text": [
      "2024-11-26 15:59:26.911398\n",
      "Current date and time :  2024-11-26 15:59:26\n",
      "Текущие дата и время :  26.11.2024 15:59:26\n",
      "Нынче год такой: 2024\n"
     ]
    }
   ],
   "source": [
    "import datetime\n",
    "\n",
    "now = datetime.datetime.now()\n",
    "\n",
    "print (now)\n",
    "print (\"Current date and time : \", now.strftime(\"%Y-%m-%d %H:%M:%S\"))\n",
    "print (\"Текущие дата и время : \", now.strftime(\"%d.%m.%Y %H:%M:%S\"))\n",
    "print (\"Нынче год такой:\", now.year)"
   ]
  },
  {
   "cell_type": "code",
   "execution_count": 88,
   "metadata": {},
   "outputs": [
    {
     "name": "stdout",
     "output_type": "stream",
     "text": [
      "td=datetime.date(2024, 11, 26), td.year=2024, td.month=11, td.day=26\n"
     ]
    }
   ],
   "source": [
    "# работа с датой\n",
    "td = datetime.date.today()\n",
    "\n",
    "print(f\"{td=}, {td.year=}, {td.month=}, {td.day=}\")"
   ]
  },
  {
   "cell_type": "code",
   "execution_count": 89,
   "metadata": {},
   "outputs": [
    {
     "name": "stdin",
     "output_type": "stream",
     "text": [
      "введите год, месяц, день (числами, полностью):  2020 1 2\n"
     ]
    },
    {
     "name": "stdout",
     "output_type": "stream",
     "text": [
      "получилось: год 2020, месяц 1, день 2\n"
     ]
    }
   ],
   "source": [
    "#y = input(\"введите год (числом, полностью, напр., 2021): \")\n",
    "#m = input(\"введите месяц (числом, напр., 12): \")\n",
    "#d = input(\"введите день месяца (числом, напр., 7): \")\n",
    "\n",
    "#y, m, d = input(\"введите год, месяц, день (числами, полностью): \").split()\n",
    "\n",
    "#y, m, d = int(y), int(m), int(d)\n",
    "\n",
    "#y = int(y)\n",
    "#m = int(m)\n",
    "#d = int(d)\n",
    "\n",
    "y, m, d = [int(x) for x in input(\"введите год, месяц, день (числами, полностью): \").split()]\n",
    "\n",
    "print(f\"получилось: год {y}, месяц {m}, день {d}\")"
   ]
  },
  {
   "cell_type": "code",
   "execution_count": 90,
   "metadata": {},
   "outputs": [
    {
     "name": "stdin",
     "output_type": "stream",
     "text": [
      "введите год, месяц, день (числами, полностью):  2000 1 1 \n"
     ]
    },
    {
     "name": "stdout",
     "output_type": "stream",
     "text": [
      "ваши: год 2000, месяц 1, день 1\n",
      "получился возраст 24\n"
     ]
    }
   ],
   "source": [
    "# определить возраст в этом году\n",
    "y, m, d = [int(x) for x in input(\"введите год, месяц, день (числами, полностью): \").split()]\n",
    "print(f\"ваши: год {y}, месяц {m}, день {d}\")\n",
    "\n",
    "def ageyear(y):\n",
    "    \"\"\" определить возраст в году\"\"\"\n",
    "    ty = datetime.date.today().year\n",
    "    return ty - y\n",
    "\n",
    "print(f\"получился возраст {ageyear(y)}\")"
   ]
  },
  {
   "cell_type": "code",
   "execution_count": 91,
   "metadata": {},
   "outputs": [
    {
     "name": "stdin",
     "output_type": "stream",
     "text": [
      "введите год, месяц, день (числами, полностью):  \n"
     ]
    },
    {
     "ename": "ValueError",
     "evalue": "not enough values to unpack (expected 3, got 0)",
     "output_type": "error",
     "traceback": [
      "\u001b[0;31m---------------------------------------------------------------------------\u001b[0m",
      "\u001b[0;31mValueError\u001b[0m                                Traceback (most recent call last)",
      "Cell \u001b[0;32mIn[91], line 2\u001b[0m\n\u001b[1;32m      1\u001b[0m \u001b[38;5;66;03m# определить возраст на сегодя\u001b[39;00m\n\u001b[0;32m----> 2\u001b[0m y, m, d \u001b[38;5;241m=\u001b[39m [\u001b[38;5;28mint\u001b[39m(x) \u001b[38;5;28;01mfor\u001b[39;00m x \u001b[38;5;129;01min\u001b[39;00m \u001b[38;5;28minput\u001b[39m(\u001b[38;5;124m\"\u001b[39m\u001b[38;5;124mвведите год, месяц, день (числами, полностью): \u001b[39m\u001b[38;5;124m\"\u001b[39m)\u001b[38;5;241m.\u001b[39msplit()]\n\u001b[1;32m      3\u001b[0m \u001b[38;5;28mprint\u001b[39m(\u001b[38;5;124mf\u001b[39m\u001b[38;5;124m\"\u001b[39m\u001b[38;5;124mваши: год \u001b[39m\u001b[38;5;132;01m{\u001b[39;00my\u001b[38;5;132;01m}\u001b[39;00m\u001b[38;5;124m, месяц \u001b[39m\u001b[38;5;132;01m{\u001b[39;00mm\u001b[38;5;132;01m}\u001b[39;00m\u001b[38;5;124m, день \u001b[39m\u001b[38;5;132;01m{\u001b[39;00md\u001b[38;5;132;01m}\u001b[39;00m\u001b[38;5;124m\"\u001b[39m)\n\u001b[1;32m      5\u001b[0m \u001b[38;5;28;01mdef\u001b[39;00m \u001b[38;5;21magedate\u001b[39m(y, m, d):\n",
      "\u001b[0;31mValueError\u001b[0m: not enough values to unpack (expected 3, got 0)"
     ]
    }
   ],
   "source": [
    "# определить возраст на сегодя\n",
    "y, m, d = [int(x) for x in input(\"введите год, месяц, день (числами, полностью): \").split()]\n",
    "print(f\"ваши: год {y}, месяц {m}, день {d}\")\n",
    "\n",
    "def agedate(y, m, d):\n",
    "    \"\"\" определить возраст на сегодня\"\"\"\n",
    "    td = datetime.date.today()\n",
    "    delta = td.year - y\n",
    "    if m > td.month:\n",
    "        return delta-1\n",
    "    if m == td.month:\n",
    "        if d > td.day:\n",
    "            return delta-1\n",
    "    return delta\n",
    "\n",
    "print(f\"получился возраст {agedate(y, m, d)}\")"
   ]
  },
  {
   "cell_type": "markdown",
   "metadata": {},
   "source": [
    "---\n",
    "**Специальные функции и значения** <a name=specfunc></a>"
   ]
  },
  {
   "cell_type": "markdown",
   "metadata": {},
   "source": [
    "---\n",
    "***Случайные числа***"
   ]
  },
  {
   "cell_type": "code",
   "execution_count": 99,
   "metadata": {},
   "outputs": [
    {
     "name": "stdout",
     "output_type": "stream",
     "text": [
      "329, 421, 992, 426, 610, 633, 540, 34, 28, 636, 782, 898, 481, 293, 270, 21, 20, 613, 177, 898, 442, 454, 795, 7, 658, 270, 141, 932, 243, 548, 531, 726, 891, 637, 475, 408, 243, 692, 602, 288, 762, 680, 422, 510, 80, 814, 453, 664, 767, 257, 555, 952, 552, 228, 433, 962, 441, 286, 925, 312, 876, 601, 681, 844, 400, 415, 745, 551, 443, 75, 847, 552, 139, 465, 220, 558, 526, 810, 427, 750, 800, 71, 559, 146, 934, 905, 750, 226, 525, 49, 951, 702, 594, 824, 452, 75, 32, 452, 636, 435, \n",
      "-204, 742, -962, 206, -354, -92, 904, -166, -958, 854, -715, -616, 818, 550, -949, -556, 636, 708, -934, -32, 313, 413, 799, -83, -370, -99, 547, 459, 937, -278, 390, -758, -537, -995, 816, 157, 23, -919, -590, -901, -864, -851, -749, 560, -176, 685, 842, -12, -744, -350, 811, 57, -66, 838, -234, 208, 395, 125, 87, 888, -656, -846, -641, 967, 997, 823, -265, 145, 46, 607, -993, 634, -385, 164, 466, 749, 562, 276, -841, -801, 953, 326, 687, -777, -815, 78, 90, -722, -213, -938, 42, 56, 664, 236, -957, 928, -335, 630, 488, 198, "
     ]
    }
   ],
   "source": [
    "# случайные целые числа\n",
    "import random\n",
    "\n",
    "for _ in range(100):\n",
    "    print(random.randint(0, 1000), end=\", \")\n",
    "print()\n",
    "for _ in range(100):\n",
    "    print(random.randint(-1000, 1000), end=\", \")"
   ]
  },
  {
   "cell_type": "code",
   "execution_count": 100,
   "metadata": {},
   "outputs": [
    {
     "name": "stdout",
     "output_type": "stream",
     "text": [
      "8, 68, 8, 55, 64, 84, 56, 95, 93, 93, 77, 45, 99, 28, 2, 42, 43, 74, 70, 78, 94, 96, 39, 71, 13, 98, 65, 74, 16, 65, 3, 39, 77, 46, 15, 89, 27, 66, 75, 49, 3, 52, 54, 36, 5, 12, 100, 64, 1, 52, 35, 3, 43, 44, 43, 94, 93, 9, 31, 27, 2, 17, 20, 68, 34, 10, 17, 7, 94, 52, 100, 23, 42, 71, 86, 43, 2, 78, 18, 93, 13, 83, 70, 75, 72, 98, 32, 61, 91, 59, 51, 37, 15, 53, 34, 11, 46, 72, 47, 31. the end"
     ]
    }
   ],
   "source": [
    "# пакет случайных чисел\n",
    "\n",
    "print(*[random.randint(1, 100) for i in range(100)], sep=\", \", end=\". the end\")"
   ]
  },
  {
   "cell_type": "code",
   "execution_count": 101,
   "metadata": {},
   "outputs": [
    {
     "name": "stdout",
     "output_type": "stream",
     "text": [
      "  876\t -844\t -306\t  731\t  462\t  268\t -898\t  147\t -679\t -318\n",
      " -946\t  838\t  837\t -135\t -176\t  773\t -516\t -302\t -489\t -974\n",
      " -146\t  529\t -952\t  738\t  521\t  410\t  208\t  650\t -265\t  580\n",
      "  184\t -161\t   90\t  469\t -461\t  850\t -988\t -217\t  928\t -182\n",
      "  214\t -584\t  570\t  754\t  827\t  792\t  478\t -830\t -571\t -457\n",
      "  417\t -763\t  554\t -824\t  173\t  830\t  686\t  100\t  346\t -614\n",
      " -877\t  628\t -902\t -590\t  433\t -319\t  638\t  885\t  113\t  630\n",
      "  727\t  -25\t  369\t  654\t -496\t  853\t -334\t -670\t  338\t -159\n",
      "  299\t -343\t -770\t -711\t  334\t -189\t -203\t  210\t -252\t   35\n",
      "  251\t  773\t -707\t -695\t  -44\t -379\t -230\t -794\t  351\t  534\n"
     ]
    }
   ],
   "source": [
    "# случайные целые числа\n",
    "\n",
    "for i in range(1, 101):\n",
    "    print(\"%5d\" % (random.randint(-1000, +1000),), end=\"\\n\" if i%10==0 else \"\\t\")"
   ]
  },
  {
   "cell_type": "code",
   "execution_count": 102,
   "metadata": {},
   "outputs": [
    {
     "name": "stdout",
     "output_type": "stream",
     "text": [
      "0.5078192084783615\t0.5723084679561392\t0.5190194653493159\t0.8942703286289053\n",
      "0.10911401999440229\t0.6727059960213267\t0.7713952379061142\t0.18293951535081188\n",
      "0.9431020631143842\t0.030425774358662117\t0.10252216924323676\t0.516658457633636\n",
      "0.6908888404192232\t0.76246075760668\t0.004335085404380878\t0.8423744416124438\n",
      "0.5857577211232851\t0.11913510235379676\t0.895690348233059\t0.21656416292477476\n",
      "0.9071083664846346\t0.657233076798402\t0.9259350987447978\t0.5829529789926419\n",
      "0.04623677820588323\t0.01466494105769034\t0.23215770664344904\t0.9203728289886948\n",
      "0.9052478515413156\t0.03140642310310915\t0.17921396064867923\t0.8198129869071397\n",
      "0.9554553578069593\t0.18140788965995958\t0.07946282426869933\t0.29752673271851604\n",
      "0.6473859941154408\t0.5809626281069786\t0.7858365828696224\t0.260739394802626\n",
      "0.7124351017436493\t0.17024584043597724\t0.6644660108867709\t0.258199521847296\n",
      "0.7337044332223421\t0.7413546264432671\t0.14013881686942786\t0.5580997509210281\n",
      "0.9455747248529296\t0.21655677042916965\t0.14150545140394333\t0.7789593670134438\n",
      "0.5267978938711432\t0.20345164431978346\t0.22547565008655668\t0.13597172035751393\n",
      "0.1794280942616674\t0.5085275388299567\t0.7734175548204743\t0.5107962616989867\n",
      "0.24958095691426685\t0.32417363102507935\t0.7385268491017948\t0.34653746192829615\n",
      "0.8076466444998286\t0.8193231089234271\t0.28642022525134436\t0.44123576922149477\n",
      "0.6936426888188384\t0.04240304687526164\t0.7214685590803701\t0.23407879150918542\n",
      "0.045306837751874274\t0.42473722083425147\t0.27914587919145695\t0.9094041689909464\n",
      "0.8299875767783246\t0.2330979945573719\t0.7048734401909738\t0.4767773472316814\n",
      "0.4871238232043942\t0.339465291928262\t0.985185106387802\t0.4789062843725653\n",
      "0.3307537975958672\t0.1418303047814541\t0.7727170425727831\t0.7567194144042384\n",
      "0.9804827522974984\t0.6381149015739134\t0.5111472420934505\t0.32074592419176273\n",
      "0.27007714333914634\t0.4577426210195362\t0.8370586436881653\t0.6422325291730369\n",
      "0.8102812401423367\t0.9635518549908421\t0.03815766905017959\t0.4042451253232028\n"
     ]
    }
   ],
   "source": [
    "# случайные вещественные числа\n",
    "\n",
    "for i in range(1, 101):\n",
    "    print(random.random(), end=\"\\n\" if i%4==0 else \"\\t\")"
   ]
  },
  {
   "cell_type": "markdown",
   "metadata": {},
   "source": [
    "---\n",
    "***Уникальные идентификаторы***"
   ]
  },
  {
   "cell_type": "code",
   "execution_count": 104,
   "metadata": {},
   "outputs": [
    {
     "name": "stdout",
     "output_type": "stream",
     "text": [
      "    0\tbd12cd5e-9134-42e6-bf39-ad20a0313c23\tbd12cd5e913442e6bf39ad20a0313c23\n",
      "    1\tddc1da85-ef9d-4e4a-8554-9e951c59cdc6\tddc1da85ef9d4e4a85549e951c59cdc6\n",
      "    2\t3173f743-6523-4c31-af14-af69f4efe1c6\t3173f74365234c31af14af69f4efe1c6\n",
      "    3\tba8c6249-3d34-48aa-b36f-511bc920d121\tba8c62493d3448aab36f511bc920d121\n",
      "    4\t87251d3e-9cda-4106-8072-a506b9f5c532\t87251d3e9cda41068072a506b9f5c532\n",
      "    5\t9ce44da7-27ca-49c5-9ed7-487e22e8deae\t9ce44da727ca49c59ed7487e22e8deae\n",
      "    6\tca9b22ac-c084-485e-8789-20bd02906f33\tca9b22acc084485e878920bd02906f33\n",
      "    7\t359448a9-34ff-43e5-acb3-010ab9c7c81f\t359448a934ff43e5acb3010ab9c7c81f\n",
      "    8\tae05b9a7-d816-4256-a453-3f63fd281c64\tae05b9a7d8164256a4533f63fd281c64\n",
      "    9\td8dca5c1-f872-4109-8b4a-c4f41e412856\td8dca5c1f87241098b4ac4f41e412856\n",
      "   10\t09ba453f-be23-4827-b89b-8cca4868d3be\t09ba453fbe234827b89b8cca4868d3be\n",
      "   11\t313b072c-4572-41aa-952a-7768e629f9a2\t313b072c457241aa952a7768e629f9a2\n",
      "   12\t2428f1df-9cd6-461a-a0d5-15b5acbd8b2b\t2428f1df9cd6461aa0d515b5acbd8b2b\n",
      "   13\t5299b1a3-ce5f-4633-aaea-90baad3d854f\t5299b1a3ce5f4633aaea90baad3d854f\n",
      "   14\t1c525d8f-e845-4693-8b84-fc09d05a2f84\t1c525d8fe84546938b84fc09d05a2f84\n",
      "   15\ta2a27f0d-e41e-434e-9996-86e53bba1cca\ta2a27f0de41e434e999686e53bba1cca\n",
      "   16\t6861b76a-79c7-4257-a165-742732c12e65\t6861b76a79c74257a165742732c12e65\n",
      "   17\t4c833ced-b5fc-4d41-936c-cbf5e68ace23\t4c833cedb5fc4d41936ccbf5e68ace23\n",
      "   18\tfc3a7205-1724-498e-97e1-65121e66409c\tfc3a72051724498e97e165121e66409c\n",
      "   19\t31cf0ae3-096c-4b04-a572-ef1e6931edfd\t31cf0ae3096c4b04a572ef1e6931edfd\n"
     ]
    }
   ],
   "source": [
    "import uuid\n",
    "\n",
    "for i in range(20):\n",
    "    uu = uuid.uuid4()\n",
    "    print(\"%5i\\t%s\\t%s\" % (i, uu, uu.hex))"
   ]
  },
  {
   "cell_type": "markdown",
   "metadata": {},
   "source": [
    "---\n",
    "***Секретные строки***"
   ]
  },
  {
   "cell_type": "code",
   "execution_count": 106,
   "metadata": {},
   "outputs": [
    {
     "name": "stdout",
     "output_type": "stream",
     "text": [
      "f8efe218c4be87b8020d44f6385d20222de5ac86322efc28e6da0f368bb2eaa9 TIlacNK4BT-lIIWlLkc7HMbNKgc4dh9YGmTcJU0xlMs\n",
      "eef720875a1d458f3e33a2ebe2da95a4680413e53d59e6313dce917b0acef3d4 hLV6UTpijNpeeI4efGV-a4SAA7hwHEBDT-PByWYHw8g\n",
      "565ee066fc8dcf31daa57f6b37918b2847c79fb235b81babcba48316d52d9e1e XUO-5knkLCvyk_2pp0Sxy_CVLSvgQi9skmfDUbUW5_g\n",
      "d3f122c32de3bfcc9af2605e5e2a8e538c619596501be00778fe34ec3311969a 4kpEMXUZaHZMeNFtDAI7qT05JqQ6Rs9pLYy8WkdpqpI\n",
      "d833e17c4a64a33adbd77f4ae0d13558393beafa3687e36749a042a28d2622b0 1IBAISi7YlNEc7bTAIqOnOQajRgiXYQa3l1SAS_JBnA\n",
      "6e003d9aa8c41e9b435d185ff0bc98798e80b090e9234e3718880d3b010985df KYGcxCZKDLtSK1x5SqMUpKqJyl-8moDwyhoBgfPnthc\n",
      "09ffd909276bbd504af7618d45a1b8a0ac2f2bd0ca411eee93657e32fbf7d946 KMJvwsASOacxGpY4Uml3iBYgdt1kpaOYTjOxrfYdgA4\n",
      "ba3ed4e127e7e12a9acbd18b50f0d3a6529d0ada3649f0bfd218cd1997eb1b3d fE5q5wZnjq_KJJnhjKSs3Itl3HLY_LQ1SFT67p3SKPo\n",
      "20a441fa76b027711b33127960994dc2ff97eae44ac2be8723b8506034a179ee 22zLfTVfCdYwf-PLYEL30pIOxjlW8TAW120X7dLBi8s\n",
      "ec8f1236c9430a2579c490d93a71961eb21e6029e3cea1aeb307ed78b57e953a ehfBDLnCAc2hrsch-fuUBynGY6kgEJMSDnG0-x2rlkg\n",
      "abbe4ba70bc0356bd0480e46003714a50f3ea76d379cb9b1cb1d253b3082f252 KGXn-gwTlfVh46dJK-qou0nCTDzBpTwiHz2U-uUzyoE\n",
      "6730c1d52497a1cfd258960bd09a7955a8eda1ad82d96cea53fa604c312e49ea n7HqmVC_II3mezC9Zbomf_9-QYyLgPDg8S4n1x34o78\n",
      "905adaee7db8948f2c8c314c6e4832655ea230c73c80f8fffeaaf9bea3f8105e HGxOk5JVrq3b75PPSyLoAtzVYxGgHg6THWS5j8f3ICk\n",
      "ae57f852e1645c545077b323bdd00e9fcabb62345dd7514f6d7b0da51c73b841 n9GzM18lkamAxXs0gGQciKR9a1UNbhy9x2bThV3T9i8\n",
      "7dfdb8a50d8c227a142c6dc57ee31a4a2f207895e7c27ba8ace23f397fd2fa32 o6pj695IbgrIGOCOUGMwYaFZPs_gjUUIoa46Qw-PRWI\n",
      "534c4c25c513dbcc9fe9a93a85cf6b6cce126d3fb321499e83453fdadff15f10 xRuPaH3KTB2FWSj-XdvsW2Kmrif4DNKOQk5alJRu5kQ\n",
      "025c7bb770c0234124d084daa302454c1cafa084ee22c2ce778a476ce1452513 aY-0LSh-_9IASV1cKebMdrPosv4ayKFpkcaw5RPASCE\n",
      "b7fcfc8031b8b394282d1de5e287ea493ba4611eaaf2aca30481e64df7e9fb64 PI4vL1d-vSD9MRiA7hNntxGGInTI19bATZ_JiFXAI4w\n",
      "1b4176b98a96dab2d5b8beeb0388415e090dff81621a64fbc499991113775e02 ZC_cefBfck8kmlpFdf-t3Jlaf1RQM4_FGtRdqFCj_oc\n",
      "418a9b3ab666ccd0953ed02883ecce20c3bec77d7c12c2e89dff2cdc0332daa7 ZoZ9rnAhUa9RsIbm6okLPh_mLE4ihH5pDXdY1y7QKpg\n"
     ]
    }
   ],
   "source": [
    "import secrets\n",
    "\n",
    "for i in range(20):\n",
    "    print(secrets.token_hex(), secrets.token_urlsafe())"
   ]
  },
  {
   "cell_type": "markdown",
   "metadata": {},
   "source": [
    "---\n",
    "**PEP(8)**  <a name=pep8></a>\n",
    "\n",
    "Это соглашение о том, как писать код для языка python, включая стандартную библиотеку, входящую в состав python"
   ]
  },
  {
   "cell_type": "markdown",
   "metadata": {},
   "source": [
    "* [Руководство](https://pythonworld.ru/osnovy/pep-8-rukovodstvo-po-napisaniyu-koda-na-python.html)\n",
    "* [Все PEPы](https://pythonz.net/peps/)"
   ]
  },
  {
   "cell_type": "markdown",
   "metadata": {},
   "source": [
    "---\n",
    "***Дзен питона - Zen of Python - PEP(20)***\n",
    "\n",
    "Разработчики языка Python придерживаются определённой философии программирования, называемой «The Zen of Python» («Дзен Питона», или «Дзен Пайтона»). Её текст выдаётся интерпретатором Python по команде import this (работает один раз за сессию).\n",
    "В целом она подходит к программированию на любом языке.\n",
    "\n",
    "**Текст философии**\n",
    "* Красивое лучше, чем уродливое.\n",
    "* Явное лучше, чем неявное.\n",
    "* Простое лучше, чем сложное.\n",
    "* Сложное лучше, чем запутанное.\n",
    "* Плоское лучше, чем вложенное.\n",
    "* Разреженное лучше, чем плотное.\n",
    "* Читаемость имеет значение.\n",
    "* Особые случаи не настолько особые, чтобы нарушать правила.\n",
    "* При этом практичность важнее безупречности.\n",
    "* Ошибки никогда не должны замалчиваться.\n",
    "* Если они не замалчиваются явно.\n",
    "* Встретив двусмысленность, отбрось искушение угадать.\n",
    "* Должен существовать один и, желательно, только один очевидный способ сделать это.\n",
    "* Хотя он поначалу может быть и не очевиден, если вы не голландец [^1].\n",
    "* Сейчас лучше, чем никогда.\n",
    "* Хотя никогда зачастую лучше, чем прямо сейчас.\n",
    "* Если реализацию сложно объяснить — идея плоха.\n",
    "* Если реализацию легко объяснить — идея, возможно, хороша.\n",
    "* Пространства имён — отличная штука! Будем делать их больше!\n"
   ]
  }
 ],
 "metadata": {
  "kernelspec": {
   "display_name": "Python 3 (ipykernel)",
   "language": "python",
   "name": "python3"
  },
  "language_info": {
   "codemirror_mode": {
    "name": "ipython",
    "version": 3
   },
   "file_extension": ".py",
   "mimetype": "text/x-python",
   "name": "python",
   "nbconvert_exporter": "python",
   "pygments_lexer": "ipython3",
   "version": "3.12.4"
  }
 },
 "nbformat": 4,
 "nbformat_minor": 4
}
