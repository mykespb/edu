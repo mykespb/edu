{
 "cells": [
  {
   "cell_type": "markdown",
   "metadata": {},
   "source": [
    "# Примеры и упражнения по Python3 - простой уровень - часть 1"
   ]
  },
  {
   "cell_type": "markdown",
   "metadata": {},
   "source": [
    "Автор-составитель - Михаил Колодин"
   ]
  },
  {
   "cell_type": "markdown",
   "metadata": {},
   "source": [
    "Версия 2021-04-17 от 2021-05-08 - 1.7"
   ]
  },
  {
   "cell_type": "markdown",
   "metadata": {},
   "source": [
    "Разделы:\n",
    "* [Параметры системы](#params)\n",
    "* [Калькулятор](#calc)\n",
    "* [Условия](#conditions)\n",
    "* [Циклы](#loops)\n",
    "* [Строки](#strings)\n",
    "* [Дата и время](#datetime)\n",
    "* [Спецфункции и значения](#specfunc)\n",
    "* [Отладка](#debug)"
   ]
  },
  {
   "cell_type": "markdown",
   "metadata": {},
   "source": [
    "**Параметры системы** <a name=params></a>\n",
    "\n",
    "Далее весь код будет исполняемым\n",
    "```python\n",
    "import sys\n",
    "print(\"Python version:\", sys.version)\n",
    "```"
   ]
  },
  {
   "cell_type": "code",
   "execution_count": 8,
   "metadata": {},
   "outputs": [
    {
     "name": "stdout",
     "output_type": "stream",
     "text": [
      "Python version: 3.8.8 (default, Apr 13 2021, 19:58:26) \n",
      "[GCC 7.3.0]\n",
      "3.8.8\n"
     ]
    }
   ],
   "source": [
    "import sys\n",
    "print(\"Python version:\", sys.version)\n",
    "\n",
    "from platform import python_version\n",
    "print(python_version())"
   ]
  },
  {
   "cell_type": "markdown",
   "metadata": {},
   "source": [
    "---\n",
    "**Калькулятор** <a name=calc></a>"
   ]
  },
  {
   "cell_type": "markdown",
   "metadata": {},
   "source": [
    "---\n",
    "***Площади и население стран***"
   ]
  },
  {
   "cell_type": "code",
   "execution_count": 1,
   "metadata": {},
   "outputs": [],
   "source": [
    "ru_ter = 17125191\n",
    "ba_ter = 144000\n",
    "ru_nas = 146238185\n",
    "ba_nas = 172287439"
   ]
  },
  {
   "cell_type": "code",
   "execution_count": 2,
   "metadata": {},
   "outputs": [],
   "source": [
    "# плотность населения\n",
    "ru_plo = ru_nas / ru_ter\n",
    "ba_plo = ba_nas / ba_ter\n",
    "otn_plo = ba_plo / ru_plo"
   ]
  },
  {
   "cell_type": "code",
   "execution_count": 3,
   "metadata": {},
   "outputs": [
    {
     "name": "stdout",
     "output_type": "stream",
     "text": [
      "плотность населения России 8.539360816472062 чел. / кв.км,\n",
      "плотность населения Бангладеша 1196.4405486111111 чел. / кв.км,\n",
      "отношение плотностей населения Бангладеша к России 140.1089114659763 ,\n",
      "то есть в Бангладеше живёт примерно в 140 раз больше людей, чем в России.\n"
     ]
    }
   ],
   "source": [
    "print(\"плотность населения России\", ru_plo, \"чел. / кв.км,\")\n",
    "print(\"плотность населения Бангладеша\", ba_plo, \"чел. / кв.км,\")\n",
    "print(\"отношение плотностей населения Бангладеша к России\", otn_plo, \n",
    "      \",\\nто есть в Бангладеше живёт примерно в\", round(otn_plo), \"раз больше людей, чем в России.\")"
   ]
  },
  {
   "cell_type": "markdown",
   "metadata": {},
   "source": [
    "---\n",
    "***Золотое сечение*** $\\Phi$"
   ]
  },
  {
   "cell_type": "markdown",
   "metadata": {},
   "source": [
    "$$\\Phi = \\frac{\\sqrt5 + 1}2 \\approx 1.61803, \\phi = \\frac1\\Phi = \\frac{\\sqrt5 - 1}2 \\approx 0.61803$$"
   ]
  },
  {
   "cell_type": "markdown",
   "metadata": {},
   "source": [
    "| обозначение | формула | значение |\n",
    "|:-------------:|:-------:|:--------- |\n",
    "| $\\Phi$ | $\\frac{\\sqrt5 + 1}2$ | $\\approx 1.61803$ |\n",
    "| $\\phi$ | $\\frac{\\sqrt5 - 1}2$ | $\\approx 0.61803$ |\n"
   ]
  },
  {
   "cell_type": "markdown",
   "metadata": {},
   "source": [
    "См. [Wikipedia](https://ru.wikipedia.org/w/index.php?title=%D0%97%D0%BE%D0%BB%D0%BE%D1%82%D0%BE%D0%B5_%D1%81%D0%B5%D1%87%D0%B5%D0%BD%D0%B8%D0%B5&oldid=113372180)"
   ]
  },
  {
   "cell_type": "code",
   "execution_count": 4,
   "metadata": {},
   "outputs": [],
   "source": [
    "import math\n",
    "fi_major = (math.sqrt(5) + 1) / 2\n",
    "fi_minor = (math.sqrt(5) - 1) / 2"
   ]
  },
  {
   "cell_type": "code",
   "execution_count": 5,
   "metadata": {},
   "outputs": [
    {
     "name": "stdout",
     "output_type": "stream",
     "text": [
      "0.6180339887498949\n",
      "1.618033988749895\n"
     ]
    }
   ],
   "source": [
    "print(fi_minor)\n",
    "print(fi_major)"
   ]
  },
  {
   "cell_type": "markdown",
   "metadata": {},
   "source": [
    "---\n",
    "**Условия** <a name=conditions></a>"
   ]
  },
  {
   "cell_type": "markdown",
   "metadata": {},
   "source": [
    "---\n",
    "***Максимум из 2 чисел***"
   ]
  },
  {
   "cell_type": "code",
   "execution_count": 109,
   "metadata": {},
   "outputs": [],
   "source": [
    "a = 2; b = 3"
   ]
  },
  {
   "cell_type": "code",
   "execution_count": 144,
   "metadata": {},
   "outputs": [
    {
     "name": "stdout",
     "output_type": "stream",
     "text": [
      "a < b\n",
      "a < b\n"
     ]
    }
   ],
   "source": [
    "# простое сравнение на равенство (не вся задача решена)\n",
    "if a == b:\n",
    "    print(\"a == b\")\n",
    "\n",
    "# вложенные условные операторы\n",
    "if a == b:\n",
    "    print(\"a == b\")\n",
    "else:\n",
    "    if a < b:\n",
    "        print(\"a < b\")\n",
    "    else:\n",
    "        print(\"a > b\")\n",
    "    \n",
    "# составной условный оператор\n",
    "if a == b:\n",
    "    print(\"a == b\")\n",
    "elif a < b:\n",
    "    print(\"a < b\")\n",
    "else:\n",
    "    print(\"a > b\")"
   ]
  },
  {
   "cell_type": "code",
   "execution_count": 145,
   "metadata": {},
   "outputs": [
    {
     "name": "stdout",
     "output_type": "stream",
     "text": [
      "a < b\n"
     ]
    }
   ],
   "source": [
    "# составное условное выражение\n",
    "print(\"a == b\" if a == b else \"a < b\" if a < b else \"a > b\")"
   ]
  },
  {
   "cell_type": "markdown",
   "metadata": {},
   "source": [
    "---\n",
    "***Минимум из 3 чисел***"
   ]
  },
  {
   "cell_type": "code",
   "execution_count": 9,
   "metadata": {},
   "outputs": [
    {
     "data": {
      "text/plain": [
       "(3, 4, 5)"
      ]
     },
     "execution_count": 9,
     "metadata": {},
     "output_type": "execute_result"
    }
   ],
   "source": [
    "# выбираем нужный набор данных этот...\n",
    "a, b, c = 3, 4, 5\n",
    "a, b, c"
   ]
  },
  {
   "cell_type": "code",
   "execution_count": 30,
   "metadata": {},
   "outputs": [],
   "source": [
    "#...или этот\n",
    "a, b, c = 33, 22, 11"
   ]
  },
  {
   "cell_type": "code",
   "execution_count": 10,
   "metadata": {},
   "outputs": [
    {
     "name": "stdout",
     "output_type": "stream",
     "text": [
      "3\n"
     ]
    }
   ],
   "source": [
    "# а теперь посчитаем... наивный подход:\n",
    "if a < b and a < c:      # сравниваем со всеми остальными\n",
    "    print(a)\n",
    "elif b < c and b < a:    # сравниваем со всеми остальными\n",
    "    print(b)\n",
    "elif c < a and c < b:    # сравниваем со всеми остальными\n",
    "    print(c)"
   ]
  },
  {
   "cell_type": "code",
   "execution_count": 11,
   "metadata": {},
   "outputs": [
    {
     "name": "stdout",
     "output_type": "stream",
     "text": [
      "3\n"
     ]
    }
   ],
   "source": [
    "# а теперь посчитаем правильно:\n",
    "if a < b and a < c:      # сравниваем со всеми остальными\n",
    "    print(a)\n",
    "elif b < c:              # сравнивать с а уже не нужно, оно не самое маленькое, пропускаем\n",
    "    print(b)\n",
    "else:                    # осталось ваше с...\n",
    "    print(c)"
   ]
  },
  {
   "cell_type": "markdown",
   "metadata": {},
   "source": [
    "---\n",
    "**Циклы** <a name=loops></a>"
   ]
  },
  {
   "cell_type": "markdown",
   "metadata": {},
   "source": [
    "---\n",
    "***Сумма чисел***"
   ]
  },
  {
   "cell_type": "code",
   "execution_count": 12,
   "metadata": {},
   "outputs": [
    {
     "name": "stdout",
     "output_type": "stream",
     "text": [
      "1 1\n",
      "2 3\n",
      "3 6\n",
      "4 10\n",
      "5 15\n",
      "6 21\n",
      "7 28\n",
      "8 36\n",
      "9 45\n",
      "10 55\n"
     ]
    }
   ],
   "source": [
    "# не очень красиво\n",
    "sum = 0                 # сумма изначально нулевая и постепенно накапливается\n",
    "for i in range(1, 11):  # i будет от 1 до 10\n",
    "    sum += i            # на каждом шаге итерации (повтора цикла) добавляется новое слагаемое\n",
    "    print(i, sum)"
   ]
  },
  {
   "cell_type": "code",
   "execution_count": 13,
   "metadata": {},
   "outputs": [
    {
     "name": "stdout",
     "output_type": "stream",
     "text": [
      "55\n"
     ]
    }
   ],
   "source": [
    "print(sum)"
   ]
  },
  {
   "cell_type": "code",
   "execution_count": 9,
   "metadata": {},
   "outputs": [
    {
     "name": "stdout",
     "output_type": "stream",
     "text": [
      "сумма равна 55\n"
     ]
    }
   ],
   "source": [
    "# более красивое решение\n",
    "\n",
    "N = 10                   # предел вычислений (удобно вынести на самый верх программы, до вычислений)\n",
    "#N = 100                 # ...задача юного Гаусса\n",
    "#N = 1000\n",
    "\n",
    "summa = 0                  # сумма изначально нулевая и постепенно накапливается\n",
    "\n",
    "for i in range(1, N+1):  # i будет от 1 до N\n",
    "    summa += i             # на каждом шаге итерации (повтора цикла) добавляется новое слагаемое\n",
    "\n",
    "print(\"сумма равна\", summa)"
   ]
  },
  {
   "cell_type": "markdown",
   "metadata": {},
   "source": [
    "---\n",
    "**Foo Bar Baz**\n",
    "\n",
    "Вывести числа от 1 до 100, но с оговорками: \n",
    "- если число делится (нацело) на 3, вместо него напечатать foo,\n",
    "- если число делится на 5, вместо него напечатать bar,\n",
    "- если число делится и на 3, и на 5, вместо него напечатать baz."
   ]
  },
  {
   "cell_type": "code",
   "execution_count": 1,
   "metadata": {},
   "outputs": [
    {
     "name": "stdout",
     "output_type": "stream",
     "text": [
      "1 2 foo 4 bar foo 7 8 foo bar 11 foo 13 14 baz 16 17 foo 19 bar foo 22 23 foo bar 26 foo 28 29 baz 31 32 foo 34 bar foo 37 38 foo bar 41 foo 43 44 baz 46 47 foo 49 bar foo 52 53 foo bar 56 foo 58 59 baz 61 62 foo 64 bar foo 67 68 foo bar 71 foo 73 74 baz 76 77 foo 79 bar foo 82 83 foo bar 86 foo 88 89 baz 91 92 foo 94 bar foo 97 98 foo bar "
     ]
    }
   ],
   "source": [
    "for i in range(1, 101):\n",
    "    if i % 15 == 0:\n",
    "        print('baz', end=\" \")\n",
    "    elif i % 3 == 0:\n",
    "        print('foo', end=\" \")\n",
    "    elif i % 5 == 0:\n",
    "        print('bar', end=\" \")\n",
    "    else:\n",
    "        print(i, end=\" \")"
   ]
  },
  {
   "cell_type": "markdown",
   "metadata": {},
   "source": [
    "---\n",
    "***Фибоначчи не по-питоновски***"
   ]
  },
  {
   "cell_type": "code",
   "execution_count": 5,
   "metadata": {},
   "outputs": [
    {
     "name": "stdout",
     "output_type": "stream",
     "text": [
      "1 1\n"
     ]
    }
   ],
   "source": [
    "UP = 20    # вычисляем и печатаем 20 первых чисел Фибоначчи, рекуррентные последовательности\n",
    "f1 = 1\n",
    "f2 = 1\n",
    "print(f1, f2)"
   ]
  },
  {
   "cell_type": "code",
   "execution_count": 6,
   "metadata": {},
   "outputs": [
    {
     "name": "stdout",
     "output_type": "stream",
     "text": [
      "1 1 2\n",
      "1 2 2\n",
      "1 2 3\n",
      "2 3 3\n",
      "2 3 5\n",
      "3 5 5\n",
      "3 5 8\n",
      "5 8 8\n",
      "5 8 13\n",
      "8 13 13\n",
      "8 13 21\n",
      "13 21 21\n",
      "13 21 34\n",
      "21 34 34\n",
      "21 34 55\n",
      "34 55 55\n",
      "34 55 89\n",
      "55 89 89\n",
      "55 89 144\n",
      "89 144 144\n",
      "89 144 233\n",
      "144 233 233\n",
      "144 233 377\n",
      "233 377 377\n",
      "233 377 610\n",
      "377 610 610\n",
      "377 610 987\n",
      "610 987 987\n",
      "610 987 1597\n",
      "987 1597 1597\n",
      "987 1597 2584\n",
      "1597 2584 2584\n",
      "1597 2584 4181\n",
      "2584 4181 4181\n",
      "2584 4181 6765\n",
      "4181 6765 6765\n"
     ]
    }
   ],
   "source": [
    "for n in range(2, UP):\n",
    "    f3 = f1 + f2\n",
    "    print(f1, f2, f3)\n",
    "    f1 = f2\n",
    "    f2 = f3\n",
    "    print(f1, f2, f3)"
   ]
  },
  {
   "cell_type": "markdown",
   "metadata": {},
   "source": [
    "***Фибоначчи по-питоновски***"
   ]
  },
  {
   "cell_type": "code",
   "execution_count": 101,
   "metadata": {},
   "outputs": [
    {
     "name": "stdout",
     "output_type": "stream",
     "text": [
      "1 1\n"
     ]
    }
   ],
   "source": [
    "UP = 20        # вычисляем и печатаем 20 первых чисел Фибоначчи\n",
    "f1 = f2 = 1\n",
    "print(f1, f2)"
   ]
  },
  {
   "cell_type": "code",
   "execution_count": 33,
   "metadata": {},
   "outputs": [
    {
     "name": "stdout",
     "output_type": "stream",
     "text": [
      "2 3 5 8 13 21 34 55 89 144 233 377 610 987 1597 2584 4181 6765 "
     ]
    }
   ],
   "source": [
    "for _ in range(2, UP):\n",
    "    f1, f2 = f2, f1+f2\n",
    "    print(f2, end=\" \")"
   ]
  },
  {
   "cell_type": "markdown",
   "metadata": {},
   "source": [
    "---\n",
    "***Факториал $n! = 1 \\cdot 2 \\cdot 3 \\cdot \\ldots \\cdot n$***\n",
    "\n",
    "Напр., $5! = 1 \\cdot 2 \\cdot 3 \\cdot 4 \\cdot 5$.\n",
    "Кроме того, принято, что $0! = 1$.\n",
    "\n",
    "Вычислить и напечатать факториалы чисел от 1 до 30."
   ]
  },
  {
   "cell_type": "code",
   "execution_count": 10,
   "metadata": {},
   "outputs": [],
   "source": [
    "UP = 30\n",
    "f = 1"
   ]
  },
  {
   "cell_type": "code",
   "execution_count": 11,
   "metadata": {},
   "outputs": [
    {
     "name": "stdout",
     "output_type": "stream",
     "text": [
      "         1!  =                                        1\n",
      "         2!  =                                        2\n",
      "         3!  =                                        6\n",
      "         4!  =                                       24\n",
      "         5!  =                                      120\n",
      "         6!  =                                      720\n",
      "         7!  =                                     5040\n",
      "         8!  =                                    40320\n",
      "         9!  =                                   362880\n",
      "        10!  =                                  3628800\n",
      "        11!  =                                 39916800\n",
      "        12!  =                                479001600\n",
      "        13!  =                               6227020800\n",
      "        14!  =                              87178291200\n",
      "        15!  =                            1307674368000\n",
      "        16!  =                           20922789888000\n",
      "        17!  =                          355687428096000\n",
      "        18!  =                         6402373705728000\n",
      "        19!  =                       121645100408832000\n",
      "        20!  =                      2432902008176640000\n",
      "        21!  =                     51090942171709440000\n",
      "        22!  =                   1124000727777607680000\n",
      "        23!  =                  25852016738884976640000\n",
      "        24!  =                 620448401733239439360000\n",
      "        25!  =               15511210043330985984000000\n",
      "        26!  =              403291461126605635584000000\n",
      "        27!  =            10888869450418352160768000000\n",
      "        28!  =           304888344611713860501504000000\n",
      "        29!  =          8841761993739701954543616000000\n",
      "        30!  =        265252859812191058636308480000000\n"
     ]
    }
   ],
   "source": [
    "for i in range(1, UP+1):\n",
    "    f *= i             #  то же, что f = f * i\n",
    "    print(\"%10i!  =\" % i, \"%40i\" % f)"
   ]
  },
  {
   "cell_type": "markdown",
   "metadata": {},
   "source": [
    "---\n",
    "**Строки** <a name=strings></a>"
   ]
  },
  {
   "cell_type": "markdown",
   "metadata": {},
   "source": [
    "---\n",
    "***Простые операции со строками***"
   ]
  },
  {
   "cell_type": "code",
   "execution_count": 1,
   "metadata": {},
   "outputs": [
    {
     "data": {
      "text/plain": [
       "'привет'"
      ]
     },
     "execution_count": 1,
     "metadata": {},
     "output_type": "execute_result"
    }
   ],
   "source": [
    "s = \"привет\"\n",
    "s"
   ]
  },
  {
   "cell_type": "code",
   "execution_count": 2,
   "metadata": {},
   "outputs": [
    {
     "data": {
      "text/plain": [
       "('п', 'р', 'т', 'е', 'р', 'пр', 'вет', 'прив', 'привет')"
      ]
     },
     "execution_count": 2,
     "metadata": {},
     "output_type": "execute_result"
    }
   ],
   "source": [
    "s[0], s[1], s[-1], s[-2], s[1:2], s[0:2], s[3:], s[:4], s[:]"
   ]
  },
  {
   "cell_type": "markdown",
   "metadata": {},
   "source": [
    "***Действия над строками***"
   ]
  },
  {
   "cell_type": "code",
   "execution_count": 4,
   "metadata": {},
   "outputs": [
    {
     "data": {
      "text/plain": [
       "('hello', 'world')"
      ]
     },
     "execution_count": 4,
     "metadata": {},
     "output_type": "execute_result"
    }
   ],
   "source": [
    "s1 = \"hello\"; s2 = \"world\"\n",
    "s1, s2"
   ]
  },
  {
   "cell_type": "code",
   "execution_count": 9,
   "metadata": {},
   "outputs": [
    {
     "name": "stdout",
     "output_type": "stream",
     "text": [
      "helloworld\n",
      "hello world\n",
      "hello, world\n"
     ]
    }
   ],
   "source": [
    "s3 = s1 + s2\n",
    "print(s3)\n",
    "s4 = s1 + \" \" + s2\n",
    "print(s4)\n",
    "s5 = s1 + \", \" + s2\n",
    "print(s5)"
   ]
  },
  {
   "cell_type": "markdown",
   "metadata": {},
   "source": [
    "***Строковые функции***"
   ]
  },
  {
   "cell_type": "code",
   "execution_count": 26,
   "metadata": {},
   "outputs": [
    {
     "name": "stdout",
     "output_type": "stream",
     "text": [
      "это питон\n",
      "9\n",
      "длина строки ' это питон ' равна 9\n",
      "длина строки 'это питон' равна 9\n",
      "длина строки 'это питон' равна 9\n",
      "длина строки 'это питон' равна 9\n"
     ]
    }
   ],
   "source": [
    "s = \"это питон\"\n",
    "print(s)\n",
    "\n",
    "print(len(s))\n",
    "print(\"длина строки '\", s, \"' равна\", len(s))\n",
    "\n",
    "print(\"длина строки '%s' равна %d\" % (s, len(s)))\n",
    "print(\"длина строки '{}' равна {}\".format(s, len(s)))\n",
    "print(\"длина строки '{0}' равна {1}\".format(s, len(s)))"
   ]
  },
  {
   "cell_type": "markdown",
   "metadata": {},
   "source": [
    "---\n",
    "***Разбор 3-значного числа на разряды***\n",
    "123 = 100 + 20 + 3"
   ]
  },
  {
   "cell_type": "code",
   "execution_count": 38,
   "metadata": {},
   "outputs": [],
   "source": [
    "n = 123"
   ]
  },
  {
   "cell_type": "code",
   "execution_count": 39,
   "metadata": {},
   "outputs": [],
   "source": [
    "s = str(n//100) + '00 + ' + str(n%100//10) + '0 + ' + str(n%10)"
   ]
  },
  {
   "cell_type": "code",
   "execution_count": 40,
   "metadata": {},
   "outputs": [
    {
     "name": "stdout",
     "output_type": "stream",
     "text": [
      "100 + 20 + 3\n"
     ]
    }
   ],
   "source": [
    "print(s)"
   ]
  },
  {
   "cell_type": "code",
   "execution_count": 41,
   "metadata": {},
   "outputs": [
    {
     "data": {
      "text/plain": [
       "'100 + 20 + 3'"
      ]
     },
     "execution_count": 41,
     "metadata": {},
     "output_type": "execute_result"
    }
   ],
   "source": [
    "s"
   ]
  },
  {
   "cell_type": "markdown",
   "metadata": {},
   "source": [
    "---\n",
    "***Перевод из строки в натуральное чсило***"
   ]
  },
  {
   "cell_type": "code",
   "execution_count": 35,
   "metadata": {},
   "outputs": [],
   "source": [
    "s = \"123\""
   ]
  },
  {
   "cell_type": "code",
   "execution_count": 39,
   "metadata": {},
   "outputs": [
    {
     "name": "stdout",
     "output_type": "stream",
     "text": [
      "строка: 123 , число: 123\n"
     ]
    }
   ],
   "source": [
    "# схема Горнера\n",
    "n = 0\n",
    "for d in s:\n",
    "    n = n*10 + ord(d) - ord('0')\n",
    "print(\"строка:\", s, \", число:\", n)"
   ]
  },
  {
   "cell_type": "code",
   "execution_count": 40,
   "metadata": {},
   "outputs": [
    {
     "name": "stdout",
     "output_type": "stream",
     "text": [
      "строка: 123 , число: 123\n"
     ]
    }
   ],
   "source": [
    "#  а можно и по-питоновски:\n",
    "n = int(s)\n",
    "print(\"строка:\", s, \", число:\", n)"
   ]
  },
  {
   "cell_type": "markdown",
   "metadata": {},
   "source": [
    "---\n",
    "**Дата и время** <a name=datetime></a>"
   ]
  },
  {
   "cell_type": "markdown",
   "metadata": {},
   "source": [
    "---\n",
    "***Сегодня и текущее время***"
   ]
  },
  {
   "cell_type": "code",
   "execution_count": 42,
   "metadata": {},
   "outputs": [
    {
     "name": "stdout",
     "output_type": "stream",
     "text": [
      "2021-04-17 22:45:19.111812\n",
      "Current date and time :  2021-04-17 22:45:19\n",
      "Текущие дата и время :  17.04.2021 22:45:19\n",
      "Нынче год такой: 2021\n"
     ]
    }
   ],
   "source": [
    "import datetime\n",
    "\n",
    "now = datetime.datetime.now()\n",
    "\n",
    "print(now)\n",
    "print (\"Current date and time : \", now.strftime(\"%Y-%m-%d %H:%M:%S\"))\n",
    "print (\"Текущие дата и время : \", now.strftime(\"%d.%m.%Y %H:%M:%S\"))\n",
    "print(\"Нынче год такой:\", now.year)"
   ]
  },
  {
   "cell_type": "markdown",
   "metadata": {},
   "source": [
    "---\n",
    "**Специальные функции и значения** <a name=specfunc></a>"
   ]
  },
  {
   "cell_type": "markdown",
   "metadata": {},
   "source": [
    "---\n",
    "***Случайные числа***"
   ]
  },
  {
   "cell_type": "code",
   "execution_count": 13,
   "metadata": {},
   "outputs": [
    {
     "name": "stdout",
     "output_type": "stream",
     "text": [
      "316, 489, 24, 616, 7, 376, 915, 368, 997, 276, 394, 310, 545, 173, 835, 90, 796, 298, 698, 973, 854, 571, 94, 847, 805, 816, 582, 627, 752, 660, 793, 0, 158, 730, 263, 634, 415, 291, 78, 692, 423, 991, 367, 894, 849, 305, 275, 268, 441, 999, 174, 912, 319, 467, 265, 985, 120, 45, 304, 115, 884, 111, 47, 31, 954, 645, 728, 867, 225, 915, 823, 229, 924, 185, 698, 769, 631, 943, 190, 650, 757, 387, 516, 640, 53, 183, 923, 146, 260, 386, 480, 930, 95, 112, 750, 10, 816, 211, 719, 806, \n",
      "471, 853, -599, -556, -551, -923, -412, 451, -937, 506, -36, 848, -94, -179, -21, 22, -723, 867, -894, 550, 365, -779, 545, -841, 878, -812, 140, -606, -796, -451, 444, 425, 380, -864, -27, -467, -338, -403, 121, 136, -361, 923, -166, -430, -353, -925, 47, -53, 48, -887, -99, -750, 815, -805, -455, 340, 588, 784, -471, 86, 957, -227, -572, 369, 414, 539, -836, -767, -499, -959, -520, 572, 405, -958, -724, -568, -361, 345, 270, 886, -968, 280, 872, 65, -953, -854, -248, 365, 783, -153, -6, -632, 426, -878, -217, 481, 895, -913, 759, -171, "
     ]
    }
   ],
   "source": [
    "# случайные целые числа\n",
    "import random\n",
    "\n",
    "for _ in range(100):\n",
    "    print(random.randint(0, 1000), end=\", \")\n",
    "print()\n",
    "for _ in range(100):\n",
    "    print(random.randint(-1000, 1000), end=\", \")"
   ]
  },
  {
   "cell_type": "code",
   "execution_count": 16,
   "metadata": {},
   "outputs": [
    {
     "name": "stdout",
     "output_type": "stream",
     "text": [
      "90, 54, 64, 76, 85, 64, 89, 32, 23, 80, 48, 32, 21, 19, 92, 49, 80, 83, 98, 72, 59, 39, 33, 13, 54, 93, 87, 86, 69, 50, 37, 83, 2, 66, 77, 88, 59, 44, 84, 10, 11, 88, 75, 78, 41, 34, 26, 9, 13, 42, 41, 86, 9, 36, 67, 24, 8, 73, 67, 55, 48, 79, 67, 46, 52, 6, 96, 36, 100, 12, 32, 75, 29, 71, 22, 41, 42, 3, 88, 72, 15, 66, 8, 56, 93, 97, 100, 65, 91, 46, 52, 16, 36, 85, 41, 30, 32, 53, 33, 50. the end"
     ]
    }
   ],
   "source": [
    "# пакет случайных чисел\n",
    "\n",
    "print(*[random.randint(1, 100) for i in range(100)], sep=\", \", end=\". the end\")"
   ]
  },
  {
   "cell_type": "code",
   "execution_count": 27,
   "metadata": {},
   "outputs": [
    {
     "name": "stdout",
     "output_type": "stream",
     "text": [
      " -836\t -169\t -626\t  805\t  737\t  555\t  718\t  960\t  -91\t  178\n",
      " -744\t -767\t -348\t -817\t -670\t -667\t  742\t -964\t  516\t -374\n",
      "  539\t -848\t  657\t  248\t  117\t -262\t  876\t  797\t -100\t  372\n",
      " -919\t -844\t -483\t  492\t -296\t  -62\t  659\t -308\t  675\t  856\n",
      " -960\t  386\t -859\t  560\t -375\t  905\t -404\t -286\t -188\t    6\n",
      "  301\t  328\t -528\t -970\t -428\t  964\t -743\t  615\t -276\t  627\n",
      "   38\t  883\t  509\t -775\t   73\t  771\t  640\t -225\t  323\t  293\n",
      "   62\t -801\t -640\t  570\t  979\t   36\t  662\t  190\t -561\t  868\n",
      "  964\t  785\t  684\t -675\t  148\t  946\t  769\t -109\t -766\t -317\n",
      "  385\t  185\t  293\t   44\t -835\t  922\t -324\t  388\t  -19\t -392\n"
     ]
    }
   ],
   "source": [
    "# случайные целые числа\n",
    "\n",
    "for i in range(1, 101):\n",
    "    print(\"%5d\" % (random.randint(-1000, +1000),), end=\"\\n\" if i%10==0 else \"\\t\")"
   ]
  },
  {
   "cell_type": "code",
   "execution_count": 21,
   "metadata": {},
   "outputs": [
    {
     "name": "stdout",
     "output_type": "stream",
     "text": [
      "0.0727914833376414\t0.9948159787170412\t0.9154788134480871\t0.20285598042296116\n",
      "0.1669523525851756\t0.8129781164417553\t0.3218368983929021\t0.28607407591883294\n",
      "0.8079517754779411\t0.8500365587953752\t0.053335110312917045\t0.2346580186188839\n",
      "0.09604007788377611\t0.18357698043884207\t0.7874423764012899\t0.735141962085575\n",
      "0.14521405377962582\t0.07097648918519794\t0.27546084570730034\t0.46968291636738946\n",
      "0.24234272987174177\t0.2139296928486325\t0.23069198066040897\t0.875540195411586\n",
      "0.4713233578142696\t0.4146999343021285\t0.6124052863216627\t0.7089817227761167\n",
      "0.11283087661855828\t0.32399784069877213\t0.7483744968994526\t0.10500402563300792\n",
      "0.6813007146177424\t0.8577214194002457\t0.676500509473979\t0.3753098240952586\n",
      "0.5398884109816028\t0.15638802849943134\t0.166008497355138\t0.6688771201423074\n",
      "0.39392575495359883\t0.09416927051000923\t0.6499406107907848\t0.6178573783177651\n",
      "0.8081004611412458\t0.3194604020945354\t0.5856463986687571\t0.37951529091649705\n",
      "0.05988480590223566\t0.6850378130618863\t0.07016815261171017\t0.7227508015315204\n",
      "0.8233424854426461\t0.7991865930824293\t0.18549227260485324\t0.14151239121882853\n",
      "0.04227889561604892\t0.04649799672432775\t0.07910649327975672\t0.41529365211070135\n",
      "0.3049290148711469\t0.6696482807829973\t0.8746054629065867\t0.7262250855208218\n",
      "0.5661668874890382\t0.22320305893142145\t0.9897552189905398\t0.7101583177604464\n",
      "0.9453123212644953\t0.3168635986390208\t0.6767577461140281\t0.4270598651002492\n",
      "0.6855943255509115\t0.85299696360575\t0.957021410835073\t0.3562401167863989\n",
      "0.3331358876723849\t0.06271162542311115\t0.8418358084295882\t0.5674488438429933\n",
      "0.6876213658629191\t0.5164239718207643\t0.3005494635457857\t0.49149963354315074\n",
      "0.3112042463380551\t0.31938533638164823\t0.667632286363371\t0.9889028884748561\n",
      "0.3280934482996539\t0.3372896171594687\t0.7709986986515407\t0.3002920426065002\n",
      "0.039695551961722475\t0.7656218143500426\t0.4198550165563121\t0.6357719120357399\n",
      "0.9525798371489895\t0.2280766294779919\t0.45171384321355934\t0.017453449929498377\n"
     ]
    }
   ],
   "source": [
    "# случайные вещественные числа\n",
    "\n",
    "for i in range(1, 101):\n",
    "    print(random.random(), end=\"\\n\" if i%4==0 else \"\\t\")"
   ]
  },
  {
   "cell_type": "markdown",
   "metadata": {},
   "source": [
    "---\n",
    "***Уникальные идентификаторы***"
   ]
  },
  {
   "cell_type": "code",
   "execution_count": 121,
   "metadata": {},
   "outputs": [
    {
     "name": "stdout",
     "output_type": "stream",
     "text": [
      "    0\tfb036bf9-728e-4220-9c23-2f0604d83141\tfb036bf9728e42209c232f0604d83141\n",
      "    1\tbd0d15c8-5dfb-4bc6-ae51-b8946564d5f5\tbd0d15c85dfb4bc6ae51b8946564d5f5\n",
      "    2\t9ab173ed-17ac-439c-90f3-7d40357b8a25\t9ab173ed17ac439c90f37d40357b8a25\n",
      "    3\t79b36b0f-b640-4105-a448-2b73bc8c2cd0\t79b36b0fb6404105a4482b73bc8c2cd0\n",
      "    4\t121c3638-18cf-4c47-bea4-db0003bf75c9\t121c363818cf4c47bea4db0003bf75c9\n",
      "    5\t28135eb7-6d93-425a-84cc-b19dd4800048\t28135eb76d93425a84ccb19dd4800048\n",
      "    6\t9b06261a-521a-439d-9f8b-9b6bd8035986\t9b06261a521a439d9f8b9b6bd8035986\n",
      "    7\t2437bb88-4f27-4240-b263-9007110272bb\t2437bb884f274240b2639007110272bb\n",
      "    8\tdf36af2d-2169-4ffa-8829-3cc67f220e10\tdf36af2d21694ffa88293cc67f220e10\n",
      "    9\te7739ed6-c36d-4b39-9e0d-9afbd2d4f67e\te7739ed6c36d4b399e0d9afbd2d4f67e\n",
      "   10\t98710c8b-287f-406d-a888-247f0111734a\t98710c8b287f406da888247f0111734a\n",
      "   11\tb7c4ed71-e876-4e75-a032-e4f4cc8dccbb\tb7c4ed71e8764e75a032e4f4cc8dccbb\n",
      "   12\t77f79d69-f2e3-4e32-8c3f-ec6e507b321c\t77f79d69f2e34e328c3fec6e507b321c\n",
      "   13\tf8c7eb31-c801-4636-9550-ea1446300a15\tf8c7eb31c80146369550ea1446300a15\n",
      "   14\t04ac94d1-64e7-42f1-aaae-ba3426de870f\t04ac94d164e742f1aaaeba3426de870f\n",
      "   15\t3e9c5dcb-eecc-4215-9484-e20b7702b673\t3e9c5dcbeecc42159484e20b7702b673\n",
      "   16\taf8ebdac-9d61-4482-bfca-2d6502cefe3a\taf8ebdac9d614482bfca2d6502cefe3a\n",
      "   17\t7272011f-b39f-4598-b0b6-1752cc9f8c8c\t7272011fb39f4598b0b61752cc9f8c8c\n",
      "   18\t9abde193-31f6-4740-8343-2ef7c2639782\t9abde19331f6474083432ef7c2639782\n",
      "   19\t009b9f1d-523d-48d9-853d-f8610af4b087\t009b9f1d523d48d9853df8610af4b087\n"
     ]
    }
   ],
   "source": [
    "import uuid\n",
    "\n",
    "for i in range(20):\n",
    "    uu = uuid.uuid4()\n",
    "    print(\"%5i\\t%s\\t%s\" % (i, uu, uu.hex))"
   ]
  },
  {
   "cell_type": "markdown",
   "metadata": {},
   "source": [
    "---\n",
    "***Секретные строки***"
   ]
  },
  {
   "cell_type": "code",
   "execution_count": 22,
   "metadata": {},
   "outputs": [
    {
     "name": "stdout",
     "output_type": "stream",
     "text": [
      "8decd5d7f6967d035cc17dc127e3a4709b2819e3b58e239f1331a3a24b0ffd7b cjRAwpJlh5asxdwfFa7AunS6jletseP96QSETsb2LFc\n",
      "684ff5623753643a4bb46a960de768f43ca5d0c3205afa88ef55315be9c517df hbxU5YJGSVWCDKNEUpxGVhgo1zkIORzaJipnHPE2NUY\n",
      "6e5a68faf4766c803d3f747718657608c7f69e2c9756681425524ca2039534e2 zKu1UAmOS5cvm7o5VNDjJI1HkugvfshRg8emEYN8GAU\n",
      "19ea4ea20bc2221e8dd19b4f0ad0beaf08577088e559c00796b40092b46c67df g1Op-thMXbzoqHjPeghoIbzdc6yIjiV9DiYN7YmZozk\n",
      "204bd33f7c719defa004a44bdc19a0817f37156f03e570a679a261912f32972a 44w5A2ZO3wYqDop6Y2WWn2uB33VpIhoQwFwQ3GQdwWM\n",
      "f3191049aa30c1a8da54777182c8d9281ca66c0f3c1cb551132a8ff8ec3f98df CrLx3TA-AjhUMn-ULQJsydPGpifx7Cnbyu1v40ShK6g\n",
      "1712852a3aecdeb73976bbb229eb43f231a25b46eaa67ed33bc2f110825a4c33 cMdKd2z0P95MwRHtyvM6P7p554gxgg3uTO1ID0U039E\n",
      "6c9f856ace6c17b2d6d809a06d1b8316c4863418bee57ea2570413e8cbc72de2 luHtgf0la8J7tYlGK3vjgWwYvK0hZCunmOO5nvn4M6E\n",
      "66b6820d6edc4a84419772f244ccdc5e57983c8274937c03e9734d277679979b WqpsSveHVL3A_CrYj4P3jybj0udQxrzbwyIj5eLrKUE\n",
      "3f11a0607e6f87f50284e25e81691b549581a9aa7f2d058b657925b9b9ff52d7 Nelwuyc9oZD-lZ55z_stwM4Jch13SUIBS7NPjvxD9BQ\n",
      "2e678c96163eb41de19b6b76a7b398e17eea01cec58aabc9b457d16865b0d277 nC6I154r28I9Z-nTNO31IEO_bmKLpH7CcTQGt4iSH6A\n",
      "d4cd84eaa92bef98c1970e4edb6881329b07266f13e140694c42ec1f24e545ca oOXug5PY72nTscbzM66TioPbwQG1pzJnQeTcHKclMCE\n",
      "cb6d8656d7af06f21cac0c15c3903fa26160b8e74044579b84e50533f7246143 wNXiNyAWtseE05qdLUsMqJnMlVezs5pHOwD23Kg4TLg\n",
      "4aa14ef5bff8789d03070d4684843ca947de8236bdf55b728483991787dff57c WTUijrUSinCOlbKX6VXoGyLQqRGx52DRK79M4JXGuwc\n",
      "f3ded12836fad44653771aa34c52f4ad5df235383efade84989c8f1a8dba1309 JkZbRqiBpYQwGobk9jiJRTfJxlQSyVPHQCdUOZD6ZfI\n",
      "73dcae3fe4af709c65972d2ee77a04ae867d1830f107f05a4d6b7a2ed10139db JWNtNWG6SD1UWIV5h3_pNaN81oyNJ8NFBVoDBcbhhOo\n",
      "f8639f7b13246b9adc5762210cf2b5f03f38347f8e981524973fe0efdd8145e8 XzYzE-qiiEsOSWR4AJqswgnxbo3XLa9NVUJVyKgvSbE\n",
      "8b5eec072fc116aecbef29640557ee285b61ad38eb193e716529a4ac4d26135b FSXNSRYyjgmFOcwpN5QC5tROii4Kbkuou_HZ_AYdn1E\n",
      "fd4c7639f238f2dc210731e427641c6067b377af4c2de65377abe9051f5940ff dPvrwnYXWFi7ii5lMg4dEfg8VGHSFJ72hAbZGRW00XQ\n",
      "93247892c281e762c14d91b09f8055789294d97a01b1038fa26ebd916e189ce3 N5bbaX-Et-N9q5vFCmeuZ1zttkCKYFkIDcIlo1n-QfE\n"
     ]
    }
   ],
   "source": [
    "import secrets\n",
    "\n",
    "for i in range(20):\n",
    "    print(secrets.token_hex(), secrets.token_urlsafe())"
   ]
  },
  {
   "cell_type": "markdown",
   "metadata": {},
   "source": [
    "---\n",
    "**PEP(8)**  <a name=pep8></a>\n",
    "\n",
    "Это соглашение о том, как писать код для языка python, включая стандартную библиотеку, входящую в состав python"
   ]
  },
  {
   "cell_type": "markdown",
   "metadata": {},
   "source": [
    "* [Руководство](https://pythonworld.ru/osnovy/pep-8-rukovodstvo-po-napisaniyu-koda-na-python.html)\n",
    "* [Все PEPы](https://pythonz.net/peps/)"
   ]
  },
  {
   "cell_type": "markdown",
   "metadata": {},
   "source": [
    "---\n",
    "***Дзен питона - Zen of Python - PEP(20)***\n",
    "\n",
    "Разработчики языка Python придерживаются определённой философии программирования, называемой «The Zen of Python» («Дзен Питона», или «Дзен Пайтона»). Её текст выдаётся интерпретатором Python по команде import this (работает один раз за сессию).\n",
    "В целом она подходит к программированию на любом языке.\n",
    "\n",
    "**Текст философии**\n",
    "* Красивое лучше, чем уродливое.\n",
    "* Явное лучше, чем неявное.\n",
    "* Простое лучше, чем сложное.\n",
    "* Сложное лучше, чем запутанное.\n",
    "* Плоское лучше, чем вложенное.\n",
    "* Разреженное лучше, чем плотное.\n",
    "* Читаемость имеет значение.\n",
    "* Особые случаи не настолько особые, чтобы нарушать правила.\n",
    "* При этом практичность важнее безупречности.\n",
    "* Ошибки никогда не должны замалчиваться.\n",
    "* Если они не замалчиваются явно.\n",
    "* Встретив двусмысленность, отбрось искушение угадать.\n",
    "* Должен существовать один и, желательно, только один очевидный способ сделать это.\n",
    "* Хотя он поначалу может быть и не очевиден, если вы не голландец [^1].\n",
    "* Сейчас лучше, чем никогда.\n",
    "* Хотя никогда зачастую лучше, чем прямо сейчас.\n",
    "* Если реализацию сложно объяснить — идея плоха.\n",
    "* Если реализацию легко объяснить — идея, возможно, хороша.\n",
    "* Пространства имён — отличная штука! Будем делать их больше!\n"
   ]
  }
 ],
 "metadata": {
  "kernelspec": {
   "display_name": "Python 3",
   "language": "python",
   "name": "python3"
  },
  "language_info": {
   "codemirror_mode": {
    "name": "ipython",
    "version": 3
   },
   "file_extension": ".py",
   "mimetype": "text/x-python",
   "name": "python",
   "nbconvert_exporter": "python",
   "pygments_lexer": "ipython3",
   "version": "3.8.8"
  }
 },
 "nbformat": 4,
 "nbformat_minor": 4
}
