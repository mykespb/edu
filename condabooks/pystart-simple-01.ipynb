{
 "cells": [
  {
   "cell_type": "markdown",
   "metadata": {},
   "source": [
    "# Примеры и упражнения по Python3 - простой уровень"
   ]
  },
  {
   "cell_type": "markdown",
   "metadata": {},
   "source": [
    "Автор-составитель - Михаил Колодин"
   ]
  },
  {
   "cell_type": "markdown",
   "metadata": {},
   "source": [
    "Версия 2021-04-17 от 2021-04-16 1.2"
   ]
  },
  {
   "cell_type": "markdown",
   "metadata": {},
   "source": [
    "Разделы:\n",
    "* Параметры системы\n",
    "* Калькулятор\n",
    "* Условия\n",
    "* Циклы\n",
    "* Строки\n",
    "* Кортежи и списки\n",
    "* Словари и множества\n",
    "* Прочие сложные структуры данных\n",
    "* Функции\n",
    "* Математика\n",
    "* Дата и время\n",
    "* Спецфункции и значения\n",
    "* Отладка\n",
    "* Форматированный вывод\n",
    "* PEP(8)"
   ]
  },
  {
   "cell_type": "markdown",
   "metadata": {},
   "source": [
    "**Параметры системы**"
   ]
  },
  {
   "cell_type": "code",
   "execution_count": 105,
   "metadata": {},
   "outputs": [
    {
     "name": "stdout",
     "output_type": "stream",
     "text": [
      "Python version: 3.8.3 (default, Jul  2 2020, 16:21:59) \n",
      "[GCC 7.3.0]\n",
      "3.8.3\n"
     ]
    }
   ],
   "source": [
    "import sys\n",
    "print(\"Python version:\", sys.version)\n",
    "\n",
    "from platform import python_version\n",
    "print(python_version())"
   ]
  },
  {
   "cell_type": "markdown",
   "metadata": {},
   "source": [
    "**Калькулятор**"
   ]
  },
  {
   "cell_type": "markdown",
   "metadata": {},
   "source": [
    "***Площади и население стран***"
   ]
  },
  {
   "cell_type": "code",
   "execution_count": 15,
   "metadata": {},
   "outputs": [],
   "source": [
    "ru_ter = 17125191\n",
    "ba_ter = 144000\n",
    "ru_nas = 146238185\n",
    "ba_nas = 172287439"
   ]
  },
  {
   "cell_type": "code",
   "execution_count": 16,
   "metadata": {},
   "outputs": [],
   "source": [
    "# плотность населения\n",
    "ru_plo = ru_nas / ru_ter\n",
    "ba_plo = ba_nas / ba_ter\n",
    "otn_plo = ba_plo / ru_plo"
   ]
  },
  {
   "cell_type": "code",
   "execution_count": 28,
   "metadata": {},
   "outputs": [
    {
     "name": "stdout",
     "output_type": "stream",
     "text": [
      "плотность населения России 8.539360816472062 чел. / кв.км,\n",
      "плотность населения Бангладеша 1196.4405486111111 чел. / кв.км,\n",
      "отношение плотностей населения Бангладеша к России 140.1089114659763 ,\n",
      "то есть в Бангладеше живёт примерно в 140 раз больше людей, чем в России.\n"
     ]
    }
   ],
   "source": [
    "print(\"плотность населения России\", ru_plo, \"чел. / кв.км,\")\n",
    "print(\"плотность населения Бангладеша\", ba_plo, \"чел. / кв.км,\")\n",
    "print(\"отношение плотностей населения Бангладеша к России\", otn_plo, \n",
    "      \",\\nто есть в Бангладеше живёт примерно в\", round(otn_plo), \"раз больше людей, чем в России.\")"
   ]
  },
  {
   "cell_type": "markdown",
   "metadata": {},
   "source": [
    "***Золотое сечение*** $\\Phi$"
   ]
  },
  {
   "cell_type": "markdown",
   "metadata": {},
   "source": [
    "$\\Phi = \\frac{\\sqrt5 + 1}2 \\approx 1.61803, \\phi = \\frac1\\Phi = \\frac{\\sqrt5 - 1}2 \\approx 0,61803$"
   ]
  },
  {
   "cell_type": "markdown",
   "metadata": {},
   "source": [
    "См. https://ru.wikipedia.org/w/index.php?title=%D0%97%D0%BE%D0%BB%D0%BE%D1%82%D0%BE%D0%B5_%D1%81%D0%B5%D1%87%D0%B5%D0%BD%D0%B8%D0%B5&oldid=113372180"
   ]
  },
  {
   "cell_type": "code",
   "execution_count": 7,
   "metadata": {},
   "outputs": [],
   "source": [
    "import math\n",
    "fi_major = (math.sqrt(5) + 1) / 2\n",
    "fi_minor = (math.sqrt(5) - 1) / 2"
   ]
  },
  {
   "cell_type": "code",
   "execution_count": 8,
   "metadata": {},
   "outputs": [
    {
     "name": "stdout",
     "output_type": "stream",
     "text": [
      "0.6180339887498949\n",
      "1.618033988749895\n"
     ]
    }
   ],
   "source": [
    "print(fi_minor)\n",
    "print(fi_major)"
   ]
  },
  {
   "cell_type": "markdown",
   "metadata": {},
   "source": [
    "**Условия**"
   ]
  },
  {
   "cell_type": "markdown",
   "metadata": {},
   "source": [
    "***Максимум из 2 чисел***"
   ]
  },
  {
   "cell_type": "code",
   "execution_count": 109,
   "metadata": {},
   "outputs": [],
   "source": [
    "a = 2; b = 3"
   ]
  },
  {
   "cell_type": "code",
   "execution_count": 144,
   "metadata": {},
   "outputs": [
    {
     "name": "stdout",
     "output_type": "stream",
     "text": [
      "a < b\n",
      "a < b\n"
     ]
    }
   ],
   "source": [
    "# простое сравнение на равенство (не вся задача решена)\n",
    "if a == b:\n",
    "    print(\"a == b\")\n",
    "\n",
    "# вложенные условные операторы\n",
    "if a == b:\n",
    "    print(\"a == b\")\n",
    "else:\n",
    "    if a < b:\n",
    "        print(\"a < b\")\n",
    "    else:\n",
    "        print(\"a > b\")\n",
    "    \n",
    "# составной условный оператор\n",
    "if a == b:\n",
    "    print(\"a == b\")\n",
    "elif a < b:\n",
    "    print(\"a < b\")\n",
    "else:\n",
    "    print(\"a > b\")"
   ]
  },
  {
   "cell_type": "code",
   "execution_count": 145,
   "metadata": {},
   "outputs": [
    {
     "name": "stdout",
     "output_type": "stream",
     "text": [
      "a < b\n"
     ]
    }
   ],
   "source": [
    "# составное условное выражение\n",
    "print(\"a == b\" if a == b else \"a < b\" if a < b else \"a > b\")"
   ]
  },
  {
   "cell_type": "markdown",
   "metadata": {},
   "source": [
    "***Минимум из 3 чисел***"
   ]
  },
  {
   "cell_type": "code",
   "execution_count": 11,
   "metadata": {},
   "outputs": [],
   "source": [
    "# выбираем нужный набор данных этот...\n",
    "a, b, c = 3, 4, 5"
   ]
  },
  {
   "cell_type": "code",
   "execution_count": 12,
   "metadata": {},
   "outputs": [],
   "source": [
    "#...или этот\n",
    "a, b, c = 33, 22, 11"
   ]
  },
  {
   "cell_type": "code",
   "execution_count": 14,
   "metadata": {},
   "outputs": [
    {
     "name": "stdout",
     "output_type": "stream",
     "text": [
      "11\n"
     ]
    }
   ],
   "source": [
    "# а теперь посчитаем:\n",
    "if a < b and a < c:      # сравниваем со всеми остальными\n",
    "    print(a)\n",
    "elif b < c:              # сравнивать с а уже не нужно, оно не самое маленькое, пропускаем\n",
    "    print(b)\n",
    "else:                    # осталось ваше с...\n",
    "    print(c)"
   ]
  },
  {
   "cell_type": "markdown",
   "metadata": {},
   "source": [
    "**Циклы**"
   ]
  },
  {
   "cell_type": "markdown",
   "metadata": {},
   "source": [
    "***Сумма чисел***"
   ]
  },
  {
   "cell_type": "code",
   "execution_count": 153,
   "metadata": {},
   "outputs": [],
   "source": [
    "# не очень красиво\n",
    "sum = 0                 # сумма изначально нулевая и постепенно накапливается\n",
    "for i in range(1, 11):  # i будет от 1 до 10\n",
    "    sum += i            # на каждом шаге итерации (повтора цикла) добавляется новое слагаемое"
   ]
  },
  {
   "cell_type": "code",
   "execution_count": 147,
   "metadata": {},
   "outputs": [
    {
     "name": "stdout",
     "output_type": "stream",
     "text": [
      "55\n"
     ]
    }
   ],
   "source": [
    "print(sum)"
   ]
  },
  {
   "cell_type": "code",
   "execution_count": 137,
   "metadata": {},
   "outputs": [
    {
     "name": "stdout",
     "output_type": "stream",
     "text": [
      "сумма равна 55\n"
     ]
    }
   ],
   "source": [
    "# более красивое решение\n",
    "\n",
    "N = 10                   # предел вычислений (удобно вынести на самый верх программы, до вычислений)\n",
    "#N = 100                 # ...задача юного Гаусса\n",
    "\n",
    "sum = 0                  # сумма изначально нулевая и постепенно накапливается\n",
    "\n",
    "for i in range(1, N+1):  # i будет от 1 до N\n",
    "    sum += i             # на каждом шаге итерации (повтора цикла) добавляется новое слагаемое\n",
    "\n",
    "print(\"сумма равна\", sum)"
   ]
  },
  {
   "cell_type": "markdown",
   "metadata": {},
   "source": [
    "***Фибоначчи не по-питоновски***"
   ]
  },
  {
   "cell_type": "code",
   "execution_count": 102,
   "metadata": {},
   "outputs": [
    {
     "name": "stdout",
     "output_type": "stream",
     "text": [
      "1 1\n"
     ]
    }
   ],
   "source": [
    "UP = 20    # вычисляем и печатаем 20 первых чисел Фибоначчи\n",
    "f1 = 1\n",
    "f2 = 1\n",
    "print(f1, f2)"
   ]
  },
  {
   "cell_type": "code",
   "execution_count": 103,
   "metadata": {},
   "outputs": [
    {
     "name": "stdout",
     "output_type": "stream",
     "text": [
      "2 3 5 8 13 21 34 55 89 144 233 377 610 987 1597 2584 4181 6765 "
     ]
    }
   ],
   "source": [
    "for n in range(2, UP):\n",
    "    f3 = f1 + f2\n",
    "    f1 = f2\n",
    "    f2 = f3\n",
    "    print(f3, end=\" \")"
   ]
  },
  {
   "cell_type": "markdown",
   "metadata": {},
   "source": [
    "***Фибоначчи по-питоновски***"
   ]
  },
  {
   "cell_type": "code",
   "execution_count": 101,
   "metadata": {},
   "outputs": [
    {
     "name": "stdout",
     "output_type": "stream",
     "text": [
      "1 1\n"
     ]
    }
   ],
   "source": [
    "UP = 20        # вычисляем и печатаем 20 первых чисел Фибоначчи\n",
    "f1 = f2 = 1\n",
    "print(f1, f2)"
   ]
  },
  {
   "cell_type": "code",
   "execution_count": 33,
   "metadata": {},
   "outputs": [
    {
     "name": "stdout",
     "output_type": "stream",
     "text": [
      "2 3 5 8 13 21 34 55 89 144 233 377 610 987 1597 2584 4181 6765 "
     ]
    }
   ],
   "source": [
    "for _ in range(2, UP):\n",
    "    f1, f2 = f2, f1+f2\n",
    "    print(f2, end=\" \")"
   ]
  },
  {
   "cell_type": "markdown",
   "metadata": {},
   "source": [
    "***Факториал $n! = 1 \\cdot 2 \\cdot 3 \\cdot \\ldots \\cdot n$***\n",
    "\n",
    "Напр., $5! = 1 \\cdot 2 \\cdot 3 \\cdot 4 \\cdot 5$.\n",
    "Кроме того, принято, что $0! = 1$.\n",
    "\n",
    "Вычислить и напечатать факториалы чисел от 1 до 30."
   ]
  },
  {
   "cell_type": "code",
   "execution_count": 10,
   "metadata": {},
   "outputs": [],
   "source": [
    "UP = 30\n",
    "f = 1"
   ]
  },
  {
   "cell_type": "code",
   "execution_count": 11,
   "metadata": {},
   "outputs": [
    {
     "name": "stdout",
     "output_type": "stream",
     "text": [
      "         1!  =                                        1\n",
      "         2!  =                                        2\n",
      "         3!  =                                        6\n",
      "         4!  =                                       24\n",
      "         5!  =                                      120\n",
      "         6!  =                                      720\n",
      "         7!  =                                     5040\n",
      "         8!  =                                    40320\n",
      "         9!  =                                   362880\n",
      "        10!  =                                  3628800\n",
      "        11!  =                                 39916800\n",
      "        12!  =                                479001600\n",
      "        13!  =                               6227020800\n",
      "        14!  =                              87178291200\n",
      "        15!  =                            1307674368000\n",
      "        16!  =                           20922789888000\n",
      "        17!  =                          355687428096000\n",
      "        18!  =                         6402373705728000\n",
      "        19!  =                       121645100408832000\n",
      "        20!  =                      2432902008176640000\n",
      "        21!  =                     51090942171709440000\n",
      "        22!  =                   1124000727777607680000\n",
      "        23!  =                  25852016738884976640000\n",
      "        24!  =                 620448401733239439360000\n",
      "        25!  =               15511210043330985984000000\n",
      "        26!  =              403291461126605635584000000\n",
      "        27!  =            10888869450418352160768000000\n",
      "        28!  =           304888344611713860501504000000\n",
      "        29!  =          8841761993739701954543616000000\n",
      "        30!  =        265252859812191058636308480000000\n"
     ]
    }
   ],
   "source": [
    "for i in range(1, UP+1):\n",
    "    f *= i             #  то же, что f = f * i\n",
    "    print(\"%10i!  =\" % i, \"%40i\" % f)"
   ]
  },
  {
   "cell_type": "markdown",
   "metadata": {},
   "source": [
    "**Строки**"
   ]
  },
  {
   "cell_type": "markdown",
   "metadata": {},
   "source": [
    "***Разбор 3-значного числа на разряды***\n",
    "123 = 100 + 20 + 3"
   ]
  },
  {
   "cell_type": "code",
   "execution_count": 38,
   "metadata": {},
   "outputs": [],
   "source": [
    "n = 123"
   ]
  },
  {
   "cell_type": "code",
   "execution_count": 39,
   "metadata": {},
   "outputs": [],
   "source": [
    "s = str(n//100) + '00 + ' + str(n%100//10) + '0 + ' + str(n%10)"
   ]
  },
  {
   "cell_type": "code",
   "execution_count": 40,
   "metadata": {},
   "outputs": [
    {
     "name": "stdout",
     "output_type": "stream",
     "text": [
      "100 + 20 + 3\n"
     ]
    }
   ],
   "source": [
    "print(s)"
   ]
  },
  {
   "cell_type": "code",
   "execution_count": 41,
   "metadata": {},
   "outputs": [
    {
     "data": {
      "text/plain": [
       "'100 + 20 + 3'"
      ]
     },
     "execution_count": 41,
     "metadata": {},
     "output_type": "execute_result"
    }
   ],
   "source": [
    "s"
   ]
  },
  {
   "cell_type": "markdown",
   "metadata": {},
   "source": [
    "**Кортежи и списки**"
   ]
  },
  {
   "cell_type": "markdown",
   "metadata": {},
   "source": [
    "***Перестановка слов***"
   ]
  },
  {
   "cell_type": "code",
   "execution_count": 93,
   "metadata": {},
   "outputs": [
    {
     "name": "stdout",
     "output_type": "stream",
     "text": [
      "привет всем питонистам\n"
     ]
    }
   ],
   "source": [
    "stroka = \"привет всем питонистам\"\n",
    "print(stroka)"
   ]
  },
  {
   "cell_type": "code",
   "execution_count": 104,
   "metadata": {},
   "outputs": [
    {
     "name": "stdout",
     "output_type": "stream",
     "text": [
      "['привет', 'всем', 'питонистам']\n",
      "<list_reverseiterator object at 0x7fd5c45abb50>\n",
      "['питонистам', 'всем', 'привет']\n",
      "питонистам всем привет\n",
      "\n",
      "питонистам всем привет\n"
     ]
    }
   ],
   "source": [
    "# подробно по шагам\n",
    "t1 = stroka.split()\n",
    "print(t1)\n",
    "t2 = reversed(t1)\n",
    "print(t2)\n",
    "t3 = list(reversed(t1))\n",
    "print(t3)\n",
    "t4 = \" \".join(t2)\n",
    "print(t4)\n",
    "print()\n",
    "\n",
    "# по-быстрому\n",
    "revstroka1 = \" \".join(reversed(stroka.split()))\n",
    "print(revstroka1)"
   ]
  },
  {
   "cell_type": "code",
   "execution_count": 96,
   "metadata": {},
   "outputs": [
    {
     "name": "stdout",
     "output_type": "stream",
     "text": [
      "питонистам всем привет\n"
     ]
    }
   ],
   "source": [
    "revstroka2 = \" \".join((stroka.split())[::-1])\n",
    "print(revstroka2)"
   ]
  },
  {
   "cell_type": "markdown",
   "metadata": {},
   "source": [
    "**Словари и множества**"
   ]
  },
  {
   "cell_type": "markdown",
   "metadata": {},
   "source": [
    "***Ребята-спортсмены***"
   ]
  },
  {
   "cell_type": "code",
   "execution_count": 91,
   "metadata": {},
   "outputs": [
    {
     "name": "stdout",
     "output_type": "stream",
     "text": [
      "{'Лена': ['шахматы', 'плавание'], 'Саша': ['плавание'], 'Коля': [], 'Андрей': ['шашки', 'бокс']} \n",
      "\n",
      "{'Андрей': ['шашки', 'бокс'],\n",
      " 'Коля': [],\n",
      " 'Лена': ['шахматы', 'плавание'],\n",
      " 'Саша': ['плавание']}\n"
     ]
    }
   ],
   "source": [
    "# исходные данные\n",
    "\n",
    "sport = {\n",
    "    'Лена': ['шахматы', 'плавание'],\n",
    "    'Саша': ['плавание'],\n",
    "    'Коля': [],\n",
    "    'Андрей': ['шашки', 'бокс'],\n",
    "}\n",
    "\n",
    "print(sport, \"\\n\")\n",
    "\n",
    "from pprint import pprint as pp\n",
    "pp(sport)"
   ]
  },
  {
   "cell_type": "markdown",
   "metadata": {},
   "source": [
    "**Функции**"
   ]
  },
  {
   "cell_type": "markdown",
   "metadata": {},
   "source": [
    "***Функция: знак (-1, 0, +1)***"
   ]
  },
  {
   "cell_type": "code",
   "execution_count": 84,
   "metadata": {},
   "outputs": [
    {
     "name": "stdout",
     "output_type": "stream",
     "text": [
      "просто проверка: 1 0 -1\n",
      "большой тест: [0, 1, 1, -1, -1, 1, 1, -1, 1, 1]\n"
     ]
    }
   ],
   "source": [
    "# описание функции, подробно\n",
    "def sign1(x):\n",
    "    \"\"\" знак числа (-1, 0, 1)\"\"\"\n",
    "    if x > 0:\n",
    "        return 1\n",
    "    elif x < 0:\n",
    "        return -1\n",
    "    else:\n",
    "        return 0\n",
    "\n",
    "# простая проверка\n",
    "print(\"просто проверка:\", sign1(5), sign1(0), sign1(-1))\n",
    "\n",
    "# описание функции, кратко\n",
    "def sign2(x):\n",
    "    \"\"\" знак числа (-1, 0, 1)\"\"\"\n",
    "    return 1 if x > 0 else -1 if x < 0 else 0\n",
    "\n",
    "# выбор нужной функции\n",
    "sign = sign2\n",
    "\n",
    "# вызов функции\n",
    "tests = [0, 1, 100, -1, -3, 10000000, 1.4, -0.5, 1e16, 3.14e-5]\n",
    "print(\"большой тест:\", [sign(x) for x in tests])"
   ]
  },
  {
   "cell_type": "markdown",
   "metadata": {},
   "source": [
    "***Високосность года***\n",
    "\n",
    "    год високосный (имеет 29 дней в феврале) тогда и только тогда, когда его номер:\n",
    "    делится нацело на 4,\n",
    "      кроме тех, которые делятся на 100,\n",
    "        кроме тех, которые делятся на 400"
   ]
  },
  {
   "cell_type": "code",
   "execution_count": 176,
   "metadata": {},
   "outputs": [],
   "source": [
    "# исходные данные - проверить для этих лет\n",
    "gody = 1968, 2000, 1900, 2021, 1983, 2010, 2020"
   ]
  },
  {
   "cell_type": "code",
   "execution_count": 177,
   "metadata": {},
   "outputs": [],
   "source": [
    "# собственно наша функция для проверки\n",
    "def is_leap(y):\n",
    "    \"\"\" проверка года на високосность\"\"\"\n",
    "    return y % 400 == 0 or y % 4 == 0 and y %100 != 0"
   ]
  },
  {
   "cell_type": "code",
   "execution_count": 178,
   "metadata": {},
   "outputs": [],
   "source": [
    "# NB: \n",
    "# y % 400 == 0 or y % 4 == 0 and y %100 != 0\n",
    "# считается как \n",
    "# y % 400 == 0 or ((y % 4 == 0) and (y %100 != 0))"
   ]
  },
  {
   "cell_type": "code",
   "execution_count": 180,
   "metadata": {},
   "outputs": [
    {
     "name": "stdout",
     "output_type": "stream",
     "text": [
      "1900 не високосный\n",
      "1968 високосный\n",
      "1983 не високосный\n",
      "2000 високосный\n",
      "2010 не високосный\n",
      "2020 високосный\n",
      "2021 не високосный\n"
     ]
    }
   ],
   "source": [
    "# проверяем\n",
    "for y in sorted(gody):\n",
    "    print(y, \"високосный\" if is_leap(y) else \"не високосный\")"
   ]
  },
  {
   "cell_type": "markdown",
   "metadata": {},
   "source": [
    "***Минимум и максимум***"
   ]
  },
  {
   "cell_type": "markdown",
   "metadata": {},
   "source": [
    "Найти минимальное и максимальное значение элементов целочисленного списка.\n",
    "\n",
    "Список создаётся случайным образом (в программе мы не можем использовать знания о том, какие элементы входят в этот список и даже какой он длины (короткий или длинный); мы только знаем, что это целые числа).\n",
    "\n",
    "В программе задаются константы LEN, MIN, MAX, характеризующие этот список.\n",
    "\n",
    "Нужно найти оба значения не более, чем за 1 проход по списку."
   ]
  },
  {
   "cell_type": "code",
   "execution_count": 92,
   "metadata": {},
   "outputs": [],
   "source": [
    "import random"
   ]
  },
  {
   "cell_type": "code",
   "execution_count": 97,
   "metadata": {},
   "outputs": [
    {
     "name": "stdout",
     "output_type": "stream",
     "text": [
      "случайный список: [-79, -76, 8, 32, -21, -4, 6, -42, 6, 83]\n"
     ]
    }
   ],
   "source": [
    "# создаём список случайных целых чисел\n",
    "LEN = 10      # длина списка\n",
    "MIN = -100    # минимальное возможное число\n",
    "MAX = 100     # максимальное возможное число\n",
    "rl = [random.randint(MIN, MAX) for _ in range(LEN)]\n",
    "print(\"случайный список:\", rl)"
   ]
  },
  {
   "cell_type": "code",
   "execution_count": 101,
   "metadata": {},
   "outputs": [
    {
     "name": "stdout",
     "output_type": "stream",
     "text": [
      "минимум равен -79, максимум равен 83\n"
     ]
    }
   ],
   "source": [
    "# не по-питоновски:\n",
    "amin = rl[0]\n",
    "amax = rl[0]\n",
    "\n",
    "for i in range(1, LEN):\n",
    "    if rl[i] < amin:\n",
    "        amin = rl[i]\n",
    "    if rl[i] > amax:\n",
    "        amax = rl[i]\n",
    "\n",
    "print(f\"минимум равен {amin}, максимум равен {amax}\")"
   ]
  },
  {
   "cell_type": "code",
   "execution_count": 102,
   "metadata": {},
   "outputs": [
    {
     "name": "stdout",
     "output_type": "stream",
     "text": [
      "минимум равен -79, максимум равен 83\n"
     ]
    }
   ],
   "source": [
    "# полу-по-питоновски\n",
    "amin = rl[0]\n",
    "amax = rl[0]\n",
    "\n",
    "for e in rl[1:]:\n",
    "    if e < amin:\n",
    "        amin = e\n",
    "    if e > amax:\n",
    "        amax = e\n",
    "        \n",
    "print(f\"минимум равен {amin}, максимум равен {amax}\")    "
   ]
  },
  {
   "cell_type": "code",
   "execution_count": 100,
   "metadata": {},
   "outputs": [
    {
     "name": "stdout",
     "output_type": "stream",
     "text": [
      "минимум равен -79, максимум равен 83\n"
     ]
    }
   ],
   "source": [
    "# по-питоновски\n",
    "\n",
    "print(f\"минимум равен {min(rl)}, максимум равен {max(rl)}\")"
   ]
  },
  {
   "cell_type": "markdown",
   "metadata": {},
   "source": [
    "**Дата и время**"
   ]
  },
  {
   "cell_type": "markdown",
   "metadata": {},
   "source": [
    "***Сегодня и текущее время***"
   ]
  },
  {
   "cell_type": "code",
   "execution_count": 113,
   "metadata": {},
   "outputs": [
    {
     "name": "stdout",
     "output_type": "stream",
     "text": [
      "2021-04-16 22:57:31.996609\n",
      "Current date and time :  2021-04-16 22:57:31\n",
      "нынче год такой: 2021\n"
     ]
    }
   ],
   "source": [
    "import datetime\n",
    "\n",
    "now = datetime.datetime.now()\n",
    "\n",
    "print(now)\n",
    "print (\"Current date and time : \", now.strftime(\"%Y-%m-%d %H:%M:%S\"))\n",
    "print(\"нынче год такой:\", now.year)"
   ]
  },
  {
   "cell_type": "markdown",
   "metadata": {},
   "source": [
    "**Специальные функции и значения**"
   ]
  },
  {
   "cell_type": "markdown",
   "metadata": {},
   "source": [
    "***Случайные числа***"
   ]
  },
  {
   "cell_type": "code",
   "execution_count": 134,
   "metadata": {},
   "outputs": [
    {
     "name": "stdout",
     "output_type": "stream",
     "text": [
      "520, 19, 758, 885, 850, 216, 799, 617, 921, 249, 540, 776, 303, 543, 72, 221, 153, 38, 258, 543, 427, 942, 897, 438, 129, 131, 533, 314, 614, 938, 188, 962, 318, 776, 350, 188, 579, 486, 835, 712, 896, 707, 201, 309, 643, 180, 812, 446, 469, 966, 988, 811, 810, 864, 618, 426, 247, 758, 328, 565, 104, 509, 248, 111, 752, 978, 782, 494, 479, 524, 530, 467, 692, 653, 382, 918, 734, 131, 754, 267, 393, 733, 950, 39, 487, 973, 653, 267, 472, 476, 345, 146, 378, 295, 753, 458, 115, 98, 670, 210, \n",
      "67, 611, 822, -778, -413, -789, 875, -735, -514, 987, -753, 157, 967, -982, -259, -433, -915, 209, 55, -383, 920, -715, 169, 49, 309, -874, -407, 748, 426, 217, 1, -512, 994, 572, -398, 367, 651, 0, -583, -183, 709, 401, -63, -424, 224, -962, -783, -59, 361, 987, 783, 59, 191, -739, -683, 703, 292, -491, -762, 843, -734, 392, -572, 821, 569, -492, 209, 491, 85, -362, 272, 250, -512, -506, 854, -419, 444, -575, -29, 666, -644, -931, -345, 141, 106, 2, 106, -103, -230, 487, -207, 259, 465, -373, -244, -448, 130, 764, -949, -927, "
     ]
    }
   ],
   "source": [
    "# случайные целые числа\n",
    "import random\n",
    "\n",
    "for _ in range(100):\n",
    "    print(random.randint(0, 1000), end=\", \")\n",
    "print()\n",
    "for _ in range(100):\n",
    "    print(random.randint(-1000, 1000), end=\", \")"
   ]
  },
  {
   "cell_type": "code",
   "execution_count": 135,
   "metadata": {},
   "outputs": [
    {
     "name": "stdout",
     "output_type": "stream",
     "text": [
      "0.470357088139996, 0.9352292109526364, 0.4221992398465514, 0.2913379887161939, 0.8844342524122691, 0.9141430884575795, 0.3328639469547138, 0.5983625366958376, 0.9847049490995137, 0.4412571426406531, 0.8266040131676972, 0.10515939923300377, 0.20408720842929895, 0.7416182402332128, 0.03142255920389958, 0.06470291434464448, 0.43471608602615397, 0.2616431468086622, 0.47828721814763475, 0.2959979405748011, 0.2652718334060695, 0.3222677427927655, 0.3049157749347381, 0.633124433117723, 0.44614040005135125, 0.2985046527085854, 0.5562701591137665, 0.24077804575541617, 0.7275009789456736, 0.5320702136979913, 0.2928024987142136, 0.40864114083727665, 0.3119274713695055, 0.9129622672159378, 0.488363418012674, 0.425385816101266, 0.4061901223761375, 0.1331209838333921, 0.31722806783515556, 0.7218801901578136, 0.007074873393290826, 0.036646940166747854, 0.44039647823563355, 0.25379017252673497, 0.9443701793436813, 0.6730077663236116, 0.028958454302846492, 0.39265546071611, 0.979711910461775, 0.276289279965952, 0.2996051968577196, 0.22002831325331074, 0.6332321424458706, 0.6471027072917195, 0.9455457414142736, 0.2298882777668375, 0.9227818654438743, 0.7758554619173975, 0.10524769509925469, 0.8929935000270276, 0.3681240813272182, 0.6267543432535245, 0.7587289980278377, 0.24095209256746675, 0.19093013738286835, 0.3555994858706202, 0.6155090333538312, 0.9337926646423661, 0.9636604743051966, 0.15243736862364776, 0.532557627895136, 0.34712127069733034, 0.012544141396160557, 0.27611767900742634, 0.09022395663154703, 0.809935661790285, 0.6369156326706019, 0.42788523422747793, 0.33965139739498584, 0.12813993192563866, 0.43792084077890703, 0.651331265914423, 0.7370746706644135, 0.24757087582842763, 0.6830218016503846, 0.5575886328689711, 0.8238654284968623, 0.9998700824277165, 0.3983462222289311, 0.37411550720519104, 0.2703481912514826, 0.9951723504379473, 0.8210433214315086, 0.9331041217820503, 0.8744325777590605, 0.6235010775729467, 0.08884484204640342, 0.9142913698240631, 0.34111800641013, 0.2764280470510919, "
     ]
    }
   ],
   "source": [
    "# случайные вещественные числа\n",
    "\n",
    "for _ in range(100):\n",
    "    print(random.random(), end=\", \")"
   ]
  },
  {
   "cell_type": "markdown",
   "metadata": {},
   "source": [
    "***Уникальные идентификаторы***"
   ]
  },
  {
   "cell_type": "code",
   "execution_count": 121,
   "metadata": {},
   "outputs": [
    {
     "name": "stdout",
     "output_type": "stream",
     "text": [
      "    0\tfb036bf9-728e-4220-9c23-2f0604d83141\tfb036bf9728e42209c232f0604d83141\n",
      "    1\tbd0d15c8-5dfb-4bc6-ae51-b8946564d5f5\tbd0d15c85dfb4bc6ae51b8946564d5f5\n",
      "    2\t9ab173ed-17ac-439c-90f3-7d40357b8a25\t9ab173ed17ac439c90f37d40357b8a25\n",
      "    3\t79b36b0f-b640-4105-a448-2b73bc8c2cd0\t79b36b0fb6404105a4482b73bc8c2cd0\n",
      "    4\t121c3638-18cf-4c47-bea4-db0003bf75c9\t121c363818cf4c47bea4db0003bf75c9\n",
      "    5\t28135eb7-6d93-425a-84cc-b19dd4800048\t28135eb76d93425a84ccb19dd4800048\n",
      "    6\t9b06261a-521a-439d-9f8b-9b6bd8035986\t9b06261a521a439d9f8b9b6bd8035986\n",
      "    7\t2437bb88-4f27-4240-b263-9007110272bb\t2437bb884f274240b2639007110272bb\n",
      "    8\tdf36af2d-2169-4ffa-8829-3cc67f220e10\tdf36af2d21694ffa88293cc67f220e10\n",
      "    9\te7739ed6-c36d-4b39-9e0d-9afbd2d4f67e\te7739ed6c36d4b399e0d9afbd2d4f67e\n",
      "   10\t98710c8b-287f-406d-a888-247f0111734a\t98710c8b287f406da888247f0111734a\n",
      "   11\tb7c4ed71-e876-4e75-a032-e4f4cc8dccbb\tb7c4ed71e8764e75a032e4f4cc8dccbb\n",
      "   12\t77f79d69-f2e3-4e32-8c3f-ec6e507b321c\t77f79d69f2e34e328c3fec6e507b321c\n",
      "   13\tf8c7eb31-c801-4636-9550-ea1446300a15\tf8c7eb31c80146369550ea1446300a15\n",
      "   14\t04ac94d1-64e7-42f1-aaae-ba3426de870f\t04ac94d164e742f1aaaeba3426de870f\n",
      "   15\t3e9c5dcb-eecc-4215-9484-e20b7702b673\t3e9c5dcbeecc42159484e20b7702b673\n",
      "   16\taf8ebdac-9d61-4482-bfca-2d6502cefe3a\taf8ebdac9d614482bfca2d6502cefe3a\n",
      "   17\t7272011f-b39f-4598-b0b6-1752cc9f8c8c\t7272011fb39f4598b0b61752cc9f8c8c\n",
      "   18\t9abde193-31f6-4740-8343-2ef7c2639782\t9abde19331f6474083432ef7c2639782\n",
      "   19\t009b9f1d-523d-48d9-853d-f8610af4b087\t009b9f1d523d48d9853df8610af4b087\n"
     ]
    }
   ],
   "source": [
    "import uuid\n",
    "\n",
    "for i in range(20):\n",
    "    uu = uuid.uuid4()\n",
    "    print(\"%5i\\t%s\\t%s\" % (i, uu, uu.hex))"
   ]
  },
  {
   "cell_type": "markdown",
   "metadata": {},
   "source": [
    "**Отладка**"
   ]
  },
  {
   "cell_type": "markdown",
   "metadata": {},
   "source": [
    "***Ручная прокрутка***"
   ]
  },
  {
   "cell_type": "code",
   "execution_count": 186,
   "metadata": {},
   "outputs": [
    {
     "name": "stdout",
     "output_type": "stream",
     "text": [
      "100\n",
      "-100\n",
      "-1.0\n"
     ]
    },
    {
     "data": {
      "text/plain": [
       "(100, -100, -1.0)"
      ]
     },
     "execution_count": 186,
     "metadata": {},
     "output_type": "execute_result"
    }
   ],
   "source": [
    "first = 100\n",
    "print(first)\n",
    "second = -100\n",
    "print(second)\n",
    "third = first / second\n",
    "print(third)\n",
    "first, second, third"
   ]
  },
  {
   "cell_type": "markdown",
   "metadata": {},
   "source": [
    "***Утверждения assert***"
   ]
  },
  {
   "cell_type": "code",
   "execution_count": 140,
   "metadata": {},
   "outputs": [
    {
     "ename": "AssertionError",
     "evalue": "",
     "output_type": "error",
     "traceback": [
      "\u001b[0;31m---------------------------------------------------------------------------\u001b[0m",
      "\u001b[0;31mAssertionError\u001b[0m                            Traceback (most recent call last)",
      "\u001b[0;32m<ipython-input-140-2168641fae59>\u001b[0m in \u001b[0;36m<module>\u001b[0;34m\u001b[0m\n\u001b[1;32m      2\u001b[0m \u001b[0;32massert\u001b[0m \u001b[0mvar1\u001b[0m \u001b[0;34m!=\u001b[0m \u001b[0;36m0\u001b[0m\u001b[0;34m\u001b[0m\u001b[0;34m\u001b[0m\u001b[0m\n\u001b[1;32m      3\u001b[0m \u001b[0mvar2\u001b[0m \u001b[0;34m=\u001b[0m \u001b[0;36m0\u001b[0m\u001b[0;34m\u001b[0m\u001b[0;34m\u001b[0m\u001b[0m\n\u001b[0;32m----> 4\u001b[0;31m \u001b[0;32massert\u001b[0m \u001b[0mvar2\u001b[0m \u001b[0;34m!=\u001b[0m \u001b[0;36m0\u001b[0m\u001b[0;34m\u001b[0m\u001b[0;34m\u001b[0m\u001b[0m\n\u001b[0m\u001b[1;32m      5\u001b[0m \u001b[0mvar3\u001b[0m \u001b[0;34m=\u001b[0m \u001b[0mvar1\u001b[0m \u001b[0;34m/\u001b[0m \u001b[0mvar2\u001b[0m\u001b[0;34m\u001b[0m\u001b[0;34m\u001b[0m\u001b[0m\n",
      "\u001b[0;31mAssertionError\u001b[0m: "
     ]
    }
   ],
   "source": [
    "var1 = 12\n",
    "assert var1 != 0\n",
    "var2 = 0\n",
    "assert var2 != 0\n",
    "var3 = var1 / var2"
   ]
  },
  {
   "cell_type": "markdown",
   "metadata": {},
   "source": [
    "***Проверки типов***\n",
    "\n",
    "Новая возможность, по-разному реализована в разных версиях, постепенно становится удобнее"
   ]
  },
  {
   "cell_type": "code",
   "execution_count": 184,
   "metadata": {},
   "outputs": [],
   "source": [
    "# собственно наша функция для проверки\n",
    "def is_leap1(y : int) -> bool:\n",
    "    \"\"\" проверка года на високосность\"\"\"\n",
    "    return y % 400 == 0 or y % 4 == 0 and y %100 != 0"
   ]
  },
  {
   "cell_type": "code",
   "execution_count": 185,
   "metadata": {},
   "outputs": [
    {
     "name": "stdout",
     "output_type": "stream",
     "text": [
      "1900 не високосный\n",
      "1968 високосный\n",
      "1983 не високосный\n",
      "2000 високосный\n",
      "2010 не високосный\n",
      "2020 високосный\n",
      "2021 не високосный\n"
     ]
    }
   ],
   "source": [
    "# проверяем снова\n",
    "# исходные данные - проверить для этих лет\n",
    "gody = 1968, 2000, 1900, 2021, 1983, 2010, 2020\n",
    "# запуск\n",
    "for y in sorted(gody):\n",
    "    print(y, \"високосный\" if is_leap1(y) else \"не високосный\")"
   ]
  },
  {
   "cell_type": "markdown",
   "metadata": {},
   "source": [
    "**Форматированный вывод**"
   ]
  },
  {
   "cell_type": "code",
   "execution_count": 142,
   "metadata": {},
   "outputs": [],
   "source": [
    "# данные\n",
    "i = 5\n",
    "f = 1.5\n",
    "s = \"string\""
   ]
  },
  {
   "cell_type": "code",
   "execution_count": 143,
   "metadata": {},
   "outputs": [
    {
     "name": "stdout",
     "output_type": "stream",
     "text": [
      "5 1.5 string\n"
     ]
    }
   ],
   "source": [
    "print(i, f, s)"
   ]
  },
  {
   "cell_type": "code",
   "execution_count": 148,
   "metadata": {},
   "outputs": [
    {
     "name": "stdout",
     "output_type": "stream",
     "text": [
      "    5    1.50000 string    \n"
     ]
    }
   ],
   "source": [
    "# устаревший способ, не рекомендуется использовать\n",
    "print(\"%5i %10.5f %-10s\" % (i, f, s))"
   ]
  },
  {
   "cell_type": "code",
   "execution_count": 149,
   "metadata": {},
   "outputs": [
    {
     "name": "stdout",
     "output_type": "stream",
     "text": [
      "5 1.5 string\n",
      "    5        1.5 string               5\n"
     ]
    }
   ],
   "source": [
    "# современный способ\n",
    "print(\"{0} {1} {2}\".format(i, f, s))\n",
    "print(\"{0:5} {1:10} {2:20} {0}\".format(i, f, s))"
   ]
  },
  {
   "cell_type": "code",
   "execution_count": 187,
   "metadata": {},
   "outputs": [
    {
     "name": "stdout",
     "output_type": "stream",
     "text": [
      "5 1.5 string\n",
      "i=5 f=1.5 s='string'\n"
     ]
    }
   ],
   "source": [
    "# новый способ, есть не во всех версиях python, только в очень свежих\n",
    "print(f\"{i} {f} {s}\")\n",
    "print(f\"{i=} {f=} {s=}\")"
   ]
  },
  {
   "cell_type": "markdown",
   "metadata": {},
   "source": [
    "**PEP(8)**\n",
    "\n",
    "Это соглашение о том, как писать код для языка python, включая стандартную библиотеку, входящую в состав python"
   ]
  },
  {
   "cell_type": "markdown",
   "metadata": {},
   "source": [
    "* https://pythonworld.ru/osnovy/pep-8-rukovodstvo-po-napisaniyu-koda-na-python.html\n",
    "* https://pythonz.net/peps/"
   ]
  },
  {
   "cell_type": "markdown",
   "metadata": {},
   "source": [
    "**Работа с файлами, ввод-вывод**"
   ]
  },
  {
   "cell_type": "markdown",
   "metadata": {},
   "source": [
    "***Ручной ввод данных***"
   ]
  },
  {
   "cell_type": "code",
   "execution_count": 189,
   "metadata": {},
   "outputs": [
    {
     "name": "stdout",
     "output_type": "stream",
     "text": [
      "34\n",
      "вы ввели: 34\n"
     ]
    }
   ],
   "source": [
    "# ввод строки\n",
    "s = input()\n",
    "print(\"вы ввели:\", s)"
   ]
  },
  {
   "cell_type": "code",
   "execution_count": 190,
   "metadata": {},
   "outputs": [
    {
     "name": "stdout",
     "output_type": "stream",
     "text": [
      "введите строку: папа\n",
      "вы ввели: папа\n"
     ]
    }
   ],
   "source": [
    "# ввод строки с приглашением\n",
    "s = input(\"введите строку: \")\n",
    "print(\"вы ввели:\", s)"
   ]
  },
  {
   "cell_type": "code",
   "execution_count": 191,
   "metadata": {},
   "outputs": [
    {
     "name": "stdout",
     "output_type": "stream",
     "text": [
      "введите целое число: 45\n",
      "вы ввели: 45\n"
     ]
    }
   ],
   "source": [
    "# ввод целого числа с приглашением\n",
    "n = int(input(\"введите целое число: \"))\n",
    "print(\"вы ввели:\", n)"
   ]
  },
  {
   "cell_type": "markdown",
   "metadata": {},
   "source": [
    "***Чтение и запись простых текстовых файлов***"
   ]
  },
  {
   "cell_type": "code",
   "execution_count": 192,
   "metadata": {},
   "outputs": [],
   "source": [
    "# файл input-1.txt\n",
    "infile  = 'input-1.txt'\n",
    "outfile = 'output-1.txt'"
   ]
  },
  {
   "cell_type": "markdown",
   "metadata": {},
   "source": [
    "*входной файл:*\n",
    "\n",
    "    Широка страна моя родная.\n",
    "    Много в ней лесов, полей и рек.\n",
    "    Я другой такой страны не знаю,\n",
    "    где так вольно дышит человек.\n",
    "    \n",
    "(\"Песня о Родине\". Авторы: музыка - Исаак Дунаевский, слова - Василий Лебедев-Кумач, 1936)\n",
    "\n",
    "https://ru.wikipedia.org/wiki/%D0%A8%D0%B8%D1%80%D0%BE%D0%BA%D0%B0_%D1%81%D1%82%D1%80%D0%B0%D0%BD%D0%B0_%D0%BC%D0%BE%D1%8F_%D1%80%D0%BE%D0%B4%D0%BD%D0%B0%D1%8F\n",
    "    \n",
    "*выходной файл (последний)*\n",
    "\n",
    "    родная. моя страна широка\n",
    "    рек. и полей лесов, ней в много\n",
    "    знаю, не страны такой другой я\n",
    "    человек. дышит вольно так где"
   ]
  },
  {
   "cell_type": "code",
   "execution_count": 195,
   "metadata": {},
   "outputs": [
    {
     "name": "stdout",
     "output_type": "stream",
     "text": [
      "Широка страна моя родная.\n",
      "Много в ней лесов, полей и рек.\n",
      "Я другой такой страны не знаю,\n",
      "где так вольно дышит человек.\n"
     ]
    }
   ],
   "source": [
    "f = open(infile, 'r')\n",
    "t = f.read()\n",
    "print(t)\n",
    "f.close()"
   ]
  },
  {
   "cell_type": "code",
   "execution_count": 194,
   "metadata": {},
   "outputs": [
    {
     "name": "stdout",
     "output_type": "stream",
     "text": [
      "Широка страна моя родная.\n",
      "Много в ней лесов, полей и рек.\n",
      "Я другой такой страны не знаю,\n",
      "где так вольно дышит человек.\n"
     ]
    }
   ],
   "source": [
    "with open(infile) as inf:\n",
    "    for inline in inf:\n",
    "        print(inline.strip())"
   ]
  },
  {
   "cell_type": "code",
   "execution_count": 204,
   "metadata": {},
   "outputs": [
    {
     "name": "stdout",
     "output_type": "stream",
     "text": [
      "Широка страна моя родная.\n",
      "Много в ней лесов, полей и рек.\n",
      "Я другой такой страны не знаю,\n",
      "где так вольно дышит человек.\n"
     ]
    }
   ],
   "source": [
    "with open(infile, 'r') as inf, open(outfile, 'w') as outf:\n",
    "    for inline in inf:\n",
    "        print(inline.strip())\n",
    "        outf.write(\" \".join(reversed(inline.lower().split())) + \"\\n\")"
   ]
  },
  {
   "cell_type": "code",
   "execution_count": 207,
   "metadata": {},
   "outputs": [
    {
     "name": "stdout",
     "output_type": "stream",
     "text": [
      "['Широка страна моя родная.\\n', 'Много в ней лесов, полей и рек.\\n', 'Я другой такой страны не знаю,\\n', 'где так вольно дышит человек.']\n",
      "['Широка страна моя родная.\\n',\n",
      " 'Много в ней лесов, полей и рек.\\n',\n",
      " 'Я другой такой страны не знаю,\\n',\n",
      " 'где так вольно дышит человек.']\n"
     ]
    }
   ],
   "source": [
    "with open(infile, 'r', encoding='utf8') as inf:\n",
    "    strs = inf.readlines()\n",
    "    print(strs)\n",
    "    pp(strs)"
   ]
  },
  {
   "cell_type": "code",
   "execution_count": null,
   "metadata": {},
   "outputs": [],
   "source": []
  }
 ],
 "metadata": {
  "kernelspec": {
   "display_name": "Python 3",
   "language": "python",
   "name": "python3"
  },
  "language_info": {
   "codemirror_mode": {
    "name": "ipython",
    "version": 3
   },
   "file_extension": ".py",
   "mimetype": "text/x-python",
   "name": "python",
   "nbconvert_exporter": "python",
   "pygments_lexer": "ipython3",
   "version": "3.8.3"
  }
 },
 "nbformat": 4,
 "nbformat_minor": 4
}
