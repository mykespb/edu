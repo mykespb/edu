{
 "cells": [
  {
   "cell_type": "markdown",
   "metadata": {},
   "source": [
    "# Примеры и упражнения по Python3 - простой уровень - часть 1"
   ]
  },
  {
   "cell_type": "markdown",
   "metadata": {},
   "source": [
    "Автор-составитель - Михаил Колодин"
   ]
  },
  {
   "cell_type": "markdown",
   "metadata": {},
   "source": [
    "Версия 2021-04-17 от 2021-05-25 - 1.8"
   ]
  },
  {
   "cell_type": "markdown",
   "metadata": {},
   "source": [
    "Разделы:\n",
    "* [Параметры системы](#params)\n",
    "* [Калькулятор](#calc)\n",
    "* [Условия](#conditions)\n",
    "* [Циклы](#loops)\n",
    "* [Строки](#strings)\n",
    "* [Дата и время](#datetime)\n",
    "* [Спецфункции и значения](#specfunc)\n",
    "* [Отладка](#debug)"
   ]
  },
  {
   "cell_type": "markdown",
   "metadata": {},
   "source": [
    "**Параметры системы** <a name=params></a>\n",
    "\n",
    "Далее весь код будет исполняемым\n",
    "```python\n",
    "import sys\n",
    "print(\"Python version:\", sys.version)\n",
    "```"
   ]
  },
  {
   "cell_type": "code",
   "execution_count": 8,
   "metadata": {},
   "outputs": [
    {
     "name": "stdout",
     "output_type": "stream",
     "text": [
      "Python version: 3.8.8 (default, Apr 13 2021, 19:58:26) \n",
      "[GCC 7.3.0]\n",
      "3.8.8\n"
     ]
    }
   ],
   "source": [
    "import sys\n",
    "print(\"Python version:\", sys.version)\n",
    "\n",
    "from platform import python_version\n",
    "print(python_version())"
   ]
  },
  {
   "cell_type": "markdown",
   "metadata": {},
   "source": [
    "---\n",
    "**Калькулятор** <a name=calc></a>"
   ]
  },
  {
   "cell_type": "markdown",
   "metadata": {},
   "source": [
    "---\n",
    "***Площади и население стран***"
   ]
  },
  {
   "cell_type": "code",
   "execution_count": 1,
   "metadata": {},
   "outputs": [],
   "source": [
    "ru_ter = 17125191\n",
    "ba_ter = 144000\n",
    "ru_nas = 146238185\n",
    "ba_nas = 172287439"
   ]
  },
  {
   "cell_type": "code",
   "execution_count": 2,
   "metadata": {},
   "outputs": [],
   "source": [
    "# плотность населения\n",
    "ru_plo = ru_nas / ru_ter\n",
    "ba_plo = ba_nas / ba_ter\n",
    "otn_plo = ba_plo / ru_plo"
   ]
  },
  {
   "cell_type": "code",
   "execution_count": 3,
   "metadata": {},
   "outputs": [
    {
     "name": "stdout",
     "output_type": "stream",
     "text": [
      "плотность населения России 8.539360816472062 чел. / кв.км,\n",
      "плотность населения Бангладеша 1196.4405486111111 чел. / кв.км,\n",
      "отношение плотностей населения Бангладеша к России 140.1089114659763 ,\n",
      "то есть в Бангладеше живёт примерно в 140 раз больше людей, чем в России.\n"
     ]
    }
   ],
   "source": [
    "print(\"плотность населения России\", ru_plo, \"чел. / кв.км,\")\n",
    "print(\"плотность населения Бангладеша\", ba_plo, \"чел. / кв.км,\")\n",
    "print(\"отношение плотностей населения Бангладеша к России\", otn_plo, \n",
    "      \",\\nто есть в Бангладеше живёт примерно в\", round(otn_plo), \"раз больше людей, чем в России.\")"
   ]
  },
  {
   "cell_type": "markdown",
   "metadata": {},
   "source": [
    "---\n",
    "***Золотое сечение*** $\\Phi$"
   ]
  },
  {
   "cell_type": "markdown",
   "metadata": {},
   "source": [
    "$$\\Phi = \\frac{\\sqrt5 + 1}2 \\approx 1.61803, \\phi = \\frac1\\Phi = \\frac{\\sqrt5 - 1}2 \\approx 0.61803$$"
   ]
  },
  {
   "cell_type": "markdown",
   "metadata": {},
   "source": [
    "| обозначение | формула | значение |\n",
    "|:-------------:|:-------:|:--------- |\n",
    "| $\\Phi$ | $\\frac{\\sqrt5 + 1}2$ | $\\approx 1.61803$ |\n",
    "| $\\phi$ | $\\frac{\\sqrt5 - 1}2$ | $\\approx 0.61803$ |\n"
   ]
  },
  {
   "cell_type": "markdown",
   "metadata": {},
   "source": [
    "См. [Wikipedia](https://ru.wikipedia.org/w/index.php?title=%D0%97%D0%BE%D0%BB%D0%BE%D1%82%D0%BE%D0%B5_%D1%81%D0%B5%D1%87%D0%B5%D0%BD%D0%B8%D0%B5&oldid=113372180)"
   ]
  },
  {
   "cell_type": "code",
   "execution_count": 4,
   "metadata": {},
   "outputs": [],
   "source": [
    "import math\n",
    "fi_major = (math.sqrt(5) + 1) / 2\n",
    "fi_minor = (math.sqrt(5) - 1) / 2"
   ]
  },
  {
   "cell_type": "code",
   "execution_count": 5,
   "metadata": {},
   "outputs": [
    {
     "name": "stdout",
     "output_type": "stream",
     "text": [
      "0.6180339887498949\n",
      "1.618033988749895\n"
     ]
    }
   ],
   "source": [
    "print(fi_minor)\n",
    "print(fi_major)"
   ]
  },
  {
   "cell_type": "markdown",
   "metadata": {},
   "source": [
    "---\n",
    "**Условия** <a name=conditions></a>"
   ]
  },
  {
   "cell_type": "markdown",
   "metadata": {},
   "source": [
    "---\n",
    "***Максимум из 2 чисел***"
   ]
  },
  {
   "cell_type": "code",
   "execution_count": 109,
   "metadata": {},
   "outputs": [],
   "source": [
    "a = 2; b = 3"
   ]
  },
  {
   "cell_type": "code",
   "execution_count": 144,
   "metadata": {},
   "outputs": [
    {
     "name": "stdout",
     "output_type": "stream",
     "text": [
      "a < b\n",
      "a < b\n"
     ]
    }
   ],
   "source": [
    "# простое сравнение на равенство (не вся задача решена)\n",
    "if a == b:\n",
    "    print(\"a == b\")\n",
    "\n",
    "# вложенные условные операторы\n",
    "if a == b:\n",
    "    print(\"a == b\")\n",
    "else:\n",
    "    if a < b:\n",
    "        print(\"a < b\")\n",
    "    else:\n",
    "        print(\"a > b\")\n",
    "    \n",
    "# составной условный оператор\n",
    "if a == b:\n",
    "    print(\"a == b\")\n",
    "elif a < b:\n",
    "    print(\"a < b\")\n",
    "else:\n",
    "    print(\"a > b\")"
   ]
  },
  {
   "cell_type": "code",
   "execution_count": 145,
   "metadata": {},
   "outputs": [
    {
     "name": "stdout",
     "output_type": "stream",
     "text": [
      "a < b\n"
     ]
    }
   ],
   "source": [
    "# составное условное выражение\n",
    "print(\"a == b\" if a == b else \"a < b\" if a < b else \"a > b\")"
   ]
  },
  {
   "cell_type": "markdown",
   "metadata": {},
   "source": [
    "---\n",
    "***Минимум из 3 чисел***"
   ]
  },
  {
   "cell_type": "code",
   "execution_count": 9,
   "metadata": {},
   "outputs": [
    {
     "data": {
      "text/plain": [
       "(3, 4, 5)"
      ]
     },
     "execution_count": 9,
     "metadata": {},
     "output_type": "execute_result"
    }
   ],
   "source": [
    "# выбираем нужный набор данных этот...\n",
    "a, b, c = 3, 4, 5\n",
    "a, b, c"
   ]
  },
  {
   "cell_type": "code",
   "execution_count": 30,
   "metadata": {},
   "outputs": [],
   "source": [
    "#...или этот\n",
    "a, b, c = 33, 22, 11"
   ]
  },
  {
   "cell_type": "code",
   "execution_count": 10,
   "metadata": {},
   "outputs": [
    {
     "name": "stdout",
     "output_type": "stream",
     "text": [
      "3\n"
     ]
    }
   ],
   "source": [
    "# а теперь посчитаем... наивный подход:\n",
    "if a < b and a < c:      # сравниваем со всеми остальными\n",
    "    print(a)\n",
    "elif b < c and b < a:    # сравниваем со всеми остальными\n",
    "    print(b)\n",
    "elif c < a and c < b:    # сравниваем со всеми остальными\n",
    "    print(c)"
   ]
  },
  {
   "cell_type": "code",
   "execution_count": 11,
   "metadata": {},
   "outputs": [
    {
     "name": "stdout",
     "output_type": "stream",
     "text": [
      "3\n"
     ]
    }
   ],
   "source": [
    "# а теперь посчитаем правильно:\n",
    "if a < b and a < c:      # сравниваем со всеми остальными\n",
    "    print(a)\n",
    "elif b < c:              # сравнивать с а уже не нужно, оно не самое маленькое, пропускаем\n",
    "    print(b)\n",
    "else:                    # осталось ваше с...\n",
    "    print(c)"
   ]
  },
  {
   "cell_type": "markdown",
   "metadata": {},
   "source": [
    "---\n",
    "**Циклы** <a name=loops></a>"
   ]
  },
  {
   "cell_type": "markdown",
   "metadata": {},
   "source": [
    "---\n",
    "***Сумма чисел***"
   ]
  },
  {
   "cell_type": "code",
   "execution_count": 12,
   "metadata": {},
   "outputs": [
    {
     "name": "stdout",
     "output_type": "stream",
     "text": [
      "1 1\n",
      "2 3\n",
      "3 6\n",
      "4 10\n",
      "5 15\n",
      "6 21\n",
      "7 28\n",
      "8 36\n",
      "9 45\n",
      "10 55\n"
     ]
    }
   ],
   "source": [
    "# не очень красиво\n",
    "sum = 0                 # сумма изначально нулевая и постепенно накапливается\n",
    "for i in range(1, 11):  # i будет от 1 до 10\n",
    "    sum += i            # на каждом шаге итерации (повтора цикла) добавляется новое слагаемое\n",
    "    print(i, sum)"
   ]
  },
  {
   "cell_type": "code",
   "execution_count": 13,
   "metadata": {},
   "outputs": [
    {
     "name": "stdout",
     "output_type": "stream",
     "text": [
      "55\n"
     ]
    }
   ],
   "source": [
    "print(sum)"
   ]
  },
  {
   "cell_type": "code",
   "execution_count": 9,
   "metadata": {},
   "outputs": [
    {
     "name": "stdout",
     "output_type": "stream",
     "text": [
      "сумма равна 55\n"
     ]
    }
   ],
   "source": [
    "# более красивое решение\n",
    "\n",
    "N = 10                   # предел вычислений (удобно вынести на самый верх программы, до вычислений)\n",
    "#N = 100                 # ...задача юного Гаусса\n",
    "#N = 1000\n",
    "\n",
    "summa = 0                  # сумма изначально нулевая и постепенно накапливается\n",
    "\n",
    "for i in range(1, N+1):  # i будет от 1 до N\n",
    "    summa += i             # на каждом шаге итерации (повтора цикла) добавляется новое слагаемое\n",
    "\n",
    "print(\"сумма равна\", summa)"
   ]
  },
  {
   "cell_type": "markdown",
   "metadata": {},
   "source": [
    "---\n",
    "**Foo Bar Baz**\n",
    "\n",
    "Вывести числа от 1 до 100, но с оговорками: \n",
    "- если число делится (нацело) на 3, вместо него напечатать foo,\n",
    "- если число делится на 5, вместо него напечатать bar,\n",
    "- если число делится и на 3, и на 5, вместо него напечатать baz."
   ]
  },
  {
   "cell_type": "code",
   "execution_count": 1,
   "metadata": {},
   "outputs": [
    {
     "name": "stdout",
     "output_type": "stream",
     "text": [
      "1 2 foo 4 bar foo 7 8 foo bar 11 foo 13 14 baz 16 17 foo 19 bar foo 22 23 foo bar 26 foo 28 29 baz 31 32 foo 34 bar foo 37 38 foo bar 41 foo 43 44 baz 46 47 foo 49 bar foo 52 53 foo bar 56 foo 58 59 baz 61 62 foo 64 bar foo 67 68 foo bar 71 foo 73 74 baz 76 77 foo 79 bar foo 82 83 foo bar 86 foo 88 89 baz 91 92 foo 94 bar foo 97 98 foo bar "
     ]
    }
   ],
   "source": [
    "for i in range(1, 101):\n",
    "    if i % 15 == 0:\n",
    "        print('baz', end=\" \")\n",
    "    elif i % 3 == 0:\n",
    "        print('foo', end=\" \")\n",
    "    elif i % 5 == 0:\n",
    "        print('bar', end=\" \")\n",
    "    else:\n",
    "        print(i, end=\" \")"
   ]
  },
  {
   "cell_type": "markdown",
   "metadata": {},
   "source": [
    "---\n",
    "***Фибоначчи не по-питоновски***"
   ]
  },
  {
   "cell_type": "code",
   "execution_count": 5,
   "metadata": {},
   "outputs": [
    {
     "name": "stdout",
     "output_type": "stream",
     "text": [
      "1 1\n"
     ]
    }
   ],
   "source": [
    "UP = 20    # вычисляем и печатаем 20 первых чисел Фибоначчи, рекуррентные последовательности\n",
    "f1 = 1\n",
    "f2 = 1\n",
    "print(f1, f2)"
   ]
  },
  {
   "cell_type": "code",
   "execution_count": 6,
   "metadata": {},
   "outputs": [
    {
     "name": "stdout",
     "output_type": "stream",
     "text": [
      "1 1 2\n",
      "1 2 2\n",
      "1 2 3\n",
      "2 3 3\n",
      "2 3 5\n",
      "3 5 5\n",
      "3 5 8\n",
      "5 8 8\n",
      "5 8 13\n",
      "8 13 13\n",
      "8 13 21\n",
      "13 21 21\n",
      "13 21 34\n",
      "21 34 34\n",
      "21 34 55\n",
      "34 55 55\n",
      "34 55 89\n",
      "55 89 89\n",
      "55 89 144\n",
      "89 144 144\n",
      "89 144 233\n",
      "144 233 233\n",
      "144 233 377\n",
      "233 377 377\n",
      "233 377 610\n",
      "377 610 610\n",
      "377 610 987\n",
      "610 987 987\n",
      "610 987 1597\n",
      "987 1597 1597\n",
      "987 1597 2584\n",
      "1597 2584 2584\n",
      "1597 2584 4181\n",
      "2584 4181 4181\n",
      "2584 4181 6765\n",
      "4181 6765 6765\n"
     ]
    }
   ],
   "source": [
    "for n in range(2, UP):\n",
    "    f3 = f1 + f2\n",
    "    print(f1, f2, f3)\n",
    "    f1 = f2\n",
    "    f2 = f3\n",
    "    print(f1, f2, f3)"
   ]
  },
  {
   "cell_type": "markdown",
   "metadata": {},
   "source": [
    "***Фибоначчи по-питоновски***"
   ]
  },
  {
   "cell_type": "code",
   "execution_count": 101,
   "metadata": {},
   "outputs": [
    {
     "name": "stdout",
     "output_type": "stream",
     "text": [
      "1 1\n"
     ]
    }
   ],
   "source": [
    "UP = 20        # вычисляем и печатаем 20 первых чисел Фибоначчи\n",
    "f1 = f2 = 1\n",
    "print(f1, f2)"
   ]
  },
  {
   "cell_type": "code",
   "execution_count": 33,
   "metadata": {},
   "outputs": [
    {
     "name": "stdout",
     "output_type": "stream",
     "text": [
      "2 3 5 8 13 21 34 55 89 144 233 377 610 987 1597 2584 4181 6765 "
     ]
    }
   ],
   "source": [
    "for _ in range(2, UP):\n",
    "    f1, f2 = f2, f1+f2\n",
    "    print(f2, end=\" \")"
   ]
  },
  {
   "cell_type": "markdown",
   "metadata": {},
   "source": [
    "---\n",
    "***Факториал $n! = 1 \\cdot 2 \\cdot 3 \\cdot \\ldots \\cdot n$***\n",
    "\n",
    "Напр., $5! = 1 \\cdot 2 \\cdot 3 \\cdot 4 \\cdot 5$.\n",
    "Кроме того, принято, что $0! = 1$.\n",
    "\n",
    "Вычислить и напечатать факториалы чисел от 1 до 30."
   ]
  },
  {
   "cell_type": "code",
   "execution_count": 10,
   "metadata": {},
   "outputs": [],
   "source": [
    "UP = 30\n",
    "f = 1"
   ]
  },
  {
   "cell_type": "code",
   "execution_count": 11,
   "metadata": {},
   "outputs": [
    {
     "name": "stdout",
     "output_type": "stream",
     "text": [
      "         1!  =                                        1\n",
      "         2!  =                                        2\n",
      "         3!  =                                        6\n",
      "         4!  =                                       24\n",
      "         5!  =                                      120\n",
      "         6!  =                                      720\n",
      "         7!  =                                     5040\n",
      "         8!  =                                    40320\n",
      "         9!  =                                   362880\n",
      "        10!  =                                  3628800\n",
      "        11!  =                                 39916800\n",
      "        12!  =                                479001600\n",
      "        13!  =                               6227020800\n",
      "        14!  =                              87178291200\n",
      "        15!  =                            1307674368000\n",
      "        16!  =                           20922789888000\n",
      "        17!  =                          355687428096000\n",
      "        18!  =                         6402373705728000\n",
      "        19!  =                       121645100408832000\n",
      "        20!  =                      2432902008176640000\n",
      "        21!  =                     51090942171709440000\n",
      "        22!  =                   1124000727777607680000\n",
      "        23!  =                  25852016738884976640000\n",
      "        24!  =                 620448401733239439360000\n",
      "        25!  =               15511210043330985984000000\n",
      "        26!  =              403291461126605635584000000\n",
      "        27!  =            10888869450418352160768000000\n",
      "        28!  =           304888344611713860501504000000\n",
      "        29!  =          8841761993739701954543616000000\n",
      "        30!  =        265252859812191058636308480000000\n"
     ]
    }
   ],
   "source": [
    "for i in range(1, UP+1):\n",
    "    f *= i             #  то же, что f = f * i\n",
    "    print(\"%10i!  =\" % i, \"%40i\" % f)"
   ]
  },
  {
   "cell_type": "markdown",
   "metadata": {},
   "source": [
    "---\n",
    "**Строки** <a name=strings></a>"
   ]
  },
  {
   "cell_type": "markdown",
   "metadata": {},
   "source": [
    "---\n",
    "***Простые операции со строками***"
   ]
  },
  {
   "cell_type": "code",
   "execution_count": 1,
   "metadata": {},
   "outputs": [
    {
     "data": {
      "text/plain": [
       "'привет'"
      ]
     },
     "execution_count": 1,
     "metadata": {},
     "output_type": "execute_result"
    }
   ],
   "source": [
    "s = \"привет\"\n",
    "s"
   ]
  },
  {
   "cell_type": "code",
   "execution_count": 2,
   "metadata": {},
   "outputs": [
    {
     "data": {
      "text/plain": [
       "('п', 'р', 'т', 'е', 'р', 'пр', 'вет', 'прив', 'привет')"
      ]
     },
     "execution_count": 2,
     "metadata": {},
     "output_type": "execute_result"
    }
   ],
   "source": [
    "s[0], s[1], s[-1], s[-2], s[1:2], s[0:2], s[3:], s[:4], s[:]"
   ]
  },
  {
   "cell_type": "markdown",
   "metadata": {},
   "source": [
    "***Действия над строками***"
   ]
  },
  {
   "cell_type": "code",
   "execution_count": 4,
   "metadata": {},
   "outputs": [
    {
     "data": {
      "text/plain": [
       "('hello', 'world')"
      ]
     },
     "execution_count": 4,
     "metadata": {},
     "output_type": "execute_result"
    }
   ],
   "source": [
    "s1 = \"hello\"; s2 = \"world\"\n",
    "s1, s2"
   ]
  },
  {
   "cell_type": "code",
   "execution_count": 9,
   "metadata": {},
   "outputs": [
    {
     "name": "stdout",
     "output_type": "stream",
     "text": [
      "helloworld\n",
      "hello world\n",
      "hello, world\n"
     ]
    }
   ],
   "source": [
    "s3 = s1 + s2\n",
    "print(s3)\n",
    "s4 = s1 + \" \" + s2\n",
    "print(s4)\n",
    "s5 = s1 + \", \" + s2\n",
    "print(s5)"
   ]
  },
  {
   "cell_type": "markdown",
   "metadata": {},
   "source": [
    "***Строковые функции***"
   ]
  },
  {
   "cell_type": "code",
   "execution_count": 26,
   "metadata": {},
   "outputs": [
    {
     "name": "stdout",
     "output_type": "stream",
     "text": [
      "это питон\n",
      "9\n",
      "длина строки ' это питон ' равна 9\n",
      "длина строки 'это питон' равна 9\n",
      "длина строки 'это питон' равна 9\n",
      "длина строки 'это питон' равна 9\n"
     ]
    }
   ],
   "source": [
    "s = \"это питон\"\n",
    "print(s)\n",
    "\n",
    "print(len(s))\n",
    "print(\"длина строки '\", s, \"' равна\", len(s))\n",
    "\n",
    "print(\"длина строки '%s' равна %d\" % (s, len(s)))\n",
    "print(\"длина строки '{}' равна {}\".format(s, len(s)))\n",
    "print(\"длина строки '{0}' равна {1}\".format(s, len(s)))"
   ]
  },
  {
   "cell_type": "markdown",
   "metadata": {},
   "source": [
    "---\n",
    "***Разбор 3-значного числа на разряды***\n",
    "123 = 100 + 20 + 3"
   ]
  },
  {
   "cell_type": "code",
   "execution_count": 38,
   "metadata": {},
   "outputs": [],
   "source": [
    "n = 123"
   ]
  },
  {
   "cell_type": "code",
   "execution_count": 39,
   "metadata": {},
   "outputs": [],
   "source": [
    "s = str(n//100) + '00 + ' + str(n%100//10) + '0 + ' + str(n%10)"
   ]
  },
  {
   "cell_type": "code",
   "execution_count": 40,
   "metadata": {},
   "outputs": [
    {
     "name": "stdout",
     "output_type": "stream",
     "text": [
      "100 + 20 + 3\n"
     ]
    }
   ],
   "source": [
    "print(s)"
   ]
  },
  {
   "cell_type": "code",
   "execution_count": 41,
   "metadata": {},
   "outputs": [
    {
     "data": {
      "text/plain": [
       "'100 + 20 + 3'"
      ]
     },
     "execution_count": 41,
     "metadata": {},
     "output_type": "execute_result"
    }
   ],
   "source": [
    "s"
   ]
  },
  {
   "cell_type": "markdown",
   "metadata": {},
   "source": [
    "---\n",
    "***Перевод из строки в натуральное чсило***"
   ]
  },
  {
   "cell_type": "code",
   "execution_count": 35,
   "metadata": {},
   "outputs": [],
   "source": [
    "s = \"123\""
   ]
  },
  {
   "cell_type": "code",
   "execution_count": 39,
   "metadata": {},
   "outputs": [
    {
     "name": "stdout",
     "output_type": "stream",
     "text": [
      "строка: 123 , число: 123\n"
     ]
    }
   ],
   "source": [
    "# схема Горнера\n",
    "n = 0\n",
    "for d in s:\n",
    "    n = n*10 + ord(d) - ord('0')\n",
    "print(\"строка:\", s, \", число:\", n)"
   ]
  },
  {
   "cell_type": "code",
   "execution_count": 40,
   "metadata": {},
   "outputs": [
    {
     "name": "stdout",
     "output_type": "stream",
     "text": [
      "строка: 123 , число: 123\n"
     ]
    }
   ],
   "source": [
    "#  а можно и по-питоновски:\n",
    "n = int(s)\n",
    "print(\"строка:\", s, \", число:\", n)"
   ]
  },
  {
   "cell_type": "markdown",
   "metadata": {},
   "source": [
    "***Сумма цифр числа***\n",
    "\n",
    "Дано натуральное число (или 0). Найти сумму его цифр."
   ]
  },
  {
   "cell_type": "code",
   "execution_count": 5,
   "metadata": {},
   "outputs": [
    {
     "name": "stdout",
     "output_type": "stream",
     "text": [
      "число: 0 , сумма цифр: 0\n",
      "число: 5 , сумма цифр: 5\n",
      "число: 123 , сумма цифр: 6\n",
      "число: 123456789 , сумма цифр: 45\n"
     ]
    }
   ],
   "source": [
    "def sumdig(n):\n",
    "    \"\"\"сумма цифр числа\"\"\"\n",
    "    s = 0\n",
    "    while n:\n",
    "        s += n % 10\n",
    "        n //= 10\n",
    "    return s\n",
    "\n",
    "def orgme(n):\n",
    "    \"\"\"органайзер для печати чисел и сумм их цифр\"\"\"\n",
    "    print(\"число:\", n, \", сумма цифр:\", sumdig(n))\n",
    "\n",
    "orgme(0) \n",
    "orgme(5)\n",
    "orgme(123)\n",
    "orgme(123456789)"
   ]
  },
  {
   "cell_type": "markdown",
   "metadata": {},
   "source": [
    "---\n",
    "**Дата и время** <a name=datetime></a>"
   ]
  },
  {
   "cell_type": "markdown",
   "metadata": {},
   "source": [
    "---\n",
    "***Сегодня и текущее время***"
   ]
  },
  {
   "cell_type": "code",
   "execution_count": 8,
   "metadata": {},
   "outputs": [
    {
     "name": "stdout",
     "output_type": "stream",
     "text": [
      "2021-10-06 20:08:25.248108\n",
      "Current date and time :  2021-10-06 20:08:25\n",
      "Текущие дата и время :  06.10.2021 20:08:25\n",
      "Нынче год такой: 2021\n"
     ]
    }
   ],
   "source": [
    "import datetime\n",
    "\n",
    "now = datetime.datetime.now()\n",
    "\n",
    "print(now)\n",
    "print (\"Current date and time : \", now.strftime(\"%Y-%m-%d %H:%M:%S\"))\n",
    "print (\"Текущие дата и время : \", now.strftime(\"%d.%m.%Y %H:%M:%S\"))\n",
    "print(\"Нынче год такой:\", now.year)"
   ]
  },
  {
   "cell_type": "code",
   "execution_count": 9,
   "metadata": {},
   "outputs": [
    {
     "name": "stdout",
     "output_type": "stream",
     "text": [
      "td=datetime.date(2021, 10, 6), td.year=2021, td.month=10, td.day=6\n"
     ]
    }
   ],
   "source": [
    "# работа с датой\n",
    "td = datetime.date.today()\n",
    "\n",
    "print(f\"{td=}, {td.year=}, {td.month=}, {td.day=}\")"
   ]
  },
  {
   "cell_type": "code",
   "execution_count": 10,
   "metadata": {},
   "outputs": [
    {
     "name": "stdout",
     "output_type": "stream",
     "text": [
      "введите год, месяц, день (числами, полностью): 1968 3 20\n",
      "получилось: год 1968, месяц 3, день 20\n"
     ]
    }
   ],
   "source": [
    "#y = input(\"введите год (числом, полностью, напр., 2021): \")\n",
    "#m = input(\"введите месяц (числом, напр., 12): \")\n",
    "#d = input(\"введите день месяца (числом, напр., 7): \")\n",
    "\n",
    "#y, m, d = input(\"введите год, месяц, день (числами, полностью): \").split()\n",
    "\n",
    "#y, m, d = int(y), int(m), int(d)\n",
    "\n",
    "#y = int(y)\n",
    "#m = int(m)\n",
    "#d = int(d)\n",
    "\n",
    "y, m, d = [int(x) for x in input(\"введите год, месяц, день (числами, полностью): \").split()]\n",
    "\n",
    "print(f\"получилось: год {y}, месяц {m}, день {d}\")"
   ]
  },
  {
   "cell_type": "code",
   "execution_count": 11,
   "metadata": {},
   "outputs": [
    {
     "name": "stdout",
     "output_type": "stream",
     "text": [
      "введите год, месяц, день (числами, полностью): 1968 3 20\n",
      "ваши: год 1968, месяц 3, день 20\n",
      "получился возраст 53\n"
     ]
    }
   ],
   "source": [
    "# определить возраст в этом году\n",
    "y, m, d = [int(x) for x in input(\"введите год, месяц, день (числами, полностью): \").split()]\n",
    "print(f\"ваши: год {y}, месяц {m}, день {d}\")\n",
    "\n",
    "def ageyear(y):\n",
    "    \"\"\" определить возраст в году\"\"\"\n",
    "    ty = datetime.date.today().year\n",
    "    return ty - y\n",
    "\n",
    "print(f\"получился возраст {ageyear(y)}\")"
   ]
  },
  {
   "cell_type": "code",
   "execution_count": 21,
   "metadata": {},
   "outputs": [
    {
     "name": "stdout",
     "output_type": "stream",
     "text": [
      "введите год, месяц, день (числами, полностью): 2010 1 1\n",
      "ваши: год 2010, месяц 1, день 1\n",
      "получился возраст 11\n"
     ]
    }
   ],
   "source": [
    "# определить возраст на сегодя\n",
    "y, m, d = [int(x) for x in input(\"введите год, месяц, день (числами, полностью): \").split()]\n",
    "print(f\"ваши: год {y}, месяц {m}, день {d}\")\n",
    "\n",
    "def agedate(y, m, d):\n",
    "    \"\"\" определить возраст на сегодня\"\"\"\n",
    "    td = datetime.date.today()\n",
    "    delta = td.year - y\n",
    "    if m > td.month:\n",
    "        return delta-1\n",
    "    if m == td.month:\n",
    "        if d > td.day:\n",
    "            return delta-1\n",
    "    return delta\n",
    "\n",
    "print(f\"получился возраст {agedate(y, m, d)}\")"
   ]
  },
  {
   "cell_type": "markdown",
   "metadata": {},
   "source": [
    "---\n",
    "**Специальные функции и значения** <a name=specfunc></a>"
   ]
  },
  {
   "cell_type": "markdown",
   "metadata": {},
   "source": [
    "---\n",
    "***Случайные числа***"
   ]
  },
  {
   "cell_type": "code",
   "execution_count": 3,
   "metadata": {},
   "outputs": [
    {
     "name": "stdout",
     "output_type": "stream",
     "text": [
      "52, 858, 51, 496, 751, 287, 738, 24, 289, 640, 956, 114, 66, 297, 597, 271, 527, 46, 993, 987, 763, 284, 694, 37, 777, 178, 730, 837, 983, 601, 92, 5, 608, 404, 694, 784, 590, 830, 590, 582, 937, 418, 613, 398, 976, 868, 678, 41, 160, 47, 33, 517, 838, 444, 103, 762, 870, 186, 758, 701, 612, 899, 510, 63, 849, 42, 259, 846, 785, 123, 145, 679, 273, 97, 842, 229, 960, 79, 720, 64, 288, 272, 317, 295, 703, 604, 153, 161, 221, 937, 351, 577, 335, 102, 25, 654, 699, 560, 373, 310, \n",
      "-668, -568, -283, 960, 778, -620, 882, -53, -636, 128, 257, -242, 815, -528, 862, 39, -826, 620, 559, -545, 238, 644, 432, 274, 406, 37, -194, 501, 555, -415, -857, 213, -919, -881, 533, 454, 259, 544, -178, 950, 793, -541, 30, 312, 6, -260, -613, -629, -301, 988, -615, -404, -732, 152, -569, -151, -298, -922, 933, -852, -271, -919, -187, 326, 851, 825, 770, -241, 785, 251, 349, 622, 475, -792, 97, -455, -448, -410, -690, 295, 493, -634, -617, 421, 475, -40, 226, -196, -556, 410, -799, 342, -985, 485, -493, 722, 901, -412, -946, 470, "
     ]
    }
   ],
   "source": [
    "# случайные целые числа\n",
    "import random\n",
    "\n",
    "for _ in range(100):\n",
    "    print(random.randint(0, 1000), end=\", \")\n",
    "print()\n",
    "for _ in range(100):\n",
    "    print(random.randint(-1000, 1000), end=\", \")"
   ]
  },
  {
   "cell_type": "code",
   "execution_count": 4,
   "metadata": {},
   "outputs": [
    {
     "name": "stdout",
     "output_type": "stream",
     "text": [
      "74, 32, 71, 20, 81, 35, 68, 49, 27, 45, 68, 52, 14, 85, 96, 40, 24, 50, 60, 17, 90, 52, 80, 11, 32, 84, 81, 58, 41, 62, 3, 9, 95, 40, 36, 14, 98, 82, 88, 25, 65, 62, 5, 97, 68, 99, 1, 25, 96, 16, 18, 64, 58, 55, 66, 24, 68, 63, 36, 10, 26, 43, 49, 54, 94, 85, 21, 44, 88, 80, 70, 52, 6, 19, 69, 91, 51, 5, 61, 18, 87, 11, 83, 20, 6, 90, 32, 6, 60, 12, 41, 26, 14, 56, 49, 22, 27, 8, 40, 82. the end"
     ]
    }
   ],
   "source": [
    "# пакет случайных чисел\n",
    "\n",
    "print(*[random.randint(1, 100) for i in range(100)], sep=\", \", end=\". the end\")"
   ]
  },
  {
   "cell_type": "code",
   "execution_count": 5,
   "metadata": {},
   "outputs": [
    {
     "name": "stdout",
     "output_type": "stream",
     "text": [
      "  780\t -304\t -152\t  629\t -529\t -913\t  215\t -633\t -532\t  331\n",
      " -532\t  438\t -454\t  559\t  303\t -576\t -955\t -388\t -498\t  388\n",
      "  981\t  735\t  874\t  211\t -579\t -716\t -614\t -219\t  374\t  -13\n",
      " -263\t  926\t  394\t  681\t  630\t  718\t -394\t -432\t  635\t  141\n",
      "  271\t   41\t -259\t -727\t -938\t  314\t  763\t  114\t -873\t -302\n",
      "  471\t  544\t  966\t  358\t -238\t -613\t -445\t  -94\t -378\t -927\n",
      " -611\t -853\t  458\t  117\t -295\t -787\t -382\t -106\t  289\t -279\n",
      " -628\t  486\t -251\t  164\t  534\t  460\t  897\t   13\t -174\t  201\n",
      " -819\t -941\t -864\t  831\t -270\t -571\t   52\t -903\t -580\t -368\n",
      "  968\t -856\t -454\t   58\t -846\t -537\t -910\t -741\t  769\t  900\n"
     ]
    }
   ],
   "source": [
    "# случайные целые числа\n",
    "\n",
    "for i in range(1, 101):\n",
    "    print(\"%5d\" % (random.randint(-1000, +1000),), end=\"\\n\" if i%10==0 else \"\\t\")"
   ]
  },
  {
   "cell_type": "code",
   "execution_count": 6,
   "metadata": {},
   "outputs": [
    {
     "name": "stdout",
     "output_type": "stream",
     "text": [
      "0.5313541313162546\t0.27901854506763135\t0.9916134838205609\t0.6281941336247031\n",
      "0.5864067457866783\t0.9029487909521547\t0.4302338797280051\t0.16331427613818994\n",
      "0.707716515901825\t0.5323098416089309\t0.1417419923824369\t0.9123760053541458\n",
      "0.7905934353645635\t0.3356633295197954\t0.544567910182298\t0.9757147501501705\n",
      "0.27164135407297285\t0.05994099628289806\t0.14659661501457477\t0.20507000031241907\n",
      "0.192260155846802\t0.05152641945623149\t0.5094258125300304\t0.10246481343492597\n",
      "0.08760735590993507\t0.8119187394786164\t0.16910998249757347\t0.6604332027241455\n",
      "0.3324238446838511\t0.06267950773913156\t0.24087589829240152\t0.19633362336585636\n",
      "0.19929444547268438\t0.20384991598350277\t0.9457481330024737\t0.2807268833086547\n",
      "0.38916974393801895\t0.3126291656947423\t0.46224741314288076\t0.6269410559050701\n",
      "0.1304713704952981\t0.9125148802765348\t0.5519802624752859\t0.7441672910215271\n",
      "0.884070121773555\t0.007648569505886438\t0.9986660395024526\t0.8279552507208542\n",
      "0.8816394500598355\t0.7868007811977671\t0.992322824184507\t0.6536572000091412\n",
      "0.7383661076981737\t0.8523674150454089\t0.43730785857448373\t0.2185550337779093\n",
      "0.651547201713858\t0.6841911908449367\t0.9603766755422503\t0.8959765360291467\n",
      "0.7465417201556483\t0.46605122505891494\t0.8053810784052973\t0.8156784719440415\n",
      "0.21711102538292903\t0.33658430546095663\t0.16458864365693793\t0.7755354665408041\n",
      "0.006663016295296753\t0.9113315510483159\t0.21359171079335426\t0.0624865699587942\n",
      "0.562920797847361\t0.9400632664669466\t0.19647344833875202\t0.6216869787297741\n",
      "0.7070484045187772\t0.17603118844443666\t0.3499359856406844\t0.7550991091380653\n",
      "0.6854379379902512\t0.6569489825137412\t0.1324487524832827\t0.8178593802946693\n",
      "0.2192151309462187\t0.8538325531935386\t0.9077213539893046\t0.054747573877493516\n",
      "0.7110876424458702\t0.936270142259242\t0.5130466922398663\t0.2775957335260095\n",
      "0.8845504694779492\t0.6580029224526442\t0.45922075974127463\t0.32055785723757624\n",
      "0.5502246261144588\t0.12347251258750158\t0.9410797775258485\t0.33865477859189674\n"
     ]
    }
   ],
   "source": [
    "# случайные вещественные числа\n",
    "\n",
    "for i in range(1, 101):\n",
    "    print(random.random(), end=\"\\n\" if i%4==0 else \"\\t\")"
   ]
  },
  {
   "cell_type": "markdown",
   "metadata": {},
   "source": [
    "---\n",
    "***Уникальные идентификаторы***"
   ]
  },
  {
   "cell_type": "code",
   "execution_count": 7,
   "metadata": {},
   "outputs": [
    {
     "name": "stdout",
     "output_type": "stream",
     "text": [
      "    0\t5d498205-e7bc-441e-a1c0-b7ad122a74f6\t5d498205e7bc441ea1c0b7ad122a74f6\n",
      "    1\t374d1773-0f0c-4a2c-9cc8-ccdfc3dfa501\t374d17730f0c4a2c9cc8ccdfc3dfa501\n",
      "    2\te870d2ab-cc7d-4e80-9d36-c489ccaacf83\te870d2abcc7d4e809d36c489ccaacf83\n",
      "    3\t96c7ba3b-5868-4c2d-90cb-e630fbc7666d\t96c7ba3b58684c2d90cbe630fbc7666d\n",
      "    4\tb1417c45-aace-43e5-baa4-2215d5f34053\tb1417c45aace43e5baa42215d5f34053\n",
      "    5\tc191c097-dcda-4a55-9d5b-567145537387\tc191c097dcda4a559d5b567145537387\n",
      "    6\t3765364d-aca0-4cc8-8b96-2afd924382a0\t3765364daca04cc88b962afd924382a0\n",
      "    7\t5f085735-7779-4630-aa72-8fbbc5939b96\t5f08573577794630aa728fbbc5939b96\n",
      "    8\t6ea488fe-d3b8-4f8c-87c6-c95e08c008ee\t6ea488fed3b84f8c87c6c95e08c008ee\n",
      "    9\t0685ae15-765f-45e9-8885-325484d32680\t0685ae15765f45e98885325484d32680\n",
      "   10\t6a641cbf-85b6-4b86-ad68-375486bf7781\t6a641cbf85b64b86ad68375486bf7781\n",
      "   11\t5614008e-ea62-42e4-a677-895068a86828\t5614008eea6242e4a677895068a86828\n",
      "   12\t161dfd0c-788b-401f-82ad-7abcc20eb0a8\t161dfd0c788b401f82ad7abcc20eb0a8\n",
      "   13\t36d5bc65-1230-49b2-9622-3f0bb2e0ae40\t36d5bc65123049b296223f0bb2e0ae40\n",
      "   14\t7404c21d-df60-49d3-8144-dfe77adf3041\t7404c21ddf6049d38144dfe77adf3041\n",
      "   15\ta0a92fc6-fe36-4797-8215-986d85771a67\ta0a92fc6fe3647978215986d85771a67\n",
      "   16\t46d69452-73a5-41b1-bc74-d829df0fed72\t46d6945273a541b1bc74d829df0fed72\n",
      "   17\td595676b-4ed1-43d2-a814-d697474f8828\td595676b4ed143d2a814d697474f8828\n",
      "   18\tfcc9b879-8eea-409b-9e20-63a876cb6454\tfcc9b8798eea409b9e2063a876cb6454\n",
      "   19\t4c8baff7-76f6-41f9-9726-17d873744c2e\t4c8baff776f641f9972617d873744c2e\n"
     ]
    }
   ],
   "source": [
    "import uuid\n",
    "\n",
    "for i in range(20):\n",
    "    uu = uuid.uuid4()\n",
    "    print(\"%5i\\t%s\\t%s\" % (i, uu, uu.hex))"
   ]
  },
  {
   "cell_type": "markdown",
   "metadata": {},
   "source": [
    "---\n",
    "***Секретные строки***"
   ]
  },
  {
   "cell_type": "code",
   "execution_count": 8,
   "metadata": {},
   "outputs": [
    {
     "name": "stdout",
     "output_type": "stream",
     "text": [
      "f648c1fb12fdbba9dbf0f371b3c52368ba529095c4a439d87bbedddfb3dd71d0 7tkH9Kgkw9FvcTlbNpL7_o9hjfcp6R9PDCkD3T4k3is\n",
      "f8b3adbdf0b0422acb0bacfded4e2248f422144135933944eff76e417f5fc30d SQNm6phtBlqPyqr_9AzRhSCrXU_ah9AHyXDsFjHpu3w\n",
      "387f3591c5870560cac54cb735c441253a1d8d77ea957bcdc0436f1b9ba5f475 8wLaSZOgxRox-03CA0hI8EFa7k0b1kqfdKblToN0bGw\n",
      "8bfd6060bd7af0d86527e9b0799af9dba434340a1648f80dcc1bf24dc5287dad nGnE_ZOC4jkqwzTlLxJDmTqJxl3iiH-WMSsXmX0Xfiw\n",
      "5af434882d583c4b02b3a569d226e80272723e8ac7bc4752117b8668e90fb732 6ahKvI4L_vv5yAN7F6bDfqvqGfmJ0CExlONPP_KX3k0\n",
      "c7b3d87111fb1b81997655e4d54145085eacd6326824d4a084aeddee51e27b28 fTsgLELcC3Mi9YCzkacRE5rQKO6HFB4iM-VPaF7tn0M\n",
      "a7a7cadb5370ff0abfb8b7c721f1d957e65cb9ebbad382f83ccb57ce4b5f611b -tVi-ixcf62lL_hRl1M0Rtgg1nlbSAIaqwP6fvZPY44\n",
      "3fa0634070a9d7747dc1f28c4682e8c1b1fc3accddd0f6a0d9a33db0596506fd G6VDF9D4AHuXrxV5bdB3hL7Jbrv068c6MKxjBXN_8hE\n",
      "866f1016e2f940e48dc23aa2b73e90014975cdd79047325a1eee89b3cf5512e1 vy-a871BtLFqhDfFF4CtzNM1InfKzae5TCvtkD-MaWs\n",
      "52792158448eb9bb7dab87d4496eb5284ae5ddbe829a9f66e5c19a80682dac0e E5WDn-OpxsCC7zp1olPXg-no_8qSy1usFlZFBHEpCdM\n",
      "6b4ddbadb3ba8d62208dbf19e03f07efe585657e3ce3da12357b2435fb72f34d wRtKFZI-u4bmkiCmDPdwaC4Vo-Cnf2POy1NnyFy-m3E\n",
      "4c53709347ea73aa0865ed2024c070805edc020d50d237de1f41eb4051e1ed57 ypN7jXaCUocWXiPPEfHzA2C3hRhvaHSdjpqXa7CHuvM\n",
      "5509f47046d095fc2e2a312938000dda44dabf24fa2111ec035e2f2472435fb0 66-ZD5Rsz1zfe3X85PrdmgwDSttBO5425amQIqnq6QM\n",
      "ccc5b79b8378f4221bfe37cac0715613b0d451a573b135653e99670c41fbd3c0 En8QIyGz53m8-EAm3d9iMnVeROm_QeY6fGWI-wlWOM4\n",
      "bac49d9113c0545e98e1115dd40a4082b307e1ffbb51db4eaa5e09cfbe47aa41 4BBov48bMSpMv3vODQzaywUNoIKjIcGOPwncvDulsC8\n",
      "1f1c16528c581600d68cda011e3bb42b23d369b4830ef7ee93bc6fdce3413f6a tl3l4ulaqdPc91F_6odtjJvbc3ZUHaA7TpqommM-xBw\n",
      "9f58b8ab041e129a3c92a703eddd75708d84f3823bf8afc475473c082bbab4a2 8cIg_pliciXUuC54dqrzf1XDtkcF75K0pxxXPkoVtmQ\n",
      "964745768adc3f1f501fdbb59925cd04d65b2eabe8ffe140ed9e76434e4f2710 8DA-fiEQWzIlGo05GxhIrWx2MMIetkRBHY7_6nJqKf4\n",
      "54b62c244f1c722a98db5f7036e0fe900c2c799aa3da3b645f05d384be9c32bf KeEXul18Y28gN9x60rdeRj1cdFRyWexy42O-CmcHvJ4\n",
      "aed8756584b0eeb1e22f717fe4d09d646a6e973558ef08b9a7145431ccb8f230 L_pX-zxDlxe4Zg1oAEJj9hmAa2_NtPI9xWRdF_xIgR0\n"
     ]
    }
   ],
   "source": [
    "import secrets\n",
    "\n",
    "for i in range(20):\n",
    "    print(secrets.token_hex(), secrets.token_urlsafe())"
   ]
  },
  {
   "cell_type": "markdown",
   "metadata": {},
   "source": [
    "---\n",
    "**PEP(8)**  <a name=pep8></a>\n",
    "\n",
    "Это соглашение о том, как писать код для языка python, включая стандартную библиотеку, входящую в состав python"
   ]
  },
  {
   "cell_type": "markdown",
   "metadata": {},
   "source": [
    "* [Руководство](https://pythonworld.ru/osnovy/pep-8-rukovodstvo-po-napisaniyu-koda-na-python.html)\n",
    "* [Все PEPы](https://pythonz.net/peps/)"
   ]
  },
  {
   "cell_type": "markdown",
   "metadata": {},
   "source": [
    "---\n",
    "***Дзен питона - Zen of Python - PEP(20)***\n",
    "\n",
    "Разработчики языка Python придерживаются определённой философии программирования, называемой «The Zen of Python» («Дзен Питона», или «Дзен Пайтона»). Её текст выдаётся интерпретатором Python по команде import this (работает один раз за сессию).\n",
    "В целом она подходит к программированию на любом языке.\n",
    "\n",
    "**Текст философии**\n",
    "* Красивое лучше, чем уродливое.\n",
    "* Явное лучше, чем неявное.\n",
    "* Простое лучше, чем сложное.\n",
    "* Сложное лучше, чем запутанное.\n",
    "* Плоское лучше, чем вложенное.\n",
    "* Разреженное лучше, чем плотное.\n",
    "* Читаемость имеет значение.\n",
    "* Особые случаи не настолько особые, чтобы нарушать правила.\n",
    "* При этом практичность важнее безупречности.\n",
    "* Ошибки никогда не должны замалчиваться.\n",
    "* Если они не замалчиваются явно.\n",
    "* Встретив двусмысленность, отбрось искушение угадать.\n",
    "* Должен существовать один и, желательно, только один очевидный способ сделать это.\n",
    "* Хотя он поначалу может быть и не очевиден, если вы не голландец [^1].\n",
    "* Сейчас лучше, чем никогда.\n",
    "* Хотя никогда зачастую лучше, чем прямо сейчас.\n",
    "* Если реализацию сложно объяснить — идея плоха.\n",
    "* Если реализацию легко объяснить — идея, возможно, хороша.\n",
    "* Пространства имён — отличная штука! Будем делать их больше!\n"
   ]
  }
 ],
 "metadata": {
  "kernelspec": {
   "display_name": "Python 3 (ipykernel)",
   "language": "python",
   "name": "python3"
  },
  "language_info": {
   "codemirror_mode": {
    "name": "ipython",
    "version": 3
   },
   "file_extension": ".py",
   "mimetype": "text/x-python",
   "name": "python",
   "nbconvert_exporter": "python",
   "pygments_lexer": "ipython3",
   "version": "3.8.8"
  }
 },
 "nbformat": 4,
 "nbformat_minor": 4
}
