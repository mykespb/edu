{
 "cells": [
  {
   "cell_type": "markdown",
   "metadata": {},
   "source": [
    "# Примеры и упражнения по Python3 - простой уровень - часть 2"
   ]
  },
  {
   "cell_type": "markdown",
   "metadata": {},
   "source": [
    "Автор-составитель - Михаил Колодин"
   ]
  },
  {
   "cell_type": "markdown",
   "metadata": {},
   "source": [
    "Версия 2021-04-17 от 2021-06-26 - 1.8"
   ]
  },
  {
   "cell_type": "markdown",
   "metadata": {},
   "source": [
    "Разделы:\n",
    "* [Кортежи и списки](#lists)\n",
    "* [Словари и множества](#dicts)\n",
    "  * [Минимумы и максимумы](#minmax)\n",
    "  * [Положительные и отрицательные суммы](#posneg)\n",
    "* [Коллекции вообще](#collect)\n",
    "* [Функции](#funcs)\n",
    "* [Форматированный вывод](#output)\n",
    "* [Текстовые файлы](#textfiles)"
   ]
  },
  {
   "cell_type": "markdown",
   "metadata": {},
   "source": [
    "---\n",
    "**Кортежи и списки** <a name=lists></a>"
   ]
  },
  {
   "cell_type": "markdown",
   "metadata": {},
   "source": [
    "---\n",
    "***Перестановка слов***"
   ]
  },
  {
   "cell_type": "code",
   "execution_count": 93,
   "metadata": {},
   "outputs": [
    {
     "name": "stdout",
     "output_type": "stream",
     "text": [
      "привет всем питонистам\n"
     ]
    }
   ],
   "source": [
    "stroka = \"привет всем питонистам\"\n",
    "print(stroka)"
   ]
  },
  {
   "cell_type": "code",
   "execution_count": 104,
   "metadata": {},
   "outputs": [
    {
     "name": "stdout",
     "output_type": "stream",
     "text": [
      "['привет', 'всем', 'питонистам']\n",
      "<list_reverseiterator object at 0x7fd5c45abb50>\n",
      "['питонистам', 'всем', 'привет']\n",
      "питонистам всем привет\n",
      "\n",
      "питонистам всем привет\n"
     ]
    }
   ],
   "source": [
    "# подробно по шагам\n",
    "t1 = stroka.split()\n",
    "print(t1)\n",
    "t2 = reversed(t1)\n",
    "print(t2)\n",
    "t3 = list(reversed(t1))\n",
    "print(t3)\n",
    "t4 = \" \".join(t2)\n",
    "print(t4)\n",
    "print()\n",
    "\n",
    "# по-быстрому\n",
    "revstroka1 = \" \".join(reversed(stroka.split()))\n",
    "print(revstroka1)"
   ]
  },
  {
   "cell_type": "code",
   "execution_count": 96,
   "metadata": {},
   "outputs": [
    {
     "name": "stdout",
     "output_type": "stream",
     "text": [
      "питонистам всем привет\n"
     ]
    }
   ],
   "source": [
    "revstroka2 = \" \".join((stroka.split())[::-1])\n",
    "print(revstroka2)"
   ]
  },
  {
   "cell_type": "markdown",
   "metadata": {},
   "source": [
    "---\n",
    "***Поиск минимумов и максимумов*** <a name=minmax></a>"
   ]
  },
  {
   "cell_type": "code",
   "execution_count": 6,
   "metadata": {},
   "outputs": [],
   "source": [
    "# -------------------------------------- подготовка\n",
    "\n",
    "import random\n",
    "\n",
    "ranger = range(10)\n",
    "\n",
    "def makerand(size=10, lower=-100, upper=100):\n",
    "    \"\"\" сделать список из size элеметнтов,\n",
    "    минимальное значение lower,\n",
    "    максимальное значение upper\n",
    "    \"\"\"\n",
    "    return [random.randint(lower, upper) for _ in range(size)]\n",
    "\n",
    "def head(s):\n",
    "    \"\"\" напечатать заголовок\n",
    "    \"\"\"\n",
    "    sep = \"---------------------------------\"\n",
    "    print(f\"\\n{sep}\\n{s}\\n{sep}\\n\")\n",
    "\n",
    "def test(f):\n",
    "    \"\"\" запустить функцию на тест \"\"\"\n",
    "    for i in ranger:\n",
    "        a = makerand()\n",
    "        print(\"список %2d\" % i, \":\", a)\n",
    "        print(\"результат :\", f(a))"
   ]
  },
  {
   "cell_type": "code",
   "execution_count": 7,
   "metadata": {},
   "outputs": [
    {
     "name": "stdout",
     "output_type": "stream",
     "text": [
      "\n",
      "---------------------------------\n",
      "найти максимум\n",
      "---------------------------------\n",
      "\n",
      "None\n",
      "список  0 : [-9, 23, -24, -7, -17, 90, 64, -44, 55, 48]\n",
      "результат : 90\n",
      "список  1 : [-87, 6, 34, 94, 57, 100, -54, -69, 61, -47]\n",
      "результат : 100\n",
      "список  2 : [-59, -83, 76, 40, -8, 33, -86, 38, 80, 15]\n",
      "результат : 80\n",
      "список  3 : [54, -61, 51, 51, -27, -28, -42, -50, -60, 71]\n",
      "результат : 71\n",
      "список  4 : [76, 43, 32, -58, -16, -38, 71, 6, -19, -19]\n",
      "результат : 76\n",
      "список  5 : [-65, -18, -95, -11, 45, -20, -3, -54, -55, 94]\n",
      "результат : 94\n",
      "список  6 : [36, -70, -86, 8, 59, -91, 63, -19, 96, 61]\n",
      "результат : 96\n",
      "список  7 : [-51, -89, 58, -87, 55, -9, 18, -97, 26, -62]\n",
      "результат : 58\n",
      "список  8 : [25, -39, -14, -38, -29, 46, -60, 26, -12, 1]\n",
      "результат : 46\n",
      "список  9 : [-99, -53, -3, -32, -75, -6, 25, -70, -17, 25]\n",
      "результат : 25\n"
     ]
    }
   ],
   "source": [
    "head(\"найти максимум\")\n",
    "\n",
    "def getmax1(a):\n",
    "    \"\"\" найти максимум \"\"\"\n",
    "    if not a: return None\n",
    "    return max(a)\n",
    "\n",
    "print(getmax1([]))\n",
    "test(getmax1)"
   ]
  },
  {
   "cell_type": "code",
   "execution_count": 34,
   "metadata": {},
   "outputs": [
    {
     "name": "stdout",
     "output_type": "stream",
     "text": [
      "None\n",
      "список  0 : [-46, -78, -20, 78, -17, 36, -4, -88, -41, -23]\n",
      "результат : 78\n",
      "список  1 : [-73, 37, -72, 64, -99, -48, -97, 12, -52, -66]\n",
      "результат : 64\n",
      "список  2 : [53, 55, -46, -45, 85, 72, -29, 80, -76, -4]\n",
      "результат : 85\n",
      "список  3 : [-34, 33, 58, 36, -100, -33, 10, 32, -86, 14]\n",
      "результат : 58\n",
      "список  4 : [-25, -92, -83, 33, -70, 13, 2, 96, -74, 54]\n",
      "результат : 96\n",
      "список  5 : [59, 29, 73, -45, 48, -16, -92, -29, -15, -71]\n",
      "результат : 73\n",
      "список  6 : [86, -19, 57, 49, 43, 96, 50, 32, 97, 66]\n",
      "результат : 97\n",
      "список  7 : [-19, -21, -21, -3, 4, 80, -64, 3, 4, -52]\n",
      "результат : 80\n",
      "список  8 : [-84, -48, -47, -58, 74, 44, -80, -10, 20, 24]\n",
      "результат : 74\n",
      "список  9 : [71, 53, 32, -78, 50, -67, -25, -49, 10, 31]\n",
      "результат : 71\n"
     ]
    }
   ],
   "source": [
    "def getmax2(a):\n",
    "    \"\"\" найти максимум \"\"\"\n",
    "    if not a: return None\n",
    "    m = a[0]\n",
    "    for e in a:\n",
    "        if e > m:\n",
    "            m = e\n",
    "    return m\n",
    "\n",
    "print(getmax2([]))\n",
    "test(getmax1)"
   ]
  },
  {
   "cell_type": "code",
   "execution_count": 9,
   "metadata": {},
   "outputs": [
    {
     "name": "stdout",
     "output_type": "stream",
     "text": [
      "\n",
      "---------------------------------\n",
      "найти минимум, нетривиально\n",
      "---------------------------------\n",
      "\n",
      "список  0 : [70, 34, -13, -68, 99, -58, -94, -44, 81, 77]\n",
      "результат : -94\n",
      "список  1 : [52, 62, 67, 56, -86, -30, -35, -3, 0, -10]\n",
      "результат : -86\n",
      "список  2 : [77, 56, -4, -60, -97, 1, -58, -74, 83, -53]\n",
      "результат : -97\n",
      "список  3 : [-54, -78, -59, 76, -29, -36, -15, -63, -43, 37]\n",
      "результат : -78\n",
      "список  4 : [-70, 52, -77, -12, 100, 42, -1, 63, 22, -89]\n",
      "результат : -89\n",
      "список  5 : [13, -31, 44, 80, 56, 68, -93, -97, -17, 39]\n",
      "результат : -97\n",
      "список  6 : [-67, -10, 34, -74, -32, -64, -8, -72, -3, 8]\n",
      "результат : -74\n",
      "список  7 : [34, -22, -26, 25, -92, 3, 97, 66, 43, -30]\n",
      "результат : -92\n",
      "список  8 : [27, 30, -21, 7, -56, -25, 67, 89, -88, 18]\n",
      "результат : -88\n",
      "список  9 : [-39, 94, 59, -26, -24, 84, -12, -30, 21, -62]\n",
      "результат : -62\n"
     ]
    }
   ],
   "source": [
    "head(\"найти минимум, нетривиально\")\n",
    "\n",
    "def getmin2(a):\n",
    "    \"\"\" найти минимум \"\"\"\n",
    "    if not a: return None\n",
    "    m = a[0]\n",
    "    for e in a:\n",
    "        if e < m:\n",
    "            m = e\n",
    "    return m\n",
    "\n",
    "test(getmin2)"
   ]
  },
  {
   "cell_type": "code",
   "execution_count": 36,
   "metadata": {},
   "outputs": [
    {
     "name": "stdout",
     "output_type": "stream",
     "text": [
      "\n",
      "---------------------------------\n",
      "найти минимум и максимум за 1 проход\n",
      "---------------------------------\n",
      "\n",
      "список  0 : [-13, -78, 61, 1, 16, 29, 57, -74, 69, 78]\n",
      "результат : (-78, 78)\n",
      "список  1 : [75, 48, 68, -34, -66, -90, -10, 11, 55, -87]\n",
      "результат : (-90, 75)\n",
      "список  2 : [25, -88, 98, 47, -60, -20, -21, 63, 18, -82]\n",
      "результат : (-88, 98)\n",
      "список  3 : [47, 23, -26, -7, 25, 9, -83, 19, 75, 21]\n",
      "результат : (-83, 75)\n",
      "список  4 : [-23, 67, 50, -96, 28, 78, -58, 91, 64, -12]\n",
      "результат : (-96, 91)\n",
      "список  5 : [-4, -46, 77, 86, 69, 96, 58, 7, -27, -23]\n",
      "результат : (-46, 96)\n",
      "список  6 : [-75, 11, 5, -59, -65, -77, 66, 52, -83, -62]\n",
      "результат : (-83, 66)\n",
      "список  7 : [53, -100, -25, 80, -80, 23, -78, -12, -11, 22]\n",
      "результат : (-100, 80)\n",
      "список  8 : [-69, -41, -75, 78, 1, -56, -62, 81, 66, -90]\n",
      "результат : (-90, 81)\n",
      "список  9 : [-11, -2, 82, -47, -72, 81, -73, -28, -56, 71]\n",
      "результат : (-73, 82)\n"
     ]
    }
   ],
   "source": [
    "head(\"найти минимум и максимум за 1 проход\")\n",
    "\n",
    "def getall1(a):\n",
    "    \"\"\" найти максимум и минимум \"\"\"\n",
    "    if not a: return None\n",
    "    mi = ma = a[0]\n",
    "    for e in a:\n",
    "        if e > ma: ma = e\n",
    "        if e < mi: mi = e\n",
    "    return mi, ma\n",
    "\n",
    "test(getall1)"
   ]
  },
  {
   "cell_type": "markdown",
   "metadata": {},
   "source": [
    "---\n",
    "Найти минимальное и максимальное значение элементов целочисленного списка.\n",
    "\n",
    "Список создаётся случайным образом (в программе мы не можем использовать знания о том, какие элементы входят в этот список и даже какой он длины (короткий или длинный); мы только знаем, что это целые числа).\n",
    "\n",
    "В программе задаются константы LEN, MIN, MAX, характеризующие этот список.\n",
    "\n",
    "Нужно найти оба значения не более, чем за 1 проход по списку."
   ]
  },
  {
   "cell_type": "code",
   "execution_count": 1,
   "metadata": {},
   "outputs": [],
   "source": [
    "import random"
   ]
  },
  {
   "cell_type": "code",
   "execution_count": 2,
   "metadata": {},
   "outputs": [
    {
     "name": "stdout",
     "output_type": "stream",
     "text": [
      "случайный список: [-29, 77, 64, -16, 30, 48, -98, -29, 7, 64]\n"
     ]
    }
   ],
   "source": [
    "# создаём список случайных целых чисел\n",
    "LEN = 10      # длина списка\n",
    "MIN = -100    # минимальное возможное число\n",
    "MAX = 100     # максимальное возможное число\n",
    "import random\n",
    "rl = [random.randint(MIN, MAX) for _ in range(LEN)]\n",
    "print(\"случайный список:\", rl)"
   ]
  },
  {
   "cell_type": "code",
   "execution_count": 13,
   "metadata": {},
   "outputs": [
    {
     "name": "stdout",
     "output_type": "stream",
     "text": [
      "минимум равен -93 , максимум равен 96\n"
     ]
    }
   ],
   "source": [
    "# не по-питоновски:\n",
    "amin = rl[0]\n",
    "amax = rl[0]\n",
    "\n",
    "for i in range(1, LEN):\n",
    "    if rl[i] < amin:\n",
    "        amin = rl[i]\n",
    "    if rl[i] > amax:\n",
    "        amax = rl[i]\n",
    "\n",
    "# вывод результата по-чужому :)\n",
    "print(\"минимум равен\", amin, \", максимум равен\", amax)"
   ]
  },
  {
   "cell_type": "code",
   "execution_count": 14,
   "metadata": {},
   "outputs": [
    {
     "name": "stdout",
     "output_type": "stream",
     "text": [
      "минимум равен -93, максимум равен 96\n",
      "минимум равен -93, максимум равен 96\n"
     ]
    }
   ],
   "source": [
    "# полу-по-питоновски\n",
    "amin = rl[0]\n",
    "amax = rl[0]\n",
    "\n",
    "for e in rl[1:]:\n",
    "    if e < amin:\n",
    "        amin = e\n",
    "    if e > amax:\n",
    "        amax = e\n",
    "        \n",
    "# вывод результата по-старому\n",
    "print(\"минимум равен %d, максимум равен %d\" % (amin, amax))\n",
    "# или по-новому\n",
    "print(\"минимум равен {}, максимум равен {}\".format(amin, amax))"
   ]
  },
  {
   "cell_type": "code",
   "execution_count": 15,
   "metadata": {},
   "outputs": [
    {
     "name": "stdout",
     "output_type": "stream",
     "text": [
      "минимум равен -93, максимум равен 96\n"
     ]
    }
   ],
   "source": [
    "# по-питоновски\n",
    "\n",
    "print(f\"минимум равен {min(rl)}, максимум равен {max(rl)}\")"
   ]
  },
  {
   "cell_type": "markdown",
   "metadata": {},
   "source": [
    "---\n",
    "***найти максимум (и минимум) по модулю***"
   ]
  },
  {
   "cell_type": "code",
   "execution_count": 10,
   "metadata": {},
   "outputs": [],
   "source": [
    "# -------------------------------------- подготовка\n",
    "\n",
    "import random\n",
    "\n",
    "ranger = range(10)\n",
    "\n",
    "def makerand(size=10, lower=-100, upper=100):\n",
    "    \"\"\" сделать список из size элеметнтов,\n",
    "    минимальное значение lower,\n",
    "    максимальное значение upper\n",
    "    \"\"\"\n",
    "    return [random.randint(lower, upper) for _ in range(size)]\n",
    "\n",
    "def head(s):\n",
    "    \"\"\" напечатать заголовок\n",
    "    \"\"\"\n",
    "    sep = \"---------------------------------\"\n",
    "    print(f\"\\n{sep}\\n{s}\\n{sep}\\n\")\n",
    "\n",
    "def test(f):\n",
    "    \"\"\" запустить функцию на тест \"\"\"\n",
    "    for i in ranger:\n",
    "        a = makerand()\n",
    "        print(\"список %2d\" % i, \":\", a)\n",
    "        print(\"результат :\", f(a))"
   ]
  },
  {
   "cell_type": "code",
   "execution_count": 11,
   "metadata": {},
   "outputs": [
    {
     "name": "stdout",
     "output_type": "stream",
     "text": [
      "\n",
      "---------------------------------\n",
      "найти максимум по модулю\n",
      "---------------------------------\n",
      "\n",
      "список  0 : [-7, -71, 18, 42, 47, -36, 35, -66, 8, -14]\n",
      "результат : -71\n",
      "список  1 : [-98, -65, 33, 11, 89, 73, 15, 51, -84, -63]\n",
      "результат : -98\n",
      "список  2 : [-5, 93, -92, -36, -33, 14, 22, 89, 89, 11]\n",
      "результат : 93\n",
      "список  3 : [77, -30, -98, -32, 77, 91, -48, -56, 47, -77]\n",
      "результат : -98\n",
      "список  4 : [12, 19, -77, -30, 71, 29, -59, 61, -74, -100]\n",
      "результат : -100\n",
      "список  5 : [-35, -61, -1, -10, -64, -53, -86, -8, 27, 16]\n",
      "результат : -86\n",
      "список  6 : [-45, 87, -18, -10, -14, 93, -35, -53, -2, -3]\n",
      "результат : 93\n",
      "список  7 : [40, -70, 81, -26, 75, -66, 9, 83, 85, 18]\n",
      "результат : 85\n",
      "список  8 : [-56, -7, -25, 17, 35, -17, 12, -47, -21, 15]\n",
      "результат : -56\n",
      "список  9 : [60, -79, -50, 38, 61, 32, -23, 20, 58, -85]\n",
      "результат : -85\n"
     ]
    }
   ],
   "source": [
    "head(\"найти максимум по модулю\")\n",
    "\n",
    "def maxmod1(a):\n",
    "    \"\"\" найти максимум по модулю \"\"\"\n",
    "    return sorted(a, key=lambda x: abs(x), reverse=True)[0] if a else None\n",
    "\n",
    "test(maxmod1)"
   ]
  },
  {
   "cell_type": "code",
   "execution_count": 12,
   "metadata": {},
   "outputs": [
    {
     "name": "stdout",
     "output_type": "stream",
     "text": [
      "\n",
      "---------------------------------\n",
      "найти максимум и минимум по модулю\n",
      "---------------------------------\n",
      "\n",
      "список  0 : [82, -7, 56, -24, 80, -59, 57, -19, -76, -50]\n",
      "результат : (-7, 82)\n",
      "список  1 : [80, 87, 55, 40, -48, 29, 37, 49, -2, -14]\n",
      "результат : (-2, 87)\n",
      "список  2 : [93, -75, -14, 81, -45, 45, -84, -28, -97, 70]\n",
      "результат : (-14, -97)\n",
      "список  3 : [31, 52, -40, -71, -97, -25, -34, 61, -23, 13]\n",
      "результат : (13, -97)\n",
      "список  4 : [-73, 7, 83, 97, 60, -6, 92, 5, -90, 81]\n",
      "результат : (5, 97)\n",
      "список  5 : [-29, 40, 55, -34, -4, -71, 81, 25, 59, 84]\n",
      "результат : (-4, 84)\n",
      "список  6 : [-99, -62, -6, -97, 70, 65, 18, -3, 21, 94]\n",
      "результат : (-3, -99)\n",
      "список  7 : [91, 27, -7, 74, -19, 62, -80, 6, 12, -63]\n",
      "результат : (6, 91)\n",
      "список  8 : [-85, -95, 8, 80, -78, -73, -83, 39, 33, 11]\n",
      "результат : (8, -95)\n",
      "список  9 : [-81, 62, 100, 78, 6, 50, 68, -31, -42, -76]\n",
      "результат : (6, 100)\n"
     ]
    }
   ],
   "source": [
    "head(\"найти максимум и минимум по модулю\")\n",
    "\n",
    "def minmaxmod1(a):\n",
    "    \"\"\" найти минимум и максимум по модулю за 1 проход \"\"\"\n",
    "    if type(a) != list or len(a) < 1: \n",
    "        return None\n",
    "    m = sorted(a, key=lambda x: abs(x))\n",
    "    return m[0], m[-1]\n",
    "\n",
    "test(minmaxmod1)"
   ]
  },
  {
   "cell_type": "code",
   "execution_count": 13,
   "metadata": {},
   "outputs": [
    {
     "name": "stdout",
     "output_type": "stream",
     "text": [
      "список  0 : [-23, -43, 8, 29, 19, 61, -5, 88, -88, -83]\n",
      "результат : [-5, -88]\n",
      "список  1 : [-20, 12, -41, 61, -60, -34, -12, 36, 26, -37]\n",
      "результат : [12, 61]\n",
      "список  2 : [26, 62, -80, -62, 70, 15, -23, -40, -84, 7]\n",
      "результат : [7, -84]\n",
      "список  3 : [-56, -19, 4, 50, 76, -83, 76, -44, 93, 56]\n",
      "результат : [4, 93]\n",
      "список  4 : [65, -5, 36, -43, 81, -90, -68, -87, -67, 40]\n",
      "результат : [-5, -90]\n",
      "список  5 : [-66, -26, -19, -75, -16, 75, 32, 57, -41, 100]\n",
      "результат : [-16, 100]\n",
      "список  6 : [-91, 6, -49, 12, -29, -5, -92, -64, -47, -91]\n",
      "результат : [-5, -92]\n",
      "список  7 : [-99, 75, -96, 27, -75, 53, -28, 35, -41, -34]\n",
      "результат : [27, -99]\n",
      "список  8 : [73, -16, 23, 32, -60, -94, -51, 30, -20, 25]\n",
      "результат : [-16, -94]\n",
      "список  9 : [7, 77, -48, 64, -2, 10, -12, 51, 85, 85]\n",
      "результат : [-2, 85]\n"
     ]
    }
   ],
   "source": [
    "def minmaxmod2(a):\n",
    "    \"\"\" найти минимум и максимум по модулю за 1 проход \"\"\"\n",
    "    if type(a) != list or len(a) < 1: \n",
    "        return None\n",
    "    return sorted(a, key=lambda x: abs(x))[0: len(a): len(a)-1]\n",
    "\n",
    "test(minmaxmod2)"
   ]
  },
  {
   "cell_type": "markdown",
   "metadata": {},
   "source": [
    "---\n",
    "***Суммы положительных и отрицательных числе в списке*** <a name=posneg></a>"
   ]
  },
  {
   "cell_type": "code",
   "execution_count": 2,
   "metadata": {},
   "outputs": [],
   "source": [
    "# -------------------------------------- подготовка\n",
    "\n",
    "import random\n",
    "\n",
    "ranger = range(10)\n",
    "\n",
    "def makerand(size=10, lower=-100, upper=100):\n",
    "    \"\"\" сделать список из size элементов,\n",
    "    минимальное допустимое значение lower,\n",
    "    максимальное допустимое значение upper\n",
    "    \"\"\"\n",
    "    return [random.randint(lower, upper) for _ in range(size)]\n",
    "\n",
    "def head(s):\n",
    "    \"\"\" напечатать заголовок\n",
    "    \"\"\"\n",
    "    sep = 20 * \"-\"\n",
    "    print(f\"\\n{sep}\\n{s}\\n{sep}\\n\")\n",
    "\n",
    "def test(f):\n",
    "    \"\"\" запустить функцию на тест\n",
    "    \"\"\"\n",
    "    sep = 20 * \"-\"\n",
    "    print(\"\\n\", sep, \"function:\", f.__name__, sep, \"\\n\")\n",
    "    for i in ranger:\n",
    "        a = makerand()\n",
    "        print(\"in: \", a)\n",
    "        print(\"out:\", f(a))\n"
   ]
  },
  {
   "cell_type": "code",
   "execution_count": 3,
   "metadata": {},
   "outputs": [
    {
     "name": "stdout",
     "output_type": "stream",
     "text": [
      "\n",
      " -------------------- function: sumpn1 -------------------- \n",
      "\n",
      "in:  [-56, -64, 48, -67, -6, 72, -18, -84, -85, 9]\n",
      "out: (-380, 129)\n",
      "in:  [-27, 1, -59, -73, 79, 31, 2, -86, 34, -91]\n",
      "out: (-336, 147)\n",
      "in:  [96, 86, 20, -23, -24, -20, 80, -98, 31, 49]\n",
      "out: (-165, 362)\n",
      "in:  [87, 43, 26, -64, -33, -68, -60, -26, -63, -20]\n",
      "out: (-334, 156)\n",
      "in:  [-35, 67, 83, 59, -8, -7, -97, -79, 33, -55]\n",
      "out: (-281, 242)\n",
      "in:  [47, 9, -47, 64, -34, -16, 99, 81, -8, -34]\n",
      "out: (-139, 300)\n",
      "in:  [-24, 62, -66, -40, 41, -60, 19, -13, -91, -67]\n",
      "out: (-361, 122)\n",
      "in:  [-71, -53, -24, -57, 17, -6, -36, 90, -38, 63]\n",
      "out: (-285, 170)\n",
      "in:  [-14, 80, -79, -67, -23, 1, 54, 3, -66, -77]\n",
      "out: (-326, 138)\n",
      "in:  [-98, 5, 4, -61, 76, -80, -89, -8, 9, -37]\n",
      "out: (-373, 94)\n"
     ]
    }
   ],
   "source": [
    "# -------------------------------------- функция 1\n",
    "\n",
    "def sumpn1(a):\n",
    "    \"\"\"функция sumpn1\n",
    "    считает суммы + и - чисел\n",
    "    \"\"\"\n",
    "    sump = sumn = 0\n",
    "    for e in a:\n",
    "        if e < 0:\n",
    "            sumn += e\n",
    "        else:\n",
    "            sump += e\n",
    "    return sumn, sump\n",
    "\n",
    "test(sumpn1)"
   ]
  },
  {
   "cell_type": "code",
   "execution_count": 4,
   "metadata": {},
   "outputs": [
    {
     "name": "stdout",
     "output_type": "stream",
     "text": [
      "\n",
      " -------------------- function: sumpn2 -------------------- \n",
      "\n",
      "in:  [-42, 0, 46, -64, -4, 36, -13, 96, -88, 91]\n",
      "out: (-211, 269)\n",
      "in:  [-53, 30, -88, 3, -79, 39, 92, -47, 44, -46]\n",
      "out: (-313, 208)\n",
      "in:  [-19, 20, 71, 2, -21, -89, 44, 48, 31, -93]\n",
      "out: (-222, 216)\n",
      "in:  [59, 79, 91, 42, 48, 17, -66, 18, -26, -92]\n",
      "out: (-184, 354)\n",
      "in:  [46, 96, -83, -49, -62, -80, -63, 13, 71, 31]\n",
      "out: (-337, 257)\n",
      "in:  [16, 72, -27, 50, -40, -23, 11, 57, -43, 93]\n",
      "out: (-133, 299)\n",
      "in:  [-73, -52, 8, 65, 11, 35, 42, -28, -63, -45]\n",
      "out: (-261, 161)\n",
      "in:  [19, -92, -86, -68, -43, -75, 13, -42, 43, 64]\n",
      "out: (-406, 139)\n",
      "in:  [42, -10, 44, 93, 10, 40, 5, -21, 35, -93]\n",
      "out: (-124, 269)\n",
      "in:  [11, 9, -1, 48, 63, -10, 46, -80, -7, -27]\n",
      "out: (-125, 177)\n"
     ]
    }
   ],
   "source": [
    "# -------------------------------------- функция 2\n",
    "\n",
    "def sumpn2(a):\n",
    "    \"\"\"функция sumpn2 - тоже про суммы\n",
    "    \"\"\"\n",
    "    return (\n",
    "        sum([x for x in a if x<0]),\n",
    "        sum([x for x in a if x>0])\n",
    "        )\n",
    "\n",
    "test(sumpn2)"
   ]
  },
  {
   "cell_type": "code",
   "execution_count": 5,
   "metadata": {},
   "outputs": [
    {
     "name": "stdout",
     "output_type": "stream",
     "text": [
      "\n",
      "\n",
      "про функции: классы, имена, описания, вызовы:\n",
      "\n",
      "<function sumpn1 at 0x7f386c22bf70>\n",
      "<class 'function'>\n",
      "sumpn1\n",
      "функция sumpn1\n",
      "    считает суммы + и - чисел\n",
      "    \n",
      "[-1, 0, 1] --> (-1, 1)\n"
     ]
    }
   ],
   "source": [
    "# -------------------------------------- про функции\n",
    "\n",
    "print(\"\\n\\nпро функции: классы, имена, описания, вызовы:\\n\")\n",
    "print(sumpn1)\n",
    "print(type(sumpn1))\n",
    "print(sumpn1.__name__)\n",
    "print(sumpn1.__doc__)\n",
    "print([-1, 0, 1], \"-->\", sumpn1([-1, 0, 1]))"
   ]
  },
  {
   "cell_type": "markdown",
   "metadata": {},
   "source": [
    "---\n",
    "***Сортировка***\n",
    "\n",
    "Дан список (мы его сами сделаем, для удобства, но случайным образом.\n",
    "\n",
    "Задача. Надо отсортировать = упорядочить элементы списка по возрастанию (точнее, по неубыванию).\n",
    "\n",
    "Есть несколько способов. Это суперклассика программирования."
   ]
  },
  {
   "cell_type": "code",
   "execution_count": 1,
   "metadata": {},
   "outputs": [],
   "source": [
    "from random import randint as ri"
   ]
  },
  {
   "cell_type": "code",
   "execution_count": 2,
   "metadata": {},
   "outputs": [
    {
     "name": "stdout",
     "output_type": "stream",
     "text": [
      "[-10, 10, 9, 3, 6, 4, 1, 6, -6, -2]\n"
     ]
    }
   ],
   "source": [
    "LEN = 10\n",
    "MIN = -10 \n",
    "MAX = +10\n",
    "l = [ri(MIN, MAX) for _ in range(LEN)]\n",
    "print(l)"
   ]
  },
  {
   "cell_type": "code",
   "execution_count": 4,
   "metadata": {},
   "outputs": [
    {
     "name": "stdout",
     "output_type": "stream",
     "text": [
      "[-10, -6, -2, 1, 3, 4, 6, 6, 9, 10]\n"
     ]
    }
   ],
   "source": [
    "l.sort()\n",
    "print(l)"
   ]
  },
  {
   "cell_type": "code",
   "execution_count": 5,
   "metadata": {},
   "outputs": [
    {
     "name": "stdout",
     "output_type": "stream",
     "text": [
      "[10, 9, 6, 6, 4, 3, 1, -2, -6, -10]\n"
     ]
    }
   ],
   "source": [
    "l.sort(reverse = True)\n",
    "print(l)"
   ]
  },
  {
   "cell_type": "code",
   "execution_count": 6,
   "metadata": {},
   "outputs": [
    {
     "name": "stdout",
     "output_type": "stream",
     "text": [
      "[1, -2, 3, 4, 6, 6, -6, 9, 10, -10]\n"
     ]
    }
   ],
   "source": [
    "l.sort(key = lambda x: abs(x))\n",
    "print(l)"
   ]
  },
  {
   "cell_type": "code",
   "execution_count": 7,
   "metadata": {},
   "outputs": [
    {
     "name": "stdout",
     "output_type": "stream",
     "text": [
      "[1, -2, 3, 4, 6, 6, -6, 9, 10, -10]\n",
      "[-10, -6, -2, 1, 3, 4, 6, 6, 9, 10]\n"
     ]
    }
   ],
   "source": [
    "ls = sorted(l)\n",
    "print(l)\n",
    "print(ls)"
   ]
  },
  {
   "cell_type": "markdown",
   "metadata": {},
   "source": [
    "---\n",
    "***Поиск***\n",
    "\n",
    "Поиск информации в последовательности - классика.\n",
    "Проверяем наличие."
   ]
  },
  {
   "cell_type": "code",
   "execution_count": 17,
   "metadata": {},
   "outputs": [
    {
     "name": "stdout",
     "output_type": "stream",
     "text": [
      "[10, 5, -2, 7, -6, 1, -9, 7, -9, -1]\n"
     ]
    }
   ],
   "source": [
    "LEN = 10\n",
    "MIN = -10 \n",
    "MAX = +10\n",
    "l = [ri(MIN, MAX) for _ in range(LEN)]\n",
    "print(l)"
   ]
  },
  {
   "cell_type": "code",
   "execution_count": 18,
   "metadata": {},
   "outputs": [
    {
     "name": "stdout",
     "output_type": "stream",
     "text": [
      "Нашли!\n"
     ]
    }
   ],
   "source": [
    "# Ищем число 5 в списке\n",
    "# 1. Тупо\n",
    "\n",
    "WHAT = 5\n",
    "\n",
    "found = False\n",
    "for i in range(len(l)):\n",
    "    if l[i] == WHAT:\n",
    "        print(\"Нашли!\")\n",
    "        break\n",
    "else:\n",
    "    print(\"Не нашли!\")"
   ]
  },
  {
   "cell_type": "code",
   "execution_count": 19,
   "metadata": {},
   "outputs": [
    {
     "name": "stdout",
     "output_type": "stream",
     "text": [
      "Нашли!\n"
     ]
    }
   ],
   "source": [
    "# Полутупо\n",
    "\n",
    "WHAT = 5\n",
    "\n",
    "for e in l:\n",
    "    if l[i] == WHAT:\n",
    "        print(\"Нашли!\")\n",
    "        break\n",
    "else:\n",
    "    print(\"Не нашли!\")"
   ]
  },
  {
   "cell_type": "code",
   "execution_count": 21,
   "metadata": {},
   "outputs": [
    {
     "name": "stdout",
     "output_type": "stream",
     "text": [
      "Нашли!\n"
     ]
    }
   ],
   "source": [
    "# Умно, по-питоновски:  :)\n",
    "\n",
    "print(\"Нашли!\" if WHAT in l else \"Не нашли!\")"
   ]
  },
  {
   "cell_type": "markdown",
   "metadata": {},
   "source": [
    "---\n",
    "### Обзор\n",
    "\n",
    "Есть много разных классических способов сортировки и поиска. \n",
    "\n",
    "См. Д.Кнут. \"Искусство программирования для ЭВМ\", том 3.\n",
    "\n",
    "И полезно писать свои.\n",
    "\n",
    "И уметь оценивать затраты времени и памяти на такие операции с помощью О большого, напр., \n",
    "$$O(1), O(n), O(n^2), O(n \\log n)$$"
   ]
  },
  {
   "cell_type": "markdown",
   "metadata": {},
   "source": [
    "---\n",
    "***Удалить из списка повторяющиеся  значения***"
   ]
  },
  {
   "cell_type": "code",
   "execution_count": 8,
   "metadata": {},
   "outputs": [
    {
     "name": "stdout",
     "output_type": "stream",
     "text": [
      "случайный список: [9, 0, 7, 6, 9, 9, 3, 2, 7, 5]\n"
     ]
    }
   ],
   "source": [
    "# создаём случайный список\n",
    "LEN = 10      # длина списка\n",
    "MIN = 0    # минимальное возможное число\n",
    "MAX = 10     # максимальное возможное число\n",
    "import random\n",
    "rl = [random.randint(MIN, MAX) for _ in range(LEN)]\n",
    "print(\"случайный список:\", rl)"
   ]
  },
  {
   "cell_type": "code",
   "execution_count": 9,
   "metadata": {},
   "outputs": [
    {
     "name": "stdout",
     "output_type": "stream",
     "text": [
      "получился список [9, 0, 7, 6, 3, 2, 5]\n"
     ]
    }
   ],
   "source": [
    "# решение полупитоновское\n",
    "pl = []\n",
    "for e in rl:\n",
    "    if e not in pl:\n",
    "        pl += [e]\n",
    "        \n",
    "print(\"получился список\", pl)"
   ]
  },
  {
   "cell_type": "code",
   "execution_count": 10,
   "metadata": {},
   "outputs": [
    {
     "name": "stdout",
     "output_type": "stream",
     "text": [
      "получился список [0, 2, 3, 5, 6, 7, 9]\n"
     ]
    }
   ],
   "source": [
    "# решение питоновское\n",
    "pl = list(set(rl))\n",
    "print(\"получился список\", pl)"
   ]
  },
  {
   "cell_type": "markdown",
   "metadata": {},
   "source": [
    "---\n",
    "***Подсчёт букв***\n",
    "\n",
    "Подсчитать, сколько в тексте гласных и согласных букв, и каково их отношение. Говорят. что можно по частоте букв и слов определить авторство произведения."
   ]
  },
  {
   "cell_type": "code",
   "execution_count": 27,
   "metadata": {},
   "outputs": [],
   "source": [
    "# начальные данные - несколько текстов\n",
    "text_rus = \"\"\"\n",
    "Позванивает тишь в июльский колокольчик,\n",
    "Расправляя пальцами рассвета лепестки.\n",
    "Заря малиновый плащ около околицы\n",
    "Навстречу солнцу выбросить спешит.\n",
    "\n",
    "Пьют утренний туман стреноженные кони,\n",
    "Звук рвущейся травы на замшевых губах.\n",
    "И первая пчела пускается в погоню\n",
    "За солнечным лучом на клеверных лугах.\n",
    "\n",
    "Лежу, заворожён рассветной дрёмой,\n",
    "Вдали от нервных городов.\n",
    "И не понять: ну где ж я дома - \n",
    "В асфальтовых краях иль здесь, среди лугов?\n",
    "\n",
    "Позванивает тишь в июльский колокольчик...\n",
    "(Валентин Вихорев)\n",
    "\"\"\"\n",
    "\n",
    "text_eng = \"\"\"\n",
    "Alice was beginning to get very tired of sitting by her sister on the bank, and of having nothing to do: once or twice she had peeped into the book her sister was reading, but it had no pictures or conversations in it, 'and what is the use of a book,' thought Alice 'without pictures or conversation?'\n",
    "So she was considering in her own mind (as well as she could, for the hot day made her feel very sleepy and stupid), whether the pleasure of making a daisy-chain would be worth the trouble of getting up and picking the daisies, when suddenly a White Rabbit with pink eyes ran close by her.\n",
    "There was nothing so VERY remarkable in that; nor did Alice think it so VERY much out of the way to hear the Rabbit say to itself, 'Oh dear! Oh dear! I shall be late!' (When she thought it over afterwards, it occurred to her that she ought to have wondered at this, but at the time it all seemed quite natural.)\n",
    "But when the Rabbit actually TOOK A WATCH OUT OF ITS WAISTCOAT-POCKET, and looked at it, and then hurried on, Alice started to her feet, for it flashed across her mind that she had never before seen a rabbit with either a waistcoat-pocket, or a watch to take out of it, and burning with curiosity, she ran across the field after it, and fortunately was just in time to see it pop down a large rabbit-hole under the hedge.\n",
    "\"\"\"\n"
   ]
  },
  {
   "cell_type": "code",
   "execution_count": 35,
   "metadata": {},
   "outputs": [],
   "source": [
    "# перечисляем буквы алфавитов\n",
    "alfa_rus_vowels = 'уеаоэяию'\n",
    "alfa_rus_consonants = 'йцкнгшщзхъфвпрлджчсмтьб'\n",
    "alfa_eng_vowels = 'eyuioaj'\n",
    "alfa_eng_consonants = 'qwrtpsdfghjklzxcvbnm'"
   ]
  },
  {
   "cell_type": "code",
   "execution_count": 36,
   "metadata": {},
   "outputs": [],
   "source": [
    "# выбираем текст для анализа\n",
    "\n",
    "alfa_vowels = alfa_rus_vowels\n",
    "alfa_consonants = alfa_rus_consonants\n",
    "#alfa_vowels = alfa_eng_vowels\n",
    "#alfa_consonants = alfa_eng_consonants\n",
    "\n",
    "text = text_rus\n",
    "#text = text_rus"
   ]
  },
  {
   "cell_type": "code",
   "execution_count": 37,
   "metadata": {},
   "outputs": [
    {
     "name": "stdout",
     "output_type": "stream",
     "text": [
      "всего насчитали гласных букв 147, \n",
      "согласных букв 249,\n",
      "отношение гласных к согласным равно 0.59.\n",
      "\n"
     ]
    }
   ],
   "source": [
    "# вариант 1\n",
    "count_vowels = count_consonants = 0\n",
    "for c in text:\n",
    "    cc = c.lower()\n",
    "    count_vowels += cc in alfa_vowels\n",
    "    count_consonants += cc in alfa_consonants\n",
    "    \n",
    "count_rel = 0 if count_consonants == 0 else count_vowels / count_consonants\n",
    "\n",
    "print(f\"\"\"всего насчитали гласных букв {count_vowels}, \n",
    "согласных букв {count_consonants},\n",
    "отношение гласных к согласным равно {round(count_rel, 3)}.\n",
    "\"\"\")"
   ]
  },
  {
   "cell_type": "code",
   "execution_count": 38,
   "metadata": {},
   "outputs": [
    {
     "name": "stdout",
     "output_type": "stream",
     "text": [
      "всего насчитали гласных букв 147, \n",
      "согласных букв 249,\n",
      "отношение гласных к согласным равно 0.59.\n",
      "\n"
     ]
    }
   ],
   "source": [
    "# вариант 2\n",
    "count_vowels = count_consonants = 0\n",
    "for c in text:\n",
    "    cc = c.lower()\n",
    "    if cc in alfa_vowels:\n",
    "        count_vowels += 1\n",
    "    if cc in alfa_consonants:\n",
    "        count_consonants += 1\n",
    "    \n",
    "count_rel = 0 if count_consonants == 0 else count_vowels / count_consonants\n",
    "\n",
    "print(f\"\"\"всего насчитали гласных букв {count_vowels}, \n",
    "согласных букв {count_consonants},\n",
    "отношение гласных к согласным равно {round(count_rel, 3)}.\n",
    "\"\"\")"
   ]
  },
  {
   "cell_type": "code",
   "execution_count": 39,
   "metadata": {},
   "outputs": [],
   "source": [
    "# выбираем текст для анализа\n",
    "\n",
    "#alfa_vowels = alfa_rus_vowels\n",
    "#alfa_consonants = alfa_rus_consonants\n",
    "alfa_vowels = alfa_eng_vowels\n",
    "alfa_consonants = alfa_eng_consonants\n",
    "\n",
    "#text = text_rus\n",
    "text = text_eng"
   ]
  },
  {
   "cell_type": "code",
   "execution_count": 40,
   "metadata": {},
   "outputs": [
    {
     "name": "stdout",
     "output_type": "stream",
     "text": [
      "всего насчитали гласных букв 417, \n",
      "согласных букв 616,\n",
      "отношение гласных к согласным равно 0.677.\n",
      "\n"
     ]
    }
   ],
   "source": [
    "# вариант 1\n",
    "count_vowels = count_consonants = 0\n",
    "for c in text:\n",
    "    cc = c.lower()\n",
    "    count_vowels += cc in alfa_vowels\n",
    "    count_consonants += cc in alfa_consonants\n",
    "    \n",
    "count_rel = 0 if count_consonants == 0 else count_vowels / count_consonants\n",
    "\n",
    "print(f\"\"\"всего насчитали гласных букв {count_vowels}, \n",
    "согласных букв {count_consonants},\n",
    "отношение гласных к согласным равно {round(count_rel, 3)}.\n",
    "\"\"\")"
   ]
  },
  {
   "cell_type": "code",
   "execution_count": 41,
   "metadata": {},
   "outputs": [
    {
     "name": "stdout",
     "output_type": "stream",
     "text": [
      "всего насчитали гласных букв 417, \n",
      "согласных букв 616,\n",
      "отношение гласных к согласным равно 0.677.\n",
      "\n"
     ]
    }
   ],
   "source": [
    "# вариант 2\n",
    "count_vowels = count_consonants = 0\n",
    "for c in text:\n",
    "    cc = c.lower()\n",
    "    if cc in alfa_vowels:\n",
    "        count_vowels += 1\n",
    "    if cc in alfa_consonants:\n",
    "        count_consonants += 1\n",
    "    \n",
    "count_rel = 0 if count_consonants == 0 else count_vowels / count_consonants\n",
    "\n",
    "print(f\"\"\"всего насчитали гласных букв {count_vowels}, \n",
    "согласных букв {count_consonants},\n",
    "отношение гласных к согласным равно {round(count_rel, 3)}.\n",
    "\"\"\")"
   ]
  },
  {
   "cell_type": "markdown",
   "metadata": {},
   "source": [
    "---\n",
    "**Словари и множества** <a name=dicts></a>"
   ]
  },
  {
   "cell_type": "markdown",
   "metadata": {},
   "source": [
    "---\n",
    "***Ребята-спортсмены***"
   ]
  },
  {
   "cell_type": "code",
   "execution_count": 26,
   "metadata": {},
   "outputs": [
    {
     "name": "stdout",
     "output_type": "stream",
     "text": [
      "{'Лена': ['шахматы', 'плавание'], 'Саша': ['плавание'], 'Коля': [], 'Андрей': ['шашки', 'бокс']} \n",
      "\n",
      "{'Андрей': ['шашки', 'бокс'],\n",
      " 'Коля': [],\n",
      " 'Лена': ['шахматы', 'плавание'],\n",
      " 'Саша': ['плавание']}\n",
      "\n",
      "спортсмены {'Коля', 'Саша', 'Андрей', 'Лена'}\n"
     ]
    }
   ],
   "source": [
    "# исходные данные\n",
    "\n",
    "sport = {\n",
    "    'Лена': ['шахматы', 'плавание'],\n",
    "    'Саша': ['плавание'],\n",
    "    'Коля': [],\n",
    "    'Андрей': ['шашки', 'бокс'],\n",
    "}\n",
    "\n",
    "print(sport, \"\\n\")\n",
    "\n",
    "# prettyprint\n",
    "from pprint import pprint as pp\n",
    "pp(sport)\n",
    "\n",
    "sos = {s for s in sport.keys()}\n",
    "print(\"\\nспортсмены\", sos)"
   ]
  },
  {
   "cell_type": "markdown",
   "metadata": {},
   "source": [
    "---\n",
    "**Функции** <a name=funcs></a>"
   ]
  },
  {
   "cell_type": "markdown",
   "metadata": {},
   "source": [
    "---\n",
    "***Функция sign: знак (-1, 0, +1)***"
   ]
  },
  {
   "cell_type": "code",
   "execution_count": 84,
   "metadata": {},
   "outputs": [
    {
     "name": "stdout",
     "output_type": "stream",
     "text": [
      "просто проверка: 1 0 -1\n",
      "большой тест: [0, 1, 1, -1, -1, 1, 1, -1, 1, 1]\n"
     ]
    }
   ],
   "source": [
    "# описание функции, подробно\n",
    "def sign1(x):\n",
    "    \"\"\" знак числа (-1, 0, 1)\"\"\"\n",
    "    if x > 0:\n",
    "        return 1\n",
    "    elif x < 0:\n",
    "        return -1\n",
    "    else:\n",
    "        return 0\n",
    "\n",
    "# простая проверка\n",
    "print(\"просто проверка:\", sign1(5), sign1(0), sign1(-1))\n",
    "\n",
    "# описание функции, кратко\n",
    "def sign2(x):\n",
    "    \"\"\" знак числа (-1, 0, 1)\"\"\"\n",
    "    return 1 if x > 0 else -1 if x < 0 else 0\n",
    "\n",
    "# выбор нужной функции\n",
    "sign = sign2\n",
    "\n",
    "# вызов функции\n",
    "tests = [0, 1, 100, -1, -3, 10000000, 1.4, -0.5, 1e16, 3.14e-5]\n",
    "print(\"большой тест:\", [sign(x) for x in tests])"
   ]
  },
  {
   "cell_type": "markdown",
   "metadata": {},
   "source": [
    "---\n",
    "***Високосность года***\n",
    "\n",
    "    год високосный (имеет 29 дней в феврале) тогда и только тогда, когда его номер:\n",
    "    делится нацело на 4,\n",
    "      кроме тех, которые делятся на 100,\n",
    "        кроме тех, которые делятся на 400"
   ]
  },
  {
   "cell_type": "code",
   "execution_count": 176,
   "metadata": {},
   "outputs": [],
   "source": [
    "# исходные данные - проверить для этих лет\n",
    "gody = 1968, 2000, 1900, 2021, 1983, 2010, 2020"
   ]
  },
  {
   "cell_type": "code",
   "execution_count": 23,
   "metadata": {},
   "outputs": [],
   "source": [
    "# собственно наша функция для проверки\n",
    "\n",
    "# по-скучному\n",
    "def is_leap_dull(y):\n",
    "    \"\"\" проверка года на високосность\"\"\"\n",
    "    if y % 400 == 0:\n",
    "        return True\n",
    "    if y % 100 == 0:\n",
    "        return False\n",
    "    if y % 4 == 0:\n",
    "        return True\n",
    "    return False"
   ]
  },
  {
   "cell_type": "code",
   "execution_count": 22,
   "metadata": {},
   "outputs": [],
   "source": [
    "# а теперь - по-правильному\n",
    "def is_leap(y):\n",
    "    \"\"\" проверка года на високосность\"\"\"\n",
    "    return y % 400 == 0 or y % 4 == 0 and y %100 != 0"
   ]
  },
  {
   "cell_type": "code",
   "execution_count": 24,
   "metadata": {},
   "outputs": [],
   "source": [
    "# NB: \n",
    "# y % 400 == 0 or y % 4 == 0 and y %100 != 0\n",
    "# считается как \n",
    "# (y % 400 == 0) or ((y % 4 == 0) and (y %100 != 0))"
   ]
  },
  {
   "cell_type": "code",
   "execution_count": 180,
   "metadata": {},
   "outputs": [
    {
     "name": "stdout",
     "output_type": "stream",
     "text": [
      "1900 не високосный\n",
      "1968 високосный\n",
      "1983 не високосный\n",
      "2000 високосный\n",
      "2010 не високосный\n",
      "2020 високосный\n",
      "2021 не високосный\n"
     ]
    }
   ],
   "source": [
    "# проверяем\n",
    "for y in sorted(gody):\n",
    "    print(y, \"високосный\" if is_leap(y) else \"не високосный\")"
   ]
  },
  {
   "cell_type": "markdown",
   "metadata": {},
   "source": [
    "---\n",
    "**Коллекции вообще** <a name=collect></a>"
   ]
  },
  {
   "cell_type": "markdown",
   "metadata": {},
   "source": [
    "---\n",
    "### Обзор\n",
    "\n",
    "| названия | изменяемый | упорядоченный | повторы | умолчание | типы  | где |\n",
    "|:-------- |:-----------|:------------- |:------- |:--------- |:----- |:--- |\n",
    "| tuple (кортеж) | нет  | да            | да      | нет       | любые | kernel |\n",
    "| list (список)  | да   | да            | да      | нет       | любые | kernel |\n",
    "| set (множество) | да  | нет           | нет     | нет       | любые | kernel |\n",
    "| dict (словарь, хэш, отображение) | да | нет (теперь да) | нет     | нет       | любые | kernel |\n",
    "| range (диапазон) | нет  | да            | да      | нет       | любые | kernel |\n",
    "| frozen set (замороженное множество) | нет | нет | нет | нет | любые | collections |\n",
    "| defaultdict (словарь с умолчаниями) | да | нет | нет | да | любые | collections |\n",
    "| namedtuple | нет | да | да | нет | любые | collections |\n",
    "| OrderedDict (упорядоченный словарь) | да | да | да | нет | любые | collections |\n",
    "| deque (дэк) | да | да | да | нет | лююые | collections |\n",
    "| ChainMap | да | да | нет | нет | любые | collections |\n",
    "| Counter (счётчик) | да | нет | нет | нет | кортежи из любых | collections |\n",
    "| array | да | да | да | нет | один | numpy |\n",
    "\n",
    "м.б. ещё\n",
    "* enumerations (перечисления)\n",
    "* comprehensions (expression, list, set, dict) (~заполнения, включения, обобщения, генераторы)\n",
    "* iterators (итераторы)\n",
    "* generators (генераторы)\n",
    "* OrderedList (упорядоченный список)\n",
    "* SortedList (отсортированный список)\n",
    "* Stack (стек)\n",
    "* Queue (очередь)\n",
    "* PriorityQueue (очередь с приоритетами)\n",
    "* ABC (Abstract Base Classes, Абстрактные Базовые Классы)\n",
    "* re (regexps, регулярные выражения)\n",
    "* и многие другие\n"
   ]
  },
  {
   "cell_type": "markdown",
   "metadata": {},
   "source": [
    "---\n",
    "__программа ищет одинаковые элементы__\n"
   ]
  },
  {
   "cell_type": "code",
   "execution_count": 2,
   "metadata": {},
   "outputs": [],
   "source": [
    "# функции для поиска\n",
    "\n",
    "def has1(l):\n",
    "    \"\"\" классический вариант,\n",
    "    сравниваем каждый элемент списка с каждым после него\n",
    "    \"\"\"\n",
    "    lenl = len(l)\n",
    "    for i in range(0, lenl-1):\n",
    "        for j in range(i+1, lenl):\n",
    "            if l[i] == l[j]:\n",
    "                return True\n",
    "    return False\n",
    "\n",
    "def has2(l):\n",
    "    \"\"\" преобразуем ко множеству,\n",
    "    тем самым удаляем повторы,\n",
    "    и сравниваем длины до и после\n",
    "    \"\"\"\n",
    "    return len(l) != len(set(l))\n",
    "\n",
    "def has3(l):\n",
    "    \"\"\" сортируем список,\n",
    "    а потом сравниваем только рядом стоящие элементы\n",
    "    \"\"\"\n",
    "    ll = sorted(l)\n",
    "    for i in range(0, len(ll)-1):\n",
    "        if ll[i] == ll[i+1]:\n",
    "            return True\n",
    "    return False\n",
    "\n",
    "from collections import Counter\n",
    "\n",
    "def has4(l):\n",
    "    \"\"\" используем класс Счётчик,\n",
    "    преобразуем список к счётчику,\n",
    "    берём наиболее часто встречающееся значние,\n",
    "    если оно появилось более 1 раза, то успех\n",
    "    \"\"\"\n",
    "    if not l: return False\n",
    "    return Counter(l).most_common(1)[0][1] > 1\n",
    "\n",
    "def has5(l):\n",
    "    \"\"\" работаем как со стеком с доступом вглубь -\n",
    "    с подсчётом числа вхождений вершины в глубине стека\n",
    "    \"\"\"\n",
    "    ll = l.copy()\n",
    "    while ll:\n",
    "        e = ll.pop()\n",
    "        if ll.count(e):\n",
    "            return True\n",
    "    return False\n",
    "\n",
    "def has6(l):\n",
    "    \"\"\" применяем обычные словари\n",
    "    \"\"\"\n",
    "    d = {}\n",
    "    for e in l:\n",
    "        if e in d:\n",
    "            return True\n",
    "        d[e] = 1\n",
    "    return False\n",
    "\n",
    "from collections import defaultdict\n",
    "\n",
    "def has7(l):\n",
    "    \"\"\" применяем словари с инициализацией по умолчанию (defaultdict)\n",
    "    \"\"\"\n",
    "    if not l: return False\n",
    "    d = defaultdict(int)\n",
    "    for e in l:\n",
    "        d[e] += 1\n",
    "    f = list(filter(lambda x: x>1, d.values()))\n",
    "    return len(f) > 0\n",
    "\n",
    "def has8(l):\n",
    "    \"\"\" применяем множества\n",
    "    \"\"\"\n",
    "    s = set()\n",
    "    for e in l:\n",
    "        if e in s:\n",
    "            return True\n",
    "        s |= {e}\n",
    "    return False\n"
   ]
  },
  {
   "cell_type": "code",
   "execution_count": 4,
   "metadata": {},
   "outputs": [],
   "source": [
    "# утилиты для тестирования\n",
    "\n",
    "def test(l, hasf):\n",
    "    \"\"\" один тест - список и функция\n",
    "    \"\"\"\n",
    "    print(\"\\n----------------------\\ntesting\", hasf.__name__, \"for list\", l)\n",
    "    print(hasf(l))\n",
    "\n",
    "def tests():\n",
    "    \"\"\" диспетчер тестов -- каждый список с каждой функцией\n",
    "    \"\"\"\n",
    "    for hasf in hasfs:\n",
    "        for l in ls:\n",
    "            try:\n",
    "                test(l, hasf)\n",
    "            except:\n",
    "                print(\"*** Exception!\")\n"
   ]
  },
  {
   "cell_type": "code",
   "execution_count": 5,
   "metadata": {},
   "outputs": [
    {
     "name": "stdout",
     "output_type": "stream",
     "text": [
      "\n",
      "----------------------\n",
      "testing has1 for list [1, 1, 2, 3]\n",
      "True\n",
      "\n",
      "----------------------\n",
      "testing has1 for list [1, 2, 3]\n",
      "False\n",
      "\n",
      "----------------------\n",
      "testing has1 for list []\n",
      "False\n",
      "\n",
      "----------------------\n",
      "testing has1 for list [1, 2, 3, 2, 1, 2, 3]\n",
      "True\n",
      "\n",
      "----------------------\n",
      "testing has1 for list ['this', 'is', 'a', 'program']\n",
      "False\n",
      "\n",
      "----------------------\n",
      "testing has1 for list ['here', 'we', 'go', 'again', 'and', 'again']\n",
      "True\n",
      "\n",
      "----------------------\n",
      "testing has1 for list ['Return', 'the', 'number', 'of', 'times', 'x', 'appears', 'in', 'the', 'list']\n",
      "True\n",
      "\n",
      "----------------------\n",
      "testing has1 for list [1, 0, -1, 'hello', 'world', 'привет', 'мир']\n",
      "False\n",
      "\n",
      "----------------------\n",
      "testing has2 for list [1, 1, 2, 3]\n",
      "True\n",
      "\n",
      "----------------------\n",
      "testing has2 for list [1, 2, 3]\n",
      "False\n",
      "\n",
      "----------------------\n",
      "testing has2 for list []\n",
      "False\n",
      "\n",
      "----------------------\n",
      "testing has2 for list [1, 2, 3, 2, 1, 2, 3]\n",
      "True\n",
      "\n",
      "----------------------\n",
      "testing has2 for list ['this', 'is', 'a', 'program']\n",
      "False\n",
      "\n",
      "----------------------\n",
      "testing has2 for list ['here', 'we', 'go', 'again', 'and', 'again']\n",
      "True\n",
      "\n",
      "----------------------\n",
      "testing has2 for list ['Return', 'the', 'number', 'of', 'times', 'x', 'appears', 'in', 'the', 'list']\n",
      "True\n",
      "\n",
      "----------------------\n",
      "testing has2 for list [1, 0, -1, 'hello', 'world', 'привет', 'мир']\n",
      "False\n",
      "\n",
      "----------------------\n",
      "testing has3 for list [1, 1, 2, 3]\n",
      "True\n",
      "\n",
      "----------------------\n",
      "testing has3 for list [1, 2, 3]\n",
      "False\n",
      "\n",
      "----------------------\n",
      "testing has3 for list []\n",
      "False\n",
      "\n",
      "----------------------\n",
      "testing has3 for list [1, 2, 3, 2, 1, 2, 3]\n",
      "True\n",
      "\n",
      "----------------------\n",
      "testing has3 for list ['this', 'is', 'a', 'program']\n",
      "False\n",
      "\n",
      "----------------------\n",
      "testing has3 for list ['here', 'we', 'go', 'again', 'and', 'again']\n",
      "True\n",
      "\n",
      "----------------------\n",
      "testing has3 for list ['Return', 'the', 'number', 'of', 'times', 'x', 'appears', 'in', 'the', 'list']\n",
      "True\n",
      "\n",
      "----------------------\n",
      "testing has3 for list [1, 0, -1, 'hello', 'world', 'привет', 'мир']\n",
      "*** Exception!\n",
      "\n",
      "----------------------\n",
      "testing has4 for list [1, 1, 2, 3]\n",
      "True\n",
      "\n",
      "----------------------\n",
      "testing has4 for list [1, 2, 3]\n",
      "False\n",
      "\n",
      "----------------------\n",
      "testing has4 for list []\n",
      "False\n",
      "\n",
      "----------------------\n",
      "testing has4 for list [1, 2, 3, 2, 1, 2, 3]\n",
      "True\n",
      "\n",
      "----------------------\n",
      "testing has4 for list ['this', 'is', 'a', 'program']\n",
      "False\n",
      "\n",
      "----------------------\n",
      "testing has4 for list ['here', 'we', 'go', 'again', 'and', 'again']\n",
      "True\n",
      "\n",
      "----------------------\n",
      "testing has4 for list ['Return', 'the', 'number', 'of', 'times', 'x', 'appears', 'in', 'the', 'list']\n",
      "True\n",
      "\n",
      "----------------------\n",
      "testing has4 for list [1, 0, -1, 'hello', 'world', 'привет', 'мир']\n",
      "False\n",
      "\n",
      "----------------------\n",
      "testing has5 for list [1, 1, 2, 3]\n",
      "True\n",
      "\n",
      "----------------------\n",
      "testing has5 for list [1, 2, 3]\n",
      "False\n",
      "\n",
      "----------------------\n",
      "testing has5 for list []\n",
      "False\n",
      "\n",
      "----------------------\n",
      "testing has5 for list [1, 2, 3, 2, 1, 2, 3]\n",
      "True\n",
      "\n",
      "----------------------\n",
      "testing has5 for list ['this', 'is', 'a', 'program']\n",
      "False\n",
      "\n",
      "----------------------\n",
      "testing has5 for list ['here', 'we', 'go', 'again', 'and', 'again']\n",
      "True\n",
      "\n",
      "----------------------\n",
      "testing has5 for list ['Return', 'the', 'number', 'of', 'times', 'x', 'appears', 'in', 'the', 'list']\n",
      "True\n",
      "\n",
      "----------------------\n",
      "testing has5 for list [1, 0, -1, 'hello', 'world', 'привет', 'мир']\n",
      "False\n",
      "\n",
      "----------------------\n",
      "testing has6 for list [1, 1, 2, 3]\n",
      "True\n",
      "\n",
      "----------------------\n",
      "testing has6 for list [1, 2, 3]\n",
      "False\n",
      "\n",
      "----------------------\n",
      "testing has6 for list []\n",
      "False\n",
      "\n",
      "----------------------\n",
      "testing has6 for list [1, 2, 3, 2, 1, 2, 3]\n",
      "True\n",
      "\n",
      "----------------------\n",
      "testing has6 for list ['this', 'is', 'a', 'program']\n",
      "False\n",
      "\n",
      "----------------------\n",
      "testing has6 for list ['here', 'we', 'go', 'again', 'and', 'again']\n",
      "True\n",
      "\n",
      "----------------------\n",
      "testing has6 for list ['Return', 'the', 'number', 'of', 'times', 'x', 'appears', 'in', 'the', 'list']\n",
      "True\n",
      "\n",
      "----------------------\n",
      "testing has6 for list [1, 0, -1, 'hello', 'world', 'привет', 'мир']\n",
      "False\n",
      "\n",
      "----------------------\n",
      "testing has7 for list [1, 1, 2, 3]\n",
      "True\n",
      "\n",
      "----------------------\n",
      "testing has7 for list [1, 2, 3]\n",
      "False\n",
      "\n",
      "----------------------\n",
      "testing has7 for list []\n",
      "False\n",
      "\n",
      "----------------------\n",
      "testing has7 for list [1, 2, 3, 2, 1, 2, 3]\n",
      "True\n",
      "\n",
      "----------------------\n",
      "testing has7 for list ['this', 'is', 'a', 'program']\n",
      "False\n",
      "\n",
      "----------------------\n",
      "testing has7 for list ['here', 'we', 'go', 'again', 'and', 'again']\n",
      "True\n",
      "\n",
      "----------------------\n",
      "testing has7 for list ['Return', 'the', 'number', 'of', 'times', 'x', 'appears', 'in', 'the', 'list']\n",
      "True\n",
      "\n",
      "----------------------\n",
      "testing has7 for list [1, 0, -1, 'hello', 'world', 'привет', 'мир']\n",
      "False\n",
      "\n",
      "----------------------\n",
      "testing has8 for list [1, 1, 2, 3]\n",
      "True\n",
      "\n",
      "----------------------\n",
      "testing has8 for list [1, 2, 3]\n",
      "False\n",
      "\n",
      "----------------------\n",
      "testing has8 for list []\n",
      "False\n",
      "\n",
      "----------------------\n",
      "testing has8 for list [1, 2, 3, 2, 1, 2, 3]\n",
      "True\n",
      "\n",
      "----------------------\n",
      "testing has8 for list ['this', 'is', 'a', 'program']\n",
      "False\n",
      "\n",
      "----------------------\n",
      "testing has8 for list ['here', 'we', 'go', 'again', 'and', 'again']\n",
      "True\n",
      "\n",
      "----------------------\n",
      "testing has8 for list ['Return', 'the', 'number', 'of', 'times', 'x', 'appears', 'in', 'the', 'list']\n",
      "True\n",
      "\n",
      "----------------------\n",
      "testing has8 for list [1, 0, -1, 'hello', 'world', 'привет', 'мир']\n",
      "False\n"
     ]
    }
   ],
   "source": [
    "# запуск тестов\n",
    "\n",
    "ls = [\n",
    "    [1, 1, 2, 3],\n",
    "    [1, 2, 3],\n",
    "    [],\n",
    "    [1, 2, 3, 2, 1, 2, 3],\n",
    "    [\"this\", \"is\", \"a\", \"program\"],\n",
    "    \"here we go again and again\".split(),\n",
    "    \"Return the number of times x appears in the list\".split(),\n",
    "    [1, 0, -1, \"hello\", \"world\", \"привет\", \"мир\"]\n",
    "    ]\n",
    "\n",
    "hasfs = has1, has2, has3, has4, has5, has6, has7, has8\n",
    "\n",
    "tests()\n"
   ]
  },
  {
   "cell_type": "markdown",
   "metadata": {},
   "source": [
    "---\n",
    "**Отладка** <a name=debug></a>"
   ]
  },
  {
   "cell_type": "markdown",
   "metadata": {},
   "source": [
    "---\n",
    "***Ручная прокрутка***"
   ]
  },
  {
   "cell_type": "code",
   "execution_count": 186,
   "metadata": {},
   "outputs": [
    {
     "name": "stdout",
     "output_type": "stream",
     "text": [
      "100\n",
      "-100\n",
      "-1.0\n"
     ]
    },
    {
     "data": {
      "text/plain": [
       "(100, -100, -1.0)"
      ]
     },
     "execution_count": 186,
     "metadata": {},
     "output_type": "execute_result"
    }
   ],
   "source": [
    "first = 100\n",
    "print(first)\n",
    "second = -100\n",
    "print(second)\n",
    "third = first / second\n",
    "print(third)\n",
    "first, second, third"
   ]
  },
  {
   "cell_type": "markdown",
   "metadata": {},
   "source": [
    "---\n",
    "***Утверждения assert***"
   ]
  },
  {
   "cell_type": "code",
   "execution_count": 140,
   "metadata": {},
   "outputs": [
    {
     "ename": "AssertionError",
     "evalue": "",
     "output_type": "error",
     "traceback": [
      "\u001b[0;31m---------------------------------------------------------------------------\u001b[0m",
      "\u001b[0;31mAssertionError\u001b[0m                            Traceback (most recent call last)",
      "\u001b[0;32m<ipython-input-140-2168641fae59>\u001b[0m in \u001b[0;36m<module>\u001b[0;34m\u001b[0m\n\u001b[1;32m      2\u001b[0m \u001b[0;32massert\u001b[0m \u001b[0mvar1\u001b[0m \u001b[0;34m!=\u001b[0m \u001b[0;36m0\u001b[0m\u001b[0;34m\u001b[0m\u001b[0;34m\u001b[0m\u001b[0m\n\u001b[1;32m      3\u001b[0m \u001b[0mvar2\u001b[0m \u001b[0;34m=\u001b[0m \u001b[0;36m0\u001b[0m\u001b[0;34m\u001b[0m\u001b[0;34m\u001b[0m\u001b[0m\n\u001b[0;32m----> 4\u001b[0;31m \u001b[0;32massert\u001b[0m \u001b[0mvar2\u001b[0m \u001b[0;34m!=\u001b[0m \u001b[0;36m0\u001b[0m\u001b[0;34m\u001b[0m\u001b[0;34m\u001b[0m\u001b[0m\n\u001b[0m\u001b[1;32m      5\u001b[0m \u001b[0mvar3\u001b[0m \u001b[0;34m=\u001b[0m \u001b[0mvar1\u001b[0m \u001b[0;34m/\u001b[0m \u001b[0mvar2\u001b[0m\u001b[0;34m\u001b[0m\u001b[0;34m\u001b[0m\u001b[0m\n",
      "\u001b[0;31mAssertionError\u001b[0m: "
     ]
    }
   ],
   "source": [
    "var1 = 12\n",
    "assert var1 != 0\n",
    "var2 = 0\n",
    "assert var2 != 0\n",
    "var3 = var1 / var2"
   ]
  },
  {
   "cell_type": "markdown",
   "metadata": {},
   "source": [
    "---\n",
    "***Проверки типов***\n",
    "\n",
    "Новая возможность, по-разному реализована в разных версиях, постепенно становится удобнее"
   ]
  },
  {
   "cell_type": "code",
   "execution_count": 184,
   "metadata": {},
   "outputs": [],
   "source": [
    "# собственно наша функция для проверки\n",
    "def is_leap1(y : int) -> bool:\n",
    "    \"\"\" проверка года на високосность\"\"\"\n",
    "    return y % 400 == 0 or y % 4 == 0 and y %100 != 0"
   ]
  },
  {
   "cell_type": "code",
   "execution_count": 185,
   "metadata": {},
   "outputs": [
    {
     "name": "stdout",
     "output_type": "stream",
     "text": [
      "1900 не високосный\n",
      "1968 високосный\n",
      "1983 не високосный\n",
      "2000 високосный\n",
      "2010 не високосный\n",
      "2020 високосный\n",
      "2021 не високосный\n"
     ]
    }
   ],
   "source": [
    "# проверяем снова\n",
    "# исходные данные - проверить для этих лет\n",
    "gody = 1968, 2000, 1900, 2021, 1983, 2010, 2020\n",
    "# запуск\n",
    "for y in sorted(gody):\n",
    "    print(y, \"високосный\" if is_leap1(y) else \"не високосный\")"
   ]
  },
  {
   "cell_type": "markdown",
   "metadata": {},
   "source": [
    "---\n",
    "**Форматированный вывод** <a name=output></a>"
   ]
  },
  {
   "cell_type": "code",
   "execution_count": 2,
   "metadata": {},
   "outputs": [],
   "source": [
    "# данные\n",
    "i = 5\n",
    "f = 1.5\n",
    "s = \"string\""
   ]
  },
  {
   "cell_type": "code",
   "execution_count": 3,
   "metadata": {},
   "outputs": [
    {
     "name": "stdout",
     "output_type": "stream",
     "text": [
      "5 1.5 string\n"
     ]
    }
   ],
   "source": [
    "print(i, f, s)"
   ]
  },
  {
   "cell_type": "code",
   "execution_count": 5,
   "metadata": {},
   "outputs": [
    {
     "name": "stdout",
     "output_type": "stream",
     "text": [
      "    5    1.50000     string string     Q\n"
     ]
    }
   ],
   "source": [
    "# устаревший способ, не рекомендуется использовать\n",
    "print(\"%5i %10.5f %10s %-10s %1c\" % (i, f, s, s, \"Q\"))"
   ]
  },
  {
   "cell_type": "code",
   "execution_count": 75,
   "metadata": {},
   "outputs": [
    {
     "name": "stdout",
     "output_type": "stream",
     "text": [
      "5 1.5 string\n",
      "    5        1.5 string               5\n"
     ]
    }
   ],
   "source": [
    "# современный способ\n",
    "print(\"{0} {1} {2}\".format(i, f, s))\n",
    "print(\"{0:5} {1:10} {2:20} {0}\".format(i, f, s))"
   ]
  },
  {
   "cell_type": "code",
   "execution_count": 76,
   "metadata": {},
   "outputs": [
    {
     "name": "stdout",
     "output_type": "stream",
     "text": [
      "5 1.5 string\n",
      "i=5 f=1.5 s='string'\n"
     ]
    }
   ],
   "source": [
    "# новый способ, есть не во всех версиях python, только в очень свежих\n",
    "print(f\"{i} {f} {s}\")\n",
    "print(f\"{i=} {f=} {s=}\")"
   ]
  },
  {
   "cell_type": "markdown",
   "metadata": {},
   "source": [
    "---\n",
    "**Работа с файлами, ввод-вывод** <a name=textfiles></a>"
   ]
  },
  {
   "cell_type": "markdown",
   "metadata": {},
   "source": [
    "---\n",
    "***Ручной ввод данных***"
   ]
  },
  {
   "cell_type": "code",
   "execution_count": 18,
   "metadata": {},
   "outputs": [
    {
     "name": "stdout",
     "output_type": "stream",
     "text": [
      "строчка текста\n",
      "вы ввели: строчка текста\n"
     ]
    }
   ],
   "source": [
    "# ввод строки\n",
    "s = input()\n",
    "print(\"вы ввели:\", s)\n",
    "# input вводит именно строку, но можно с пробелами\n",
    "# для остальных типов нужно явно преобразовывать"
   ]
  },
  {
   "cell_type": "code",
   "execution_count": 190,
   "metadata": {},
   "outputs": [
    {
     "name": "stdout",
     "output_type": "stream",
     "text": [
      "введите строку: папа\n",
      "вы ввели: папа\n"
     ]
    }
   ],
   "source": [
    "# ввод строки с приглашением\n",
    "s = input(\"введите строку: \")\n",
    "print(\"вы ввели:\", s)"
   ]
  },
  {
   "cell_type": "code",
   "execution_count": 191,
   "metadata": {},
   "outputs": [
    {
     "name": "stdout",
     "output_type": "stream",
     "text": [
      "введите целое число: 45\n",
      "вы ввели: 45\n"
     ]
    }
   ],
   "source": [
    "# ввод целого числа с приглашением\n",
    "n = int(input(\"введите целое число: \"))\n",
    "print(\"вы ввели:\", n)"
   ]
  },
  {
   "cell_type": "markdown",
   "metadata": {},
   "source": [
    "---\n",
    "***Чтение и запись простых текстовых файлов***"
   ]
  },
  {
   "cell_type": "code",
   "execution_count": 192,
   "metadata": {},
   "outputs": [],
   "source": [
    "# файл input-1.txt\n",
    "infile  = 'input-1.txt'\n",
    "outfile = 'output-1.txt'"
   ]
  },
  {
   "cell_type": "markdown",
   "metadata": {},
   "source": [
    "*входной файл:*\n",
    "\n",
    "    Широка страна моя родная.\n",
    "    Много в ней лесов, полей и рек.\n",
    "    Я другой такой страны не знаю,\n",
    "    где так вольно дышит человек.\n",
    "    \n",
    "(\"Песня о Родине\". Авторы: музыка - Исаак Дунаевский, слова - Василий Лебедев-Кумач, 1936)\n",
    "\n",
    "[Источник в Википедии](https://ru.wikipedia.org/wiki/%D0%A8%D0%B8%D1%80%D0%BE%D0%BA%D0%B0_%D1%81%D1%82%D1%80%D0%B0%D0%BD%D0%B0_%D0%BC%D0%BE%D1%8F_%D1%80%D0%BE%D0%B4%D0%BD%D0%B0%D1%8F)\n",
    "    \n",
    "*выходной файл (последний)*\n",
    "\n",
    "    родная. моя страна широка\n",
    "    рек. и полей лесов, ней в много\n",
    "    знаю, не страны такой другой я\n",
    "    человек. дышит вольно так где"
   ]
  },
  {
   "cell_type": "code",
   "execution_count": 195,
   "metadata": {},
   "outputs": [
    {
     "name": "stdout",
     "output_type": "stream",
     "text": [
      "Широка страна моя родная.\n",
      "Много в ней лесов, полей и рек.\n",
      "Я другой такой страны не знаю,\n",
      "где так вольно дышит человек.\n"
     ]
    }
   ],
   "source": [
    "f = open(infile, 'r')\n",
    "t = f.read()\n",
    "print(t)\n",
    "f.close()"
   ]
  },
  {
   "cell_type": "code",
   "execution_count": 194,
   "metadata": {},
   "outputs": [
    {
     "name": "stdout",
     "output_type": "stream",
     "text": [
      "Широка страна моя родная.\n",
      "Много в ней лесов, полей и рек.\n",
      "Я другой такой страны не знаю,\n",
      "где так вольно дышит человек.\n"
     ]
    }
   ],
   "source": [
    "with open(infile) as inf:\n",
    "    for inline in inf:\n",
    "        print(inline.strip())"
   ]
  },
  {
   "cell_type": "code",
   "execution_count": 204,
   "metadata": {},
   "outputs": [
    {
     "name": "stdout",
     "output_type": "stream",
     "text": [
      "Широка страна моя родная.\n",
      "Много в ней лесов, полей и рек.\n",
      "Я другой такой страны не знаю,\n",
      "где так вольно дышит человек.\n"
     ]
    }
   ],
   "source": [
    "with open(infile, 'r') as inf, open(outfile, 'w') as outf:\n",
    "    for inline in inf:\n",
    "        print(inline.strip())\n",
    "        outf.write(\" \".join(reversed(inline.lower().split())) + \"\\n\")"
   ]
  },
  {
   "cell_type": "code",
   "execution_count": 207,
   "metadata": {},
   "outputs": [
    {
     "name": "stdout",
     "output_type": "stream",
     "text": [
      "['Широка страна моя родная.\\n', 'Много в ней лесов, полей и рек.\\n', 'Я другой такой страны не знаю,\\n', 'где так вольно дышит человек.']\n",
      "['Широка страна моя родная.\\n',\n",
      " 'Много в ней лесов, полей и рек.\\n',\n",
      " 'Я другой такой страны не знаю,\\n',\n",
      " 'где так вольно дышит человек.']\n"
     ]
    }
   ],
   "source": [
    "with open(infile, 'r', encoding='utf8') as inf:\n",
    "    strs = inf.readlines()\n",
    "    print(strs)\n",
    "    pp(strs)"
   ]
  }
 ],
 "metadata": {
  "kernelspec": {
   "display_name": "Python 3",
   "language": "python",
   "name": "python3"
  },
  "language_info": {
   "codemirror_mode": {
    "name": "ipython",
    "version": 3
   },
   "file_extension": ".py",
   "mimetype": "text/x-python",
   "name": "python",
   "nbconvert_exporter": "python",
   "pygments_lexer": "ipython3",
   "version": "3.8.8"
  }
 },
 "nbformat": 4,
 "nbformat_minor": 4
}
