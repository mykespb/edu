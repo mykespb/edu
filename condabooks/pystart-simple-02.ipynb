{
 "cells": [
  {
   "cell_type": "markdown",
   "metadata": {},
   "source": [
    "# Примеры и упражнения по Python3 - простой уровень - часть 2"
   ]
  },
  {
   "cell_type": "markdown",
   "metadata": {},
   "source": [
    "Автор-составитель - Михаил Колодин"
   ]
  },
  {
   "cell_type": "markdown",
   "metadata": {},
   "source": [
    "Версия 2021-04-17 от 2021-04-19 - 1.5"
   ]
  },
  {
   "cell_type": "markdown",
   "metadata": {},
   "source": [
    "Разделы:\n",
    "* [Параметры системы](#params)\n",
    "* [Кортежи и списки](#lists)\n",
    "* [Словари и множества](#dicts)\n",
    "* [Функции](#funcs)\n",
    "* [Дата и время](#datetime)\n",
    "* [Отладка](#debug)\n",
    "* [Форматированный вывод](#output)\n",
    "* [Текстовые файлы](#textfiles)"
   ]
  },
  {
   "cell_type": "markdown",
   "metadata": {},
   "source": [
    "**Параметры системы** <a name=params></a>"
   ]
  },
  {
   "cell_type": "code",
   "execution_count": 105,
   "metadata": {},
   "outputs": [
    {
     "name": "stdout",
     "output_type": "stream",
     "text": [
      "Python version: 3.8.3 (default, Jul  2 2020, 16:21:59) \n",
      "[GCC 7.3.0]\n",
      "3.8.3\n"
     ]
    }
   ],
   "source": [
    "import sys\n",
    "print(\"Python version:\", sys.version)\n",
    "\n",
    "from platform import python_version\n",
    "print(python_version())"
   ]
  },
  {
   "cell_type": "markdown",
   "metadata": {},
   "source": [
    "**Кортежи и списки** <a name=lists></a>"
   ]
  },
  {
   "cell_type": "markdown",
   "metadata": {},
   "source": [
    "***Перестановка слов***"
   ]
  },
  {
   "cell_type": "code",
   "execution_count": 93,
   "metadata": {},
   "outputs": [
    {
     "name": "stdout",
     "output_type": "stream",
     "text": [
      "привет всем питонистам\n"
     ]
    }
   ],
   "source": [
    "stroka = \"привет всем питонистам\"\n",
    "print(stroka)"
   ]
  },
  {
   "cell_type": "code",
   "execution_count": 104,
   "metadata": {},
   "outputs": [
    {
     "name": "stdout",
     "output_type": "stream",
     "text": [
      "['привет', 'всем', 'питонистам']\n",
      "<list_reverseiterator object at 0x7fd5c45abb50>\n",
      "['питонистам', 'всем', 'привет']\n",
      "питонистам всем привет\n",
      "\n",
      "питонистам всем привет\n"
     ]
    }
   ],
   "source": [
    "# подробно по шагам\n",
    "t1 = stroka.split()\n",
    "print(t1)\n",
    "t2 = reversed(t1)\n",
    "print(t2)\n",
    "t3 = list(reversed(t1))\n",
    "print(t3)\n",
    "t4 = \" \".join(t2)\n",
    "print(t4)\n",
    "print()\n",
    "\n",
    "# по-быстрому\n",
    "revstroka1 = \" \".join(reversed(stroka.split()))\n",
    "print(revstroka1)"
   ]
  },
  {
   "cell_type": "code",
   "execution_count": 96,
   "metadata": {},
   "outputs": [
    {
     "name": "stdout",
     "output_type": "stream",
     "text": [
      "питонистам всем привет\n"
     ]
    }
   ],
   "source": [
    "revstroka2 = \" \".join((stroka.split())[::-1])\n",
    "print(revstroka2)"
   ]
  },
  {
   "cell_type": "markdown",
   "metadata": {},
   "source": [
    "***Сортировка***\n",
    "\n",
    "Дан список (мы его сами сделаем, для удобства, но случайным образом.\n",
    "\n",
    "Задача. Надо отсортировать = упорядочить элементы списка по возрастанию (точнее, по неубыванию).\n",
    "\n",
    "Есть несколько способов. Это суперклассика программирования."
   ]
  },
  {
   "cell_type": "code",
   "execution_count": 1,
   "metadata": {},
   "outputs": [],
   "source": [
    "from random import randint as ri"
   ]
  },
  {
   "cell_type": "code",
   "execution_count": 2,
   "metadata": {},
   "outputs": [
    {
     "name": "stdout",
     "output_type": "stream",
     "text": [
      "[-10, 10, 9, 3, 6, 4, 1, 6, -6, -2]\n"
     ]
    }
   ],
   "source": [
    "LEN = 10\n",
    "MIN = -10 \n",
    "MAX = +10\n",
    "l = [ri(MIN, MAX) for _ in range(LEN)]\n",
    "print(l)"
   ]
  },
  {
   "cell_type": "code",
   "execution_count": 4,
   "metadata": {},
   "outputs": [
    {
     "name": "stdout",
     "output_type": "stream",
     "text": [
      "[-10, -6, -2, 1, 3, 4, 6, 6, 9, 10]\n"
     ]
    }
   ],
   "source": [
    "l.sort()\n",
    "print(l)"
   ]
  },
  {
   "cell_type": "code",
   "execution_count": 5,
   "metadata": {},
   "outputs": [
    {
     "name": "stdout",
     "output_type": "stream",
     "text": [
      "[10, 9, 6, 6, 4, 3, 1, -2, -6, -10]\n"
     ]
    }
   ],
   "source": [
    "l.sort(reverse = True)\n",
    "print(l)"
   ]
  },
  {
   "cell_type": "code",
   "execution_count": 6,
   "metadata": {},
   "outputs": [
    {
     "name": "stdout",
     "output_type": "stream",
     "text": [
      "[1, -2, 3, 4, 6, 6, -6, 9, 10, -10]\n"
     ]
    }
   ],
   "source": [
    "l.sort(key = lambda x: abs(x))\n",
    "print(l)"
   ]
  },
  {
   "cell_type": "code",
   "execution_count": 7,
   "metadata": {},
   "outputs": [
    {
     "name": "stdout",
     "output_type": "stream",
     "text": [
      "[1, -2, 3, 4, 6, 6, -6, 9, 10, -10]\n",
      "[-10, -6, -2, 1, 3, 4, 6, 6, 9, 10]\n"
     ]
    }
   ],
   "source": [
    "ls = sorted(l)\n",
    "print(l)\n",
    "print(ls)"
   ]
  },
  {
   "cell_type": "markdown",
   "metadata": {},
   "source": [
    "***Поиск***\n",
    "\n",
    "Поиск информации в последовательности - классика.\n",
    "Проверяем наличие."
   ]
  },
  {
   "cell_type": "code",
   "execution_count": 17,
   "metadata": {},
   "outputs": [
    {
     "name": "stdout",
     "output_type": "stream",
     "text": [
      "[10, 5, -2, 7, -6, 1, -9, 7, -9, -1]\n"
     ]
    }
   ],
   "source": [
    "LEN = 10\n",
    "MIN = -10 \n",
    "MAX = +10\n",
    "l = [ri(MIN, MAX) for _ in range(LEN)]\n",
    "print(l)"
   ]
  },
  {
   "cell_type": "code",
   "execution_count": 18,
   "metadata": {},
   "outputs": [
    {
     "name": "stdout",
     "output_type": "stream",
     "text": [
      "Нашли!\n"
     ]
    }
   ],
   "source": [
    "# Ищем число 5 в списке\n",
    "# 1. Тупо\n",
    "\n",
    "WHAT = 5\n",
    "\n",
    "found = False\n",
    "for i in range(len(l)):\n",
    "    if l[i] == WHAT:\n",
    "        print(\"Нашли!\")\n",
    "        break\n",
    "else:\n",
    "    print(\"Не нашли!\")"
   ]
  },
  {
   "cell_type": "code",
   "execution_count": 19,
   "metadata": {},
   "outputs": [
    {
     "name": "stdout",
     "output_type": "stream",
     "text": [
      "Нашли!\n"
     ]
    }
   ],
   "source": [
    "# Пролутупо\n",
    "\n",
    "WHAT = 5\n",
    "\n",
    "for e in l:\n",
    "    if l[i] == WHAT:\n",
    "        print(\"Нашли!\")\n",
    "        break\n",
    "else:\n",
    "    print(\"Не нашли!\")"
   ]
  },
  {
   "cell_type": "code",
   "execution_count": 21,
   "metadata": {},
   "outputs": [
    {
     "name": "stdout",
     "output_type": "stream",
     "text": [
      "Нашли!\n"
     ]
    }
   ],
   "source": [
    "# Умно, по-питоновски:  :)\n",
    "\n",
    "print(\"Нашли!\" if WHAT in l else \"Не нашли!\")"
   ]
  },
  {
   "cell_type": "markdown",
   "metadata": {},
   "source": [
    "Есть много разных классических способов сортировки и поиска. \n",
    "\n",
    "См. Д.Кнут. \"Искусство программирования для ЭВМ\", том 3.\n",
    "\n",
    "И полезно писать свои.\n",
    "\n",
    "И уметь оценивать затраты времени и памяти на такие операции с помощью О большого, напр., \n",
    "$$O(1), O(n), O(n^2), O(n \\log n)$$"
   ]
  },
  {
   "cell_type": "markdown",
   "metadata": {},
   "source": [
    "***Минимум и максимум***"
   ]
  },
  {
   "cell_type": "markdown",
   "metadata": {},
   "source": [
    "Найти минимальное и максимальное значение элементов целочисленного списка.\n",
    "\n",
    "Список создаётся случайным образом (в программе мы не можем использовать знания о том, какие элементы входят в этот список и даже какой он длины (короткий или длинный); мы только знаем, что это целые числа).\n",
    "\n",
    "В программе задаются константы LEN, MIN, MAX, характеризующие этот список.\n",
    "\n",
    "Нужно найти оба значения не более, чем за 1 проход по списку."
   ]
  },
  {
   "cell_type": "code",
   "execution_count": 1,
   "metadata": {},
   "outputs": [],
   "source": [
    "import random"
   ]
  },
  {
   "cell_type": "code",
   "execution_count": 2,
   "metadata": {},
   "outputs": [
    {
     "name": "stdout",
     "output_type": "stream",
     "text": [
      "случайный список: [-29, 77, 64, -16, 30, 48, -98, -29, 7, 64]\n"
     ]
    }
   ],
   "source": [
    "# создаём список случайных целых чисел\n",
    "LEN = 10      # длина списка\n",
    "MIN = -100    # минимальное возможное число\n",
    "MAX = 100     # максимальное возможное число\n",
    "import random\n",
    "rl = [random.randint(MIN, MAX) for _ in range(LEN)]\n",
    "print(\"случайный список:\", rl)"
   ]
  },
  {
   "cell_type": "code",
   "execution_count": 13,
   "metadata": {},
   "outputs": [
    {
     "name": "stdout",
     "output_type": "stream",
     "text": [
      "минимум равен -93 , максимум равен 96\n"
     ]
    }
   ],
   "source": [
    "# не по-питоновски:\n",
    "amin = rl[0]\n",
    "amax = rl[0]\n",
    "\n",
    "for i in range(1, LEN):\n",
    "    if rl[i] < amin:\n",
    "        amin = rl[i]\n",
    "    if rl[i] > amax:\n",
    "        amax = rl[i]\n",
    "\n",
    "# вывод результата по-чужому :)\n",
    "print(\"минимум равен\", amin, \", максимум равен\", amax)"
   ]
  },
  {
   "cell_type": "code",
   "execution_count": 14,
   "metadata": {},
   "outputs": [
    {
     "name": "stdout",
     "output_type": "stream",
     "text": [
      "минимум равен -93, максимум равен 96\n",
      "минимум равен -93, максимум равен 96\n"
     ]
    }
   ],
   "source": [
    "# полу-по-питоновски\n",
    "amin = rl[0]\n",
    "amax = rl[0]\n",
    "\n",
    "for e in rl[1:]:\n",
    "    if e < amin:\n",
    "        amin = e\n",
    "    if e > amax:\n",
    "        amax = e\n",
    "        \n",
    "# вывод результата по-старому\n",
    "print(\"минимум равен %d, максимум равен %d\" % (amin, amax))\n",
    "# или по-новому\n",
    "print(\"минимум равен {}, максимум равен {}\".format(amin, amax))"
   ]
  },
  {
   "cell_type": "code",
   "execution_count": 15,
   "metadata": {},
   "outputs": [
    {
     "name": "stdout",
     "output_type": "stream",
     "text": [
      "минимум равен -93, максимум равен 96\n"
     ]
    }
   ],
   "source": [
    "# по-питоновски\n",
    "\n",
    "print(f\"минимум равен {min(rl)}, максимум равен {max(rl)}\")"
   ]
  },
  {
   "cell_type": "markdown",
   "metadata": {},
   "source": [
    "***Удалить из списка повторяющиеся  значения***"
   ]
  },
  {
   "cell_type": "code",
   "execution_count": 8,
   "metadata": {},
   "outputs": [
    {
     "name": "stdout",
     "output_type": "stream",
     "text": [
      "случайный список: [9, 0, 7, 6, 9, 9, 3, 2, 7, 5]\n"
     ]
    }
   ],
   "source": [
    "# создаём случайный список\n",
    "LEN = 10      # длина списка\n",
    "MIN = 0    # минимальное возможное число\n",
    "MAX = 10     # максимальное возможное число\n",
    "import random\n",
    "rl = [random.randint(MIN, MAX) for _ in range(LEN)]\n",
    "print(\"случайный список:\", rl)"
   ]
  },
  {
   "cell_type": "code",
   "execution_count": 9,
   "metadata": {},
   "outputs": [
    {
     "name": "stdout",
     "output_type": "stream",
     "text": [
      "получился список [9, 0, 7, 6, 3, 2, 5]\n"
     ]
    }
   ],
   "source": [
    "# решение полупитоновское\n",
    "pl = []\n",
    "for e in rl:\n",
    "    if e not in pl:\n",
    "        pl += [e]\n",
    "        \n",
    "print(\"получился список\", pl)"
   ]
  },
  {
   "cell_type": "code",
   "execution_count": 10,
   "metadata": {},
   "outputs": [
    {
     "name": "stdout",
     "output_type": "stream",
     "text": [
      "получился список [0, 2, 3, 5, 6, 7, 9]\n"
     ]
    }
   ],
   "source": [
    "# решение питоновское\n",
    "pl = list(set(rl))\n",
    "print(\"получился список\", pl)"
   ]
  },
  {
   "cell_type": "markdown",
   "metadata": {},
   "source": [
    "**Словари и множества** <a name=dicts></a>"
   ]
  },
  {
   "cell_type": "markdown",
   "metadata": {},
   "source": [
    "***Ребята-спортсмены***"
   ]
  },
  {
   "cell_type": "code",
   "execution_count": 26,
   "metadata": {},
   "outputs": [
    {
     "name": "stdout",
     "output_type": "stream",
     "text": [
      "{'Лена': ['шахматы', 'плавание'], 'Саша': ['плавание'], 'Коля': [], 'Андрей': ['шашки', 'бокс']} \n",
      "\n",
      "{'Андрей': ['шашки', 'бокс'],\n",
      " 'Коля': [],\n",
      " 'Лена': ['шахматы', 'плавание'],\n",
      " 'Саша': ['плавание']}\n",
      "\n",
      "спортсмены {'Коля', 'Саша', 'Андрей', 'Лена'}\n"
     ]
    }
   ],
   "source": [
    "# исходные данные\n",
    "\n",
    "sport = {\n",
    "    'Лена': ['шахматы', 'плавание'],\n",
    "    'Саша': ['плавание'],\n",
    "    'Коля': [],\n",
    "    'Андрей': ['шашки', 'бокс'],\n",
    "}\n",
    "\n",
    "print(sport, \"\\n\")\n",
    "\n",
    "# prettyprint\n",
    "from pprint import pprint as pp\n",
    "pp(sport)\n",
    "\n",
    "sos = {s for s in sport.keys()}\n",
    "print(\"\\nспортсмены\", sos)"
   ]
  },
  {
   "cell_type": "markdown",
   "metadata": {},
   "source": [
    "**Функции** <a name=funcs></a>"
   ]
  },
  {
   "cell_type": "markdown",
   "metadata": {},
   "source": [
    "***Функция: знак (-1, 0, +1)***"
   ]
  },
  {
   "cell_type": "code",
   "execution_count": 84,
   "metadata": {},
   "outputs": [
    {
     "name": "stdout",
     "output_type": "stream",
     "text": [
      "просто проверка: 1 0 -1\n",
      "большой тест: [0, 1, 1, -1, -1, 1, 1, -1, 1, 1]\n"
     ]
    }
   ],
   "source": [
    "# описание функции, подробно\n",
    "def sign1(x):\n",
    "    \"\"\" знак числа (-1, 0, 1)\"\"\"\n",
    "    if x > 0:\n",
    "        return 1\n",
    "    elif x < 0:\n",
    "        return -1\n",
    "    else:\n",
    "        return 0\n",
    "\n",
    "# простая проверка\n",
    "print(\"просто проверка:\", sign1(5), sign1(0), sign1(-1))\n",
    "\n",
    "# описание функции, кратко\n",
    "def sign2(x):\n",
    "    \"\"\" знак числа (-1, 0, 1)\"\"\"\n",
    "    return 1 if x > 0 else -1 if x < 0 else 0\n",
    "\n",
    "# выбор нужной функции\n",
    "sign = sign2\n",
    "\n",
    "# вызов функции\n",
    "tests = [0, 1, 100, -1, -3, 10000000, 1.4, -0.5, 1e16, 3.14e-5]\n",
    "print(\"большой тест:\", [sign(x) for x in tests])"
   ]
  },
  {
   "cell_type": "markdown",
   "metadata": {},
   "source": [
    "***Високосность года***\n",
    "\n",
    "    год високосный (имеет 29 дней в феврале) тогда и только тогда, когда его номер:\n",
    "    делится нацело на 4,\n",
    "      кроме тех, которые делятся на 100,\n",
    "        кроме тех, которые делятся на 400"
   ]
  },
  {
   "cell_type": "code",
   "execution_count": 176,
   "metadata": {},
   "outputs": [],
   "source": [
    "# исходные данные - проверить для этих лет\n",
    "gody = 1968, 2000, 1900, 2021, 1983, 2010, 2020"
   ]
  },
  {
   "cell_type": "code",
   "execution_count": 23,
   "metadata": {},
   "outputs": [],
   "source": [
    "# собственно наша функция для проверки\n",
    "\n",
    "# по-скучному\n",
    "def is_leap_dull(y):\n",
    "    \"\"\" проверка года на високосность\"\"\"\n",
    "    if y % 400 == 0:\n",
    "        return True\n",
    "    if y % 100 == 0:\n",
    "        return False\n",
    "    if y % 4 == 0:\n",
    "        return True\n",
    "    return False"
   ]
  },
  {
   "cell_type": "code",
   "execution_count": 22,
   "metadata": {},
   "outputs": [],
   "source": [
    "# а теперь - по-правильному\n",
    "def is_leap(y):\n",
    "    \"\"\" проверка года на високосность\"\"\"\n",
    "    return y % 400 == 0 or y % 4 == 0 and y %100 != 0"
   ]
  },
  {
   "cell_type": "code",
   "execution_count": 24,
   "metadata": {},
   "outputs": [],
   "source": [
    "# NB: \n",
    "# y % 400 == 0 or y % 4 == 0 and y %100 != 0\n",
    "# считается как \n",
    "# (y % 400 == 0) or ((y % 4 == 0) and (y %100 != 0))"
   ]
  },
  {
   "cell_type": "code",
   "execution_count": 180,
   "metadata": {},
   "outputs": [
    {
     "name": "stdout",
     "output_type": "stream",
     "text": [
      "1900 не високосный\n",
      "1968 високосный\n",
      "1983 не високосный\n",
      "2000 високосный\n",
      "2010 не високосный\n",
      "2020 високосный\n",
      "2021 не високосный\n"
     ]
    }
   ],
   "source": [
    "# проверяем\n",
    "for y in sorted(gody):\n",
    "    print(y, \"високосный\" if is_leap(y) else \"не високосный\")"
   ]
  },
  {
   "cell_type": "markdown",
   "metadata": {},
   "source": [
    "**Отладка** <a name=debug></a>"
   ]
  },
  {
   "cell_type": "markdown",
   "metadata": {},
   "source": [
    "***Ручная прокрутка***"
   ]
  },
  {
   "cell_type": "code",
   "execution_count": 186,
   "metadata": {},
   "outputs": [
    {
     "name": "stdout",
     "output_type": "stream",
     "text": [
      "100\n",
      "-100\n",
      "-1.0\n"
     ]
    },
    {
     "data": {
      "text/plain": [
       "(100, -100, -1.0)"
      ]
     },
     "execution_count": 186,
     "metadata": {},
     "output_type": "execute_result"
    }
   ],
   "source": [
    "first = 100\n",
    "print(first)\n",
    "second = -100\n",
    "print(second)\n",
    "third = first / second\n",
    "print(third)\n",
    "first, second, third"
   ]
  },
  {
   "cell_type": "markdown",
   "metadata": {},
   "source": [
    "***Утверждения assert***"
   ]
  },
  {
   "cell_type": "code",
   "execution_count": 140,
   "metadata": {},
   "outputs": [
    {
     "ename": "AssertionError",
     "evalue": "",
     "output_type": "error",
     "traceback": [
      "\u001b[0;31m---------------------------------------------------------------------------\u001b[0m",
      "\u001b[0;31mAssertionError\u001b[0m                            Traceback (most recent call last)",
      "\u001b[0;32m<ipython-input-140-2168641fae59>\u001b[0m in \u001b[0;36m<module>\u001b[0;34m\u001b[0m\n\u001b[1;32m      2\u001b[0m \u001b[0;32massert\u001b[0m \u001b[0mvar1\u001b[0m \u001b[0;34m!=\u001b[0m \u001b[0;36m0\u001b[0m\u001b[0;34m\u001b[0m\u001b[0;34m\u001b[0m\u001b[0m\n\u001b[1;32m      3\u001b[0m \u001b[0mvar2\u001b[0m \u001b[0;34m=\u001b[0m \u001b[0;36m0\u001b[0m\u001b[0;34m\u001b[0m\u001b[0;34m\u001b[0m\u001b[0m\n\u001b[0;32m----> 4\u001b[0;31m \u001b[0;32massert\u001b[0m \u001b[0mvar2\u001b[0m \u001b[0;34m!=\u001b[0m \u001b[0;36m0\u001b[0m\u001b[0;34m\u001b[0m\u001b[0;34m\u001b[0m\u001b[0m\n\u001b[0m\u001b[1;32m      5\u001b[0m \u001b[0mvar3\u001b[0m \u001b[0;34m=\u001b[0m \u001b[0mvar1\u001b[0m \u001b[0;34m/\u001b[0m \u001b[0mvar2\u001b[0m\u001b[0;34m\u001b[0m\u001b[0;34m\u001b[0m\u001b[0m\n",
      "\u001b[0;31mAssertionError\u001b[0m: "
     ]
    }
   ],
   "source": [
    "var1 = 12\n",
    "assert var1 != 0\n",
    "var2 = 0\n",
    "assert var2 != 0\n",
    "var3 = var1 / var2"
   ]
  },
  {
   "cell_type": "markdown",
   "metadata": {},
   "source": [
    "***Проверки типов***\n",
    "\n",
    "Новая возможность, по-разному реализована в разных версиях, постепенно становится удобнее"
   ]
  },
  {
   "cell_type": "code",
   "execution_count": 184,
   "metadata": {},
   "outputs": [],
   "source": [
    "# собственно наша функция для проверки\n",
    "def is_leap1(y : int) -> bool:\n",
    "    \"\"\" проверка года на високосность\"\"\"\n",
    "    return y % 400 == 0 or y % 4 == 0 and y %100 != 0"
   ]
  },
  {
   "cell_type": "code",
   "execution_count": 185,
   "metadata": {},
   "outputs": [
    {
     "name": "stdout",
     "output_type": "stream",
     "text": [
      "1900 не високосный\n",
      "1968 високосный\n",
      "1983 не високосный\n",
      "2000 високосный\n",
      "2010 не високосный\n",
      "2020 високосный\n",
      "2021 не високосный\n"
     ]
    }
   ],
   "source": [
    "# проверяем снова\n",
    "# исходные данные - проверить для этих лет\n",
    "gody = 1968, 2000, 1900, 2021, 1983, 2010, 2020\n",
    "# запуск\n",
    "for y in sorted(gody):\n",
    "    print(y, \"високосный\" if is_leap1(y) else \"не високосный\")"
   ]
  },
  {
   "cell_type": "markdown",
   "metadata": {},
   "source": [
    "**Форматированный вывод** <a name=output></a>"
   ]
  },
  {
   "cell_type": "code",
   "execution_count": 72,
   "metadata": {},
   "outputs": [],
   "source": [
    "# данные\n",
    "i = 5\n",
    "f = 1.5\n",
    "s = \"string\""
   ]
  },
  {
   "cell_type": "code",
   "execution_count": 73,
   "metadata": {},
   "outputs": [
    {
     "name": "stdout",
     "output_type": "stream",
     "text": [
      "5 1.5 string\n"
     ]
    }
   ],
   "source": [
    "print(i, f, s)"
   ]
  },
  {
   "cell_type": "code",
   "execution_count": 74,
   "metadata": {},
   "outputs": [
    {
     "name": "stdout",
     "output_type": "stream",
     "text": [
      "    5    1.50000 string    \n"
     ]
    }
   ],
   "source": [
    "# устаревший способ, не рекомендуется использовать\n",
    "print(\"%5i %10.5f %-10s\" % (i, f, s))"
   ]
  },
  {
   "cell_type": "code",
   "execution_count": 75,
   "metadata": {},
   "outputs": [
    {
     "name": "stdout",
     "output_type": "stream",
     "text": [
      "5 1.5 string\n",
      "    5        1.5 string               5\n"
     ]
    }
   ],
   "source": [
    "# современный способ\n",
    "print(\"{0} {1} {2}\".format(i, f, s))\n",
    "print(\"{0:5} {1:10} {2:20} {0}\".format(i, f, s))"
   ]
  },
  {
   "cell_type": "code",
   "execution_count": 76,
   "metadata": {},
   "outputs": [
    {
     "name": "stdout",
     "output_type": "stream",
     "text": [
      "5 1.5 string\n",
      "i=5 f=1.5 s='string'\n"
     ]
    }
   ],
   "source": [
    "# новый способ, есть не во всех версиях python, только в очень свежих\n",
    "print(f\"{i} {f} {s}\")\n",
    "print(f\"{i=} {f=} {s=}\")"
   ]
  },
  {
   "cell_type": "markdown",
   "metadata": {},
   "source": [
    "**Работа с файлами, ввод-вывод** <a name=textfiles></a>"
   ]
  },
  {
   "cell_type": "markdown",
   "metadata": {},
   "source": [
    "***Ручной ввод данных***"
   ]
  },
  {
   "cell_type": "code",
   "execution_count": 18,
   "metadata": {},
   "outputs": [
    {
     "name": "stdout",
     "output_type": "stream",
     "text": [
      "строчка текста\n",
      "вы ввели: строчка текста\n"
     ]
    }
   ],
   "source": [
    "# ввод строки\n",
    "s = input()\n",
    "print(\"вы ввели:\", s)\n",
    "# input вводит именно строку, но можно с пробелами\n",
    "# для остальных типов нужно явно преобразовывать"
   ]
  },
  {
   "cell_type": "code",
   "execution_count": 190,
   "metadata": {},
   "outputs": [
    {
     "name": "stdout",
     "output_type": "stream",
     "text": [
      "введите строку: папа\n",
      "вы ввели: папа\n"
     ]
    }
   ],
   "source": [
    "# ввод строки с приглашением\n",
    "s = input(\"введите строку: \")\n",
    "print(\"вы ввели:\", s)"
   ]
  },
  {
   "cell_type": "code",
   "execution_count": 191,
   "metadata": {},
   "outputs": [
    {
     "name": "stdout",
     "output_type": "stream",
     "text": [
      "введите целое число: 45\n",
      "вы ввели: 45\n"
     ]
    }
   ],
   "source": [
    "# ввод целого числа с приглашением\n",
    "n = int(input(\"введите целое число: \"))\n",
    "print(\"вы ввели:\", n)"
   ]
  },
  {
   "cell_type": "markdown",
   "metadata": {},
   "source": [
    "***Чтение и запись простых текстовых файлов***"
   ]
  },
  {
   "cell_type": "code",
   "execution_count": 192,
   "metadata": {},
   "outputs": [],
   "source": [
    "# файл input-1.txt\n",
    "infile  = 'input-1.txt'\n",
    "outfile = 'output-1.txt'"
   ]
  },
  {
   "cell_type": "markdown",
   "metadata": {},
   "source": [
    "*входной файл:*\n",
    "\n",
    "    Широка страна моя родная.\n",
    "    Много в ней лесов, полей и рек.\n",
    "    Я другой такой страны не знаю,\n",
    "    где так вольно дышит человек.\n",
    "    \n",
    "(\"Песня о Родине\". Авторы: музыка - Исаак Дунаевский, слова - Василий Лебедев-Кумач, 1936)\n",
    "\n",
    "https://ru.wikipedia.org/wiki/%D0%A8%D0%B8%D1%80%D0%BE%D0%BA%D0%B0_%D1%81%D1%82%D1%80%D0%B0%D0%BD%D0%B0_%D0%BC%D0%BE%D1%8F_%D1%80%D0%BE%D0%B4%D0%BD%D0%B0%D1%8F\n",
    "    \n",
    "*выходной файл (последний)*\n",
    "\n",
    "    родная. моя страна широка\n",
    "    рек. и полей лесов, ней в много\n",
    "    знаю, не страны такой другой я\n",
    "    человек. дышит вольно так где"
   ]
  },
  {
   "cell_type": "code",
   "execution_count": 195,
   "metadata": {},
   "outputs": [
    {
     "name": "stdout",
     "output_type": "stream",
     "text": [
      "Широка страна моя родная.\n",
      "Много в ней лесов, полей и рек.\n",
      "Я другой такой страны не знаю,\n",
      "где так вольно дышит человек.\n"
     ]
    }
   ],
   "source": [
    "f = open(infile, 'r')\n",
    "t = f.read()\n",
    "print(t)\n",
    "f.close()"
   ]
  },
  {
   "cell_type": "code",
   "execution_count": 194,
   "metadata": {},
   "outputs": [
    {
     "name": "stdout",
     "output_type": "stream",
     "text": [
      "Широка страна моя родная.\n",
      "Много в ней лесов, полей и рек.\n",
      "Я другой такой страны не знаю,\n",
      "где так вольно дышит человек.\n"
     ]
    }
   ],
   "source": [
    "with open(infile) as inf:\n",
    "    for inline in inf:\n",
    "        print(inline.strip())"
   ]
  },
  {
   "cell_type": "code",
   "execution_count": 204,
   "metadata": {},
   "outputs": [
    {
     "name": "stdout",
     "output_type": "stream",
     "text": [
      "Широка страна моя родная.\n",
      "Много в ней лесов, полей и рек.\n",
      "Я другой такой страны не знаю,\n",
      "где так вольно дышит человек.\n"
     ]
    }
   ],
   "source": [
    "with open(infile, 'r') as inf, open(outfile, 'w') as outf:\n",
    "    for inline in inf:\n",
    "        print(inline.strip())\n",
    "        outf.write(\" \".join(reversed(inline.lower().split())) + \"\\n\")"
   ]
  },
  {
   "cell_type": "code",
   "execution_count": 207,
   "metadata": {},
   "outputs": [
    {
     "name": "stdout",
     "output_type": "stream",
     "text": [
      "['Широка страна моя родная.\\n', 'Много в ней лесов, полей и рек.\\n', 'Я другой такой страны не знаю,\\n', 'где так вольно дышит человек.']\n",
      "['Широка страна моя родная.\\n',\n",
      " 'Много в ней лесов, полей и рек.\\n',\n",
      " 'Я другой такой страны не знаю,\\n',\n",
      " 'где так вольно дышит человек.']\n"
     ]
    }
   ],
   "source": [
    "with open(infile, 'r', encoding='utf8') as inf:\n",
    "    strs = inf.readlines()\n",
    "    print(strs)\n",
    "    pp(strs)"
   ]
  }
 ],
 "metadata": {
  "kernelspec": {
   "display_name": "Python 3",
   "language": "python",
   "name": "python3"
  },
  "language_info": {
   "codemirror_mode": {
    "name": "ipython",
    "version": 3
   },
   "file_extension": ".py",
   "mimetype": "text/x-python",
   "name": "python",
   "nbconvert_exporter": "python",
   "pygments_lexer": "ipython3",
   "version": "3.8.8"
  }
 },
 "nbformat": 4,
 "nbformat_minor": 4
}
