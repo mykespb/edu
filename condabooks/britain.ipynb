{
 "cells": [
  {
   "cell_type": "markdown",
   "id": "09718a8e-02ce-429a-a775-c30f45e9972d",
   "metadata": {},
   "source": [
    "britain.ipynb\n",
    "\n",
    "2024-11-29 0.1 Mikhail Kolodin\n",
    "\n",
    "С помощью множеств, словарей и т.п. описать структуру всего британского и провести над ними действия."
   ]
  },
  {
   "cell_type": "code",
   "execution_count": 106,
   "id": "6e143e57-14b8-4fe4-9993-9843a1f91b93",
   "metadata": {},
   "outputs": [],
   "source": [
    "from pprint import pp"
   ]
  },
  {
   "cell_type": "code",
   "execution_count": 107,
   "id": "dcd51d5f-e7af-4d6e-b1d3-ddc0cb9c2647",
   "metadata": {},
   "outputs": [],
   "source": [
    "data=\"\"\"name\tcode\tofficial\tterritory\tpopulation\tcapital\tlanguages\tworld\tcurrency\tEU\tShengen\tCommonwealth\tRealm\tNATO\tpower\tdriveson\twiki\n",
    "England\tengland\tEngland\t132932\t57106398\tLondon\tEnglish\tEurope\tGBP\tno\tno\tyes\tyes\tyes\tmonarchy\tleft\thttps://en.wikipedia.org/wiki/England \n",
    "Wales\twales\tWales\t21218\t3131640\tCardiff\tEnglish, Welsh\tEurope\tGBP\tno\tno\tyes\tyes\tyes\tmonarchy\tleft\thttps://en.wikipedia.org/wiki/Wales\n",
    "Scotland\tscotland\tScotland\t80231\t5439842\tEdinburgh\tEnglish, Scots, Scortish Gaelic, British Sign\tEurope\tGBP\tno\tno\tyes\tyes\tyes\tmonarchy\tleft\thttps://en.wikipedia.org/wiki/Scotland\n",
    "Nothern Ireland\tn_ireland\tNothern Ireland\t14330\t1910543\tBelfast\tEnglish, Irish\tEurope\tGBP\tno\tno\tyes\tyes\tyes\tmonarchy\tleft\thttps://en.wikipedia.org/wiki/Northern_Ireland\n",
    "Isle of Man\tioman\tIsle of Man\t574\t84069\tDouglas\tEnglish, Manx\tEurope\tGBP, IMP\tno\tno\tyes\tyes\tno\tmonarchy\tleft\thttps://en.wikipedia.org/wiki/Isle_of_Man\n",
    "Jersey\tbei_jersey\tBailiwick of Jersey\t120\t103267\tSt.Helier\tEnglish, French, Jerriais\tEurope\tGBP, JEP\tno\tno\tyes\tyes\tno\tmonarchy\tleft\thttps://en.wikipedia.org/wiki/Jersey\n",
    "Guernsey\tbei_guernsey\tBailiwick of Guernsey\t78\t67334\tSt.Peter Port\tEnglish, French, Sercquiais, Auregnais\tEurope\tGBP, GGP\tno\tno\tyes\tyes\tno\tmonarchy\tleft\thttps://en.wikipedia.org/wiki/Bailiwick_of_Guernsey\n",
    "Ireland\trep_ireland\tIreland\t244376\t68265209\tDublin\tEnglish, Irish\tEurope\tEUR\tyes\tyes\tno\tno\tyes\trepublic\tleft\thttps://en.wikipedia.org/wiki/Ireland\n",
    "Great Britain\tbritain\tGreat Britain\t209331\t65685738\tLondon\tEnglish\tEurope\tGBP\tno\tno\tyes\tyes\tyes\tmonarchy\tleft\thttps://en.wikipedia.org/wiki/Great_Britain\n",
    "United Kingdom\tuk\tUnited Kingdom of Great Britain and Northern Ireland\t244376\t68265209\tLondon\tEnglish, Scots, Ulster, Scots, Welsh, Cornish, Scottish, Gaelic, Irish, British Sign Language\tEurope\tGBP\tno\tno\tyes\tyes\tyes\tmonarchy\tleft\thttps://en.wikipedia.org/wiki/United_Kingdom\n",
    "overseas\toverseas\tBritish Overseas Territories\t1727415\t272256\tLondon\tEnglish\tWorld\tGBP\tno\tno\tyes\tyes\tyes\tmonarchy\tleft\thttps://en.wikipedia.org/wiki/British_Overseas_Territories\n",
    "Antigua and Barbuda\tantigua\tAntigua and Barbuda\t440000\t100772\tSt. John's\tEnglish, Antiguan and Barbudan Creole\tCentral America\tXCD\tno\tno\tyes\tyes\tno\tmonarchy\tleft\thttps://en.wikipedia.org/wiki/Antigua_and_Barbuda\n",
    "Australia\taustralia\tAustralia\t7688287\t27536000\tCanberra\tEnglish\tAustralia\tAUD\tno\tno\tyes\tyes\tno\tmonarchy\tleft\thttps://en.wikipedia.org/wiki/Australia\n",
    "Bahamas\tbahamas\tCommonwealth of The Bahamas\t13943\t412628\tNassau\tEnglish, Bahamian Creole\tCentral America\tBSD, USD\tno\tno\tyes\tyes\tno\tmonarchy\tleft\thttps://en.wikipedia.org/wiki/The_Bahamas\n",
    "Belize\tbelize\tBelize\t22966\t397483\tBelize City\tEnglish, Belizean Creole\tCentral America\tBZD\tno\tno\tyes\tyes\tno\tmonarchy\tleft\thttps://en.wikipedia.org/wiki/Belize\n",
    "Canada\tcanada\tCanada\t9984670\t41288599\tOttawa\tEnglish, French\tNorth America\tCAD\tno\tno\tyes\tyes\tyes\tmonarchy\tleft\thttps://en.wikipedia.org/wiki/Canada\n",
    "Grenada\tgrenada\tGrenada\t349\t124610\tSt. George's\tEnglish, Grenadian Creole English, Grenadian Creole French\tCentral America\tXCD\tno\tno\tyes\tyes\tno\tmonarchy\tleft\thttps://en.wikipedia.org/wiki/Grenada\n",
    "Jamaica\tjamaica\tJamaica\t10991\t2734092\tKingston\tEnglish, Jamaican Patois\tCentral America\tJMD\tno\tno\tyes\tyes\tno\tmonarchy\tleft\thttps://en.wikipedia.org/wiki/Jamaica\n",
    "New Zealand\tnzeland\tNew Zealand\t268021\t5432170\tWellington\tEnglish, Māori, NZ Sign Language\tAustralia\tNZD\tno\tno\tyes\tyes\tyes\tmonarchy\tleft\thttps://en.wikipedia.org/wiki/New_Zealand\n",
    "Papua New Guinea\tpapua\tPapua New Guinea\t462840\t11781559\tPort Moresby\tEnglish, Hiri Motu, PNG Sign Language, Tok Pisin\tOceania\tPGK\tno\tno\tyes\tyes\tyes\tmonarchy\tleft\thttps://en.wikipedia.org/wiki/Papua_New_Guinea\n",
    "Saint Kitts and Nevis\tskn\tFederation of Saint Christopher and Nevis\t261\t47606\tBasseterre\tEnglish, Saint Kitts Creole\tCentral America\tXCD\tno\tno\tyes\tyes\tno\tmonarchy\tleft\thttps://en.wikipedia.org/wiki/Saint_Kitts_and_Nevis\n",
    "Saint Lucia\tstlucia\tSaint Lucia\t617\t178696\tCastries\tEnglish, Saint Lucian Creole, French\tCentral America\tXCD\tno\tno\tyes\tyes\tno\tmonarchy\tleft\thttps://en.wikipedia.org/wiki/Saint_Lucia\n",
    "Saint Vincent and the Grenadines\tvincent\tSaint Vincent and the Grenadines\t389\t110872\tKingstown\tEnglish, Vincentian Creole\tCentral America\tXCD\tno\tno\tyes\tyes\tno\tmonarchy\tleft\thttps://en.wikipedia.org/wiki/Saint_Vincent_and_the_Grenadines\n",
    "Solomon Islands \tsolomons\tSolomon Islands \t28896\t734887\tHoniara\tEnglish, Pijin\tOceania\tXCD\tno\tno\tyes\tyes\tno\tmonarchy\tleft\thttps://en.wikipedia.org/wiki/Solomon_Islands\n",
    "Tuvalu\ttuvalu\tTuvalu\t26\t11900\tFunafuti\tTuvaluan, English\tOceania\tAUD, TD\tno\tno\tyes\tyes\tno\tmonarchy\tleft\thttps://en.wikipedia.org/wiki/Tuvalu\"\"\""
   ]
  },
  {
   "cell_type": "code",
   "execution_count": 108,
   "id": "70c8a2bf-f717-4637-a29f-9f0d6569a18f",
   "metadata": {},
   "outputs": [
    {
     "name": "stdout",
     "output_type": "stream",
     "text": [
      "name\tcode\tofficial\tterritory\tpopulation\tcapital\tlanguages\tworld\tcurrency\tEU\tShengen\tCommonwealth\tRealm\tNATO\tpower\tdriveson\twiki\n",
      "England\tengland\tEngland\t132932\t57106398\tLondon\tEnglish\tEurope\tGBP\tno\tno\tyes\tyes\tyes\tmonarchy\tleft\thttps://en.wikipedia.org/wiki/England \n",
      "Wales\twales\tWales\t21218\t3131640\tCardiff\tEnglish, Welsh\tEurope\tGBP\tno\tno\tyes\tyes\tyes\tmonarchy\tleft\thttps://en.wikipedia.org/wiki/Wales\n",
      "Scotland\tscotland\tScotland\t80231\t5439842\tEdinburgh\tEnglish, Scots, Scortish Gaelic, British Sign\tEurope\tGBP\tno\tno\tyes\tyes\tyes\tmonarchy\tleft\thttps://en.wikipedia.org/wiki/Scotland\n",
      "Nothern Ireland\tn_ireland\tNothern Ireland\t14330\t1910543\tBelfast\tEnglish, Irish\tEurope\tGBP\tno\tno\tyes\tyes\tyes\tmonarchy\tleft\thttps://en.wikipedia.org/wiki/Northern_Ireland\n",
      "Isle of Man\tioman\tIsle of Man\t574\t84069\tDouglas\tEnglish, Manx\tEurope\tGBP, IMP\tno\tno\tyes\tyes\tno\tmonarchy\tleft\thttps://en.wikipedia.org/wiki/Isle_of_Man\n",
      "Jersey\tbei_jersey\tBailiwick of Jersey\t120\t103267\tSt.Helier\tEnglish, French, Jerriais\tEurope\tGBP, JEP\tno\tno\tyes\tyes\tno\tmonarchy\tleft\thttps://en.wikipedia.org/wiki/Jersey\n",
      "Guernsey\tbei_guernsey\tBailiwick of Guernsey\t78\t67334\tSt.Peter Port\tEnglish, French, Sercquiais, Auregnais\tEurope\tGBP, GGP\tno\tno\tyes\tyes\tno\tmonarchy\tleft\thttps://en.wikipedia.org/wiki/Bailiwick_of_Guernsey\n",
      "Ireland\trep_ireland\tIreland\t244376\t68265209\tDublin\tEnglish, Irish\tEurope\tEUR\tyes\tyes\tno\tno\tyes\trepublic\tleft\thttps://en.wikipedia.org/wiki/Ireland\n",
      "Great Britain\tbritain\tGreat Britain\t209331\t65685738\tLondon\tEnglish\tEurope\tGBP\tno\tno\tyes\tyes\tyes\tmonarchy\tleft\thttps://en.wikipedia.org/wiki/Great_Britain\n",
      "United Kingdom\tuk\tUnited Kingdom of Great Britain and Northern Ireland\t244376\t68265209\tLondon\tEnglish, Scots, Ulster, Scots, Welsh, Cornish, Scottish, Gaelic, Irish, British Sign Language\tEurope\tGBP\tno\tno\tyes\tyes\tyes\tmonarchy\tleft\thttps://en.wikipedia.org/wiki/United_Kingdom\n",
      "overseas\toverseas\tBritish Overseas Territories\t1727415\t272256\tLondon\tEnglish\tWorld\tGBP\tno\tno\tyes\tyes\tyes\tmonarchy\tleft\thttps://en.wikipedia.org/wiki/British_Overseas_Territories\n",
      "Antigua and Barbuda\tantigua\tAntigua and Barbuda\t440000\t100772\tSt. John's\tEnglish, Antiguan and Barbudan Creole\tCentral America\tXCD\tno\tno\tyes\tyes\tno\tmonarchy\tleft\thttps://en.wikipedia.org/wiki/Antigua_and_Barbuda\n",
      "Australia\taustralia\tAustralia\t7688287\t27536000\tCanberra\tEnglish\tAustralia\tAUD\tno\tno\tyes\tyes\tno\tmonarchy\tleft\thttps://en.wikipedia.org/wiki/Australia\n",
      "Bahamas\tbahamas\tCommonwealth of The Bahamas\t13943\t412628\tNassau\tEnglish, Bahamian Creole\tCentral America\tBSD, USD\tno\tno\tyes\tyes\tno\tmonarchy\tleft\thttps://en.wikipedia.org/wiki/The_Bahamas\n",
      "Belize\tbelize\tBelize\t22966\t397483\tBelize City\tEnglish, Belizean Creole\tCentral America\tBZD\tno\tno\tyes\tyes\tno\tmonarchy\tleft\thttps://en.wikipedia.org/wiki/Belize\n",
      "Canada\tcanada\tCanada\t9984670\t41288599\tOttawa\tEnglish, French\tNorth America\tCAD\tno\tno\tyes\tyes\tyes\tmonarchy\tleft\thttps://en.wikipedia.org/wiki/Canada\n",
      "Grenada\tgrenada\tGrenada\t349\t124610\tSt. George's\tEnglish, Grenadian Creole English, Grenadian Creole French\tCentral America\tXCD\tno\tno\tyes\tyes\tno\tmonarchy\tleft\thttps://en.wikipedia.org/wiki/Grenada\n",
      "Jamaica\tjamaica\tJamaica\t10991\t2734092\tKingston\tEnglish, Jamaican Patois\tCentral America\tJMD\tno\tno\tyes\tyes\tno\tmonarchy\tleft\thttps://en.wikipedia.org/wiki/Jamaica\n",
      "New Zealand\tnzeland\tNew Zealand\t268021\t5432170\tWellington\tEnglish, Māori, NZ Sign Language\tAustralia\tNZD\tno\tno\tyes\tyes\tyes\tmonarchy\tleft\thttps://en.wikipedia.org/wiki/New_Zealand\n",
      "Papua New Guinea\tpapua\tPapua New Guinea\t462840\t11781559\tPort Moresby\tEnglish, Hiri Motu, PNG Sign Language, Tok Pisin\tOceania\tPGK\tno\tno\tyes\tyes\tyes\tmonarchy\tleft\thttps://en.wikipedia.org/wiki/Papua_New_Guinea\n",
      "Saint Kitts and Nevis\tskn\tFederation of Saint Christopher and Nevis\t261\t47606\tBasseterre\tEnglish, Saint Kitts Creole\tCentral America\tXCD\tno\tno\tyes\tyes\tno\tmonarchy\tleft\thttps://en.wikipedia.org/wiki/Saint_Kitts_and_Nevis\n",
      "Saint Lucia\tstlucia\tSaint Lucia\t617\t178696\tCastries\tEnglish, Saint Lucian Creole, French\tCentral America\tXCD\tno\tno\tyes\tyes\tno\tmonarchy\tleft\thttps://en.wikipedia.org/wiki/Saint_Lucia\n",
      "Saint Vincent and the Grenadines\tvincent\tSaint Vincent and the Grenadines\t389\t110872\tKingstown\tEnglish, Vincentian Creole\tCentral America\tXCD\tno\tno\tyes\tyes\tno\tmonarchy\tleft\thttps://en.wikipedia.org/wiki/Saint_Vincent_and_the_Grenadines\n",
      "Solomon Islands \tsolomons\tSolomon Islands \t28896\t734887\tHoniara\tEnglish, Pijin\tOceania\tXCD\tno\tno\tyes\tyes\tno\tmonarchy\tleft\thttps://en.wikipedia.org/wiki/Solomon_Islands\n",
      "Tuvalu\ttuvalu\tTuvalu\t26\t11900\tFunafuti\tTuvaluan, English\tOceania\tAUD, TD\tno\tno\tyes\tyes\tno\tmonarchy\tleft\thttps://en.wikipedia.org/wiki/Tuvalu\n"
     ]
    }
   ],
   "source": [
    "print(data)"
   ]
  },
  {
   "cell_type": "markdown",
   "id": "72efce26-3f14-4315-85b0-11b05e0c5a8d",
   "metadata": {},
   "source": [
    "Шаг 1. Прочитать данные в список"
   ]
  },
  {
   "cell_type": "code",
   "execution_count": 118,
   "id": "c94f6722-73b7-446a-96ce-75682a9640fb",
   "metadata": {},
   "outputs": [
    {
     "name": "stdout",
     "output_type": "stream",
     "text": [
      "['name\\tcode\\tofficial\\tterritory\\tpopulation\\tcapital\\tlanguages\\tworld\\t'\n",
      " 'currency\\tEU\\tShengen\\tCommonwealth\\tRealm\\tNATO\\tpower\\tdriveson\\twiki',\n",
      " 'England\\tengland\\tEngland\\t132932\\t57106398\\tLondon\\tEnglish\\tEurope\\tGBP\\t'\n",
      " 'no\\tno\\tyes\\tyes\\tyes\\tmonarchy\\tleft\\t'\n",
      " 'https://en.wikipedia.org/wiki/England ',\n",
      " 'Wales\\twales\\tWales\\t21218\\t3131640\\tCardiff\\tEnglish, Welsh\\tEurope\\tGBP\\t'\n",
      " 'no\\tno\\tyes\\tyes\\tyes\\tmonarchy\\tleft\\thttps://en.wikipedia.org/wiki/Wales',\n",
      " 'Scotland\\tscotland\\tScotland\\t80231\\t5439842\\tEdinburgh\\tEnglish, Scots, '\n",
      " 'Scortish Gaelic, British Sign\\tEurope\\tGBP\\tno\\tno\\tyes\\tyes\\tyes\\tmonarchy\\t'\n",
      " 'left\\thttps://en.wikipedia.org/wiki/Scotland',\n",
      " 'Nothern Ireland\\tn_ireland\\tNothern Ireland\\t14330\\t1910543\\tBelfast\\t'\n",
      " 'English, Irish\\tEurope\\tGBP\\tno\\tno\\tyes\\tyes\\tyes\\tmonarchy\\tleft\\t'\n",
      " 'https://en.wikipedia.org/wiki/Northern_Ireland',\n",
      " 'Isle of Man\\tioman\\tIsle of Man\\t574\\t84069\\tDouglas\\tEnglish, Manx\\tEurope\\t'\n",
      " 'GBP, IMP\\tno\\tno\\tyes\\tyes\\tno\\tmonarchy\\tleft\\t'\n",
      " 'https://en.wikipedia.org/wiki/Isle_of_Man',\n",
      " 'Jersey\\tbei_jersey\\tBailiwick of Jersey\\t120\\t103267\\tSt.Helier\\tEnglish, '\n",
      " 'French, Jerriais\\tEurope\\tGBP, JEP\\tno\\tno\\tyes\\tyes\\tno\\tmonarchy\\tleft\\t'\n",
      " 'https://en.wikipedia.org/wiki/Jersey',\n",
      " 'Guernsey\\tbei_guernsey\\tBailiwick of Guernsey\\t78\\t67334\\tSt.Peter Port\\t'\n",
      " 'English, French, Sercquiais, Auregnais\\tEurope\\tGBP, GGP\\tno\\tno\\tyes\\tyes\\t'\n",
      " 'no\\tmonarchy\\tleft\\thttps://en.wikipedia.org/wiki/Bailiwick_of_Guernsey',\n",
      " 'Ireland\\trep_ireland\\tIreland\\t244376\\t68265209\\tDublin\\tEnglish, Irish\\t'\n",
      " 'Europe\\tEUR\\tyes\\tyes\\tno\\tno\\tyes\\trepublic\\tleft\\t'\n",
      " 'https://en.wikipedia.org/wiki/Ireland',\n",
      " 'Great Britain\\tbritain\\tGreat Britain\\t209331\\t65685738\\tLondon\\tEnglish\\t'\n",
      " 'Europe\\tGBP\\tno\\tno\\tyes\\tyes\\tyes\\tmonarchy\\tleft\\t'\n",
      " 'https://en.wikipedia.org/wiki/Great_Britain',\n",
      " 'United Kingdom\\tuk\\tUnited Kingdom of Great Britain and Northern Ireland\\t'\n",
      " '244376\\t68265209\\tLondon\\tEnglish, Scots, Ulster, Scots, Welsh, Cornish, '\n",
      " 'Scottish, Gaelic, Irish, British Sign Language\\tEurope\\tGBP\\tno\\tno\\tyes\\t'\n",
      " 'yes\\tyes\\tmonarchy\\tleft\\thttps://en.wikipedia.org/wiki/United_Kingdom',\n",
      " 'overseas\\toverseas\\tBritish Overseas Territories\\t1727415\\t272256\\tLondon\\t'\n",
      " 'English\\tWorld\\tGBP\\tno\\tno\\tyes\\tyes\\tyes\\tmonarchy\\tleft\\t'\n",
      " 'https://en.wikipedia.org/wiki/British_Overseas_Territories',\n",
      " 'Antigua and Barbuda\\tantigua\\tAntigua and Barbuda\\t440000\\t100772\\tSt. '\n",
      " \"John's\\tEnglish, Antiguan and Barbudan Creole\\tCentral America\\tXCD\\tno\\tno\\t\"\n",
      " 'yes\\tyes\\tno\\tmonarchy\\tleft\\t'\n",
      " 'https://en.wikipedia.org/wiki/Antigua_and_Barbuda',\n",
      " 'Australia\\taustralia\\tAustralia\\t7688287\\t27536000\\tCanberra\\tEnglish\\t'\n",
      " 'Australia\\tAUD\\tno\\tno\\tyes\\tyes\\tno\\tmonarchy\\tleft\\t'\n",
      " 'https://en.wikipedia.org/wiki/Australia',\n",
      " 'Bahamas\\tbahamas\\tCommonwealth of The Bahamas\\t13943\\t412628\\tNassau\\t'\n",
      " 'English, Bahamian Creole\\tCentral America\\tBSD, USD\\tno\\tno\\tyes\\tyes\\tno\\t'\n",
      " 'monarchy\\tleft\\thttps://en.wikipedia.org/wiki/The_Bahamas',\n",
      " 'Belize\\tbelize\\tBelize\\t22966\\t397483\\tBelize City\\tEnglish, Belizean '\n",
      " 'Creole\\tCentral America\\tBZD\\tno\\tno\\tyes\\tyes\\tno\\tmonarchy\\tleft\\t'\n",
      " 'https://en.wikipedia.org/wiki/Belize',\n",
      " 'Canada\\tcanada\\tCanada\\t9984670\\t41288599\\tOttawa\\tEnglish, French\\tNorth '\n",
      " 'America\\tCAD\\tno\\tno\\tyes\\tyes\\tyes\\tmonarchy\\tleft\\t'\n",
      " 'https://en.wikipedia.org/wiki/Canada',\n",
      " \"Grenada\\tgrenada\\tGrenada\\t349\\t124610\\tSt. George's\\tEnglish, Grenadian \"\n",
      " 'Creole English, Grenadian Creole French\\tCentral America\\tXCD\\tno\\tno\\tyes\\t'\n",
      " 'yes\\tno\\tmonarchy\\tleft\\thttps://en.wikipedia.org/wiki/Grenada',\n",
      " 'Jamaica\\tjamaica\\tJamaica\\t10991\\t2734092\\tKingston\\tEnglish, Jamaican '\n",
      " 'Patois\\tCentral America\\tJMD\\tno\\tno\\tyes\\tyes\\tno\\tmonarchy\\tleft\\t'\n",
      " 'https://en.wikipedia.org/wiki/Jamaica',\n",
      " 'New Zealand\\tnzeland\\tNew Zealand\\t268021\\t5432170\\tWellington\\tEnglish, '\n",
      " 'Māori, NZ Sign Language\\tAustralia\\tNZD\\tno\\tno\\tyes\\tyes\\tyes\\tmonarchy\\t'\n",
      " 'left\\thttps://en.wikipedia.org/wiki/New_Zealand',\n",
      " 'Papua New Guinea\\tpapua\\tPapua New Guinea\\t462840\\t11781559\\tPort Moresby\\t'\n",
      " 'English, Hiri Motu, PNG Sign Language, Tok Pisin\\tOceania\\tPGK\\tno\\tno\\tyes\\t'\n",
      " 'yes\\tyes\\tmonarchy\\tleft\\thttps://en.wikipedia.org/wiki/Papua_New_Guinea',\n",
      " 'Saint Kitts and Nevis\\tskn\\tFederation of Saint Christopher and Nevis\\t261\\t'\n",
      " '47606\\tBasseterre\\tEnglish, Saint Kitts Creole\\tCentral America\\tXCD\\tno\\t'\n",
      " 'no\\tyes\\tyes\\tno\\tmonarchy\\tleft\\t'\n",
      " 'https://en.wikipedia.org/wiki/Saint_Kitts_and_Nevis',\n",
      " 'Saint Lucia\\tstlucia\\tSaint Lucia\\t617\\t178696\\tCastries\\tEnglish, Saint '\n",
      " 'Lucian Creole, French\\tCentral America\\tXCD\\tno\\tno\\tyes\\tyes\\tno\\tmonarchy\\t'\n",
      " 'left\\thttps://en.wikipedia.org/wiki/Saint_Lucia',\n",
      " 'Saint Vincent and the Grenadines\\tvincent\\tSaint Vincent and the Grenadines\\t'\n",
      " '389\\t110872\\tKingstown\\tEnglish, Vincentian Creole\\tCentral America\\tXCD\\t'\n",
      " 'no\\tno\\tyes\\tyes\\tno\\tmonarchy\\tleft\\t'\n",
      " 'https://en.wikipedia.org/wiki/Saint_Vincent_and_the_Grenadines',\n",
      " 'Solomon Islands \\tsolomons\\tSolomon Islands \\t28896\\t734887\\tHoniara\\t'\n",
      " 'English, Pijin\\tOceania\\tXCD\\tno\\tno\\tyes\\tyes\\tno\\tmonarchy\\tleft\\t'\n",
      " 'https://en.wikipedia.org/wiki/Solomon_Islands',\n",
      " 'Tuvalu\\ttuvalu\\tTuvalu\\t26\\t11900\\tFunafuti\\tTuvaluan, English\\tOceania\\t'\n",
      " 'AUD, TD\\tno\\tno\\tyes\\tyes\\tno\\tmonarchy\\tleft\\t'\n",
      " 'https://en.wikipedia.org/wiki/Tuvalu']\n"
     ]
    }
   ],
   "source": [
    "states = data.strip().split(\"\\n\")\n",
    "\n",
    "pp(states)"
   ]
  },
  {
   "cell_type": "markdown",
   "id": "885735e7-a685-43b6-a6c6-7c084d7982c4",
   "metadata": {},
   "source": [
    "Шаг 2. Преобразовать к структурам и почистить"
   ]
  },
  {
   "cell_type": "code",
   "execution_count": null,
   "id": "9409e563-625c-4b35-a52f-ffff0cc93c66",
   "metadata": {},
   "outputs": [],
   "source": [
    "alist = []\n",
    "for line in states[1:]:\n",
    "    place = line.split(\"\\t\")\n",
    "    alist.append(place)\n",
    "    \n",
    "pp(alist)"
   ]
  },
  {
   "cell_type": "code",
   "execution_count": null,
   "id": "703c5e7f-0a58-48d2-b888-b362af6fda1c",
   "metadata": {},
   "outputs": [],
   "source": [
    "names = states[0].strip().split(\"\\t\")\n",
    "\n",
    "adict = {}\n",
    "for line in states[1:]:\n",
    "    item = {}\n",
    "    for pos, place in enumerate(line.strip().split(\"\\t\")):\n",
    "        item[ names[pos] ] = place\n",
    "    adict[ item[ \"code\" ] ] = item\n",
    "        \n",
    "pp(adict)"
   ]
  },
  {
   "cell_type": "markdown",
   "id": "a3c20a17-46a2-44fb-8fff-7aacdad5b4a2",
   "metadata": {},
   "source": [
    "Шаг 3. Преобразовать типы к удобным для обработки:\n",
    "1. приведём к  целым числам данные о площади и населении,\n",
    "2. сделаем доп список языков из соотв. строки, убрав пробелы и запятые"
   ]
  },
  {
   "cell_type": "code",
   "execution_count": null,
   "id": "d09b2d6c-55a2-4319-a4ea-849bc988d170",
   "metadata": {},
   "outputs": [],
   "source": [
    "for place, desc in adict.items():\n",
    "    desc[\"territory\"] = int(desc[\"territory\"])\n",
    "    desc[\"population\"] = int(desc[\"population\"])\n",
    "    desc[\"langlist\"] = list( map( str.strip, desc[\"languages\"] .split(\",\") ) ) \n",
    "    desc[\"curlist\"] = list( map( str.strip, desc[\"currency\"] .split(\",\") ) ) \n",
    "\n",
    "pp(adict)"
   ]
  },
  {
   "cell_type": "markdown",
   "id": "dc64a0c4-be5c-4a11-b9fb-dcebefc0aeae",
   "metadata": {},
   "source": [
    "Теперь все данные обработаны, можно извлекать из них полезную информацию."
   ]
  },
  {
   "cell_type": "code",
   "execution_count": null,
   "id": "f4071ff5-ae8d-4208-afb4-ccecc5c1a061",
   "metadata": {},
   "outputs": [],
   "source": []
  }
 ],
 "metadata": {
  "kernelspec": {
   "display_name": "Python 3 (ipykernel)",
   "language": "python",
   "name": "python3"
  },
  "language_info": {
   "codemirror_mode": {
    "name": "ipython",
    "version": 3
   },
   "file_extension": ".py",
   "mimetype": "text/x-python",
   "name": "python",
   "nbconvert_exporter": "python",
   "pygments_lexer": "ipython3",
   "version": "3.12.4"
  }
 },
 "nbformat": 4,
 "nbformat_minor": 5
}
