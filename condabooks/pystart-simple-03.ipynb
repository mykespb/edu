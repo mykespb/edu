{
 "cells": [
  {
   "cell_type": "markdown",
   "metadata": {},
   "source": [
    "# Примеры и упражнения по Python3 - простой уровень - часть 3"
   ]
  },
  {
   "cell_type": "markdown",
   "metadata": {},
   "source": [
    "Автор-составитель - Михаил Колодин"
   ]
  },
  {
   "cell_type": "markdown",
   "metadata": {},
   "source": [
    "Версия 2021-07-24 от 2021-07-27 - 1.1"
   ]
  },
  {
   "cell_type": "markdown",
   "metadata": {},
   "source": [
    "Разделы:\n",
    "* [Совсем простые](#simplest)\n",
    "* [Просто простые](#simple)\n",
    "* [Средние](#middle)\n",
    "* [Чуть посложнее](#harder)"
   ]
  },
  {
   "cell_type": "markdown",
   "metadata": {},
   "source": [
    "---\n",
    "**Упражнения**"
   ]
  },
  {
   "cell_type": "markdown",
   "metadata": {},
   "source": [
    "---\n",
    "___Совсем простые___ <a name=simplest></a>"
   ]
  },
  {
   "cell_type": "markdown",
   "metadata": {},
   "source": [
    "_Сначала подключим общеполезные модули..._"
   ]
  },
  {
   "cell_type": "code",
   "execution_count": 3,
   "metadata": {},
   "outputs": [],
   "source": [
    "import random\n",
    "from pprint import pprint as pp"
   ]
  },
  {
   "cell_type": "markdown",
   "metadata": {},
   "source": [
    "---\n",
    "__Печать сотни__\n",
    "\n",
    "Напечатать (или выдать любым другим способом, с или без форматирования, объяснить выбор и различия) числа 1 .. 100"
   ]
  },
  {
   "cell_type": "code",
   "execution_count": 1,
   "metadata": {},
   "outputs": [
    {
     "name": "stdout",
     "output_type": "stream",
     "text": [
      "1, 2, 3, 4, 5, 6, 7, 8, 9, 10, 11, 12, 13, 14, 15, 16, 17, 18, 19, 20, 21, 22, 23, 24, 25, 26, 27, 28, 29, 30, 31, 32, 33, 34, 35, 36, 37, 38, 39, 40, 41, 42, 43, 44, 45, 46, 47, 48, 49, 50, 51, 52, 53, 54, 55, 56, 57, 58, 59, 60, 61, 62, 63, 64, 65, 66, 67, 68, 69, 70, 71, 72, 73, 74, 75, 76, 77, 78, 79, 80, 81, 82, 83, 84, 85, 86, 87, 88, 89, 90, 91, 92, 93, 94, 95, 96, 97, 98, 99, 100, "
     ]
    }
   ],
   "source": [
    "for i in range(1, 101):\n",
    "    print(i, end=\", \")"
   ]
  },
  {
   "cell_type": "code",
   "execution_count": 5,
   "metadata": {},
   "outputs": [
    {
     "name": "stdout",
     "output_type": "stream",
     "text": [
      "[1, 2, 3, 4, 5, 6, 7, 8, 9, 10, 11, 12, 13, 14, 15, 16, 17, 18, 19, 20, 21, 22, 23, 24, 25, 26, 27, 28, 29, 30, 31, 32, 33, 34, 35, 36, 37, 38, 39, 40, 41, 42, 43, 44, 45, 46, 47, 48, 49, 50, 51, 52, 53, 54, 55, 56, 57, 58, 59, 60, 61, 62, 63, 64, 65, 66, 67, 68, 69, 70, 71, 72, 73, 74, 75, 76, 77, 78, 79, 80, 81, 82, 83, 84, 85, 86, 87, 88, 89, 90, 91, 92, 93, 94, 95, 96, 97, 98, 99, 100]\n"
     ]
    }
   ],
   "source": [
    "print([x for x in range(1, 101)])"
   ]
  },
  {
   "cell_type": "markdown",
   "metadata": {},
   "source": [
    "… кроме делящихся на 5"
   ]
  },
  {
   "cell_type": "code",
   "execution_count": 9,
   "metadata": {},
   "outputs": [
    {
     "name": "stdout",
     "output_type": "stream",
     "text": [
      "1, 2, 3, 4, 6, 7, 8, 9, 11, 12, 13, 14, 16, 17, 18, 19, 21, 22, 23, 24, 26, 27, 28, 29, 31, 32, 33, 34, 36, 37, 38, 39, 41, 42, 43, 44, 46, 47, 48, 49, 51, 52, 53, 54, 56, 57, 58, 59, 61, 62, 63, 64, 66, 67, 68, 69, 71, 72, 73, 74, 76, 77, 78, 79, 81, 82, 83, 84, 86, 87, 88, 89, 91, 92, 93, 94, 96, 97, 98, 99, "
     ]
    }
   ],
   "source": [
    "for i in range(1, 101):\n",
    "    if i % 5 != 0:\n",
    "        print(i, end=\", \")"
   ]
  },
  {
   "cell_type": "code",
   "execution_count": 11,
   "metadata": {},
   "outputs": [
    {
     "name": "stdout",
     "output_type": "stream",
     "text": [
      "[1, 2, 3, 4, 6, 7, 8, 9, 11, 12, 13, 14, 16, 17, 18, 19, 21, 22, 23, 24, 26, 27, 28, 29, 31, 32, 33, 34, 36, 37, 38, 39, 41, 42, 43, 44, 46, 47, 48, 49, 51, 52, 53, 54, 56, 57, 58, 59, 61, 62, 63, 64, 66, 67, 68, 69, 71, 72, 73, 74, 76, 77, 78, 79, 81, 82, 83, 84, 86, 87, 88, 89, 91, 92, 93, 94, 96, 97, 98, 99]\n"
     ]
    }
   ],
   "source": [
    "print([x for x in range(1, 101) if x%5])"
   ]
  },
  {
   "cell_type": "markdown",
   "metadata": {},
   "source": [
    "---\n",
    "__Площадь треугольника__\n",
    "\n",
    "Ввести 2 числа, это длины катетов, найти площадь прямоугольного треугольника"
   ]
  },
  {
   "cell_type": "code",
   "execution_count": 4,
   "metadata": {},
   "outputs": [
    {
     "name": "stdout",
     "output_type": "stream",
     "text": [
      "введите 1 катет: 1\n",
      "введите 2 катет: 2\n",
      "площадь прямоугольного треугольника равна 1.0\n"
     ]
    }
   ],
   "source": [
    "a = int(input(\"введите 1 катет: \"), 0)\n",
    "b = int(input(\"введите 2 катет: \"), 0)\n",
    "s = a * b / 2 \n",
    "print(\"площадь прямоугольного треугольника равна\", s)"
   ]
  },
  {
   "cell_type": "markdown",
   "metadata": {},
   "source": [
    "---\n",
    "__Свой-чужой__\n",
    "\n",
    "Разведчики договорились, что будут передавать друг другу тексты по правилам. \n",
    "Проверить полученную шифровку на правильность.\n",
    "Строка должна быть (3 версии):\n",
    "- а) с последним знаком - точкой.\n",
    "- б) с последним знаком - не точкой.\n",
    "- в) только с чётным числом точек. "
   ]
  },
  {
   "cell_type": "code",
   "execution_count": 2,
   "metadata": {},
   "outputs": [],
   "source": [
    "def spya(s):\n",
    "    \"\"\" проверка шпионской строки, версия а \"\"\"\n",
    "    return s[-1] == \".\"\n",
    "\n",
    "def spyb(s):\n",
    "    \"\"\" проверка шпионской строки, версия b \"\"\"\n",
    "    return s[-1] != \".\"\n",
    "\n",
    "def spyc(s):\n",
    "    \"\"\" проверка шпионской строки, версия c \"\"\"\n",
    "    return s.count(\".\") % 2 == 0"
   ]
  },
  {
   "cell_type": "code",
   "execution_count": 3,
   "metadata": {},
   "outputs": [
    {
     "name": "stdout",
     "output_type": "stream",
     "text": [
      "сообщите шпионскую строку: привет от друга\n",
      "версия а: False,\n",
      "версия b: True,\n",
      "версия c: True\n",
      "\n"
     ]
    }
   ],
   "source": [
    "# проверка\n",
    "s = input(\"сообщите шпионскую строку: \")\n",
    "print(f\"\"\"версия а: {spya(s)},\n",
    "версия b: {spyb(s)},\n",
    "версия c: {spyc(s)}\n",
    "\"\"\")"
   ]
  },
  {
   "cell_type": "markdown",
   "metadata": {},
   "source": [
    "---\n",
    "___Просто простые___ <a name=simple></a>"
   ]
  },
  {
   "cell_type": "code",
   "execution_count": 6,
   "metadata": {},
   "outputs": [],
   "source": [
    "pass"
   ]
  },
  {
   "cell_type": "markdown",
   "metadata": {},
   "source": [
    "---\n",
    "___Средние___ <a name=middle></a>"
   ]
  },
  {
   "cell_type": "markdown",
   "metadata": {},
   "source": [
    "---\n",
    "__Выбираем слова__\n",
    "\n",
    "Ввести строку, найти самое длинное и самое короткое слово (за 1 проход по строке или что там)"
   ]
  },
  {
   "cell_type": "code",
   "execution_count": 16,
   "metadata": {},
   "outputs": [
    {
     "name": "stdout",
     "output_type": "stream",
     "text": [
      "введите строку: here we go again\n",
      "самое короткое слово: we , самое длинное: again\n"
     ]
    }
   ],
   "source": [
    "s = input(\"введите строку: \")\n",
    "w = sorted(s.split(), key = len)\n",
    "print(\"самое короткое слово:\", w[0], \", самое длинное:\", w[-1])"
   ]
  },
  {
   "cell_type": "code",
   "execution_count": 17,
   "metadata": {},
   "outputs": [
    {
     "name": "stdout",
     "output_type": "stream",
     "text": [
      "введите строку: here we go again\n",
      "самое короткое слово: we , самое длинное: again\n"
     ]
    }
   ],
   "source": [
    "s = input(\"введите строку: \")\n",
    "w = s.split()\n",
    "w.sort(key = len)\n",
    "wshort = w[0]\n",
    "wlong = w[-1]\n",
    "print(\"самое короткое слово:\", wshort, \", самое длинное:\", wlong)"
   ]
  },
  {
   "cell_type": "code",
   "execution_count": 7,
   "metadata": {},
   "outputs": [],
   "source": [
    "pass"
   ]
  },
  {
   "cell_type": "markdown",
   "metadata": {},
   "source": [
    "---\n",
    "___Чуть посложнее___ <a name=harder></a>"
   ]
  },
  {
   "cell_type": "code",
   "execution_count": 8,
   "metadata": {},
   "outputs": [],
   "source": [
    "pass"
   ]
  },
  {
   "cell_type": "code",
   "execution_count": null,
   "metadata": {},
   "outputs": [],
   "source": []
  }
 ],
 "metadata": {
  "kernelspec": {
   "display_name": "Python 3",
   "language": "python",
   "name": "python3"
  },
  "language_info": {
   "codemirror_mode": {
    "name": "ipython",
    "version": 3
   },
   "file_extension": ".py",
   "mimetype": "text/x-python",
   "name": "python",
   "nbconvert_exporter": "python",
   "pygments_lexer": "ipython3",
   "version": "3.8.8"
  }
 },
 "nbformat": 4,
 "nbformat_minor": 4
}
