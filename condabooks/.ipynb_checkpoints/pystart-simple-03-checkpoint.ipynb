{
 "cells": [
  {
   "cell_type": "markdown",
   "metadata": {},
   "source": [
    "# Примеры и упражнения по Python3 - простой уровень - часть 3"
   ]
  },
  {
   "cell_type": "markdown",
   "metadata": {},
   "source": [
    "Автор-составитель - Михаил Колодин"
   ]
  },
  {
   "cell_type": "markdown",
   "metadata": {},
   "source": [
    "Версия 2021-07-24 от 2021-07-27 - 1.1"
   ]
  },
  {
   "cell_type": "markdown",
   "metadata": {},
   "source": [
    "Разделы:\n",
    "* [Совсем простые](#simplest)\n",
    "* [Просто простые](#simple)\n",
    "* [Средние](#middle)\n",
    "* [Чуть посложнее](#harder)"
   ]
  },
  {
   "cell_type": "markdown",
   "metadata": {},
   "source": [
    "---\n",
    "**Упражнения**"
   ]
  },
  {
   "cell_type": "markdown",
   "metadata": {},
   "source": [
    "---\n",
    "___Совсем простые___ <a name=simplest></a>"
   ]
  },
  {
   "cell_type": "markdown",
   "metadata": {},
   "source": [
    "_Сначала подключим общеполезные модули..._"
   ]
  },
  {
   "cell_type": "code",
   "execution_count": 3,
   "metadata": {},
   "outputs": [],
   "source": [
    "import random\n",
    "from pprint import pprint as pp"
   ]
  },
  {
   "cell_type": "markdown",
   "metadata": {},
   "source": [
    "---\n",
    "__Печать сотни__\n",
    "\n",
    "Напечатать (или выдать любым другим способом, с или без форматирования, объяснить выбор и различия) числа 1 .. 100"
   ]
  },
  {
   "cell_type": "code",
   "execution_count": 1,
   "metadata": {},
   "outputs": [
    {
     "name": "stdout",
     "output_type": "stream",
     "text": [
      "1, 2, 3, 4, 5, 6, 7, 8, 9, 10, 11, 12, 13, 14, 15, 16, 17, 18, 19, 20, 21, 22, 23, 24, 25, 26, 27, 28, 29, 30, 31, 32, 33, 34, 35, 36, 37, 38, 39, 40, 41, 42, 43, 44, 45, 46, 47, 48, 49, 50, 51, 52, 53, 54, 55, 56, 57, 58, 59, 60, 61, 62, 63, 64, 65, 66, 67, 68, 69, 70, 71, 72, 73, 74, 75, 76, 77, 78, 79, 80, 81, 82, 83, 84, 85, 86, 87, 88, 89, 90, 91, 92, 93, 94, 95, 96, 97, 98, 99, 100, "
     ]
    }
   ],
   "source": [
    "for i in range(1, 101):\n",
    "    print(i, end=\", \")"
   ]
  },
  {
   "cell_type": "code",
   "execution_count": 2,
   "metadata": {},
   "outputs": [
    {
     "name": "stdout",
     "output_type": "stream",
     "text": [
      "[1, 2, 3, 4, 5, 6, 7, 8, 9, 10, 11, 12, 13, 14, 15, 16, 17, 18, 19, 20, 21, 22, 23, 24, 25, 26, 27, 28, 29, 30, 31, 32, 33, 34, 35, 36, 37, 38, 39, 40, 41, 42, 43, 44, 45, 46, 47, 48, 49, 50, 51, 52, 53, 54, 55, 56, 57, 58, 59, 60, 61, 62, 63, 64, 65, 66, 67, 68, 69, 70, 71, 72, 73, 74, 75, 76, 77, 78, 79, 80, 81, 82, 83, 84, 85, 86, 87, 88, 89, 90, 91, 92, 93, 94, 95, 96, 97, 98, 99, 100]\n"
     ]
    }
   ],
   "source": [
    "print([x for x in range(1, 101)])"
   ]
  },
  {
   "cell_type": "markdown",
   "metadata": {},
   "source": [
    "… кроме делящихся на 5"
   ]
  },
  {
   "cell_type": "code",
   "execution_count": 1,
   "metadata": {},
   "outputs": [
    {
     "name": "stdout",
     "output_type": "stream",
     "text": [
      "1, 2, 3, 4, 6, 7, 8, 9, 11, 12, 13, 14, 16, 17, 18, 19, 21, 22, 23, 24, 26, 27, 28, 29, 31, 32, 33, 34, 36, 37, 38, 39, 41, 42, 43, 44, 46, 47, 48, 49, 51, 52, 53, 54, 56, 57, 58, 59, 61, 62, 63, 64, 66, 67, 68, 69, 71, 72, 73, 74, 76, 77, 78, 79, 81, 82, 83, 84, 86, 87, 88, 89, 91, 92, 93, 94, 96, 97, 98, 99, "
     ]
    }
   ],
   "source": [
    "for i in range(1, 101):\n",
    "    if i % 5:\n",
    "        print(i, end=\", \")"
   ]
  },
  {
   "cell_type": "code",
   "execution_count": 3,
   "metadata": {},
   "outputs": [
    {
     "name": "stdout",
     "output_type": "stream",
     "text": [
      "[1, 2, 3, 4, 6, 7, 8, 9, 11, 12, 13, 14, 16, 17, 18, 19, 21, 22, 23, 24, 26, 27, 28, 29, 31, 32, 33, 34, 36, 37, 38, 39, 41, 42, 43, 44, 46, 47, 48, 49, 51, 52, 53, 54, 56, 57, 58, 59, 61, 62, 63, 64, 66, 67, 68, 69, 71, 72, 73, 74, 76, 77, 78, 79, 81, 82, 83, 84, 86, 87, 88, 89, 91, 92, 93, 94, 96, 97, 98, 99]\n"
     ]
    }
   ],
   "source": [
    "print([x for x in range(1, 101) if x%5])"
   ]
  },
  {
   "cell_type": "markdown",
   "metadata": {},
   "source": [
    "---\n",
    "__Площадь треугольника__\n",
    "\n",
    "Ввести 2 числа, это длины катетов, найти площадь прямоугольного треугольника"
   ]
  },
  {
   "cell_type": "code",
   "execution_count": 6,
   "metadata": {},
   "outputs": [
    {
     "name": "stdout",
     "output_type": "stream",
     "text": [
      "введите 1 катет: 4\n",
      "введите 2 катет: 5\n",
      "площадь прямоугольного треугольника равна 10.0\n"
     ]
    }
   ],
   "source": [
    "a = int(input(\"введите 1 катет: \"), 0)\n",
    "b = int(input(\"введите 2 катет: \"), 0)\n",
    "s = a * b / 2 \n",
    "print(\"площадь прямоугольного треугольника равна\", s)"
   ]
  },
  {
   "cell_type": "markdown",
   "metadata": {},
   "source": [
    "---\n",
    "__Свой-чужой__\n",
    "\n",
    "Разведчики договорились, что будут передавать друг другу тексты по правилам. \n",
    "Проверить полученную шифровку на правильность.\n",
    "Строка должна быть (3 версии):\n",
    "- а) с последним знаком - точкой.\n",
    "- б) с последним знаком - не точкой.\n",
    "- в) только с чётным числом точек. "
   ]
  },
  {
   "cell_type": "code",
   "execution_count": 2,
   "metadata": {},
   "outputs": [],
   "source": [
    "def spya(s):\n",
    "    \"\"\" проверка шпионской строки, версия а \"\"\"\n",
    "    return s[-1] == \".\"\n",
    "\n",
    "def spyb(s):\n",
    "    \"\"\" проверка шпионской строки, версия b \"\"\"\n",
    "    return s[-1] != \".\"\n",
    "\n",
    "def spyc(s):\n",
    "    \"\"\" проверка шпионской строки, версия c \"\"\"\n",
    "    return s.count(\".\") % 2 == 0"
   ]
  },
  {
   "cell_type": "code",
   "execution_count": 3,
   "metadata": {},
   "outputs": [
    {
     "name": "stdout",
     "output_type": "stream",
     "text": [
      "сообщите шпионскую строку: привет от друга\n",
      "версия а: False,\n",
      "версия b: True,\n",
      "версия c: True\n",
      "\n"
     ]
    }
   ],
   "source": [
    "# проверка\n",
    "s = input(\"сообщите шпионскую строку: \")\n",
    "print(f\"\"\"версия а: {spya(s)},\n",
    "версия b: {spyb(s)},\n",
    "версия c: {spyc(s)}\n",
    "\"\"\")"
   ]
  },
  {
   "cell_type": "markdown",
   "metadata": {},
   "source": [
    "----\n",
    "***Сумма квадратов***\n",
    "\n",
    "Подсчитать сумму квадратов натуральных чисел, меньших 100.\n",
    "$$\\sum_{n=1}^{99} n^2 = 1^2 + 2^2 + 3^2 + 4^2 + \\cdots + 98^2 + 99 ^2 =\\,\\,?$$\n",
    "где _квадраты_ - это вторые степени чисел, т.е. числа, умноженные сами на себя:\n",
    "$n^2 = n \\cdot n$."
   ]
  },
  {
   "cell_type": "code",
   "execution_count": 2,
   "metadata": {},
   "outputs": [
    {
     "name": "stdout",
     "output_type": "stream",
     "text": [
      "сумма равна 328350\n"
     ]
    }
   ],
   "source": [
    "summa = 0\n",
    "for n in range(1, 100):\n",
    "    summa += n*n\n",
    "print (\"сумма равна\", summa)"
   ]
  },
  {
   "cell_type": "code",
   "execution_count": 3,
   "metadata": {},
   "outputs": [
    {
     "name": "stdout",
     "output_type": "stream",
     "text": [
      "сумма равна 328350\n"
     ]
    }
   ],
   "source": [
    "summa = 0\n",
    "n = 1\n",
    "while n < 100:\n",
    "    summa += n*n\n",
    "    n += 1\n",
    "print (\"сумма равна\", summa)"
   ]
  },
  {
   "cell_type": "code",
   "execution_count": 5,
   "metadata": {},
   "outputs": [
    {
     "name": "stdout",
     "output_type": "stream",
     "text": [
      "сумма равна 328350\n"
     ]
    }
   ],
   "source": [
    "print (\"сумма равна\", sum ( (n*n for n in range (1, 100)) ))"
   ]
  },
  {
   "cell_type": "markdown",
   "metadata": {},
   "source": [
    "----\n",
    "\n",
    "***Последовательность обратных чисел***\n",
    "\n",
    "$$\\frac11, \\frac12, \\frac13, \\frac14, \\frac15, \\cdots$$\n",
    "\n",
    "Просто напечатать эти числа в десятичной записи."
   ]
  },
  {
   "cell_type": "code",
   "execution_count": 1,
   "metadata": {},
   "outputs": [
    {
     "name": "stdout",
     "output_type": "stream",
     "text": [
      "1 /  1 = 1.000000000000000000\n",
      "1 /  2 = 0.500000000000000000\n",
      "1 /  3 = 0.333333333333333315\n",
      "1 /  4 = 0.250000000000000000\n",
      "1 /  5 = 0.200000000000000011\n",
      "1 /  6 = 0.166666666666666657\n",
      "1 /  7 = 0.142857142857142849\n",
      "1 /  8 = 0.125000000000000000\n",
      "1 /  9 = 0.111111111111111105\n",
      "1 / 10 = 0.100000000000000006\n",
      "1 / 11 = 0.090909090909090912\n",
      "1 / 12 = 0.083333333333333329\n",
      "1 / 13 = 0.076923076923076927\n",
      "1 / 14 = 0.071428571428571425\n",
      "1 / 15 = 0.066666666666666666\n",
      "1 / 16 = 0.062500000000000000\n",
      "1 / 17 = 0.058823529411764705\n",
      "1 / 18 = 0.055555555555555552\n",
      "1 / 19 = 0.052631578947368418\n",
      "1 / 20 = 0.050000000000000003\n"
     ]
    }
   ],
   "source": [
    "LIMIT = 20\n",
    "for n in range(1, LIMIT+1):\n",
    "    print (f\"1 / {n:2d} = {1/n:20.18f}\")"
   ]
  },
  {
   "cell_type": "markdown",
   "metadata": {},
   "source": [
    "----\n",
    "\n",
    "***Сходимость ряда обратных квадратов***\n",
    "\n",
    "$$\\sum_{n=1}^\\infty \\frac1{n^2} = \\frac1{1^2} + \\frac1{2^2} + \\frac1{3^2} + \\frac1{4^2} + \\frac1{5^2} \\cdots$$\n",
    "\n",
    "Просто подсчитать и показать, чему равна частичная сумма после добавления каждого очередного члена."
   ]
  },
  {
   "cell_type": "code",
   "execution_count": 2,
   "metadata": {},
   "outputs": [
    {
     "name": "stdout",
     "output_type": "stream",
     "text": [
      "add        summa\n",
      "  1: 1.00000000 1.00000000\n",
      "  2: 0.25000000 1.25000000\n",
      "  3: 0.11111111 1.36111111\n",
      "  4: 0.06250000 1.42361111\n",
      "  5: 0.04000000 1.46361111\n",
      "  6: 0.02777778 1.49138889\n",
      "  7: 0.02040816 1.51179705\n",
      "  8: 0.01562500 1.52742205\n",
      "  9: 0.01234568 1.53976773\n",
      " 10: 0.01000000 1.54976773\n",
      " 11: 0.00826446 1.55803219\n",
      " 12: 0.00694444 1.56497664\n",
      " 13: 0.00591716 1.57089380\n",
      " 14: 0.00510204 1.57599584\n",
      " 15: 0.00444444 1.58044028\n",
      " 16: 0.00390625 1.58434653\n",
      " 17: 0.00346021 1.58780674\n",
      " 18: 0.00308642 1.59089316\n",
      " 19: 0.00277008 1.59366324\n",
      " 20: 0.00250000 1.59616324\n",
      " 21: 0.00226757 1.59843082\n",
      " 22: 0.00206612 1.60049693\n",
      " 23: 0.00189036 1.60238729\n",
      " 24: 0.00173611 1.60412340\n",
      " 25: 0.00160000 1.60572340\n",
      " 26: 0.00147929 1.60720269\n",
      " 27: 0.00137174 1.60857444\n",
      " 28: 0.00127551 1.60984995\n",
      " 29: 0.00118906 1.61103901\n"
     ]
    }
   ],
   "source": [
    "LIMIT = 30\n",
    "summa = 0.\n",
    "print (\"num add        summa\")\n",
    "for n in range(1, LIMIT):\n",
    "    add = 1 / (n*n)\n",
    "    summa += add\n",
    "    print (f\"{n:3d}: {add:10.8f} {summa:10.8f}\")"
   ]
  },
  {
   "cell_type": "markdown",
   "metadata": {},
   "source": [
    "----\n",
    "***Логарифм двух***\n",
    "\n",
    "$$\\ln 2 = \\frac1{1 \\cdot 2} + \\frac1{3 \\cdot 4} + \\frac1{5 \\cdot 6} + \\cdots$$"
   ]
  },
  {
   "cell_type": "code",
   "execution_count": 41,
   "metadata": {},
   "outputs": [
    {
     "name": "stdout",
     "output_type": "stream",
     "text": [
      "Считаем логарифм 2.\n"
     ]
    }
   ],
   "source": [
    "import math\n",
    "print(f\"Считаем логарифм 2.\")"
   ]
  },
  {
   "cell_type": "code",
   "execution_count": 44,
   "metadata": {},
   "outputs": [
    {
     "name": "stdout",
     "output_type": "stream",
     "text": [
      "шаг     100000: добавляем 0.000000000025000125, и получаем 0.693144680566190718\n",
      "шаг     200000: добавляем 0.000000000006250016, и получаем 0.693145930561528734\n",
      "шаг     300000: добавляем 0.000000000002777782, и получаем 0.693146347227338699\n",
      "шаг     400000: добавляем 0.000000000001562502, и получаем 0.693146555560374633\n",
      "шаг     500000: добавляем 0.000000000001000001, и получаем 0.693146680560232431\n",
      "шаг     600000: добавляем 0.000000000000694445, и получаем 0.693146763893489393\n",
      "шаг     700000: добавляем 0.000000000000510204, и получаем 0.693146823417253866\n",
      "шаг     800000: добавляем 0.000000000000390625, и получаем 0.693146868060080856\n",
      "шаг     900000: добавляем 0.000000000000308642, и получаем 0.693146902782281193\n",
      "шаг    1000000: добавляем 0.000000000000250000, и получаем 0.693146930560045504\n",
      "После    1000000 шагов получилось 0.6931469305600455\n",
      "Должно было получиться примерно   0.6931471805599453\n"
     ]
    }
   ],
   "source": [
    "NUMSLAG = 1000000     # предел числа слагаемых\n",
    "# num - текущее мин. число в знаменателе\n",
    "\n",
    "sumln = 0                  # накопленная сумма\n",
    "step  = 1                  # номер шага (в пределах NUMSLAG)\n",
    "steprint = NUMSLAG // 10   # на каких шагах показывать промежуточный результат\n",
    "                           # так, чтобы всего получилось 10 строк\n",
    "\n",
    "for num in range(1, NUMSLAG*2, 2):\n",
    "    term   = 1 / (num * (num+1))\n",
    "    sumln += term\n",
    "    if step % steprint == 0:\n",
    "        print(f\"шаг {step:10d}: добавляем {term:20.18f}, и получаем {sumln:20.18f}\")\n",
    "    step += 1\n",
    "\n",
    "print(f\"После {NUMSLAG:10d} шагов получилось {sumln}\")\n",
    "print(f\"Должно было получиться примерно   {math.log(2)}\")"
   ]
  },
  {
   "cell_type": "markdown",
   "metadata": {},
   "source": [
    "----\n",
    "***Пи на четыре***\n",
    "\n",
    "Подсчитать ряд, равный в пределе четверти $\\pi$.\n",
    "\n",
    "$$\\frac\\pi4 = 1 - \\frac13 + \\frac15 - \\frac17 + \\frac19 - \\cdots$$"
   ]
  },
  {
   "cell_type": "markdown",
   "metadata": {},
   "source": [
    "Интересно, что здесь ряд знакопеременный; на каждом следующем слагаемом знак слагаемого меняется.\n",
    "\n",
    "Соответственно, у нас 4 рабочие переменные:\n",
    "- общая сумма\n",
    "- числитель (главное - его знак)\n",
    "- знаменатель (добавляем по 2 на каждый шаг)\n",
    "- слагаемое (числитель / знаменатель)\n",
    "\n",
    "Шагов вычислений будет много, подсчитаем и их.\n",
    "\n",
    "Для ограничения числа шагов вычислений используем предельную точность: величину очередного слагаемого, при которой надо прекратить итерации."
   ]
  },
  {
   "cell_type": "code",
   "execution_count": 2,
   "metadata": {},
   "outputs": [],
   "source": [
    "import math\n",
    "EPS = 1e-6     # предел точности"
   ]
  },
  {
   "cell_type": "code",
   "execution_count": 45,
   "metadata": {},
   "outputs": [
    {
     "name": "stdout",
     "output_type": "stream",
     "text": [
      "шаг 100000, term=5.000075001125017e-06, sumpi=0.7854006634224301\n",
      "шаг 200000, term=2.500018750140626e-06, sumpi=0.7853994134036905\n",
      "шаг 300000, term=1.6666750000416668e-06, sumpi=0.7853989967335605\n",
      "шаг 400000, term=1.2500046875175783e-06, sumpi=0.7853987883989985\n",
      "шаг 500000, term=1.000003000009e-06, sumpi=0.785398663398423\n",
      "итого (шаг 500002): \n",
      "четверть пи равна 0.785398663396423058, \n",
      "а пи должно быть  3.141594653585692232,\n",
      "что д.б. близко к 3.141592653589793\n"
     ]
    }
   ],
   "source": [
    "sumpi = 0.  # накопленная сумма\n",
    "term  = 1.  # очередное слагаемое\n",
    "numer = 1   # numerator   = числитель\n",
    "denom = 1   # denominator = знаменатель\n",
    "step  = 1   # считаем шаги\n",
    "\n",
    "while abs(term) > EPS:\n",
    "    step  += 1\n",
    "    term   = numer / denom\n",
    "    sumpi += term\n",
    "    numer *= -1\n",
    "    denom += 2\n",
    "    if step % 100000 == 0:\n",
    "        print(f\"шаг {step}, {term=}, {sumpi=}\")\n",
    "\n",
    "print(f\"\"\"итого (шаг {step}): \n",
    "четверть пи равна {sumpi:20.18f}, \n",
    "а пи должно быть  {4*sumpi:20.18f},\n",
    "что д.б. близко к {math.pi}\"\"\")    "
   ]
  },
  {
   "cell_type": "markdown",
   "metadata": {},
   "source": [
    "----\n",
    "***Почему неправильно?***"
   ]
  },
  {
   "cell_type": "code",
   "execution_count": 1,
   "metadata": {},
   "outputs": [
    {
     "ename": "SyntaxError",
     "evalue": "invalid syntax (2149678220.py, line 1)",
     "output_type": "error",
     "traceback": [
      "\u001b[0;36m  File \u001b[0;32m\"/tmp/ipykernel_44185/2149678220.py\"\u001b[0;36m, line \u001b[0;32m1\u001b[0m\n\u001b[0;31m    привет!\u001b[0m\n\u001b[0m          ^\u001b[0m\n\u001b[0;31mSyntaxError\u001b[0m\u001b[0;31m:\u001b[0m invalid syntax\n"
     ]
    }
   ],
   "source": [
    "привет!"
   ]
  },
  {
   "cell_type": "code",
   "execution_count": 2,
   "metadata": {},
   "outputs": [
    {
     "data": {
      "text/plain": [
       "'привет!'"
      ]
     },
     "execution_count": 2,
     "metadata": {},
     "output_type": "execute_result"
    }
   ],
   "source": [
    "\"привет!\""
   ]
  },
  {
   "cell_type": "code",
   "execution_count": 3,
   "metadata": {},
   "outputs": [
    {
     "name": "stdout",
     "output_type": "stream",
     "text": [
      "привет!\n"
     ]
    }
   ],
   "source": [
    "print(\"привет!\")"
   ]
  },
  {
   "cell_type": "code",
   "execution_count": 9,
   "metadata": {},
   "outputs": [
    {
     "ename": "NameError",
     "evalue": "name 'a' is not defined",
     "output_type": "error",
     "traceback": [
      "\u001b[0;31m---------------------------------------------------------------------------\u001b[0m",
      "\u001b[0;31mNameError\u001b[0m                                 Traceback (most recent call last)",
      "\u001b[0;32m/tmp/ipykernel_44185/3933578617.py\u001b[0m in \u001b[0;36m<module>\u001b[0;34m\u001b[0m\n\u001b[0;32m----> 1\u001b[0;31m \u001b[0msumma\u001b[0m \u001b[0;34m=\u001b[0m \u001b[0ma\u001b[0m \u001b[0;34m+\u001b[0m \u001b[0mb\u001b[0m\u001b[0;34m\u001b[0m\u001b[0;34m\u001b[0m\u001b[0m\n\u001b[0m\u001b[1;32m      2\u001b[0m \u001b[0ma\u001b[0m \u001b[0;34m=\u001b[0m \u001b[0;36m2\u001b[0m\u001b[0;34m\u001b[0m\u001b[0;34m\u001b[0m\u001b[0m\n\u001b[1;32m      3\u001b[0m \u001b[0mb\u001b[0m \u001b[0;34m=\u001b[0m \u001b[0;36m3\u001b[0m\u001b[0;34m\u001b[0m\u001b[0;34m\u001b[0m\u001b[0m\n\u001b[1;32m      4\u001b[0m \u001b[0mprint\u001b[0m \u001b[0;34m(\u001b[0m\u001b[0ma\u001b[0m\u001b[0;34m,\u001b[0m \u001b[0mb\u001b[0m\u001b[0;34m,\u001b[0m \u001b[0msumma\u001b[0m\u001b[0;34m)\u001b[0m\u001b[0;34m\u001b[0m\u001b[0;34m\u001b[0m\u001b[0m\n",
      "\u001b[0;31mNameError\u001b[0m: name 'a' is not defined"
     ]
    }
   ],
   "source": [
    "summa = a + b\n",
    "a = 2\n",
    "b = 3\n",
    "print (a, b, summa)"
   ]
  },
  {
   "cell_type": "code",
   "execution_count": 10,
   "metadata": {},
   "outputs": [
    {
     "name": "stdout",
     "output_type": "stream",
     "text": [
      "2 3 5\n"
     ]
    }
   ],
   "source": [
    "a = 2\n",
    "b = 3\n",
    "summa = a + b\n",
    "print (a, b, summa)"
   ]
  },
  {
   "cell_type": "markdown",
   "metadata": {},
   "source": [
    "---\n",
    "___Просто простые___ <a name=simple></a>"
   ]
  },
  {
   "cell_type": "code",
   "execution_count": 6,
   "metadata": {},
   "outputs": [],
   "source": [
    "pass"
   ]
  },
  {
   "cell_type": "markdown",
   "metadata": {},
   "source": [
    "---\n",
    "___Средние___ <a name=middle></a>"
   ]
  },
  {
   "cell_type": "markdown",
   "metadata": {},
   "source": [
    "---\n",
    "__Выбираем слова__\n",
    "\n",
    "Ввести строку, найти самое длинное и самое короткое слово (за 1 проход по строке или что там)"
   ]
  },
  {
   "cell_type": "code",
   "execution_count": 16,
   "metadata": {},
   "outputs": [
    {
     "name": "stdout",
     "output_type": "stream",
     "text": [
      "введите строку: here we go again\n",
      "самое короткое слово: we , самое длинное: again\n"
     ]
    }
   ],
   "source": [
    "s = input(\"введите строку: \")\n",
    "w = sorted(s.split(), key = len)\n",
    "print(\"самое короткое слово:\", w[0], \", самое длинное:\", w[-1])"
   ]
  },
  {
   "cell_type": "code",
   "execution_count": 17,
   "metadata": {},
   "outputs": [
    {
     "name": "stdout",
     "output_type": "stream",
     "text": [
      "введите строку: here we go again\n",
      "самое короткое слово: we , самое длинное: again\n"
     ]
    }
   ],
   "source": [
    "s = input(\"введите строку: \")\n",
    "w = s.split()\n",
    "w.sort(key = len)\n",
    "wshort = w[0]\n",
    "wlong = w[-1]\n",
    "print(\"самое короткое слово:\", wshort, \", самое длинное:\", wlong)"
   ]
  },
  {
   "cell_type": "code",
   "execution_count": 7,
   "metadata": {},
   "outputs": [],
   "source": [
    "pass"
   ]
  },
  {
   "cell_type": "markdown",
   "metadata": {},
   "source": [
    "---\n",
    "___Чуть посложнее___ <a name=harder></a>"
   ]
  },
  {
   "cell_type": "code",
   "execution_count": 8,
   "metadata": {},
   "outputs": [],
   "source": [
    "pass"
   ]
  },
  {
   "cell_type": "code",
   "execution_count": null,
   "metadata": {},
   "outputs": [],
   "source": []
  }
 ],
 "metadata": {
  "kernelspec": {
   "display_name": "Python 3 (ipykernel)",
   "language": "python",
   "name": "python3"
  },
  "language_info": {
   "codemirror_mode": {
    "name": "ipython",
    "version": 3
   },
   "file_extension": ".py",
   "mimetype": "text/x-python",
   "name": "python",
   "nbconvert_exporter": "python",
   "pygments_lexer": "ipython3",
   "version": "3.9.7"
  }
 },
 "nbformat": 4,
 "nbformat_minor": 4
}
