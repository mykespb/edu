{
 "cells": [
  {
   "cell_type": "markdown",
   "id": "6f1008e0-f09a-413e-a4e8-2570eca63aaa",
   "metadata": {},
   "source": [
    "**britain-sets.ipynb***\n",
    "\n",
    "*2024-12-02 2024-12-02 1.0 Mikhail Kolodin*\n",
    "\n",
    "**С помощью множеств, словарей и т.п. описать структуру всего британского и провести над ними действия.**\n",
    "\n",
    "***Тема: множества.***"
   ]
  },
  {
   "cell_type": "markdown",
   "id": "688d7ebc-28dc-4e20-b7a0-53eed2ebc746",
   "metadata": {},
   "source": [
    "**Шаг 1. Определяем все части и их объединения**"
   ]
  },
  {
   "cell_type": "code",
   "execution_count": 25,
   "id": "108d728c-3f48-48f9-81af-69d07eba017e",
   "metadata": {},
   "outputs": [
    {
     "name": "stdout",
     "output_type": "stream",
     "text": [
      "tGB={'Wales', 'Scotland', 'England'},\n",
      "sUK={'Wales', 'NIreland', 'Scotland', 'England'}\n"
     ]
    }
   ],
   "source": [
    "tGB = {\"Scotland\", \"Wales\", \"England\"}\n",
    "sUK = tGB | {\"NIreland\"}\n",
    "print(f\"{tGB=},\\n{sUK=}\")"
   ]
  },
  {
   "cell_type": "code",
   "execution_count": 8,
   "id": "945d56f8-39ae-48ed-bf2c-fc66790e6a27",
   "metadata": {},
   "outputs": [
    {
     "name": "stdout",
     "output_type": "stream",
     "text": [
      "sRIreland={'RIreland'}, tIreland={'NIreland', 'RIreland'}\n"
     ]
    }
   ],
   "source": [
    "sRIreland = {\"RIreland\"}\n",
    "tIreland = sRIreland | {\"NIreland\"}\n",
    "print(f\"{sRIreland=}, {tIreland=}\")"
   ]
  },
  {
   "cell_type": "code",
   "execution_count": 40,
   "id": "59d9d53f-82ed-4107-9d65-d93f25121ec1",
   "metadata": {},
   "outputs": [
    {
     "name": "stdout",
     "output_type": "stream",
     "text": [
      "tChanIslands={'Jersey', 'Guernsey'},\n",
      "sCrownDep={'Jersey', 'Guernsey', 'IOMan'}\n"
     ]
    }
   ],
   "source": [
    "tChanIslands = {\"Jersey\", \"Guernsey\"}\n",
    "sCrownDep = tChanIslands | {\"IOMan\"}\n",
    "print(f\"{tChanIslands=},\\n{sCrownDep=}\")"
   ]
  },
  {
   "cell_type": "code",
   "execution_count": 33,
   "id": "7c836d76-372e-47cc-93b0-522a72120116",
   "metadata": {},
   "outputs": [
    {
     "name": "stdout",
     "output_type": "stream",
     "text": [
      "sBritIslands={'Jersey', 'NIreland', 'Scotland', 'England', 'Wales', 'IOMan', 'Guernsey'},\n",
      "tBritIsles={'NIreland', 'Scotland', 'England', 'Wales', 'Jersey', 'IOMan', 'Guernsey', 'RIreland'}\n"
     ]
    }
   ],
   "source": [
    "sBritIslands = sUK | sCrownDep\n",
    "tBritIsles = tIreland | sBritIslands\n",
    "print(f\"{sBritIslands=},\\n{tBritIsles=}\")"
   ]
  },
  {
   "cell_type": "markdown",
   "id": "ded80018-cce1-47dd-a95d-f6584da5cf55",
   "metadata": {},
   "source": [
    "**Шаг 2. работаем с пересечениями и т.п.**"
   ]
  },
  {
   "cell_type": "code",
   "execution_count": 46,
   "id": "80453e45-efd7-473e-b623-edaad12c2649",
   "metadata": {},
   "outputs": [
    {
     "name": "stdout",
     "output_type": "stream",
     "text": [
      "{'NIreland', 'Scotland', 'England', 'Wales', 'IOMan', 'RIreland'}\n"
     ]
    }
   ],
   "source": [
    "tIrishSea = tBritIsles - tChanIslands\n",
    "print(f\"{tIrishSea}\")"
   ]
  },
  {
   "cell_type": "code",
   "execution_count": 50,
   "id": "183be951-6e9f-4c62-a2ae-e9b9fe63a15f",
   "metadata": {},
   "outputs": [
    {
     "name": "stdout",
     "output_type": "stream",
     "text": [
      "tNonConflict={'Scotland', 'England', 'Wales', 'RIreland'}\n"
     ]
    }
   ],
   "source": [
    "tNonConflict = tIreland ^ sUK\n",
    "print(f\"{tNonConflict=}\")"
   ]
  },
  {
   "cell_type": "code",
   "execution_count": 56,
   "id": "67d46890-1f3e-4b9b-b8b4-2a17c8e2d7ab",
   "metadata": {},
   "outputs": [
    {
     "name": "stdout",
     "output_type": "stream",
     "text": [
      "pCelts={'Scotland', 'NIreland', 'Wales', 'IOMan', 'RIreland'}\n"
     ]
    }
   ],
   "source": [
    "pCelts = {\"Wales\", \"Scotland\", \"IOMan\"} | tIreland\n",
    "print(f\"{pCelts=}\")"
   ]
  }
 ],
 "metadata": {
  "kernelspec": {
   "display_name": "Python 3 (ipykernel)",
   "language": "python",
   "name": "python3"
  },
  "language_info": {
   "codemirror_mode": {
    "name": "ipython",
    "version": 3
   },
   "file_extension": ".py",
   "mimetype": "text/x-python",
   "name": "python",
   "nbconvert_exporter": "python",
   "pygments_lexer": "ipython3",
   "version": "3.12.4"
  }
 },
 "nbformat": 4,
 "nbformat_minor": 5
}
