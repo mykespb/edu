{
 "cells": [
  {
   "cell_type": "markdown",
   "id": "6f1008e0-f09a-413e-a4e8-2570eca63aaa",
   "metadata": {},
   "source": [
    "**britain-sets.ipynb***\n",
    "\n",
    "*2024-12-02 2024-12-09 1.1 Mikhail Kolodin*\n",
    "\n",
    "**С помощью множеств, словарей и т.п. описать структуру всего британского и провести над ними действия.**\n",
    "\n",
    "***Тема: множества.***"
   ]
  },
  {
   "cell_type": "markdown",
   "id": "688d7ebc-28dc-4e20-b7a0-53eed2ebc746",
   "metadata": {},
   "source": [
    "**Шаг 1. Определяем все части и их объединения**"
   ]
  },
  {
   "cell_type": "code",
   "execution_count": 5,
   "id": "108d728c-3f48-48f9-81af-69d07eba017e",
   "metadata": {},
   "outputs": [
    {
     "name": "stdout",
     "output_type": "stream",
     "text": [
      "tGB={'Wales', 'England', 'Scotland'},\n",
      "sUK={'Wales', 'England', 'NIreland', 'Scotland'}\n"
     ]
    }
   ],
   "source": [
    "tGB = {\"Scotland\", \"Wales\", \"England\"}\n",
    "sUK = tGB | {\"NIreland\"}\n",
    "print(f\"{tGB=},\\n{sUK=}\")"
   ]
  },
  {
   "cell_type": "code",
   "execution_count": 6,
   "id": "945d56f8-39ae-48ed-bf2c-fc66790e6a27",
   "metadata": {},
   "outputs": [
    {
     "name": "stdout",
     "output_type": "stream",
     "text": [
      "sRIreland={'RIreland'}, tIreland={'RIreland', 'NIreland'}\n"
     ]
    }
   ],
   "source": [
    "sRIreland = {\"RIreland\"}\n",
    "tIreland = sRIreland | {\"NIreland\"}\n",
    "print(f\"{sRIreland=}, {tIreland=}\")"
   ]
  },
  {
   "cell_type": "code",
   "execution_count": 7,
   "id": "59d9d53f-82ed-4107-9d65-d93f25121ec1",
   "metadata": {},
   "outputs": [
    {
     "name": "stdout",
     "output_type": "stream",
     "text": [
      "tChanIslands={'Jersey', 'Guernsey'},\n",
      "sCrownDep={'IOMan', 'Jersey', 'Guernsey'}\n"
     ]
    }
   ],
   "source": [
    "tChanIslands = {\"Jersey\", \"Guernsey\"}\n",
    "sCrownDep = tChanIslands | {\"IOMan\"}\n",
    "print(f\"{tChanIslands=},\\n{sCrownDep=}\")"
   ]
  },
  {
   "cell_type": "code",
   "execution_count": 8,
   "id": "7c836d76-372e-47cc-93b0-522a72120116",
   "metadata": {},
   "outputs": [
    {
     "name": "stdout",
     "output_type": "stream",
     "text": [
      "sBritIslands={'England', 'NIreland', 'Scotland', 'IOMan', 'Jersey', 'Wales', 'Guernsey'},\n",
      "tBritIsles={'England', 'RIreland', 'Wales', 'Guernsey', 'IOMan', 'Scotland', 'Jersey', 'NIreland'}\n"
     ]
    }
   ],
   "source": [
    "sBritIslands = sUK | sCrownDep\n",
    "tBritIsles = tIreland | sBritIslands\n",
    "print(f\"{sBritIslands=},\\n{tBritIsles=}\")"
   ]
  },
  {
   "cell_type": "markdown",
   "id": "ded80018-cce1-47dd-a95d-f6584da5cf55",
   "metadata": {},
   "source": [
    "**Шаг 2. Работаем с пересечениями и т.п.**"
   ]
  },
  {
   "cell_type": "code",
   "execution_count": 10,
   "id": "80453e45-efd7-473e-b623-edaad12c2649",
   "metadata": {},
   "outputs": [
    {
     "name": "stdout",
     "output_type": "stream",
     "text": [
      "{'England', 'RIreland', 'Wales', 'IOMan', 'Scotland', 'NIreland'}\n"
     ]
    }
   ],
   "source": [
    "tIrishSea = tBritIsles - tChanIslands\n",
    "print(f\"{tIrishSea}\")"
   ]
  },
  {
   "cell_type": "code",
   "execution_count": 11,
   "id": "183be951-6e9f-4c62-a2ae-e9b9fe63a15f",
   "metadata": {},
   "outputs": [
    {
     "name": "stdout",
     "output_type": "stream",
     "text": [
      "tNonConflict={'England', 'RIreland', 'Wales', 'Scotland'}\n"
     ]
    }
   ],
   "source": [
    "tNonConflict = tIreland ^ sUK\n",
    "print(f\"{tNonConflict=}\")"
   ]
  },
  {
   "cell_type": "code",
   "execution_count": 12,
   "id": "67d46890-1f3e-4b9b-b8b4-2a17c8e2d7ab",
   "metadata": {},
   "outputs": [
    {
     "name": "stdout",
     "output_type": "stream",
     "text": [
      "pCelts={'IOMan', 'NIreland', 'Scotland', 'RIreland', 'Wales'}\n"
     ]
    }
   ],
   "source": [
    "pCelts = {\"Wales\", \"Scotland\", \"IOMan\"} | tIreland\n",
    "print(f\"{pCelts=}\")"
   ]
  },
  {
   "cell_type": "markdown",
   "id": "db1dce69-7b9b-4de1-a28c-f8024a9e822b",
   "metadata": {},
   "source": [
    "__Шаг 3. Работаем с подмножествами__"
   ]
  },
  {
   "cell_type": "code",
   "execution_count": 40,
   "id": "ff8b1481-8932-4646-afe0-8306e63a1c41",
   "metadata": {},
   "outputs": [
    {
     "name": "stdout",
     "output_type": "stream",
     "text": [
      "разные ли множества tGB, sUK? - False\n"
     ]
    }
   ],
   "source": [
    "print(f\"разные ли множества tGB, sUK? - {tGB.isdisjoint(sUK)}\")"
   ]
  },
  {
   "cell_type": "code",
   "execution_count": 44,
   "id": "0ece85d2-b599-4d4f-8441-b41804397260",
   "metadata": {},
   "outputs": [
    {
     "name": "stdout",
     "output_type": "stream",
     "text": [
      "является ли tGB (нестрогим) подмножеством sUK? - True\n"
     ]
    }
   ],
   "source": [
    "print(f\"является ли tGB (нестрогим) подмножеством sUK? - {tGB <= sUK}\")"
   ]
  },
  {
   "cell_type": "code",
   "execution_count": 46,
   "id": "f7e625c7-8c12-4840-88ce-2b41fb4d0278",
   "metadata": {},
   "outputs": [
    {
     "name": "stdout",
     "output_type": "stream",
     "text": [
      "является ли tGB (строгим) подмножеством sUK? - True\n"
     ]
    }
   ],
   "source": [
    "print(f\"является ли tGB (строгим) подмножеством sUK? - {tGB < sUK}\")"
   ]
  },
  {
   "cell_type": "code",
   "execution_count": 48,
   "id": "c4ee8aad-5787-423e-a0ac-bede08532d26",
   "metadata": {},
   "outputs": [
    {
     "name": "stdout",
     "output_type": "stream",
     "text": [
      "является ли sBritIslands надмножеством tBritIsles? - False\n"
     ]
    }
   ],
   "source": [
    "print(f\"является ли sBritIslands надмножеством tBritIsles? - {sBritIslands >= tBritIsles}\")"
   ]
  },
  {
   "cell_type": "markdown",
   "id": "edd4f3fd-8770-4da4-9aa5-f1d35687754c",
   "metadata": {},
   "source": [
    "__Пока всё...__"
   ]
  }
 ],
 "metadata": {
  "kernelspec": {
   "display_name": "Python 3 (ipykernel)",
   "language": "python",
   "name": "python3"
  },
  "language_info": {
   "codemirror_mode": {
    "name": "ipython",
    "version": 3
   },
   "file_extension": ".py",
   "mimetype": "text/x-python",
   "name": "python",
   "nbconvert_exporter": "python",
   "pygments_lexer": "ipython3",
   "version": "3.12.4"
  }
 },
 "nbformat": 4,
 "nbformat_minor": 5
}
