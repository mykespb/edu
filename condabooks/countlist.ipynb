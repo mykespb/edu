{
 "cells": [
  {
   "cell_type": "markdown",
   "id": "8dbaac33-81c6-4465-9ae7-849f5f7aace6",
   "metadata": {},
   "source": [
    "&#127279; Mikhail Kolodin, 2024\n",
    "\n",
    "countlist.ipynb 2024-12-08 2024-12-09 1.1\n",
    "\n",
    "Простая задача, много разных решений.\n",
    "\n",
    "__Есть список целых чисел.__\n",
    "\n",
    "__Посчитать, сколько в нём каких чисел.__\n",
    "\n",
    "Можно: \n",
    "а) показать ответ в упорядоченном виде;\n",
    "б) вернуть структуру с результатом.\n",
    "\n",
    "    Пример:\n",
    "    дано:\n",
    "    lst = [1, 1, 0, 3, 5, 1, 1, 3, 9]\n",
    "    \n",
    "    ответ:\n",
    "    число   сколько\n",
    "    0           1\n",
    "    1           4 \n",
    "    3           1\n",
    "    5           1\n",
    "    9           1\n",
    "    \n",
    "    или иначе, но понятно, типа\n",
    "    [(0, 1), (1, 4), (3, 1), (5, 1), (9, 1)]\n"
   ]
  },
  {
   "cell_type": "code",
   "execution_count": 143,
   "id": "cd7f5936-9834-4be0-8c51-b2135c4d62b1",
   "metadata": {},
   "outputs": [
    {
     "data": {
      "text/plain": [
       "[1, 1, 0, 3, 5, 1, 1, 3, 9]"
      ]
     },
     "execution_count": 143,
     "metadata": {},
     "output_type": "execute_result"
    }
   ],
   "source": [
    "lst = [1, 1, 0, 3, 5, 1, 1, 3, 9]\n",
    "lst"
   ]
  },
  {
   "cell_type": "markdown",
   "id": "9309531e-8a57-430c-a4bd-48ab6e4a840a",
   "metadata": {},
   "source": [
    "__№1. Решение при известных ограничениях.__\n",
    "\n",
    "Пусть известно, что все числа находятся в диапазоне [0; 9].\n",
    "\n",
    "Тогда можно использовать список для подсчёта."
   ]
  },
  {
   "cell_type": "code",
   "execution_count": 145,
   "id": "7f9a55ed-8960-42f2-9c16-56880b6e3ac3",
   "metadata": {},
   "outputs": [
    {
     "name": "stdout",
     "output_type": "stream",
     "text": [
      "cnt=[1, 4, 0, 2, 0, 1, 0, 0, 0, 1]\n",
      "\n",
      "     число -    сколько\n",
      "         0 -          1\n",
      "         1 -          4\n",
      "         3 -          2\n",
      "         5 -          1\n",
      "         9 -          1\n"
     ]
    }
   ],
   "source": [
    "# подсчёт:\n",
    "cnt = [0 for _ in range(10)]\n",
    "for e in lst:\n",
    "\tcnt[e] += 1\n",
    "\n",
    "# красивая печать:\n",
    "print(f\"{cnt=}\\n\")\n",
    "print(\"%10s - %10s\" % (\"число\", \"сколько\"))\n",
    "for i in range(len(cnt)):\n",
    "    if cnt[i]:\n",
    "        print(\"%10d - %10d\" % (i, cnt[i]))"
   ]
  },
  {
   "cell_type": "markdown",
   "id": "cc214fbe-16ed-4487-90a5-f35df0a9228b",
   "metadata": {},
   "source": [
    "__№2. Решение на списках.__\n",
    "\n",
    "Если никаких ограниченйи нет, то полностью считаем все числа.\n",
    "\n",
    "Заводим список списков (пар типа число: значение) и считаем по этим парам."
   ]
  },
  {
   "cell_type": "code",
   "execution_count": 147,
   "id": "27f8f4d0-b6f0-4ace-b29d-60b6c9a3f25a",
   "metadata": {},
   "outputs": [
    {
     "name": "stdout",
     "output_type": "stream",
     "text": [
      "cnt=[[1, 4], [0, 1], [3, 2], [5, 1], [9, 1]]\n",
      "\n",
      "     число -    сколько\n",
      "         0 -          1\n",
      "         1 -          4\n",
      "         3 -          2\n",
      "         5 -          1\n",
      "         9 -          1\n"
     ]
    }
   ],
   "source": [
    "# подсчёт:\n",
    "cnt = []\n",
    "for e in lst:\n",
    "    for i in range(len(cnt)):\n",
    "        if cnt[i][0] == e:\n",
    "            cnt[i][1] += 1\n",
    "            break\n",
    "    else:\n",
    "        cnt.append([e, 1])\n",
    "\n",
    "# красивая печать:\n",
    "print(f\"{cnt=}\\n\")\n",
    "print(\"%10s - %10s\" % (\"число\", \"сколько\"))\n",
    "cnt.sort()\n",
    "for i in range(len(cnt)):\n",
    "    print(\"%10d - %10d\" % (cnt[i][0], cnt[i][1]))"
   ]
  },
  {
   "cell_type": "markdown",
   "id": "0477aa9a-a462-400c-9dc1-f4a378e7dbdb",
   "metadata": {},
   "source": [
    "__№3. Словари.__\n",
    "\n",
    "Мы ведём подсчёт попарно -- число:сколько.\n",
    "\n",
    "Это очень напоминает словари."
   ]
  },
  {
   "cell_type": "code",
   "execution_count": 149,
   "id": "e7c060b6-f399-42cd-ab96-a6cac88c934a",
   "metadata": {},
   "outputs": [
    {
     "name": "stdout",
     "output_type": "stream",
     "text": [
      "cnt={1: 4, 0: 1, 3: 2, 5: 1, 9: 1}\n",
      "\n",
      "     число -    сколько\n",
      "         0 -          1\n",
      "         1 -          4\n",
      "         3 -          2\n",
      "         5 -          1\n",
      "         9 -          1\n"
     ]
    }
   ],
   "source": [
    "# подсчёт:\n",
    "cnt = {}\n",
    "for e in lst:\n",
    "    if e in cnt:\n",
    "        cnt[e] += 1\n",
    "    else:\n",
    "        cnt[e] = 1\n",
    "\n",
    "# красивая печать:\n",
    "print(f\"{cnt=}\\n\")\n",
    "print(\"%10s - %10s\" % (\"число\", \"сколько\"))\n",
    "for k in sorted(cnt.keys()):\n",
    "    print(\"%10d - %10d\" % (k, cnt[k]))"
   ]
  },
  {
   "cell_type": "markdown",
   "id": "5ddf1941-3b3c-4bcf-a25b-f6ad9d2b5607",
   "metadata": {},
   "source": [
    "__№4. Класс defaultdict.__\n",
    "\n",
    "Но есть сложность: каждый раз надо проверять, есть ли уже проверяемый элемент в словаре. \n",
    "\n",
    "Как бы сделать так, чтобы там по умолчанию были нули. Есть такое."
   ]
  },
  {
   "cell_type": "code",
   "execution_count": 151,
   "id": "3d99ea3b-78a8-4385-b310-11b372a9b3d2",
   "metadata": {},
   "outputs": [],
   "source": [
    "from collections import defaultdict"
   ]
  },
  {
   "cell_type": "code",
   "execution_count": 152,
   "id": "664cb3d8-83f3-46e2-adca-d2c31a06730b",
   "metadata": {},
   "outputs": [
    {
     "name": "stdout",
     "output_type": "stream",
     "text": [
      "cnt=defaultdict(<class 'int'>, {1: 4, 0: 1, 3: 2, 5: 1, 9: 1})\n",
      "\n",
      "     число -    сколько\n",
      "         0 -          1\n",
      "         1 -          4\n",
      "         3 -          2\n",
      "         5 -          1\n",
      "         9 -          1\n"
     ]
    }
   ],
   "source": [
    "# подсчёт:\n",
    "cnt = defaultdict(int)\n",
    "for e in lst:\n",
    "    cnt[e] += 1\n",
    "\n",
    "# красивая печать:\n",
    "print(f\"{cnt=}\\n\")\n",
    "print(\"%10s - %10s\" % (\"число\", \"сколько\"))\n",
    "for k in sorted(cnt.keys()):\n",
    "    print(\"%10d - %10d\" % (k, cnt[k]))"
   ]
  },
  {
   "cell_type": "markdown",
   "id": "a77d689f-af07-4f81-b06e-8e88b0924d0d",
   "metadata": {},
   "source": [
    "__№5. Решение на счётчиках.__\n",
    "\n",
    "А просто посчитать можно? Мы ведь не первые, кто такой задачкой занялся; наверное, уже есть готовое решение (\"батарейка\")? -- Есть."
   ]
  },
  {
   "cell_type": "code",
   "execution_count": 154,
   "id": "44e906b3-cb76-48b8-8392-aa40c31639b8",
   "metadata": {},
   "outputs": [],
   "source": [
    "from collections import Counter"
   ]
  },
  {
   "cell_type": "code",
   "execution_count": 155,
   "id": "74a7dc52-34ef-436e-91b8-01ac53737766",
   "metadata": {},
   "outputs": [
    {
     "name": "stdout",
     "output_type": "stream",
     "text": [
      "cnt=Counter({1: 4, 3: 2, 0: 1, 5: 1, 9: 1})\n",
      "\n",
      "     число -    сколько\n",
      "         0 -          1\n",
      "         1 -          4\n",
      "         3 -          2\n",
      "         5 -          1\n",
      "         9 -          1\n"
     ]
    }
   ],
   "source": [
    "# подсчёт:\n",
    "cnt = Counter(lst)\n",
    "\n",
    "# красивая печать:\n",
    "print(f\"{cnt=}\\n\")\n",
    "print(\"%10s - %10s\" % (\"число\", \"сколько\"))\n",
    "for k in sorted(cnt.keys()):\n",
    "    print(\"%10d - %10d\" % (k, cnt[k]))"
   ]
  },
  {
   "cell_type": "markdown",
   "id": "38746164-e1dd-4f3e-8229-84c9522fba23",
   "metadata": {},
   "source": [
    "__Итого:__\n",
    "\n",
    "- мы решили задачу разными способами,\n",
    "- мы узнали о пользе познания стандартных методов и библиотек программ: там наверняка есть подходящее решение."
   ]
  },
  {
   "cell_type": "code",
   "execution_count": null,
   "id": "d2bd1877-8d84-4967-97b6-f09b94cdacaa",
   "metadata": {},
   "outputs": [],
   "source": []
  }
 ],
 "metadata": {
  "kernelspec": {
   "display_name": "Python 3 (ipykernel)",
   "language": "python",
   "name": "python3"
  },
  "language_info": {
   "codemirror_mode": {
    "name": "ipython",
    "version": 3
   },
   "file_extension": ".py",
   "mimetype": "text/x-python",
   "name": "python",
   "nbconvert_exporter": "python",
   "pygments_lexer": "ipython3",
   "version": "3.12.4"
  }
 },
 "nbformat": 4,
 "nbformat_minor": 5
}
