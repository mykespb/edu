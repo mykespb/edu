{
 "cells": [
  {
   "cell_type": "markdown",
   "metadata": {},
   "source": [
    "# Примеры и упражнения по Python3"
   ]
  },
  {
   "cell_type": "markdown",
   "metadata": {},
   "source": [
    "Автор-составитель - Михаил Колодин"
   ]
  },
  {
   "cell_type": "markdown",
   "metadata": {},
   "source": [
    "Разделы:\n",
    "* Калькулятор\n",
    "* Условия\n",
    "* Циклы\n",
    "* Строки\n",
    "* Кортежи и списки\n",
    "* Математика"
   ]
  },
  {
   "cell_type": "markdown",
   "metadata": {},
   "source": [
    "**Калькулятор**"
   ]
  },
  {
   "cell_type": "markdown",
   "metadata": {},
   "source": [
    "***Площади и население стран***"
   ]
  },
  {
   "cell_type": "code",
   "execution_count": 15,
   "metadata": {},
   "outputs": [],
   "source": [
    "ru_ter = 17125191\n",
    "ba_ter = 144000\n",
    "ru_nas = 146238185\n",
    "ba_nas = 172287439"
   ]
  },
  {
   "cell_type": "code",
   "execution_count": 16,
   "metadata": {},
   "outputs": [],
   "source": [
    "# плотность населения\n",
    "ru_plo = ru_nas / ru_ter\n",
    "ba_plo = ba_nas / ba_ter\n",
    "otn_plo = ba_plo / ru_plo"
   ]
  },
  {
   "cell_type": "code",
   "execution_count": 28,
   "metadata": {},
   "outputs": [
    {
     "name": "stdout",
     "output_type": "stream",
     "text": [
      "плотность населения России 8.539360816472062 чел. / кв.км,\n",
      "плотность населения Бангладеша 1196.4405486111111 чел. / кв.км,\n",
      "отношение плотностей населения Бангладеша к России 140.1089114659763 ,\n",
      "то есть в Бангладеше живёт примерно в 140 раз больше людей, чем в России.\n"
     ]
    }
   ],
   "source": [
    "print(\"плотность населения России\", ru_plo, \"чел. / кв.км,\")\n",
    "print(\"плотность населения Бангладеша\", ba_plo, \"чел. / кв.км,\")\n",
    "print(\"отношение плотностей населения Бангладеша к России\", otn_plo, \n",
    "      \",\\nто есть в Бангладеше живёт примерно в\", round(otn_plo), \"раз больше людей, чем в России.\")"
   ]
  },
  {
   "cell_type": "markdown",
   "metadata": {},
   "source": [
    "***Золотое сечение*** $\\phi$"
   ]
  },
  {
   "cell_type": "markdown",
   "metadata": {},
   "source": [
    "См. [https://ru.wikipedia.org/wiki/%D0%97%D0%BE%D0%BB%D0%BE%D1%82%D0%BE%D0%B5_%D1%81%D0%B5%D1%87%D0%B5%D0%BD%D0%B8%D0%B5](википедию)."
   ]
  },
  {
   "cell_type": "code",
   "execution_count": 23,
   "metadata": {},
   "outputs": [],
   "source": [
    "fi_major = 1.6180339887498948482045868343656381177203\n",
    "fi_minor = 1 / fi_major"
   ]
  },
  {
   "cell_type": "code",
   "execution_count": 24,
   "metadata": {},
   "outputs": [
    {
     "name": "stdout",
     "output_type": "stream",
     "text": [
      "0.6180339887498948\n",
      "1.618033988749895\n"
     ]
    }
   ],
   "source": [
    "print(fi_minor)\n",
    "print(fi_major)"
   ]
  },
  {
   "cell_type": "markdown",
   "metadata": {},
   "source": [
    "**Условия**"
   ]
  },
  {
   "cell_type": "markdown",
   "metadata": {},
   "source": [
    "***Максимум из 2 чисел***"
   ]
  },
  {
   "cell_type": "code",
   "execution_count": 25,
   "metadata": {},
   "outputs": [],
   "source": [
    "a = 2; b = 3"
   ]
  },
  {
   "cell_type": "code",
   "execution_count": 26,
   "metadata": {},
   "outputs": [
    {
     "name": "stdout",
     "output_type": "stream",
     "text": [
      "a < b\n"
     ]
    }
   ],
   "source": [
    "if a== b:\n",
    "    print(\"a == b\")\n",
    "elif a<b:\n",
    "    print(\"a < b\")\n",
    "else:\n",
    "    print(\"a > b\")"
   ]
  },
  {
   "cell_type": "code",
   "execution_count": 27,
   "metadata": {},
   "outputs": [
    {
     "name": "stdout",
     "output_type": "stream",
     "text": [
      "a < b\n"
     ]
    }
   ],
   "source": [
    "print(\"a == b\" if a == b else \"a < b\" if a < b else \"a > b\")"
   ]
  },
  {
   "cell_type": "markdown",
   "metadata": {},
   "source": [
    "**Циклы**"
   ]
  },
  {
   "cell_type": "markdown",
   "metadata": {},
   "source": [
    "***Сумма чисел***"
   ]
  },
  {
   "cell_type": "code",
   "execution_count": 28,
   "metadata": {},
   "outputs": [],
   "source": [
    "sum = 0                 # сумма изначально нулевая и постепенно накапливается\n",
    "for i in range(1, 10):  # i будет от 1 до 9\n",
    "    sum += i            # на каждом шаге итерации (повтора цикла) добавляется новое слагаемое"
   ]
  },
  {
   "cell_type": "code",
   "execution_count": 29,
   "metadata": {},
   "outputs": [
    {
     "name": "stdout",
     "output_type": "stream",
     "text": [
      "45\n"
     ]
    }
   ],
   "source": [
    "print(sum)"
   ]
  },
  {
   "cell_type": "markdown",
   "metadata": {},
   "source": [
    "***Фибоначчи не по-питоновски***"
   ]
  },
  {
   "cell_type": "code",
   "execution_count": 102,
   "metadata": {},
   "outputs": [
    {
     "name": "stdout",
     "output_type": "stream",
     "text": [
      "1 1\n"
     ]
    }
   ],
   "source": [
    "UP = 20    # вычисляем и печатаем 20 первых чисел Фибоначчи\n",
    "f1 = 1\n",
    "f2 = 1\n",
    "print(f1, f2)"
   ]
  },
  {
   "cell_type": "code",
   "execution_count": 103,
   "metadata": {},
   "outputs": [
    {
     "name": "stdout",
     "output_type": "stream",
     "text": [
      "2 3 5 8 13 21 34 55 89 144 233 377 610 987 1597 2584 4181 6765 "
     ]
    }
   ],
   "source": [
    "for n in range(2, UP):\n",
    "    f3 = f1 + f2\n",
    "    f1 = f2\n",
    "    f2 = f3\n",
    "    print(f3, end=\" \")"
   ]
  },
  {
   "cell_type": "markdown",
   "metadata": {},
   "source": [
    "***Фибоначчи по-питоновски***"
   ]
  },
  {
   "cell_type": "code",
   "execution_count": 101,
   "metadata": {},
   "outputs": [
    {
     "name": "stdout",
     "output_type": "stream",
     "text": [
      "1 1\n"
     ]
    }
   ],
   "source": [
    "UP = 20        # вычисляем и печатаем 20 первых чисел Фибоначчи\n",
    "f1 = f2 = 1\n",
    "print(f1, f2)"
   ]
  },
  {
   "cell_type": "code",
   "execution_count": 33,
   "metadata": {},
   "outputs": [
    {
     "name": "stdout",
     "output_type": "stream",
     "text": [
      "2 3 5 8 13 21 34 55 89 144 233 377 610 987 1597 2584 4181 6765 "
     ]
    }
   ],
   "source": [
    "for _ in range(2, UP):\n",
    "    f1, f2 = f2, f1+f2\n",
    "    print(f2, end=\" \")"
   ]
  },
  {
   "cell_type": "markdown",
   "metadata": {},
   "source": [
    "***Константа е - аппроксимация***"
   ]
  },
  {
   "cell_type": "markdown",
   "metadata": {},
   "source": [
    "См. https://ru.wikipedia.org/wiki/E_(%D1%87%D0%B8%D1%81%D0%BB%D0%BE) "
   ]
  },
  {
   "cell_type": "markdown",
   "metadata": {},
   "source": [
    "$e = \\sum\\limits_{n=0}^\\infty \\frac1{n!} = \\frac1{1!} + \\frac1{2!} + \\frac1{3!} + \\frac1{4!} + \\frac1{5!} + ... = \\frac11 + \\frac12 + \\frac16 + \\frac1{24} + \\frac1{120} + ...$"
   ]
  },
  {
   "cell_type": "code",
   "execution_count": 34,
   "metadata": {},
   "outputs": [],
   "source": [
    "UP = 30\n",
    "add = 1\n",
    "sum = 1"
   ]
  },
  {
   "cell_type": "code",
   "execution_count": 35,
   "metadata": {},
   "outputs": [
    {
     "name": "stdout",
     "output_type": "stream",
     "text": [
      "                             1 ->                              2\n",
      "                           0.5 ->                            2.5\n",
      "   0.1666666666666666574148081 ->      2.66666666666666651863693\n",
      "  0.04166666666666666435370203 ->      2.70833333333333303727386\n",
      " 0.008333333333333333217685102 ->     2.716666666666666341001246\n",
      " 0.001388888888888888941894328 ->     2.718055555555555447000415\n",
      "0.0001984126984126984125263171 ->     2.718253968253968366752815\n",
      "2.480158730158730156578964e-05 ->     2.718278769841270037233016\n",
      "2.755731922398589251095059e-06 ->     2.718281525573192247691168\n",
      "2.755731922398589356974178e-07 ->     2.718281801146384513145904\n",
      "2.505210838544172022386618e-08 ->     2.718281826198492900914516\n",
      "2.087675698786810018655515e-09 ->     2.718281828286168710917536\n",
      "1.605904383682161592580233e-10 ->     2.718281828446759362805096\n",
      " 1.14707455977297261228837e-11 ->     2.718281828458230187095523\n",
      "7.647163731819817415255803e-13 ->     2.718281828458994908714885\n",
      "4.779477332387385884534877e-14 ->     2.718281828459042870349549\n",
      "2.811457254345520992540971e-15 ->     2.718281828459045534884808\n",
      "1.561920696858622773633873e-16 ->     2.718281828459045534884808\n",
      "8.220635246624331036280996e-18 ->     2.718281828459045534884808\n",
      "4.110317623312165325547503e-19 ->     2.718281828459045534884808\n",
      "1.957294106339126259519796e-20 ->     2.718281828459045534884808\n",
      "8.896791392450574077889159e-22 ->     2.718281828459045534884808\n",
      "3.868170170630684126148688e-23 ->     2.718281828459045534884808\n",
      "1.611737571096118385895287e-24 ->     2.718281828459045534884808\n",
      "6.446950284384473589498896e-26 ->     2.718281828459045534884808\n",
      "2.479596263224797589612253e-27 ->     2.718281828459045534884808\n",
      "9.183689863795547126432984e-29 ->     2.718281828459045534884808\n",
      "3.279889237069838459625846e-30 ->     2.718281828459045534884808\n",
      "1.130996288644771807128607e-31 ->     2.718281828459045534884808\n"
     ]
    }
   ],
   "source": [
    "for i in range(1, UP):\n",
    "    add /= i\n",
    "    sum += add\n",
    "    print(\"%30.25g -> %30.25g\" % (add, sum))"
   ]
  },
  {
   "cell_type": "markdown",
   "metadata": {},
   "source": [
    "***Факториал n! = 1 * 2 * 3 * ... * n***"
   ]
  },
  {
   "cell_type": "code",
   "execution_count": 110,
   "metadata": {},
   "outputs": [],
   "source": [
    "UP = 30\n",
    "f = 1"
   ]
  },
  {
   "cell_type": "code",
   "execution_count": 111,
   "metadata": {},
   "outputs": [
    {
     "name": "stdout",
     "output_type": "stream",
     "text": [
      "         1!  =                                        1\n",
      "         2!  =                                        2\n",
      "         3!  =                                        6\n",
      "         4!  =                                       24\n",
      "         5!  =                                      120\n",
      "         6!  =                                      720\n",
      "         7!  =                                     5040\n",
      "         8!  =                                    40320\n",
      "         9!  =                                   362880\n",
      "        10!  =                                  3628800\n",
      "        11!  =                                 39916800\n",
      "        12!  =                                479001600\n",
      "        13!  =                               6227020800\n",
      "        14!  =                              87178291200\n",
      "        15!  =                            1307674368000\n",
      "        16!  =                           20922789888000\n",
      "        17!  =                          355687428096000\n",
      "        18!  =                         6402373705728000\n",
      "        19!  =                       121645100408832000\n",
      "        20!  =                      2432902008176640000\n",
      "        21!  =                     51090942171709440000\n",
      "        22!  =                   1124000727777607680000\n",
      "        23!  =                  25852016738884976640000\n",
      "        24!  =                 620448401733239439360000\n",
      "        25!  =               15511210043330985984000000\n",
      "        26!  =              403291461126605635584000000\n",
      "        27!  =            10888869450418352160768000000\n",
      "        28!  =           304888344611713860501504000000\n",
      "        29!  =          8841761993739701954543616000000\n"
     ]
    }
   ],
   "source": [
    "for i in range(1, UP):\n",
    "    f *= i             #  то же, что f = f * i\n",
    "    print(\"%10i!  =\" % i, \"%40i\" % f)"
   ]
  },
  {
   "cell_type": "markdown",
   "metadata": {},
   "source": [
    "**Строки**"
   ]
  },
  {
   "cell_type": "markdown",
   "metadata": {},
   "source": [
    "***Разбор 3-значного числа на разряды***\n",
    "123 = 100 + 20 + 3"
   ]
  },
  {
   "cell_type": "code",
   "execution_count": 38,
   "metadata": {},
   "outputs": [],
   "source": [
    "n = 123"
   ]
  },
  {
   "cell_type": "code",
   "execution_count": 39,
   "metadata": {},
   "outputs": [],
   "source": [
    "s = str(n//100) + '00 + ' + str(n%100//10) + '0 + ' + str(n%10)"
   ]
  },
  {
   "cell_type": "code",
   "execution_count": 40,
   "metadata": {},
   "outputs": [
    {
     "name": "stdout",
     "output_type": "stream",
     "text": [
      "100 + 20 + 3\n"
     ]
    }
   ],
   "source": [
    "print(s)"
   ]
  },
  {
   "cell_type": "code",
   "execution_count": 41,
   "metadata": {},
   "outputs": [
    {
     "data": {
      "text/plain": [
       "'100 + 20 + 3'"
      ]
     },
     "execution_count": 41,
     "metadata": {},
     "output_type": "execute_result"
    }
   ],
   "source": [
    "s"
   ]
  },
  {
   "cell_type": "markdown",
   "metadata": {},
   "source": [
    "***Шифр Цезаря***"
   ]
  },
  {
   "cell_type": "code",
   "execution_count": 31,
   "metadata": {},
   "outputs": [
    {
     "name": "stdout",
     "output_type": "stream",
     "text": [
      "62 0123456789abcdefghijklmnopqrstuvwxyzABCDEFGHIJKLMNOPQRSTUVWXYZ\n"
     ]
    }
   ],
   "source": [
    "# setup shift\n",
    "shift = 1\n",
    "# setup method\n",
    "import string\n",
    "alfa = string.digits + string.ascii_letters\n",
    "alfa_len = len(alfa)\n",
    "print(alfa_len, alfa)"
   ]
  },
  {
   "cell_type": "code",
   "execution_count": 38,
   "metadata": {},
   "outputs": [
    {
     "name": "stdout",
     "output_type": "stream",
     "text": [
      "Hello commander! Start at noon! Ceasar\n"
     ]
    }
   ],
   "source": [
    "sopen = \"Hello commander! Start at noon! Ceasar\"\n",
    "#sopen = \"Здравствуй, Цезарь! Идущие на смерть тебя приветствуют!\"\n",
    "#sopen = \"Ave, Caesar, morituri te salutant\"\n",
    "#sopen = \"Николай неохотно поплёлся к директору: «Ave, Caesar, morituri te salutant!» — воскликнул он в дверях.\"\n",
    "shift = 1\n",
    "print(sopen)"
   ]
  },
  {
   "cell_type": "code",
   "execution_count": 39,
   "metadata": {},
   "outputs": [
    {
     "name": "stdout",
     "output_type": "stream",
     "text": [
      "Ifmmp dpnnboefs! Tubsu bu oppo! Dfbtbs\n"
     ]
    }
   ],
   "source": [
    "scoded = \"\".join(alfa[alfa.index(c) + shift] if c in alfa else c for c in sopen)\n",
    "print(scoded)"
   ]
  },
  {
   "cell_type": "code",
   "execution_count": 40,
   "metadata": {},
   "outputs": [
    {
     "name": "stdout",
     "output_type": "stream",
     "text": [
      "Hello commander! Start at noon! Ceasar\n"
     ]
    }
   ],
   "source": [
    "sback = \"\".join(alfa[alfa.index(c) - shift] if c in alfa else c for c in scoded)\n",
    "print(sback)"
   ]
  },
  {
   "cell_type": "markdown",
   "metadata": {},
   "source": [
    "**Кортежи и списки**"
   ]
  },
  {
   "cell_type": "markdown",
   "metadata": {},
   "source": [
    "***Перестановка слов***"
   ]
  },
  {
   "cell_type": "code",
   "execution_count": 58,
   "metadata": {},
   "outputs": [
    {
     "name": "stdout",
     "output_type": "stream",
     "text": [
      "привет всем питонистам\n"
     ]
    }
   ],
   "source": [
    "stroka = \"привет всем питонистам\"\n",
    "print(stroka)"
   ]
  },
  {
   "cell_type": "code",
   "execution_count": 59,
   "metadata": {},
   "outputs": [
    {
     "name": "stdout",
     "output_type": "stream",
     "text": [
      "питонистам всем привет\n"
     ]
    }
   ],
   "source": [
    "revstroka1 = \" \".join(reversed(stroka.split()))\n",
    "print(revstroka1)"
   ]
  },
  {
   "cell_type": "code",
   "execution_count": 60,
   "metadata": {},
   "outputs": [
    {
     "name": "stdout",
     "output_type": "stream",
     "text": [
      "питонистам всем привет\n"
     ]
    }
   ],
   "source": [
    "revstroka2 = \" \".join((stroka.split())[::-1])\n",
    "print(revstroka2)"
   ]
  },
  {
   "cell_type": "markdown",
   "metadata": {},
   "source": [
    "***Генератор речей***"
   ]
  },
  {
   "cell_type": "code",
   "execution_count": 50,
   "metadata": {},
   "outputs": [
    {
     "name": "stdout",
     "output_type": "stream",
     "text": [
      "Пункт 1.\n",
      " Дамы и господа!  Задача организации, в особенности же  новая модель организационной деятельности  требуют определения и уточнения  , что представляет собой интересный эксперимент  соответствующих условий активизации   .\n",
      "Пункт 2.\n",
      "  Товарищи!  Принимая во внимание, что  начало повседневной работы по формированию позиции требуют определения и уточнения  , что позволяет оценить значение  системы обучения кадров, соответствующей  насущным потребностям  .\n",
      "Пункт 3.\n",
      "   Таким образом  сложившаяся структура организации  требуют от нас анализа  , что в значительной степени обуславливает создание  позиций, занимаемых участниками в отношении поставленных задач   .\n",
      "Пункт 4.\n",
      " Задача организации, в особенности же  постоянный количественный рост и сфера нашей активности  требуют от нас анализа  , что влечёт за собой интересный процесс внедрения и модернизации форм воздействия   .\n"
     ]
    }
   ],
   "source": [
    "# mk-genspeech.py 2014-05-25 1.1\n",
    "# Генератор речей\n",
    "# Mikhail (myke) Kolodin, mykespb@gmail.com \n",
    "\n",
    "import random\n",
    "\n",
    "text = \"\"\"\n",
    "  Товарищи! / Господа! / Коллеги! / Дорогие товарищи! / Уважаемые коллеги! / Дамы и господа! /  Уважаемые участники! / Друзья! / Граждане соучастники! / Граждане и гражданки! / / / / / / /\n",
    "  С другой стороны / Равным образом / Не следует, однако, забывать о том, что /  Таким образом / Повседневная практика показывает. что / Значимость этих проблем настолько очевидна, что / Из выступление товарища начальника ясно следует, что / В решениях съезда нашей партии указано, что/ Разнообразный и богатый опыт / Задача организации, в особенности же / Идейные соображения  высшего порядка, а также / Принимая во внимание, что / Вы, конечно, знаете, что / Вам, должно быть, известен тот факт, что\n",
    "  реализация намеченных плановых заданий / рамки и место обучения кадров / постоянный количественный рост и сфера нашей активности / сложившаяся структура организации / новая модель организационной деятельности / дальнейшее развитие различных форм деятельности / постоянное информационно-пропагандистское обеспечение нашей деятельности / управление и развитие структуры / консультация с широким активом / начало повседневной работы по формированию позиции\n",
    "  играет важную роль в формировании / требуют от нас анализа / требуют определения и уточнения /  способствуют подготовке и реализации / обеспечивают широкому кругу специалистов участие в формировании\n",
    "  , что позволяет выполнить важные задания по разработке / , что в значительной степени обуславливает создание / , что позволяет оценить значение / , что представляет собой интересный эксперимент / , что влечёт за собой интересный процесс внедрения и модернизации\n",
    "  существенных финансовых и административных условий / дальнейших направлений развития /  системы массового участия / позиций, занимаемых участниками в отношении поставленных задач /  новых предложений / направлений прогрессивного развития / форм воздействия /  модели развития / соответствующих условий активизации / системы обучения кадров, соответствующей  насущным потребностям\n",
    "  \"\"\"\n",
    "\n",
    "def make_speech (rows=1):\n",
    "    parts = [part.split('/') for part in text.split('\\n')]\n",
    "    for num in range(1, rows+1):\n",
    "        print (\"Пункт %d.\\n\" % num + \"\".join([random.choice(part) for part in parts]) + '.')\n",
    "\n",
    "make_speech(4)"
   ]
  },
  {
   "cell_type": "markdown",
   "metadata": {},
   "source": [
    "**Математика**"
   ]
  },
  {
   "cell_type": "markdown",
   "metadata": {},
   "source": [
    "***Простые числа***"
   ]
  },
  {
   "cell_type": "code",
   "execution_count": 12,
   "metadata": {},
   "outputs": [
    {
     "name": "stdout",
     "output_type": "stream",
     "text": [
      "2 3 5 7 11 13 17 19 23 29 31 37 41 43 47 53 59 61 67 71 73 79 83 89 97 101 103 107 109 113 127 131 137 139 149 151 157 163 167 173 179 181 191 193 197 199 211 223 227 229 233 239 241 251 257 263 269 271 277 281 283 293 307 311 313 317 331 337 347 349 353 359 367 373 379 383 389 397 401 409 419 421 431 433 439 443 449 457 461 463 467 479 487 491 499 503 509 521 523 541 547 557 563 569 571 577 587 593 599 601 607 613 617 619 631 641 643 647 653 659 661 673 677 683 691 701 709 719 727 733 739 743 751 757 761 769 773 787 797 809 811 821 823 827 829 839 853 857 859 863 877 881 883 887 907 911 919 929 937 941 947 953 967 971 977 983 991 997 "
     ]
    }
   ],
   "source": [
    "# простые числа (primes)\n",
    "def primes (lim=100):\n",
    "    \"\"\" show primes up to lim \"\"\"\n",
    "    found = []\n",
    "    for tested in range (2, lim+1):\n",
    "        for tester in found:\n",
    "            if tested % tester == 0:\n",
    "                break\n",
    "        else:\n",
    "            found.append (tested)\n",
    "            print (tested, end=\" \")\n",
    "\n",
    "primes(1000)"
   ]
  },
  {
   "cell_type": "code",
   "execution_count": null,
   "metadata": {},
   "outputs": [],
   "source": []
  }
 ],
 "metadata": {
  "kernelspec": {
   "display_name": "Python 3",
   "language": "python",
   "name": "python3"
  },
  "language_info": {
   "codemirror_mode": {
    "name": "ipython",
    "version": 3
   },
   "file_extension": ".py",
   "mimetype": "text/x-python",
   "name": "python",
   "nbconvert_exporter": "python",
   "pygments_lexer": "ipython3",
   "version": "3.8.3"
  }
 },
 "nbformat": 4,
 "nbformat_minor": 4
}
